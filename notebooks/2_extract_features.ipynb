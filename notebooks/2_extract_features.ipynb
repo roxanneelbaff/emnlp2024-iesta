{
 "cells": [
  {
   "cell_type": "code",
   "execution_count": 1,
   "metadata": {},
   "outputs": [],
   "source": [
    "import numpy as np"
   ]
  },
  {
   "cell_type": "code",
   "execution_count": 2,
   "metadata": {},
   "outputs": [],
   "source": [
    "import pandas as pd\n",
    "import numpy as np\n",
    "import sys, os\n",
    "import importlib\n",
    "import textmining.cluster_analysis as cluster_analysis\n",
    "import textmining.lexicons as lexicons\n",
    "import textmining.machine_learning as machine_learning\n",
    "import textmining.significance_testing as significance_testing\n",
    "import iesta.loader as loader\n",
    "import iesta.properties as prop\n",
    "import iesta.processor as proc\n",
    "import iesta.feature_extractor as fe\n",
    "\n",
    "from collections import Counter\n",
    "\n",
    "importlib.reload(cluster_analysis)\n",
    "importlib.reload(lexicons)\n",
    "importlib.reload(machine_learning)\n",
    "importlib.reload(significance_testing)\n",
    "importlib.reload(loader)\n",
    "importlib.reload(prop)\n",
    "importlib.reload(proc)\n",
    "importlib.reload(fe)\n",
    "\n",
    "\n",
    "import matplotlib.pyplot as plt\n",
    "\n",
    "%matplotlib inline\n",
    "import seaborn as sns\n",
    "\n",
    "sns.reset_defaults()\n",
    "sns.set(\n",
    "    rc={\"figure.figsize\": (6, 4)},\n",
    "    # style=\"white\" # nicer layout\n",
    ")"
   ]
  },
  {
   "cell_type": "code",
   "execution_count": null,
   "metadata": {},
   "outputs": [],
   "source": []
  },
  {
   "cell_type": "code",
   "execution_count": null,
   "metadata": {},
   "outputs": [],
   "source": [
    "processor = proc.Process()"
   ]
  },
  {
   "cell_type": "code",
   "execution_count": null,
   "metadata": {},
   "outputs": [],
   "source": [
    "pd.read_parquet(\"../data/flat_voter_w_effect.parquet\").head()"
   ]
  },
  {
   "cell_type": "code",
   "execution_count": null,
   "metadata": {},
   "outputs": [],
   "source": [
    "(\n",
    "    liberal_arguments_df,\n",
    "    liberal_not_found,\n",
    ") = processor.get_ideology_based_voter_participant_df(prop.LIBERAL_IDEOLOGY)\n",
    "(\n",
    "    conservative_arguments_df,\n",
    "    conservative_not_found,\n",
    ") = processor.get_ideology_based_voter_participant_df(\n",
    "    prop.CONSERVATIVE_IDEOLOGY\n",
    ")\n",
    "\n",
    "liberal_arguments_df"
   ]
  },
  {
   "cell_type": "markdown",
   "metadata": {},
   "source": [
    "# Extract Features"
   ]
  },
  {
   "cell_type": "code",
   "execution_count": null,
   "metadata": {},
   "outputs": [],
   "source": [
    "from datetime import datetime\n",
    "\n",
    "type(datetime.now())"
   ]
  },
  {
   "cell_type": "markdown",
   "metadata": {},
   "source": [
    "### LIWC"
   ]
  },
  {
   "cell_type": "code",
   "execution_count": null,
   "metadata": {},
   "outputs": [],
   "source": [
    "liwc_liberal_df = fe.extract_liwc(prop.LIBERAL_IDEOLOGY)\n",
    "liwc_conservative_df = fe.extract_liwc(prop.CONSERVATIVE_IDEOLOGY)"
   ]
  },
  {
   "cell_type": "markdown",
   "metadata": {},
   "source": [
    "### NRC emotion"
   ]
  },
  {
   "cell_type": "code",
   "execution_count": null,
   "metadata": {},
   "outputs": [],
   "source": [
    "nrc_liberal_df = fe.extract_nrc_emotion(prop.LIBERAL_IDEOLOGY)\n",
    "nrc_conservative_df = fe.extract_nrc_emotion(prop.CONSERVATIVE_IDEOLOGY)"
   ]
  },
  {
   "cell_type": "markdown",
   "metadata": {},
   "source": [
    "### MPQA Arg"
   ]
  },
  {
   "cell_type": "code",
   "execution_count": null,
   "metadata": {},
   "outputs": [],
   "source": [
    "mpqa_arg_liberal_df = fe.extract_mpqa_arg(prop.LIBERAL_IDEOLOGY)\n",
    "mpqa_arg_conservative_df = fe.extract_mpqa_arg(prop.CONSERVATIVE_IDEOLOGY)"
   ]
  },
  {
   "cell_type": "markdown",
   "metadata": {},
   "source": [
    "### EMPATH"
   ]
  },
  {
   "cell_type": "code",
   "execution_count": null,
   "metadata": {},
   "outputs": [],
   "source": [
    "empath_liberal_df = fe.extract_empath(prop.LIBERAL_IDEOLOGY)\n",
    "empath_conservative_df = fe.extract_empath(prop.CONSERVATIVE_IDEOLOGY)"
   ]
  },
  {
   "cell_type": "code",
   "execution_count": null,
   "metadata": {},
   "outputs": [],
   "source": [
    "empath_ideology_liberal_df = fe.extract_empath_ideology(prop.LIBERAL_IDEOLOGY)\n",
    "empath_ideology_conservative_df = fe.extract_empath_ideology(\n",
    "    prop.CONSERVATIVE_IDEOLOGY\n",
    ")"
   ]
  },
  {
   "cell_type": "code",
   "execution_count": null,
   "metadata": {},
   "outputs": [],
   "source": [
    "empath_ideology_conservative_df.describe()"
   ]
  },
  {
   "cell_type": "code",
   "execution_count": null,
   "metadata": {},
   "outputs": [],
   "source": []
  },
  {
   "cell_type": "markdown",
   "metadata": {},
   "source": [
    "# Cluster Analysis"
   ]
  },
  {
   "cell_type": "code",
   "execution_count": null,
   "metadata": {},
   "outputs": [],
   "source": [
    "import imblearn\n",
    "\n",
    "\n",
    "def undersample(df, strategy=\".5\"):\n",
    "    col = df.columns\n",
    "    features = col.tolist()\n",
    "    feature = features[:-1]\n",
    "    target = features[-1]\n",
    "    X = df.loc[:, feature]\n",
    "    y = df.loc[:, target]\n",
    "\n",
    "    undersample = imblearn.under_sampling.RandomUnderSampler(\n",
    "        random_state=0\n",
    "    )  # , sampling_strategy=strategy)\n",
    "    X_under, y_under = undersample.fit_resample(X, y)\n",
    "    print(Counter(y_under))\n",
    "    return pd.concat([X_under, y_under], axis=1)"
   ]
  },
  {
   "cell_type": "code",
   "execution_count": null,
   "metadata": {},
   "outputs": [],
   "source": [
    "cons_valid_indices = conservative_arguments_df.index.values.tolist()\n",
    "lib_valid_indices = liberal_arguments_df.index.values.tolist()"
   ]
  },
  {
   "cell_type": "code",
   "execution_count": null,
   "metadata": {},
   "outputs": [],
   "source": [
    "conservative_features_df = nrc_conservative_df.merge(\n",
    "    liwc_conservative_df, how=\"inner\", left_index=True, right_index=True\n",
    ")\n",
    "liberal_features_df = nrc_liberal_df.merge(\n",
    "    liwc_liberal_df, how=\"inner\", left_index=True, right_index=True\n",
    ")\n",
    "\n",
    "conservative_features_df = conservative_features_df[\n",
    "    conservative_features_df.index.isin(cons_valid_indices)\n",
    "]\n",
    "liberal_features_df = liberal_features_df[\n",
    "    liberal_features_df.index.isin(lib_valid_indices)\n",
    "]\n",
    "\n",
    "conservative_features_df.drop([\"argument\"], axis=1, inplace=True)\n",
    "liberal_features_df.drop([\"argument\"], axis=1, inplace=True)\n",
    "len(conservative_features_df)"
   ]
  },
  {
   "cell_type": "code",
   "execution_count": null,
   "metadata": {},
   "outputs": [],
   "source": [
    "def prepare_data(\n",
    "    df, normalize=True, normalizing_method=\"sqrt\"\n",
    "):  # only_numeric for clustering\n",
    "    df_ = df.copy()\n",
    "    df_.fillna(0.0, inplace=True)\n",
    "    ## Normalize for only training set for discourse level\n",
    "    df_, _ = machine_learning.clip_outliers(\n",
    "        df_, df_test=None, lower_percentile=1, upper_percentile=99\n",
    "    )\n",
    "    if normalize:\n",
    "        df_, _ = machine_learning.normalize(\n",
    "            df_, None, normalizing_method=normalizing_method\n",
    "        )\n",
    "    return df_"
   ]
  },
  {
   "cell_type": "code",
   "execution_count": null,
   "metadata": {},
   "outputs": [],
   "source": [
    "def run_cluster_analysis(df, desc=\"default\"):\n",
    "    ## INIT\n",
    "    df_ = prepare_data(df, normalize=True, normalizing_method=\"standard\")\n",
    "\n",
    "    print(df_.index.name)\n",
    "    print(\"filtering our features wich has 75% of entries without a values\")\n",
    "    df_ = df_.loc[:, ~df_.columns.duplicated()]\n",
    "    desc_df = df_.describe().T\n",
    "    desc_df = desc_df[desc_df[\"75%\"] > 0]\n",
    "\n",
    "    df_ = df_[desc_df.index.values]\n",
    "    print(len(df_))\n",
    "\n",
    "    ## CLUSTER ANALYSIS\n",
    "    optimal_k = cluster_analysis.elbow(\n",
    "        df_, normalize=True, visualize=True, k_range=range(2, 10)\n",
    "    )\n",
    "    print(\"optimal_k: \", optimal_k)\n",
    "    analyzer_cos_kmeans = cluster_analysis.Analyzer(df_)\n",
    "    analyzer_cos_kmeans.set_algorithm(\n",
    "        algorithm=\"cosine_kmeans\", algorithm_args={\"n_clusters\": optimal_k}\n",
    "    )\n",
    "    analyzer_cos_kmeans.evaluate_silhouette_score(metric=\"cosine\")\n",
    "    # cluster_lbl_ = analyzer_cos_kmeans.predict_labels('id')\n",
    "\n",
    "    ## PREDICT LABEL\n",
    "    predicted_df = analyzer_cos_kmeans.predict_labels(\"numeric_id\", apply=True)\n",
    "    print(\"Plotting for:\")\n",
    "    print(analyzer_cos_kmeans.top_vars(\"numeric_id\", top=4, plot=True))\n",
    "\n",
    "    ## Significance Testing -\n",
    "    ## H0: There is no significance difference between features (e.g. Liwc tone)\n",
    "    ##  across all clusters for ONE discourse level/setting\n",
    "    ## EXAMPLE of H0: There is no significance difference between Liwc emotional tone\n",
    "    ##                across all cluster types for LEAD.\n",
    "    significancy_result = significance_testing.significance(\n",
    "        analyzer_cos_kmeans.df,  # save=False,\n",
    "        # desc='significance_tests/{}/sigtest_{}'.format(desc, discourse_level),\n",
    "        independent_var=\"cluster\",\n",
    "    )\n",
    "\n",
    "    return significancy_result, predicted_df"
   ]
  },
  {
   "cell_type": "markdown",
   "metadata": {},
   "source": [
    "### Conservatives"
   ]
  },
  {
   "cell_type": "code",
   "execution_count": null,
   "metadata": {},
   "outputs": [],
   "source": [
    "(\n",
    "    conservative_significancy_result,\n",
    "    conservative_predicted_df,\n",
    ") = run_cluster_analysis(conservative_features_df)"
   ]
  },
  {
   "cell_type": "code",
   "execution_count": null,
   "metadata": {},
   "outputs": [],
   "source": [
    "conservative_effect_cluster_df = conservative_predicted_df.merge(\n",
    "    conservative_arguments_df[[\"effect\"]],\n",
    "    how=\"inner\",\n",
    "    left_index=True,\n",
    "    right_index=True,\n",
    ")\n",
    "# pd.crosstab(conservative_effect_cluster_df['effect'], conservative_effect_cluster_df['cluster'], normalize='index').plot(kind='bar')"
   ]
  },
  {
   "cell_type": "markdown",
   "metadata": {},
   "source": [
    "### Liberals"
   ]
  },
  {
   "cell_type": "code",
   "execution_count": null,
   "metadata": {},
   "outputs": [],
   "source": [
    "liberal_significancy_result, liberal_predicted_df = run_cluster_analysis(\n",
    "    liberal_features_df\n",
    ")"
   ]
  },
  {
   "cell_type": "code",
   "execution_count": null,
   "metadata": {},
   "outputs": [],
   "source": [
    "liberal_effect_cluster_df = liberal_predicted_df.merge(\n",
    "    liberal_arguments_df[[\"effect\"]],\n",
    "    how=\"inner\",\n",
    "    left_index=True,\n",
    "    right_index=True,\n",
    ")\n",
    "# pd.crosstab(liberal_effect_cluster_df['effect'], liberal_effect_cluster_df['cluster'], normalize='index').plot(kind='bar')"
   ]
  },
  {
   "cell_type": "markdown",
   "metadata": {},
   "source": [
    "# PCA"
   ]
  },
  {
   "cell_type": "code",
   "execution_count": null,
   "metadata": {},
   "outputs": [],
   "source": [
    "import pandas as pd\n",
    "import numpy as np\n",
    "import matplotlib.pyplot as plt\n",
    "from sklearn.decomposition import PCA\n",
    "from sklearn.preprocessing import StandardScaler\n",
    "\n",
    "%matplotlib inline\n",
    "\n",
    "# PREPARE DATA FOR pca\n",
    "\n",
    "\n",
    "# X_norm = (X - X.min())/(X.max() - X.min())\n",
    "# X_standardized = StandardScaler().fit_transform(X)\n",
    "def plot_pca(df, ideology):\n",
    "    col = df.columns\n",
    "    features = col.tolist()\n",
    "    feature = features[:-1]\n",
    "    target = features[-1]\n",
    "    X = df.loc[:, feature].values\n",
    "    y = df.loc[:, target].values\n",
    "    # Apply Standard Scaling\n",
    "    sc = StandardScaler()\n",
    "    X = sc.fit_transform(X)\n",
    "    # pd.DataFrame(X,columns=feature).head()\n",
    "    # Define two components\n",
    "    pca = PCA(n_components=2)\n",
    "    principalComponents = pca.fit_transform(X)\n",
    "    principalDf = pd.DataFrame(\n",
    "        data=principalComponents,\n",
    "        columns=[\"principal component 1\", \"principal component 2\"],\n",
    "    )\n",
    "    # principalDf.head()\n",
    "    finalDf = pd.concat([principalDf, df[[\"effect\"]]], axis=1)\n",
    "\n",
    "    fig = plt.figure(figsize=(8, 8))\n",
    "    ax = fig.add_subplot(1, 1, 1)\n",
    "    ax.set_xlabel(\"Principal Component 1\", fontsize=15)\n",
    "    ax.set_ylabel(\"Principal Component 2\", fontsize=15)\n",
    "    ax.set_title(ideology, fontsize=20)\n",
    "    targets = list(df.effect.unique())\n",
    "    colors = [\"b\", \"g\", \"y\", \"m\"]  # sns.color_palette('deep')[:len(targets)]\n",
    "    for target, color in zip(targets, colors):\n",
    "        indicesToKeep = finalDf[\"effect\"] == target\n",
    "        ax.scatter(\n",
    "            finalDf.loc[indicesToKeep, \"principal component 1\"],\n",
    "            finalDf.loc[indicesToKeep, \"principal component 2\"],\n",
    "            c=color,\n",
    "            s=50,\n",
    "        )\n",
    "        ax.xaxis.label.set_color(\"white\")\n",
    "        ax.yaxis.label.set_color(\"white\")\n",
    "        ax.title.set_color(\"white\")\n",
    "        ax.tick_params(axis=\"x\", colors=\"white\")\n",
    "        ax.tick_params(axis=\"y\", colors=\"white\")\n",
    "        ax.legend(targets)\n",
    "        ax.grid()\n",
    "    plt.figure(figsize=(16, 10))\n",
    "\n",
    "    sns.scatterplot(\n",
    "        x=\"principal component 1\",\n",
    "        y=\"principal component 2\",\n",
    "        hue=\"effect\",\n",
    "        palette=sns.color_palette(\"hls\", 4),\n",
    "        data=finalDf.loc[indicesToKeep, :],\n",
    "        legend=\"full\",\n",
    "        alpha=0.3,\n",
    "    )"
   ]
  },
  {
   "cell_type": "code",
   "execution_count": null,
   "metadata": {},
   "outputs": [],
   "source": [
    "conservative_features_w_effect_df = prepare_data(\n",
    "    conservative_features_df, normalizing_method=\"standard\"\n",
    ")\n",
    "conservative_features_w_effect_df = conservative_features_w_effect_df.merge(\n",
    "    conservative_arguments_df[[\"effect\"]],\n",
    "    how=\"inner\",\n",
    "    left_index=True,\n",
    "    right_index=True,\n",
    ")\n",
    "\n",
    "\n",
    "liberal_features_w_effect_df = prepare_data(\n",
    "    liberal_features_df, normalizing_method=\"standard\"\n",
    ")\n",
    "liberal_features_w_effect_df = liberal_features_w_effect_df.merge(\n",
    "    liberal_arguments_df[[\"effect\"]],\n",
    "    how=\"inner\",\n",
    "    left_index=True,\n",
    "    right_index=True,\n",
    ")\n",
    "\n",
    "plot_pca((conservative_features_w_effect_df), \"Conservative\")\n",
    "plot_pca((liberal_features_w_effect_df), \"Liberal\")"
   ]
  },
  {
   "cell_type": "code",
   "execution_count": null,
   "metadata": {},
   "outputs": [],
   "source": [
    "# example of random oversampling to balance the class distribution\n",
    "\n",
    "undersample(conservative_features_w_effect_df)"
   ]
  },
  {
   "cell_type": "markdown",
   "metadata": {},
   "source": [
    "# Significance between Effects\n"
   ]
  },
  {
   "cell_type": "code",
   "execution_count": null,
   "metadata": {},
   "outputs": [],
   "source": [
    "def calc_sign_effects(df, ideology):\n",
    "    return significance_testing.significance(\n",
    "        df,\n",
    "        save=True,\n",
    "        desc=\"../data/significant_test/{}_effect\".format(ideology),\n",
    "        independent_var=\"effect\",\n",
    "    )\n",
    "\n",
    "\n",
    "conservative_features_w_effect_df = prepare_data(\n",
    "    conservative_features_df, normalizing_method=\"standard\"\n",
    ")\n",
    "conservative_features_w_effect_df = conservative_features_w_effect_df.merge(\n",
    "    conservative_arguments_df[[\"effect\"]],\n",
    "    how=\"inner\",\n",
    "    left_index=True,\n",
    "    right_index=True,\n",
    ")\n",
    "\n",
    "liberal_features_w_effect_df = prepare_data(\n",
    "    liberal_features_df, normalizing_method=\"standard\"\n",
    ")\n",
    "liberal_features_w_effect_df = liberal_features_w_effect_df.merge(\n",
    "    liberal_arguments_df[[\"effect\"]],\n",
    "    how=\"inner\",\n",
    "    left_index=True,\n",
    "    right_index=True,\n",
    ")"
   ]
  },
  {
   "cell_type": "code",
   "execution_count": null,
   "metadata": {},
   "outputs": [],
   "source": [
    "conservative_significance_effect = calc_sign_effects(\n",
    "    undersample(conservative_features_w_effect_df), \"conservative_undersampled\"\n",
    ")\n",
    "liberal_significance_effect = calc_sign_effects(\n",
    "    undersample(liberal_features_w_effect_df), \"liberal_undersampled\"\n",
    ")"
   ]
  },
  {
   "cell_type": "code",
   "execution_count": null,
   "metadata": {},
   "outputs": [],
   "source": [
    "cons_discriminative_vals = (\n",
    "    conservative_significance_effect[\n",
    "        conservative_significance_effect[\"effective ineffective\"] > 0.1\n",
    "    ]\n",
    "    .sort_values(by=[\"effective ineffective\"], ascending=False)\n",
    "    .index.values.tolist()\n",
    ")\n",
    "\n",
    "cons_discriminative_vals = \", \".join(cons_discriminative_vals)\n",
    "cons_discriminative_vals\n",
    "\n",
    "#'liwc_netspeak, liwc_AllPunc, liwc_WC,\n",
    "# liwc_Dash, liwc_OtherP, nrc_anger, nrc_disgust, nrc_fear, nrc_negative, liwc_number'"
   ]
  },
  {
   "cell_type": "code",
   "execution_count": null,
   "metadata": {},
   "outputs": [],
   "source": [
    "lib_discriminative_vals = (\n",
    "    liberal_significance_effect[\n",
    "        liberal_significance_effect[\"effective ineffective\"] > 0.09\n",
    "    ]\n",
    "    .sort_values(by=[\"effective ineffective\"], ascending=False)\n",
    "    .index.values.tolist()\n",
    ")\n",
    "\n",
    "lib_discriminative_vals = \", \".join(lib_discriminative_vals)\n",
    "lib_discriminative_vals\n",
    "\n",
    "# 'liwc_AllPunc, liwc_shehe, liwc_OtherP'"
   ]
  },
  {
   "cell_type": "code",
   "execution_count": null,
   "metadata": {},
   "outputs": [],
   "source": []
  },
  {
   "cell_type": "code",
   "execution_count": null,
   "metadata": {},
   "outputs": [],
   "source": []
  }
 ],
 "metadata": {
  "kernelspec": {
   "display_name": "iesta_venv",
   "language": "python",
   "name": "python3"
  },
  "language_info": {
   "codemirror_mode": {
    "name": "ipython",
    "version": 3
   },
   "file_extension": ".py",
   "mimetype": "text/x-python",
   "name": "python",
   "nbconvert_exporter": "python",
   "pygments_lexer": "ipython3",
   "version": "3.8.10 (default, Nov 14 2022, 12:59:47) \n[GCC 9.4.0]"
  },
  "vscode": {
   "interpreter": {
    "hash": "33b81bc8650a3643e935a2ab53ff66219719f7237086cfdf4850911b872414e3"
   }
  }
 },
 "nbformat": 4,
 "nbformat_minor": 4
}
