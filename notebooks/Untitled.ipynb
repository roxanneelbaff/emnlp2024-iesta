{
 "cells": [
  {
   "cell_type": "code",
   "execution_count": 1,
   "metadata": {},
   "outputs": [
    {
     "name": "stderr",
     "output_type": "stream",
     "text": [
      "In c:\\programdata\\miniconda3\\lib\\site-packages\\matplotlib\\mpl-data\\stylelib\\_classic_test.mplstyle: \n",
      "The text.latex.preview rcparam was deprecated in Matplotlib 3.3 and will be removed two minor releases later.\n",
      "In c:\\programdata\\miniconda3\\lib\\site-packages\\matplotlib\\mpl-data\\stylelib\\_classic_test.mplstyle: \n",
      "The mathtext.fallback_to_cm rcparam was deprecated in Matplotlib 3.3 and will be removed two minor releases later.\n",
      "In c:\\programdata\\miniconda3\\lib\\site-packages\\matplotlib\\mpl-data\\stylelib\\_classic_test.mplstyle: Support for setting the 'mathtext.fallback_to_cm' rcParam is deprecated since 3.3 and will be removed two minor releases later; use 'mathtext.fallback : 'cm' instead.\n",
      "In c:\\programdata\\miniconda3\\lib\\site-packages\\matplotlib\\mpl-data\\stylelib\\_classic_test.mplstyle: \n",
      "The validate_bool_maybe_none function was deprecated in Matplotlib 3.3 and will be removed two minor releases later.\n",
      "In c:\\programdata\\miniconda3\\lib\\site-packages\\matplotlib\\mpl-data\\stylelib\\_classic_test.mplstyle: \n",
      "The savefig.jpeg_quality rcparam was deprecated in Matplotlib 3.3 and will be removed two minor releases later.\n",
      "In c:\\programdata\\miniconda3\\lib\\site-packages\\matplotlib\\mpl-data\\stylelib\\_classic_test.mplstyle: \n",
      "The keymap.all_axes rcparam was deprecated in Matplotlib 3.3 and will be removed two minor releases later.\n",
      "In c:\\programdata\\miniconda3\\lib\\site-packages\\matplotlib\\mpl-data\\stylelib\\_classic_test.mplstyle: \n",
      "The animation.avconv_path rcparam was deprecated in Matplotlib 3.3 and will be removed two minor releases later.\n",
      "In c:\\programdata\\miniconda3\\lib\\site-packages\\matplotlib\\mpl-data\\stylelib\\_classic_test.mplstyle: \n",
      "The animation.avconv_args rcparam was deprecated in Matplotlib 3.3 and will be removed two minor releases later.\n"
     ]
    },
    {
     "data": {
      "text/plain": [
       "<module 'textmining.lexicons' from 'C:\\\\Users\\\\elba_ro\\\\Documents\\\\projects\\\\conf21-style-transfer\\\\textmining\\\\lexicons.py'>"
      ]
     },
     "execution_count": 1,
     "metadata": {},
     "output_type": "execute_result"
    }
   ],
   "source": [
    "import pandas as pd\n",
    "import numpy as np\n",
    "import sys, os\n",
    "import importlib\n",
    "sys.path.insert(0, os.path.abspath('../'))\n",
    "import textmining.cluster_analysis as cluster_analysis\n",
    "import textmining.lexicons as lexicons\n",
    "import re\n",
    "importlib.reload(cluster_analysis)\n",
    "importlib.reload(lexicons)"
   ]
  },
  {
   "cell_type": "code",
   "execution_count": 35,
   "metadata": {},
   "outputs": [],
   "source": [
    "conservative_arguments_df = pd.read_csv('../data/conservative_debate_arguments_w_effect.csv')\n",
    "liberal_arguments_df = pd.read_csv('../data/liberal_debate_arguments_w_effect.csv')"
   ]
  },
  {
   "cell_type": "code",
   "execution_count": 14,
   "metadata": {},
   "outputs": [
    {
     "ename": "NameError",
     "evalue": "name 'conservative_arguments_df' is not defined",
     "output_type": "error",
     "traceback": [
      "\u001b[1;31m---------------------------------------------------------------------------\u001b[0m",
      "\u001b[1;31mNameError\u001b[0m                                 Traceback (most recent call last)",
      "\u001b[1;32m<ipython-input-14-53f9b01baaea>\u001b[0m in \u001b[0;36m<module>\u001b[1;34m\u001b[0m\n\u001b[1;32m----> 1\u001b[1;33m \u001b[0mconservative_arguments_df\u001b[0m\u001b[1;33m.\u001b[0m\u001b[0mcolumns\u001b[0m\u001b[1;33m\u001b[0m\u001b[1;33m\u001b[0m\u001b[0m\n\u001b[0m",
      "\u001b[1;31mNameError\u001b[0m: name 'conservative_arguments_df' is not defined"
     ]
    }
   ],
   "source": [
    "conservative_arguments_df.columns"
   ]
  },
  {
   "cell_type": "code",
   "execution_count": 39,
   "metadata": {},
   "outputs": [
    {
     "data": {
      "text/plain": [
       "'1roxanne_23'"
      ]
     },
     "execution_count": 39,
     "metadata": {},
     "output_type": "execute_result"
    }
   ],
   "source": [
    "conservative_arguments_df.drop(['Unnamed: 0'], axis=1, inplace=True)\n",
    "liberal_arguments_df.drop(['Unnamed: 0'], axis=1, inplace=True)\n"
   ]
  },
  {
   "cell_type": "code",
   "execution_count": 36,
   "metadata": {},
   "outputs": [],
   "source": [
    "def apply_id(row):\n",
    "    row['id'] = '{}_{}_{}'.format(row['debate_id'], row['p_name'], str(row['round']) )\n",
    "    #row['filename'] =re.sub('[^A-Za-z0-9_-]+', '', row['id'])\n",
    "    return row\n",
    "\n",
    "conservative_arguments_df = conservative_arguments_df.apply(apply_id, axis=1)\n",
    "liberal_arguments_df = liberal_arguments_df.apply(apply_id, axis=1)"
   ]
  },
  {
   "cell_type": "code",
   "execution_count": 37,
   "metadata": {},
   "outputs": [],
   "source": [
    "liberal_arguments_df.index.name = 'numeric_id'\n",
    "conservative_arguments_df.index.name = 'numeric_id'\n"
   ]
  },
  {
   "cell_type": "code",
   "execution_count": 40,
   "metadata": {},
   "outputs": [],
   "source": [
    "conservative_arguments_df.reset_index().to_csv('../data/conservative_debate_arguments_w_effect.csv', index=False)\n",
    "liberal_arguments_df.reset_index().to_csv('../data/liberal_debate_arguments_w_effect.csv', index=False)"
   ]
  },
  {
   "cell_type": "code",
   "execution_count": 41,
   "metadata": {},
   "outputs": [],
   "source": [
    "conservative_arguments_df = pd.read_csv('../data/conservative_debate_arguments_w_effect.csv',\n",
    "                                        index_col = 'numeric_id')\n",
    "liberal_arguments_df = pd.read_csv('../data/liberal_debate_arguments_w_effect.csv',\n",
    "                                        index_col = 'numeric_id')"
   ]
  },
  {
   "cell_type": "code",
   "execution_count": 42,
   "metadata": {},
   "outputs": [
    {
     "data": {
      "text/html": [
       "<div>\n",
       "<style scoped>\n",
       "    .dataframe tbody tr th:only-of-type {\n",
       "        vertical-align: middle;\n",
       "    }\n",
       "\n",
       "    .dataframe tbody tr th {\n",
       "        vertical-align: top;\n",
       "    }\n",
       "\n",
       "    .dataframe thead th {\n",
       "        text-align: right;\n",
       "    }\n",
       "</style>\n",
       "<table border=\"1\" class=\"dataframe\">\n",
       "  <thead>\n",
       "    <tr style=\"text-align: right;\">\n",
       "      <th></th>\n",
       "      <th>id</th>\n",
       "      <th>debate_id</th>\n",
       "      <th>p_name</th>\n",
       "      <th>effects</th>\n",
       "      <th>effect_count</th>\n",
       "      <th>top_effect</th>\n",
       "      <th>effect</th>\n",
       "      <th>category</th>\n",
       "      <th>round</th>\n",
       "      <th>argument</th>\n",
       "    </tr>\n",
       "    <tr>\n",
       "      <th>numeric_id</th>\n",
       "      <th></th>\n",
       "      <th></th>\n",
       "      <th></th>\n",
       "      <th></th>\n",
       "      <th></th>\n",
       "      <th></th>\n",
       "      <th></th>\n",
       "      <th></th>\n",
       "      <th></th>\n",
       "      <th></th>\n",
       "    </tr>\n",
       "  </thead>\n",
       "  <tbody>\n",
       "    <tr>\n",
       "      <th>0</th>\n",
       "      <td>.-.-.-Ha-YOURE-GOING-DOWN-BEEM0R/1/_beem0r_0</td>\n",
       "      <td>.-.-.-Ha-YOURE-GOING-DOWN-BEEM0R/1/</td>\n",
       "      <td>beem0r</td>\n",
       "      <td>ineffective</td>\n",
       "      <td>{'ineffective': 3}</td>\n",
       "      <td>ineffective</td>\n",
       "      <td>ineffective</td>\n",
       "      <td>Miscellaneous</td>\n",
       "      <td>0</td>\n",
       "      <td>\\n  \\r\\nI would eplain the vast differences be...</td>\n",
       "    </tr>\n",
       "    <tr>\n",
       "      <th>1</th>\n",
       "      <td>.-.-.-Ha-YOURE-GOING-DOWN-BEEM0R/1/_beem0r_1</td>\n",
       "      <td>.-.-.-Ha-YOURE-GOING-DOWN-BEEM0R/1/</td>\n",
       "      <td>beem0r</td>\n",
       "      <td>ineffective</td>\n",
       "      <td>{'ineffective': 3}</td>\n",
       "      <td>ineffective</td>\n",
       "      <td>ineffective</td>\n",
       "      <td>Miscellaneous</td>\n",
       "      <td>1</td>\n",
       "      <td>\\n  \\r\\nMy opponent has recanted his original ...</td>\n",
       "    </tr>\n",
       "    <tr>\n",
       "      <th>2</th>\n",
       "      <td>.-.-.-Ha-YOURE-GOING-DOWN-BEEM0R/1/_beem0r_2</td>\n",
       "      <td>.-.-.-Ha-YOURE-GOING-DOWN-BEEM0R/1/</td>\n",
       "      <td>beem0r</td>\n",
       "      <td>ineffective</td>\n",
       "      <td>{'ineffective': 3}</td>\n",
       "      <td>ineffective</td>\n",
       "      <td>ineffective</td>\n",
       "      <td>Miscellaneous</td>\n",
       "      <td>2</td>\n",
       "      <td>\\n  \\r\\nConsciously - a word that my opponent ...</td>\n",
       "    </tr>\n",
       "    <tr>\n",
       "      <th>3</th>\n",
       "      <td>.-.-.-Ha-YOURE-GOING-DOWN-BEEM0R/1/_beem0r_3</td>\n",
       "      <td>.-.-.-Ha-YOURE-GOING-DOWN-BEEM0R/1/</td>\n",
       "      <td>beem0r</td>\n",
       "      <td>ineffective</td>\n",
       "      <td>{'ineffective': 3}</td>\n",
       "      <td>ineffective</td>\n",
       "      <td>ineffective</td>\n",
       "      <td>Miscellaneous</td>\n",
       "      <td>3</td>\n",
       "      <td>\\n  \\r\\nWe have agreed that all objects act, s...</td>\n",
       "    </tr>\n",
       "    <tr>\n",
       "      <th>4</th>\n",
       "      <td>.-Audis-are-junkers-except-to-rich-kids-with-l...</td>\n",
       "      <td>.-Audis-are-junkers-except-to-rich-kids-with-l...</td>\n",
       "      <td>Max.Wallace</td>\n",
       "      <td>ineffective</td>\n",
       "      <td>{'ineffective': 1}</td>\n",
       "      <td>ineffective</td>\n",
       "      <td>ineffective</td>\n",
       "      <td>Cars</td>\n",
       "      <td>0</td>\n",
       "      <td>\\n  \\r\\nWhen the Audi your dad bought you brea...</td>\n",
       "    </tr>\n",
       "    <tr>\n",
       "      <th>...</th>\n",
       "      <td>...</td>\n",
       "      <td>...</td>\n",
       "      <td>...</td>\n",
       "      <td>...</td>\n",
       "      <td>...</td>\n",
       "      <td>...</td>\n",
       "      <td>...</td>\n",
       "      <td>...</td>\n",
       "      <td>...</td>\n",
       "      <td>...</td>\n",
       "    </tr>\n",
       "    <tr>\n",
       "      <th>120560</th>\n",
       "      <td>zygote-is-not-A-person/1/_go4broke_1</td>\n",
       "      <td>zygote-is-not-A-person/1/</td>\n",
       "      <td>go4broke</td>\n",
       "      <td>ineffective</td>\n",
       "      <td>{'ineffective': 1}</td>\n",
       "      <td>ineffective</td>\n",
       "      <td>ineffective</td>\n",
       "      <td>Science</td>\n",
       "      <td>1</td>\n",
       "      <td>\\n  \\r\\nI am talking about human embryology, c...</td>\n",
       "    </tr>\n",
       "    <tr>\n",
       "      <th>120561</th>\n",
       "      <td>zygote-is-not-A-person/1/_go4broke_2</td>\n",
       "      <td>zygote-is-not-A-person/1/</td>\n",
       "      <td>go4broke</td>\n",
       "      <td>ineffective</td>\n",
       "      <td>{'ineffective': 1}</td>\n",
       "      <td>ineffective</td>\n",
       "      <td>ineffective</td>\n",
       "      <td>Science</td>\n",
       "      <td>2</td>\n",
       "      <td>\\n  \\r\\nYou seem to be avoiding the crux of th...</td>\n",
       "    </tr>\n",
       "    <tr>\n",
       "      <th>120562</th>\n",
       "      <td>zygote-is-not-A-person/1/_zmikecuber_0</td>\n",
       "      <td>zygote-is-not-A-person/1/</td>\n",
       "      <td>zmikecuber</td>\n",
       "      <td>okay</td>\n",
       "      <td>{'okay': 1}</td>\n",
       "      <td>okay</td>\n",
       "      <td>okay</td>\n",
       "      <td>Science</td>\n",
       "      <td>0</td>\n",
       "      <td>\\n  \\n  I accept. The BoP shall be on my oppon...</td>\n",
       "    </tr>\n",
       "    <tr>\n",
       "      <th>120563</th>\n",
       "      <td>zygote-is-not-A-person/1/_zmikecuber_1</td>\n",
       "      <td>zygote-is-not-A-person/1/</td>\n",
       "      <td>zmikecuber</td>\n",
       "      <td>okay</td>\n",
       "      <td>{'okay': 1}</td>\n",
       "      <td>okay</td>\n",
       "      <td>okay</td>\n",
       "      <td>Science</td>\n",
       "      <td>1</td>\n",
       "      <td>\\n  \\n  Shifting of the BoP  My opponent argue...</td>\n",
       "    </tr>\n",
       "    <tr>\n",
       "      <th>120564</th>\n",
       "      <td>zygote-is-not-A-person/1/_zmikecuber_2</td>\n",
       "      <td>zygote-is-not-A-person/1/</td>\n",
       "      <td>zmikecuber</td>\n",
       "      <td>okay</td>\n",
       "      <td>{'okay': 1}</td>\n",
       "      <td>okay</td>\n",
       "      <td>okay</td>\n",
       "      <td>Science</td>\n",
       "      <td>2</td>\n",
       "      <td>\\n  \\n  My opponent thinks that I have not res...</td>\n",
       "    </tr>\n",
       "  </tbody>\n",
       "</table>\n",
       "<p>120565 rows × 10 columns</p>\n",
       "</div>"
      ],
      "text/plain": [
       "                                                           id  \\\n",
       "numeric_id                                                      \n",
       "0                .-.-.-Ha-YOURE-GOING-DOWN-BEEM0R/1/_beem0r_0   \n",
       "1                .-.-.-Ha-YOURE-GOING-DOWN-BEEM0R/1/_beem0r_1   \n",
       "2                .-.-.-Ha-YOURE-GOING-DOWN-BEEM0R/1/_beem0r_2   \n",
       "3                .-.-.-Ha-YOURE-GOING-DOWN-BEEM0R/1/_beem0r_3   \n",
       "4           .-Audis-are-junkers-except-to-rich-kids-with-l...   \n",
       "...                                                       ...   \n",
       "120560                   zygote-is-not-A-person/1/_go4broke_1   \n",
       "120561                   zygote-is-not-A-person/1/_go4broke_2   \n",
       "120562                 zygote-is-not-A-person/1/_zmikecuber_0   \n",
       "120563                 zygote-is-not-A-person/1/_zmikecuber_1   \n",
       "120564                 zygote-is-not-A-person/1/_zmikecuber_2   \n",
       "\n",
       "                                                    debate_id       p_name  \\\n",
       "numeric_id                                                                   \n",
       "0                         .-.-.-Ha-YOURE-GOING-DOWN-BEEM0R/1/       beem0r   \n",
       "1                         .-.-.-Ha-YOURE-GOING-DOWN-BEEM0R/1/       beem0r   \n",
       "2                         .-.-.-Ha-YOURE-GOING-DOWN-BEEM0R/1/       beem0r   \n",
       "3                         .-.-.-Ha-YOURE-GOING-DOWN-BEEM0R/1/       beem0r   \n",
       "4           .-Audis-are-junkers-except-to-rich-kids-with-l...  Max.Wallace   \n",
       "...                                                       ...          ...   \n",
       "120560                              zygote-is-not-A-person/1/     go4broke   \n",
       "120561                              zygote-is-not-A-person/1/     go4broke   \n",
       "120562                              zygote-is-not-A-person/1/   zmikecuber   \n",
       "120563                              zygote-is-not-A-person/1/   zmikecuber   \n",
       "120564                              zygote-is-not-A-person/1/   zmikecuber   \n",
       "\n",
       "                effects        effect_count   top_effect       effect  \\\n",
       "numeric_id                                                              \n",
       "0           ineffective  {'ineffective': 3}  ineffective  ineffective   \n",
       "1           ineffective  {'ineffective': 3}  ineffective  ineffective   \n",
       "2           ineffective  {'ineffective': 3}  ineffective  ineffective   \n",
       "3           ineffective  {'ineffective': 3}  ineffective  ineffective   \n",
       "4           ineffective  {'ineffective': 1}  ineffective  ineffective   \n",
       "...                 ...                 ...          ...          ...   \n",
       "120560      ineffective  {'ineffective': 1}  ineffective  ineffective   \n",
       "120561      ineffective  {'ineffective': 1}  ineffective  ineffective   \n",
       "120562             okay         {'okay': 1}         okay         okay   \n",
       "120563             okay         {'okay': 1}         okay         okay   \n",
       "120564             okay         {'okay': 1}         okay         okay   \n",
       "\n",
       "                 category  round  \\\n",
       "numeric_id                         \n",
       "0           Miscellaneous      0   \n",
       "1           Miscellaneous      1   \n",
       "2           Miscellaneous      2   \n",
       "3           Miscellaneous      3   \n",
       "4                    Cars      0   \n",
       "...                   ...    ...   \n",
       "120560            Science      1   \n",
       "120561            Science      2   \n",
       "120562            Science      0   \n",
       "120563            Science      1   \n",
       "120564            Science      2   \n",
       "\n",
       "                                                     argument  \n",
       "numeric_id                                                     \n",
       "0           \\n  \\r\\nI would eplain the vast differences be...  \n",
       "1           \\n  \\r\\nMy opponent has recanted his original ...  \n",
       "2           \\n  \\r\\nConsciously - a word that my opponent ...  \n",
       "3           \\n  \\r\\nWe have agreed that all objects act, s...  \n",
       "4           \\n  \\r\\nWhen the Audi your dad bought you brea...  \n",
       "...                                                       ...  \n",
       "120560      \\n  \\r\\nI am talking about human embryology, c...  \n",
       "120561      \\n  \\r\\nYou seem to be avoiding the crux of th...  \n",
       "120562      \\n  \\n  I accept. The BoP shall be on my oppon...  \n",
       "120563      \\n  \\n  Shifting of the BoP  My opponent argue...  \n",
       "120564      \\n  \\n  My opponent thinks that I have not res...  \n",
       "\n",
       "[120565 rows x 10 columns]"
      ]
     },
     "execution_count": 42,
     "metadata": {},
     "output_type": "execute_result"
    }
   ],
   "source": [
    "conservative_arguments_df"
   ]
  },
  {
   "cell_type": "code",
   "execution_count": 54,
   "metadata": {},
   "outputs": [],
   "source": [
    "def save_args_as_texts(ideology):\n",
    "    df = pd.read_csv('../data/{}_debate_arguments_w_effect.csv'.format(ideology),\n",
    "                                        index_col = 'numeric_id')\n",
    "    \n",
    "    for idx, row in df.iterrows():\n",
    "        arg = row['argument'].strip()\n",
    "        with open(\"../data/debateorg_arguments_txt/{}/{}_{}.txt\".format(ideology,\n",
    "                                                                        ideology,\n",
    "                                                                        str(idx)), \n",
    "                  \"w\", \n",
    "                  encoding='utf-8') as f:\n",
    "            f.write(arg)\n"
   ]
  },
  {
   "cell_type": "code",
   "execution_count": 55,
   "metadata": {},
   "outputs": [],
   "source": [
    "save_args_as_texts('liberal')"
   ]
  },
  {
   "cell_type": "code",
   "execution_count": 56,
   "metadata": {},
   "outputs": [],
   "source": [
    "save_args_as_texts('conservative')"
   ]
  },
  {
   "cell_type": "code",
   "execution_count": 2,
   "metadata": {},
   "outputs": [],
   "source": [
    "import glob"
   ]
  },
  {
   "cell_type": "code",
   "execution_count": 8,
   "metadata": {},
   "outputs": [],
   "source": []
  },
  {
   "cell_type": "code",
   "execution_count": 10,
   "metadata": {},
   "outputs": [],
   "source": []
  },
  {
   "cell_type": "code",
   "execution_count": 12,
   "metadata": {},
   "outputs": [
    {
     "data": {
      "text/plain": [
       "'C:\\\\Users\\\\elba_ro\\\\Documents\\\\projects\\\\conf21-style-transfer\\\\data\\\\debateorg_arguments_txt\\\\conservative\\\\conservative_0.txt'"
      ]
     },
     "execution_count": 12,
     "metadata": {},
     "output_type": "execute_result"
    }
   ],
   "source": [
    "cons_txts[0]"
   ]
  },
  {
   "cell_type": "code",
   "execution_count": 13,
   "metadata": {},
   "outputs": [],
   "source": [
    "def save_arg_txt_links(ideology):\n",
    "    path_args_txt = 'C:\\\\Users\\elba_ro\\\\Documents\\\\projects\\\\conf21-style-transfer\\\\data\\\\debateorg_arguments_txt\\\\{}\\\\*.txt'\n",
    "    txt_links = glob.glob(path_args_txt.format(ideology))\n",
    "    \n",
    "    links_str = '\\n'.join(txt_links)\n",
    "    \n",
    "    with open(\"../data/{}_args_paths.doclist\".format(ideology), \n",
    "                      \"w\", \n",
    "                      encoding='utf-8') as f:\n",
    "                f.write(links_str)\n",
    "            \n",
    "save_arg_txt_links('liberal')\n",
    "save_arg_txt_links('conservative')"
   ]
  },
  {
   "cell_type": "code",
   "execution_count": null,
   "metadata": {},
   "outputs": [],
   "source": []
  }
 ],
 "metadata": {
  "kernelspec": {
   "display_name": "Python 3",
   "language": "python",
   "name": "python3"
  },
  "language_info": {
   "codemirror_mode": {
    "name": "ipython",
    "version": 3
   },
   "file_extension": ".py",
   "mimetype": "text/x-python",
   "name": "python",
   "nbconvert_exporter": "python",
   "pygments_lexer": "ipython3",
   "version": "3.7.3"
  }
 },
 "nbformat": 4,
 "nbformat_minor": 4
}
