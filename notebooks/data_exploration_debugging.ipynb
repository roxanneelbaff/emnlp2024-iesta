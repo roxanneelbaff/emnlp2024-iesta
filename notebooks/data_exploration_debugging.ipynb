{
 "cells": [
  {
   "cell_type": "code",
   "execution_count": 6,
   "metadata": {},
   "outputs": [],
   "source": [
    "\n",
    "from comet_ml import Experiment\n",
    "import GPUtil\n",
    "import torch\n",
    "\n",
    "import os   \n",
    "import codecarbon\n",
    "from iesta.machine_learning.dataloader import IESTAData, LABELS\n",
    "from iesta.machine_learning.huggingface_loader import IESTAHuggingFace\n",
    "from nlpaf.transformers.text_classification import TextClassification\n",
    "from dotenv import load_dotenv, find_dotenv\n",
    "import argparse\n",
    "from huggingface_hub import login\n",
    "from datasets import load_dataset, Dataset, DatasetDict\n"
   ]
  },
  {
   "cell_type": "code",
   "execution_count": 7,
   "metadata": {},
   "outputs": [],
   "source": [
    "import re\n",
    "\n",
    "import numpy as np\n",
    "import pandas as pd\n",
    "from ydata_profiling import ProfileReport\n",
    "def _apply_no_punc(row):\n",
    "    row[\"text_no_punc\"] = re.sub(r'[^\\w\\s]', '', row[\"text\"])\n",
    "    return row\n",
    "\n",
    "def profile_datasets(ds_name:str = \"debateorg_w_effect_for_liberal\", lower:bool = False):\n",
    "    dataset_dict: DatasetDict = load_dataset(f\"notaphoenix/{ds_name}\")\n",
    "    dfs = []\n",
    "    for split, ds in dataset_dict.items():\n",
    "        print(split)\n",
    "        dfs.append(ds.to_pandas())\n",
    "\n",
    "    df = pd.concat(dfs)\n",
    "    len(df)\n",
    "        #profile = ProfileReport(df, title=\"Profiling Report\")\n",
    "    #df[\"text_low\"] = df[\"text\"].str.lower()\n",
    "    dissmiss_arr = []\n",
    "    with open(\"../data/dismiss_text.txt\", \"r\") as dismissedf:\n",
    "        dissmiss_arr = list(pd.Series(dismissedf.read().splitlines()).str.lower())\n",
    "        dissmiss_arr = list(set([re.sub(r'[^\\w\\s]', '', x) for x in dissmiss_arr]))\n",
    "    \n",
    "    \n",
    "    df = df.apply(_apply_no_punc, axis=1)\n",
    "    df = df[~df[\"text_no_punc\"].str.lower().isin(dissmiss_arr)]\n",
    "    if lower:\n",
    "        df[\"text_low\"] = df[\"text\"].str.lower()\n",
    "        profile = ProfileReport(df[[\"text_low\"]], title=\"Profiling Report\")\n",
    "        profile.to_file(f\"../data/profilers/{ds_name}_low.html\")\n",
    "    else:\n",
    "        profile = ProfileReport(df[[\"text\"]], title=\"Profiling Report\")\n",
    "        profile.to_file(f\"../data/profilers/{ds_name}.html\")\n",
    "    return df, profile"
   ]
  },
  {
   "cell_type": "code",
   "execution_count": 8,
   "metadata": {},
   "outputs": [],
   "source": [
    "# This is typically needed once per notebook\n",
    "#%matplotlib inline \n",
    "import pandas as pd\n",
    "import seaborn as sns\n",
    "from matplotlib import pyplot as plt\n",
    "from nltk.tokenize import word_tokenize\n",
    "\n",
    "sns.set(style=\"darkgrid\")\n",
    "import re\n"
   ]
  },
  {
   "cell_type": "code",
   "execution_count": 9,
   "metadata": {},
   "outputs": [],
   "source": [
    "def plot_datasets(ds_name:str = \"debateorg_w_effect_for_liberal\", lower:bool = False):\n",
    "    dataset_dict: DatasetDict = load_dataset(f\"notaphoenix/{ds_name}\")\n",
    "    dfs = []\n",
    "    for split, ds in dataset_dict.items():\n",
    "        print(split)\n",
    "        dfs.append(ds.to_pandas())\n",
    "\n",
    "    df = pd.concat(dfs)\n",
    "    len(df)\n",
    "        #profile = ProfileReport(df, title=\"Profiling Report\")\n",
    "    #df[\"text_low\"] = df[\"text\"].str.lower()\n",
    "    dissmiss_arr = []\n",
    "    with open(\"../data/dismiss_text.txt\", \"r\") as dismissedf:\n",
    "        dissmiss_arr = list(pd.Series(dismissedf.read().splitlines()).str.lower())\n",
    "        dissmiss_arr = list(set([re.sub(r'[^\\w\\s]', '', x) for x in dissmiss_arr]))\n",
    "    \n",
    "    \n",
    "    df = df.apply(_apply_no_punc, axis=1)\n",
    "    df = df[~df[\"text_no_punc\"].str.lower().isin(dissmiss_arr)]\n",
    "\n",
    "    df['num_tokens'] = df['text'].apply(lambda x: len(word_tokenize(x)))\n",
    "    df['num_chars'] = df['text'].apply(lambda x: len(x))\n",
    "\n",
    "    #df = df[df['num_tokens']>2]\n",
    "    #df = df[df['num_tokens']<=1600]\n",
    "    sns.set(style=\"darkgrid\")\n",
    "    fig, axes = plt.subplots(figsize=(10,7))\n",
    "    # Plot histogram\n",
    "    color=\"olive\"\n",
    "    for lbl, df_ in df.groupby(['label']):\n",
    "        sns.histplot(df_['num_chars'], bins=50, color=color, label=lbl, stat=\"percent\")\n",
    "        color = \"skyblue\"\n",
    "\n",
    "    plt.title(f'Histogram of Token Counts {ds_name} ')\n",
    "    plt.xlabel(\"Number of Tokens\")\n",
    "    plt.ylabel(\"Frequency\")\n",
    "    plt.legend() \n",
    "    plt.show()\n",
    "    return df\n",
    "    "
   ]
  },
  {
   "cell_type": "code",
   "execution_count": 22,
   "metadata": {},
   "outputs": [
    {
     "name": "stderr",
     "output_type": "stream",
     "text": [
      "Found cached dataset parquet (/home/elba_ro/.cache/huggingface/datasets/notaphoenix___parquet/notaphoenix--debateorg_w_effect_for_liberal_subset-9974cc12ec5dc37a/0.0.0/14a00e99c0d15a23649d0db8944380ac81082d4b021f398733dd84f3a6c569a7)\n"
     ]
    },
    {
     "data": {
      "application/vnd.jupyter.widget-view+json": {
       "model_id": "ebe845c7d9454f48b248175c2b5bd1fd",
       "version_major": 2,
       "version_minor": 0
      },
      "text/plain": [
       "  0%|          | 0/3 [00:00<?, ?it/s]"
      ]
     },
     "metadata": {},
     "output_type": "display_data"
    },
    {
     "data": {
      "text/html": [
       "<pre style=\"white-space:pre;overflow-x:auto;line-height:normal;font-family:Menlo,'DejaVu Sans Mono',consolas,'Courier New',monospace\"><span style=\"color: #800000; text-decoration-color: #800000\">╭─────────────────────────────── </span><span style=\"color: #800000; text-decoration-color: #800000; font-weight: bold\">Traceback </span><span style=\"color: #bf7f7f; text-decoration-color: #bf7f7f; font-weight: bold\">(most recent call last)</span><span style=\"color: #800000; text-decoration-color: #800000\"> ────────────────────────────────╮</span>\n",
       "<span style=\"color: #800000; text-decoration-color: #800000\">│</span> in <span style=\"color: #00ff00; text-decoration-color: #00ff00\">&lt;module&gt;</span>:<span style=\"color: #0000ff; text-decoration-color: #0000ff\">3</span>                                                                                    <span style=\"color: #800000; text-decoration-color: #800000\">│</span>\n",
       "<span style=\"color: #800000; text-decoration-color: #800000\">│</span>                                                                                                  <span style=\"color: #800000; text-decoration-color: #800000\">│</span>\n",
       "<span style=\"color: #800000; text-decoration-color: #800000\">│</span>   <span style=\"color: #7f7f7f; text-decoration-color: #7f7f7f\">1 </span>dataset_dict: DatasetDict = load_dataset(<span style=\"color: #808000; text-decoration-color: #808000\">f\"notaphoenix/debateorg_w_effect_for_liberal_su</span>     <span style=\"color: #800000; text-decoration-color: #800000\">│</span>\n",
       "<span style=\"color: #800000; text-decoration-color: #800000\">│</span>   <span style=\"color: #7f7f7f; text-decoration-color: #7f7f7f\">2 </span>                                                                                             <span style=\"color: #800000; text-decoration-color: #800000\">│</span>\n",
       "<span style=\"color: #800000; text-decoration-color: #800000\">│</span> <span style=\"color: #800000; text-decoration-color: #800000\">❱ </span>3 dataset_dict = dataset_dict.keep_columns([<span style=\"color: #808000; text-decoration-color: #808000\">'author'</span>, <span style=\"color: #808000; text-decoration-color: #808000\">'original_text'</span>, <span style=\"color: #808000; text-decoration-color: #808000\">'category'</span>, <span style=\"color: #808000; text-decoration-color: #808000\">'round'</span>     <span style=\"color: #800000; text-decoration-color: #800000\">│</span>\n",
       "<span style=\"color: #800000; text-decoration-color: #800000\">│</span>   <span style=\"color: #7f7f7f; text-decoration-color: #7f7f7f\">4 </span>                                                                                             <span style=\"color: #800000; text-decoration-color: #800000\">│</span>\n",
       "<span style=\"color: #800000; text-decoration-color: #800000\">╰──────────────────────────────────────────────────────────────────────────────────────────────────╯</span>\n",
       "<span style=\"color: #ff0000; text-decoration-color: #ff0000; font-weight: bold\">AttributeError: </span><span style=\"color: #008000; text-decoration-color: #008000\">'DatasetDict'</span> object has no attribute <span style=\"color: #008000; text-decoration-color: #008000\">'keep_columns'</span>\n",
       "</pre>\n"
      ],
      "text/plain": [
       "\u001b[31m╭─\u001b[0m\u001b[31m──────────────────────────────\u001b[0m\u001b[31m \u001b[0m\u001b[1;31mTraceback \u001b[0m\u001b[1;2;31m(most recent call last)\u001b[0m\u001b[31m \u001b[0m\u001b[31m───────────────────────────────\u001b[0m\u001b[31m─╮\u001b[0m\n",
       "\u001b[31m│\u001b[0m in \u001b[92m<module>\u001b[0m:\u001b[94m3\u001b[0m                                                                                    \u001b[31m│\u001b[0m\n",
       "\u001b[31m│\u001b[0m                                                                                                  \u001b[31m│\u001b[0m\n",
       "\u001b[31m│\u001b[0m   \u001b[2m1 \u001b[0mdataset_dict: DatasetDict = load_dataset(\u001b[33mf\u001b[0m\u001b[33m\"\u001b[0m\u001b[33mnotaphoenix/debateorg_w_effect_for_liberal_su\u001b[0m     \u001b[31m│\u001b[0m\n",
       "\u001b[31m│\u001b[0m   \u001b[2m2 \u001b[0m                                                                                             \u001b[31m│\u001b[0m\n",
       "\u001b[31m│\u001b[0m \u001b[31m❱ \u001b[0m3 dataset_dict = dataset_dict.keep_columns([\u001b[33m'\u001b[0m\u001b[33mauthor\u001b[0m\u001b[33m'\u001b[0m, \u001b[33m'\u001b[0m\u001b[33moriginal_text\u001b[0m\u001b[33m'\u001b[0m, \u001b[33m'\u001b[0m\u001b[33mcategory\u001b[0m\u001b[33m'\u001b[0m, \u001b[33m'\u001b[0m\u001b[33mround\u001b[0m\u001b[33m'\u001b[0m     \u001b[31m│\u001b[0m\n",
       "\u001b[31m│\u001b[0m   \u001b[2m4 \u001b[0m                                                                                             \u001b[31m│\u001b[0m\n",
       "\u001b[31m╰──────────────────────────────────────────────────────────────────────────────────────────────────╯\u001b[0m\n",
       "\u001b[1;91mAttributeError: \u001b[0m\u001b[32m'DatasetDict'\u001b[0m object has no attribute \u001b[32m'keep_columns'\u001b[0m\n"
      ]
     },
     "metadata": {},
     "output_type": "display_data"
    },
    {
     "ename": "",
     "evalue": "",
     "output_type": "error",
     "traceback": [
      "\u001b[1;31mThe Kernel crashed while executing code in the the current cell or a previous cell. Please review the code in the cell(s) to identify a possible cause of the failure. Click <a href='https://aka.ms/vscodeJupyterKernelCrash'>here</a> for more info. View Jupyter <a href='command:jupyter.viewOutput'>log</a> for further details."
     ]
    }
   ],
   "source": [
    "dataset_dict: DatasetDict = load_dataset(f\"notaphoenix/debateorg_w_effect_for_liberal_subset\")\n",
    "\n",
    "dataset_dict = dataset_dict.remove_columns(['author', 'original_text', 'category', 'round', 'debate_id', 'idx'],)"
   ]
  },
  {
   "cell_type": "code",
   "execution_count": 21,
   "metadata": {},
   "outputs": [
    {
     "data": {
      "text/plain": [
       "Dataset({\n",
       "    features: ['text', 'label'],\n",
       "    num_rows: 3360\n",
       "})"
      ]
     },
     "execution_count": 21,
     "metadata": {},
     "output_type": "execute_result"
    }
   ],
   "source": [
    "dataset_dict[\"validation\"]\n",
    "\n"
   ]
  },
  {
   "cell_type": "code",
   "execution_count": null,
   "metadata": {},
   "outputs": [],
   "source": [
    "for lbl, df_ in lib.groupby(['label']):\n",
    "    print(lbl)\n",
    "    prev = 0\n",
    "    for x in range(5,2001,295):\n",
    "        print(f\"between {prev} and {x} (inclusive): \", len(df_[(df_['num_tokens']> prev) & (df_['num_tokens']<= x)]))\n",
    "        prev = x\n",
    "    print(f\"<= 600: \", len(df_[(df_['num_tokens']<= 600)]))\n",
    "    print(f\"> 600: \", len(df_[(df_['num_tokens']> 600)]))\n",
    "for lbl, df_ in lib.groupby(['label']):\n",
    "    print(lbl)\n",
    "    prev = 0\n",
    "    for x in range(20, 10000,500):\n",
    "        print(f\"between {prev} and {x} (inclusive): \", len(df_[(df_['num_tokens']> prev) & (df_['num_tokens']<= x)]))\n",
    "        prev = x    "
   ]
  },
  {
   "cell_type": "code",
   "execution_count": null,
   "metadata": {},
   "outputs": [],
   "source": [
    "dataset_names = [\"debateorg_w_effect_for_liberal_subset\",\n",
    "                 \"debateorg_w_effect_for_conservative_subset\",\n",
    "                 \"debateorg_w_effect_for_liberal\",\n",
    "                 \"debateorg_w_effect_for_conservative\"]\n",
    "\n",
    "\n",
    "\n",
    "for ds_name in dataset_names:\n",
    "    #profile_datasets(ds_name, lower=True)\n",
    "    plot_datasets(ds_name)\n",
    "    break\n",
    "    "
   ]
  },
  {
   "cell_type": "code",
   "execution_count": null,
   "metadata": {},
   "outputs": [],
   "source": []
  },
  {
   "cell_type": "code",
   "execution_count": null,
   "metadata": {},
   "outputs": [],
   "source": []
  },
  {
   "cell_type": "code",
   "execution_count": 1,
   "metadata": {},
   "outputs": [
    {
     "name": "stderr",
     "output_type": "stream",
     "text": [
      "/home/elba_ro/repos/github/conf22-style-transfer/iesta_venv/lib/python3.8/site-packages/scipy/__init__.py:138: UserWarning: A NumPy version >=1.16.5 and <1.23.0 is required for this version of SciPy (detected version 1.23.4)\n",
      "  warnings.warn(f\"A NumPy version >={np_minversion} and <{np_maxversion} is required for this version of \"\n"
     ]
    }
   ],
   "source": [
    "from iesta.machine_learning.dataloader import IESTAData, LABELS\n",
    "from iesta.machine_learning.huggingface_loader import IESTAHuggingFace\n",
    "conservative_data_obj = IESTAData(ideology=\"conservative\", keep_labels = LABELS.EFF_INEFF, )\n",
    "liberal_data_obj = IESTAData(ideology=\"liberal\", keep_labels = LABELS.EFF_INEFF, )\n",
    "\n"
   ]
  },
  {
   "cell_type": "code",
   "execution_count": 2,
   "metadata": {},
   "outputs": [
    {
     "name": "stdout",
     "output_type": "stream",
     "text": [
      "/home/elba_ro/repos/github/conf22-style-transfer/iesta/../data/splitted_conservative_debate_arguments_effect_test0.3_random2.parquet\n",
      "Original df len: 101932\n",
      "After filtering effects 84711\n",
      "Adding Cleaned text\n",
      "After filtering dismissed no_punc df len: 84684\n",
      "After filtering dismissed df len: 82495\n",
      "Profiling data\n"
     ]
    },
    {
     "name": "stderr",
     "output_type": "stream",
     "text": [
      "/home/elba_ro/repos/github/conf22-style-transfer/iesta_venv/lib/python3.8/site-packages/ydata_profiling/utils/dataframe.py:137: SettingWithCopyWarning: \n",
      "A value is trying to be set on a copy of a slice from a DataFrame\n",
      "\n",
      "See the caveats in the documentation: https://pandas.pydata.org/pandas-docs/stable/user_guide/indexing.html#returning-a-view-versus-a-copy\n",
      "  df.rename(columns={\"index\": \"df_index\"}, inplace=True)\n"
     ]
    },
    {
     "data": {
      "application/vnd.jupyter.widget-view+json": {
       "model_id": "16601a94ee6b476d9d687be944820ca0",
       "version_major": 2,
       "version_minor": 0
      },
      "text/plain": [
       "Summarize dataset:   0%|          | 0/5 [00:00<?, ?it/s]"
      ]
     },
     "metadata": {},
     "output_type": "display_data"
    },
    {
     "data": {
      "application/vnd.jupyter.widget-view+json": {
       "model_id": "ff79e31ff86846bb8c59fed4b4ec3d35",
       "version_major": 2,
       "version_minor": 0
      },
      "text/plain": [
       "Generate report structure:   0%|          | 0/1 [00:00<?, ?it/s]"
      ]
     },
     "metadata": {},
     "output_type": "display_data"
    },
    {
     "data": {
      "application/vnd.jupyter.widget-view+json": {
       "model_id": "2874fbb6cc0544fc9c7d17b858d28fb7",
       "version_major": 2,
       "version_minor": 0
      },
      "text/plain": [
       "Render HTML:   0%|          | 0/1 [00:00<?, ?it/s]"
      ]
     },
     "metadata": {},
     "output_type": "display_data"
    },
    {
     "data": {
      "application/vnd.jupyter.widget-view+json": {
       "model_id": "809e23603b1543c2946056468bf7b50d",
       "version_major": 2,
       "version_minor": 0
      },
      "text/plain": [
       "Export report to file:   0%|          | 0/1 [00:00<?, ?it/s]"
      ]
     },
     "metadata": {},
     "output_type": "display_data"
    },
    {
     "name": "stderr",
     "output_type": "stream",
     "text": [
      "/home/elba_ro/repos/github/conf22-style-transfer/iesta_venv/lib/python3.8/site-packages/ydata_profiling/utils/dataframe.py:137: SettingWithCopyWarning: \n",
      "A value is trying to be set on a copy of a slice from a DataFrame\n",
      "\n",
      "See the caveats in the documentation: https://pandas.pydata.org/pandas-docs/stable/user_guide/indexing.html#returning-a-view-versus-a-copy\n",
      "  df.rename(columns={\"index\": \"df_index\"}, inplace=True)\n"
     ]
    },
    {
     "data": {
      "application/vnd.jupyter.widget-view+json": {
       "model_id": "e92befdcf7f8458baf673d3956e0cea9",
       "version_major": 2,
       "version_minor": 0
      },
      "text/plain": [
       "Summarize dataset:   0%|          | 0/5 [00:00<?, ?it/s]"
      ]
     },
     "metadata": {},
     "output_type": "display_data"
    },
    {
     "data": {
      "application/vnd.jupyter.widget-view+json": {
       "model_id": "8a658b2809ba4738ab3dc1b8322e4bac",
       "version_major": 2,
       "version_minor": 0
      },
      "text/plain": [
       "Generate report structure:   0%|          | 0/1 [00:00<?, ?it/s]"
      ]
     },
     "metadata": {},
     "output_type": "display_data"
    },
    {
     "data": {
      "application/vnd.jupyter.widget-view+json": {
       "model_id": "25d03c41e15744e6b5e06629ae6a08cd",
       "version_major": 2,
       "version_minor": 0
      },
      "text/plain": [
       "Render HTML:   0%|          | 0/1 [00:00<?, ?it/s]"
      ]
     },
     "metadata": {},
     "output_type": "display_data"
    },
    {
     "data": {
      "application/vnd.jupyter.widget-view+json": {
       "model_id": "8b0e90317a9b4fbf9bdcd161ea621cdf",
       "version_major": 2,
       "version_minor": 0
      },
      "text/plain": [
       "Export report to file:   0%|          | 0/1 [00:00<?, ?it/s]"
      ]
     },
     "metadata": {},
     "output_type": "display_data"
    },
    {
     "name": "stdout",
     "output_type": "stream",
     "text": [
      "End of profiling\n",
      "is_for_eval_classifier is not in the columns, adding it - used to have data for style classification\n",
      "\n",
      "False\n"
     ]
    },
    {
     "data": {
      "application/vnd.jupyter.widget-view+json": {
       "model_id": "19ffe886f701410bae35c057fc4f6c14",
       "version_major": 2,
       "version_minor": 0
      },
      "text/plain": [
       "Summarize dataset:   0%|          | 0/5 [00:00<?, ?it/s]"
      ]
     },
     "metadata": {},
     "output_type": "display_data"
    },
    {
     "data": {
      "application/vnd.jupyter.widget-view+json": {
       "model_id": "196e5686fb3a4477a72c80e8b7dc122c",
       "version_major": 2,
       "version_minor": 0
      },
      "text/plain": [
       "Generate report structure:   0%|          | 0/1 [00:00<?, ?it/s]"
      ]
     },
     "metadata": {},
     "output_type": "display_data"
    },
    {
     "data": {
      "application/vnd.jupyter.widget-view+json": {
       "model_id": "0fce162c1fce4309bd9e404c32f3ac1e",
       "version_major": 2,
       "version_minor": 0
      },
      "text/plain": [
       "Render HTML:   0%|          | 0/1 [00:00<?, ?it/s]"
      ]
     },
     "metadata": {},
     "output_type": "display_data"
    },
    {
     "data": {
      "application/vnd.jupyter.widget-view+json": {
       "model_id": "4f68304482544d5ba4413164f4bece46",
       "version_major": 2,
       "version_minor": 0
      },
      "text/plain": [
       "Export report to file:   0%|          | 0/1 [00:00<?, ?it/s]"
      ]
     },
     "metadata": {},
     "output_type": "display_data"
    },
    {
     "name": "stdout",
     "output_type": "stream",
     "text": [
      "effect      effective  ineffective\n",
      "split                             \n",
      "test              240         5500\n",
      "training         1384        39163\n",
      "validation        430        11034\n",
      "\n",
      "True\n"
     ]
    },
    {
     "data": {
      "application/vnd.jupyter.widget-view+json": {
       "model_id": "f4efe75ead9e42539f21fafbc64cb3b6",
       "version_major": 2,
       "version_minor": 0
      },
      "text/plain": [
       "Summarize dataset:   0%|          | 0/5 [00:00<?, ?it/s]"
      ]
     },
     "metadata": {},
     "output_type": "display_data"
    },
    {
     "data": {
      "application/vnd.jupyter.widget-view+json": {
       "model_id": "143e5b3250094fd79b254ef0bbabfe50",
       "version_major": 2,
       "version_minor": 0
      },
      "text/plain": [
       "Generate report structure:   0%|          | 0/1 [00:00<?, ?it/s]"
      ]
     },
     "metadata": {},
     "output_type": "display_data"
    },
    {
     "data": {
      "application/vnd.jupyter.widget-view+json": {
       "model_id": "222cd7a5bacd4028ae1c6849359aeb2d",
       "version_major": 2,
       "version_minor": 0
      },
      "text/plain": [
       "Render HTML:   0%|          | 0/1 [00:00<?, ?it/s]"
      ]
     },
     "metadata": {},
     "output_type": "display_data"
    },
    {
     "data": {
      "application/vnd.jupyter.widget-view+json": {
       "model_id": "7e185b1edd4c47e091c8548d6be01c60",
       "version_major": 2,
       "version_minor": 0
      },
      "text/plain": [
       "Export report to file:   0%|          | 0/1 [00:00<?, ?it/s]"
      ]
     },
     "metadata": {},
     "output_type": "display_data"
    },
    {
     "name": "stdout",
     "output_type": "stream",
     "text": [
      "effect      effective  ineffective\n",
      "split                             \n",
      "test               96         2443\n",
      "training          611        16727\n",
      "validation        169         4698\n",
      "All\n",
      "effect      effective  ineffective\n",
      "split                             \n",
      "test              336         7943\n",
      "training         1995        55890\n",
      "validation        599        15732\n"
     ]
    }
   ],
   "source": [
    "cons_df, df = conservative_data_obj.split_iesta_dataset_by_debate(True, profile=True)"
   ]
  },
  {
   "cell_type": "code",
   "execution_count": 3,
   "metadata": {},
   "outputs": [
    {
     "name": "stdout",
     "output_type": "stream",
     "text": [
      "/home/elba_ro/repos/github/conf22-style-transfer/iesta/../data/splitted_liberal_debate_arguments_effect_test0.3_random2.parquet\n",
      "Original df len: 66844\n",
      "After filtering effects 56394\n",
      "Adding Cleaned text\n",
      "After filtering dismissed no_punc df len: 56366\n",
      "After filtering dismissed df len: 55353\n",
      "Profiling data\n"
     ]
    },
    {
     "name": "stderr",
     "output_type": "stream",
     "text": [
      "/home/elba_ro/repos/github/conf22-style-transfer/iesta_venv/lib/python3.8/site-packages/ydata_profiling/utils/dataframe.py:137: SettingWithCopyWarning: \n",
      "A value is trying to be set on a copy of a slice from a DataFrame\n",
      "\n",
      "See the caveats in the documentation: https://pandas.pydata.org/pandas-docs/stable/user_guide/indexing.html#returning-a-view-versus-a-copy\n",
      "  df.rename(columns={\"index\": \"df_index\"}, inplace=True)\n"
     ]
    },
    {
     "data": {
      "application/vnd.jupyter.widget-view+json": {
       "model_id": "74e2013da8344ef4892aa2e63c75b187",
       "version_major": 2,
       "version_minor": 0
      },
      "text/plain": [
       "Summarize dataset:   0%|          | 0/5 [00:00<?, ?it/s]"
      ]
     },
     "metadata": {},
     "output_type": "display_data"
    },
    {
     "data": {
      "application/vnd.jupyter.widget-view+json": {
       "model_id": "2ae957a6d7b64c959b66e8c6f5184746",
       "version_major": 2,
       "version_minor": 0
      },
      "text/plain": [
       "Generate report structure:   0%|          | 0/1 [00:00<?, ?it/s]"
      ]
     },
     "metadata": {},
     "output_type": "display_data"
    },
    {
     "data": {
      "application/vnd.jupyter.widget-view+json": {
       "model_id": "c44c961077194dd4a54f3dddf4e2a3c0",
       "version_major": 2,
       "version_minor": 0
      },
      "text/plain": [
       "Render HTML:   0%|          | 0/1 [00:00<?, ?it/s]"
      ]
     },
     "metadata": {},
     "output_type": "display_data"
    },
    {
     "data": {
      "application/vnd.jupyter.widget-view+json": {
       "model_id": "7d40e5091624432aa68f3d1d3454f426",
       "version_major": 2,
       "version_minor": 0
      },
      "text/plain": [
       "Export report to file:   0%|          | 0/1 [00:00<?, ?it/s]"
      ]
     },
     "metadata": {},
     "output_type": "display_data"
    },
    {
     "name": "stderr",
     "output_type": "stream",
     "text": [
      "/home/elba_ro/repos/github/conf22-style-transfer/iesta_venv/lib/python3.8/site-packages/ydata_profiling/utils/dataframe.py:137: SettingWithCopyWarning: \n",
      "A value is trying to be set on a copy of a slice from a DataFrame\n",
      "\n",
      "See the caveats in the documentation: https://pandas.pydata.org/pandas-docs/stable/user_guide/indexing.html#returning-a-view-versus-a-copy\n",
      "  df.rename(columns={\"index\": \"df_index\"}, inplace=True)\n"
     ]
    },
    {
     "data": {
      "application/vnd.jupyter.widget-view+json": {
       "model_id": "49c6e9e218bc454480c4066d8a396d13",
       "version_major": 2,
       "version_minor": 0
      },
      "text/plain": [
       "Summarize dataset:   0%|          | 0/5 [00:00<?, ?it/s]"
      ]
     },
     "metadata": {},
     "output_type": "display_data"
    },
    {
     "data": {
      "application/vnd.jupyter.widget-view+json": {
       "model_id": "228edde9b9794177bfe2a385c9c09533",
       "version_major": 2,
       "version_minor": 0
      },
      "text/plain": [
       "Generate report structure:   0%|          | 0/1 [00:00<?, ?it/s]"
      ]
     },
     "metadata": {},
     "output_type": "display_data"
    },
    {
     "data": {
      "application/vnd.jupyter.widget-view+json": {
       "model_id": "18e6833a0c6e43218287fbf83b6431f4",
       "version_major": 2,
       "version_minor": 0
      },
      "text/plain": [
       "Render HTML:   0%|          | 0/1 [00:00<?, ?it/s]"
      ]
     },
     "metadata": {},
     "output_type": "display_data"
    },
    {
     "data": {
      "application/vnd.jupyter.widget-view+json": {
       "model_id": "9294f082709b48a2babc7595b8f9606b",
       "version_major": 2,
       "version_minor": 0
      },
      "text/plain": [
       "Export report to file:   0%|          | 0/1 [00:00<?, ?it/s]"
      ]
     },
     "metadata": {},
     "output_type": "display_data"
    },
    {
     "name": "stdout",
     "output_type": "stream",
     "text": [
      "End of profiling\n",
      "is_for_eval_classifier is not in the columns, adding it - used to have data for style classification\n",
      "\n",
      "False\n"
     ]
    },
    {
     "data": {
      "application/vnd.jupyter.widget-view+json": {
       "model_id": "4cd7f51544ab42069eb66610b427c57a",
       "version_major": 2,
       "version_minor": 0
      },
      "text/plain": [
       "Summarize dataset:   0%|          | 0/5 [00:00<?, ?it/s]"
      ]
     },
     "metadata": {},
     "output_type": "display_data"
    },
    {
     "data": {
      "application/vnd.jupyter.widget-view+json": {
       "model_id": "659fd2da243e41189ca0b436849286ef",
       "version_major": 2,
       "version_minor": 0
      },
      "text/plain": [
       "Generate report structure:   0%|          | 0/1 [00:00<?, ?it/s]"
      ]
     },
     "metadata": {},
     "output_type": "display_data"
    },
    {
     "data": {
      "application/vnd.jupyter.widget-view+json": {
       "model_id": "76cccfbe7cc348599adca441dd837fca",
       "version_major": 2,
       "version_minor": 0
      },
      "text/plain": [
       "Render HTML:   0%|          | 0/1 [00:00<?, ?it/s]"
      ]
     },
     "metadata": {},
     "output_type": "display_data"
    },
    {
     "data": {
      "application/vnd.jupyter.widget-view+json": {
       "model_id": "79592567bfb9436c89cb2087e713b9a5",
       "version_major": 2,
       "version_minor": 0
      },
      "text/plain": [
       "Export report to file:   0%|          | 0/1 [00:00<?, ?it/s]"
      ]
     },
     "metadata": {},
     "output_type": "display_data"
    },
    {
     "name": "stdout",
     "output_type": "stream",
     "text": [
      "effect      effective  ineffective\n",
      "split                             \n",
      "test              167         3719\n",
      "training         1311        25824\n",
      "validation        367         7337\n",
      "\n",
      "True\n"
     ]
    },
    {
     "data": {
      "application/vnd.jupyter.widget-view+json": {
       "model_id": "bbe87659808b4f19b313a67d8624eeee",
       "version_major": 2,
       "version_minor": 0
      },
      "text/plain": [
       "Summarize dataset:   0%|          | 0/5 [00:00<?, ?it/s]"
      ]
     },
     "metadata": {},
     "output_type": "display_data"
    },
    {
     "data": {
      "application/vnd.jupyter.widget-view+json": {
       "model_id": "c46200fdada24d70be13fc1309043926",
       "version_major": 2,
       "version_minor": 0
      },
      "text/plain": [
       "Generate report structure:   0%|          | 0/1 [00:00<?, ?it/s]"
      ]
     },
     "metadata": {},
     "output_type": "display_data"
    },
    {
     "data": {
      "application/vnd.jupyter.widget-view+json": {
       "model_id": "f67d9a1fcf57431db2c0c01db92e9294",
       "version_major": 2,
       "version_minor": 0
      },
      "text/plain": [
       "Render HTML:   0%|          | 0/1 [00:00<?, ?it/s]"
      ]
     },
     "metadata": {},
     "output_type": "display_data"
    },
    {
     "data": {
      "application/vnd.jupyter.widget-view+json": {
       "model_id": "5a2a3106938d49c18159e0d70343457f",
       "version_major": 2,
       "version_minor": 0
      },
      "text/plain": [
       "Export report to file:   0%|          | 0/1 [00:00<?, ?it/s]"
      ]
     },
     "metadata": {},
     "output_type": "display_data"
    },
    {
     "name": "stdout",
     "output_type": "stream",
     "text": [
      "effect      effective  ineffective\n",
      "split                             \n",
      "test               81         1609\n",
      "training          474        11104\n",
      "validation        145         3215\n",
      "All\n",
      "effect      effective  ineffective\n",
      "split                             \n",
      "test              248         5328\n",
      "training         1785        36928\n",
      "validation        512        10552\n"
     ]
    }
   ],
   "source": [
    "lib_df, df = liberal_data_obj.split_iesta_dataset_by_debate(True, profile=True)"
   ]
  },
  {
   "cell_type": "code",
   "execution_count": 4,
   "metadata": {},
   "outputs": [
    {
     "data": {
      "text/html": [
       "<div>\n",
       "<style scoped>\n",
       "    .dataframe tbody tr th:only-of-type {\n",
       "        vertical-align: middle;\n",
       "    }\n",
       "\n",
       "    .dataframe tbody tr th {\n",
       "        vertical-align: top;\n",
       "    }\n",
       "\n",
       "    .dataframe thead th {\n",
       "        text-align: right;\n",
       "    }\n",
       "</style>\n",
       "<table border=\"1\" class=\"dataframe\">\n",
       "  <thead>\n",
       "    <tr style=\"text-align: right;\">\n",
       "      <th></th>\n",
       "      <th>id</th>\n",
       "      <th>debate_id</th>\n",
       "      <th>p_name</th>\n",
       "      <th>effect</th>\n",
       "      <th>category</th>\n",
       "      <th>round</th>\n",
       "      <th>argument</th>\n",
       "      <th>cleaned_text</th>\n",
       "      <th>is_for_eval_classifier</th>\n",
       "      <th>split</th>\n",
       "    </tr>\n",
       "    <tr>\n",
       "      <th>idx</th>\n",
       "      <th></th>\n",
       "      <th></th>\n",
       "      <th></th>\n",
       "      <th></th>\n",
       "      <th></th>\n",
       "      <th></th>\n",
       "      <th></th>\n",
       "      <th></th>\n",
       "      <th></th>\n",
       "      <th></th>\n",
       "    </tr>\n",
       "  </thead>\n",
       "  <tbody>\n",
       "    <tr>\n",
       "      <th>0</th>\n",
       "      <td>.-.-.-Ha-YOURE-GOING-DOWN-BEEM0R/1/|Logical-Ma...</td>\n",
       "      <td>.-.-.-Ha-YOURE-GOING-DOWN-BEEM0R/1/</td>\n",
       "      <td>Logical-Master</td>\n",
       "      <td>ineffective</td>\n",
       "      <td>Miscellaneous</td>\n",
       "      <td>0</td>\n",
       "      <td>\\n  \\r\\nRESOLVED: It is impossible not to cons...</td>\n",
       "      <td>RESOLVED: It is impossible not to consciously ...</td>\n",
       "      <td>True</td>\n",
       "      <td>training</td>\n",
       "    </tr>\n",
       "    <tr>\n",
       "      <th>1</th>\n",
       "      <td>.-.-.-Ha-YOURE-GOING-DOWN-BEEM0R/1/|Logical-Ma...</td>\n",
       "      <td>.-.-.-Ha-YOURE-GOING-DOWN-BEEM0R/1/</td>\n",
       "      <td>Logical-Master</td>\n",
       "      <td>ineffective</td>\n",
       "      <td>Miscellaneous</td>\n",
       "      <td>1</td>\n",
       "      <td>\\n  \\r\\nOkay, just now reading the round, it w...</td>\n",
       "      <td>Okay, just now reading the round, it would app...</td>\n",
       "      <td>True</td>\n",
       "      <td>training</td>\n",
       "    </tr>\n",
       "    <tr>\n",
       "      <th>2</th>\n",
       "      <td>.-.-.-Ha-YOURE-GOING-DOWN-BEEM0R/1/|Logical-Ma...</td>\n",
       "      <td>.-.-.-Ha-YOURE-GOING-DOWN-BEEM0R/1/</td>\n",
       "      <td>Logical-Master</td>\n",
       "      <td>ineffective</td>\n",
       "      <td>Miscellaneous</td>\n",
       "      <td>2</td>\n",
       "      <td>\\n  \\r\\n---&gt;RE:Since my opponent has left it u...</td>\n",
       "      <td>---&gt;RE:Since my opponent has left it up to me,...</td>\n",
       "      <td>True</td>\n",
       "      <td>training</td>\n",
       "    </tr>\n",
       "    <tr>\n",
       "      <th>3</th>\n",
       "      <td>.-.-.-Ha-YOURE-GOING-DOWN-BEEM0R/1/|Logical-Ma...</td>\n",
       "      <td>.-.-.-Ha-YOURE-GOING-DOWN-BEEM0R/1/</td>\n",
       "      <td>Logical-Master</td>\n",
       "      <td>ineffective</td>\n",
       "      <td>Miscellaneous</td>\n",
       "      <td>3</td>\n",
       "      <td>\\n  \\r\\nCONSCIOUS SECTION:  \\n  \\r\\nLadies and...</td>\n",
       "      <td>CONSCIOUS SECTION: Ladies and gentleman, my op...</td>\n",
       "      <td>True</td>\n",
       "      <td>training</td>\n",
       "    </tr>\n",
       "    <tr>\n",
       "      <th>4</th>\n",
       "      <td>.-.-.-Ha-YOURE-GOING-DOWN-BEEM0R/1/|beem0r</td>\n",
       "      <td>.-.-.-Ha-YOURE-GOING-DOWN-BEEM0R/1/</td>\n",
       "      <td>beem0r</td>\n",
       "      <td>ineffective</td>\n",
       "      <td>Miscellaneous</td>\n",
       "      <td>0</td>\n",
       "      <td>\\n  \\r\\nI would eplain the vast differences be...</td>\n",
       "      <td>I would eplain the vast differences between th...</td>\n",
       "      <td>True</td>\n",
       "      <td>training</td>\n",
       "    </tr>\n",
       "    <tr>\n",
       "      <th>...</th>\n",
       "      <td>...</td>\n",
       "      <td>...</td>\n",
       "      <td>...</td>\n",
       "      <td>...</td>\n",
       "      <td>...</td>\n",
       "      <td>...</td>\n",
       "      <td>...</td>\n",
       "      <td>...</td>\n",
       "      <td>...</td>\n",
       "      <td>...</td>\n",
       "    </tr>\n",
       "    <tr>\n",
       "      <th>55348</th>\n",
       "      <td>zoos/1/|RacH3ll3</td>\n",
       "      <td>zoos/1/</td>\n",
       "      <td>RacH3ll3</td>\n",
       "      <td>ineffective</td>\n",
       "      <td>Miscellaneous</td>\n",
       "      <td>1</td>\n",
       "      <td>\\n  \\r\\nThanks to my opponent for accepting th...</td>\n",
       "      <td>Thanks to my opponent for accepting this debat...</td>\n",
       "      <td>True</td>\n",
       "      <td>training</td>\n",
       "    </tr>\n",
       "    <tr>\n",
       "      <th>55349</th>\n",
       "      <td>zoos/1/|RacH3ll3</td>\n",
       "      <td>zoos/1/</td>\n",
       "      <td>RacH3ll3</td>\n",
       "      <td>ineffective</td>\n",
       "      <td>Miscellaneous</td>\n",
       "      <td>2</td>\n",
       "      <td>\\n  \\r\\nThank you.  \\n  \\r\\n\"I realize that. T...</td>\n",
       "      <td>Thank you. \"I realize that. The fact is, the m...</td>\n",
       "      <td>True</td>\n",
       "      <td>training</td>\n",
       "    </tr>\n",
       "    <tr>\n",
       "      <th>55350</th>\n",
       "      <td>zygote-is-not-A-person/1/|go4broke</td>\n",
       "      <td>zygote-is-not-A-person/1/</td>\n",
       "      <td>go4broke</td>\n",
       "      <td>ineffective</td>\n",
       "      <td>Science</td>\n",
       "      <td>0</td>\n",
       "      <td>\\n  \\r\\nA zygote or early embryo cannot alread...</td>\n",
       "      <td>A zygote or early embryo cannot already be A h...</td>\n",
       "      <td>False</td>\n",
       "      <td>test</td>\n",
       "    </tr>\n",
       "    <tr>\n",
       "      <th>55351</th>\n",
       "      <td>zygote-is-not-A-person/1/|go4broke</td>\n",
       "      <td>zygote-is-not-A-person/1/</td>\n",
       "      <td>go4broke</td>\n",
       "      <td>ineffective</td>\n",
       "      <td>Science</td>\n",
       "      <td>1</td>\n",
       "      <td>\\n  \\r\\nI am talking about human embryology, c...</td>\n",
       "      <td>I am talking about human embryology, cell biol...</td>\n",
       "      <td>False</td>\n",
       "      <td>test</td>\n",
       "    </tr>\n",
       "    <tr>\n",
       "      <th>55352</th>\n",
       "      <td>zygote-is-not-A-person/1/|go4broke</td>\n",
       "      <td>zygote-is-not-A-person/1/</td>\n",
       "      <td>go4broke</td>\n",
       "      <td>ineffective</td>\n",
       "      <td>Science</td>\n",
       "      <td>2</td>\n",
       "      <td>\\n  \\r\\nYou seem to be avoiding the crux of th...</td>\n",
       "      <td>You seem to be avoiding the crux of the issue....</td>\n",
       "      <td>False</td>\n",
       "      <td>test</td>\n",
       "    </tr>\n",
       "  </tbody>\n",
       "</table>\n",
       "<p>55353 rows × 10 columns</p>\n",
       "</div>"
      ],
      "text/plain": [
       "                                                      id  \\\n",
       "idx                                                        \n",
       "0      .-.-.-Ha-YOURE-GOING-DOWN-BEEM0R/1/|Logical-Ma...   \n",
       "1      .-.-.-Ha-YOURE-GOING-DOWN-BEEM0R/1/|Logical-Ma...   \n",
       "2      .-.-.-Ha-YOURE-GOING-DOWN-BEEM0R/1/|Logical-Ma...   \n",
       "3      .-.-.-Ha-YOURE-GOING-DOWN-BEEM0R/1/|Logical-Ma...   \n",
       "4             .-.-.-Ha-YOURE-GOING-DOWN-BEEM0R/1/|beem0r   \n",
       "...                                                  ...   \n",
       "55348                                   zoos/1/|RacH3ll3   \n",
       "55349                                   zoos/1/|RacH3ll3   \n",
       "55350                 zygote-is-not-A-person/1/|go4broke   \n",
       "55351                 zygote-is-not-A-person/1/|go4broke   \n",
       "55352                 zygote-is-not-A-person/1/|go4broke   \n",
       "\n",
       "                                 debate_id          p_name       effect  \\\n",
       "idx                                                                       \n",
       "0      .-.-.-Ha-YOURE-GOING-DOWN-BEEM0R/1/  Logical-Master  ineffective   \n",
       "1      .-.-.-Ha-YOURE-GOING-DOWN-BEEM0R/1/  Logical-Master  ineffective   \n",
       "2      .-.-.-Ha-YOURE-GOING-DOWN-BEEM0R/1/  Logical-Master  ineffective   \n",
       "3      .-.-.-Ha-YOURE-GOING-DOWN-BEEM0R/1/  Logical-Master  ineffective   \n",
       "4      .-.-.-Ha-YOURE-GOING-DOWN-BEEM0R/1/          beem0r  ineffective   \n",
       "...                                    ...             ...          ...   \n",
       "55348                              zoos/1/        RacH3ll3  ineffective   \n",
       "55349                              zoos/1/        RacH3ll3  ineffective   \n",
       "55350            zygote-is-not-A-person/1/        go4broke  ineffective   \n",
       "55351            zygote-is-not-A-person/1/        go4broke  ineffective   \n",
       "55352            zygote-is-not-A-person/1/        go4broke  ineffective   \n",
       "\n",
       "            category  round  \\\n",
       "idx                           \n",
       "0      Miscellaneous      0   \n",
       "1      Miscellaneous      1   \n",
       "2      Miscellaneous      2   \n",
       "3      Miscellaneous      3   \n",
       "4      Miscellaneous      0   \n",
       "...              ...    ...   \n",
       "55348  Miscellaneous      1   \n",
       "55349  Miscellaneous      2   \n",
       "55350        Science      0   \n",
       "55351        Science      1   \n",
       "55352        Science      2   \n",
       "\n",
       "                                                argument  \\\n",
       "idx                                                        \n",
       "0      \\n  \\r\\nRESOLVED: It is impossible not to cons...   \n",
       "1      \\n  \\r\\nOkay, just now reading the round, it w...   \n",
       "2      \\n  \\r\\n--->RE:Since my opponent has left it u...   \n",
       "3      \\n  \\r\\nCONSCIOUS SECTION:  \\n  \\r\\nLadies and...   \n",
       "4      \\n  \\r\\nI would eplain the vast differences be...   \n",
       "...                                                  ...   \n",
       "55348  \\n  \\r\\nThanks to my opponent for accepting th...   \n",
       "55349  \\n  \\r\\nThank you.  \\n  \\r\\n\"I realize that. T...   \n",
       "55350  \\n  \\r\\nA zygote or early embryo cannot alread...   \n",
       "55351  \\n  \\r\\nI am talking about human embryology, c...   \n",
       "55352  \\n  \\r\\nYou seem to be avoiding the crux of th...   \n",
       "\n",
       "                                            cleaned_text  \\\n",
       "idx                                                        \n",
       "0      RESOLVED: It is impossible not to consciously ...   \n",
       "1      Okay, just now reading the round, it would app...   \n",
       "2      --->RE:Since my opponent has left it up to me,...   \n",
       "3      CONSCIOUS SECTION: Ladies and gentleman, my op...   \n",
       "4      I would eplain the vast differences between th...   \n",
       "...                                                  ...   \n",
       "55348  Thanks to my opponent for accepting this debat...   \n",
       "55349  Thank you. \"I realize that. The fact is, the m...   \n",
       "55350  A zygote or early embryo cannot already be A h...   \n",
       "55351  I am talking about human embryology, cell biol...   \n",
       "55352  You seem to be avoiding the crux of the issue....   \n",
       "\n",
       "       is_for_eval_classifier     split  \n",
       "idx                                      \n",
       "0                        True  training  \n",
       "1                        True  training  \n",
       "2                        True  training  \n",
       "3                        True  training  \n",
       "4                        True  training  \n",
       "...                       ...       ...  \n",
       "55348                    True  training  \n",
       "55349                    True  training  \n",
       "55350                   False      test  \n",
       "55351                   False      test  \n",
       "55352                   False      test  \n",
       "\n",
       "[55353 rows x 10 columns]"
      ]
     },
     "execution_count": 4,
     "metadata": {},
     "output_type": "execute_result"
    }
   ],
   "source": [
    "lib_df"
   ]
  },
  {
   "cell_type": "code",
   "execution_count": null,
   "metadata": {},
   "outputs": [],
   "source": [
    "df[0]"
   ]
  },
  {
   "cell_type": "code",
   "execution_count": null,
   "metadata": {},
   "outputs": [],
   "source": [
    "df_ = df[0]"
   ]
  },
  {
   "cell_type": "code",
   "execution_count": null,
   "metadata": {},
   "outputs": [],
   "source": [
    "df_.index.name = 'idx'\n",
    "df_[[\"id\", \"debate_id\", \"p_name\", \"top_effect\", \"category\", \"round\", \"argument\", \"cleaned_text\"]]"
   ]
  },
  {
   "cell_type": "code",
   "execution_count": null,
   "metadata": {},
   "outputs": [],
   "source": [
    "df_.to_parquet(\"temp.parquet\")"
   ]
  },
  {
   "cell_type": "code",
   "execution_count": null,
   "metadata": {},
   "outputs": [],
   "source": [
    "df_"
   ]
  },
  {
   "cell_type": "code",
   "execution_count": null,
   "metadata": {},
   "outputs": [],
   "source": []
  }
 ],
 "metadata": {
  "kernelspec": {
   "display_name": "iesta_venv",
   "language": "python",
   "name": "python3"
  },
  "language_info": {
   "codemirror_mode": {
    "name": "ipython",
    "version": 3
   },
   "file_extension": ".py",
   "mimetype": "text/x-python",
   "name": "python",
   "nbconvert_exporter": "python",
   "pygments_lexer": "ipython3",
   "version": "3.8.10"
  },
  "orig_nbformat": 4
 },
 "nbformat": 4,
 "nbformat_minor": 2
}
