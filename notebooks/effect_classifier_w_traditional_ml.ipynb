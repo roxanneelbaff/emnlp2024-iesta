{
 "cells": [
  {
   "cell_type": "code",
   "execution_count": 1,
   "metadata": {},
   "outputs": [
    {
     "name": "stdout",
     "output_type": "stream",
     "text": [
      "Obtaining file:///home/elba_ro/repos/github/conf22-style-transfer\n",
      "Requirement already satisfied: empath>=0.89 in /home/elba_ro/repos/github/conf22-style-transfer/iesta_venv/lib/python3.8/site-packages (from iesta==1.3.18) (0.89)\n",
      "Requirement already satisfied: evaluate in /home/elba_ro/repos/github/conf22-style-transfer/iesta_venv/lib/python3.8/site-packages (from iesta==1.3.18) (0.4.0)\n",
      "Requirement already satisfied: markupsafe<=2.1.1 in /home/elba_ro/repos/github/conf22-style-transfer/iesta_venv/lib/python3.8/site-packages (from iesta==1.3.18) (2.1.1)\n",
      "Requirement already satisfied: nlpaf>=2.6.0 in /home/elba_ro/repos/github/conf22-style-transfer/iesta_venv/lib/python3.8/site-packages (from iesta==1.3.18) (2.12.20)\n",
      "Requirement already satisfied: seaborn in /home/elba_ro/repos/github/conf22-style-transfer/iesta_venv/lib/python3.8/site-packages (from iesta==1.3.18) (0.12.2)\n",
      "Requirement already satisfied: spacy>=3.4 in /home/elba_ro/repos/github/conf22-style-transfer/iesta_venv/lib/python3.8/site-packages (from iesta==1.3.18) (3.4.3)\n",
      "Requirement already satisfied: tomli>=1.1.0 in /home/elba_ro/repos/github/conf22-style-transfer/iesta_venv/lib/python3.8/site-packages (from iesta==1.3.18) (2.0.1)\n",
      "Requirement already satisfied: tqdm in /home/elba_ro/repos/github/conf22-style-transfer/iesta_venv/lib/python3.8/site-packages (from iesta==1.3.18) (4.64.0)\n",
      "Requirement already satisfied: requests in /home/elba_ro/repos/github/conf22-style-transfer/iesta_venv/lib/python3.8/site-packages (from empath>=0.89->iesta==1.3.18) (2.28.1)\n",
      "Requirement already satisfied: numpy>=1.17 in /home/elba_ro/repos/github/conf22-style-transfer/iesta_venv/lib/python3.8/site-packages (from evaluate->iesta==1.3.18) (1.23.4)\n",
      "Requirement already satisfied: pandas in /home/elba_ro/repos/github/conf22-style-transfer/iesta_venv/lib/python3.8/site-packages (from evaluate->iesta==1.3.18) (1.5.1)\n",
      "Requirement already satisfied: packaging in /home/elba_ro/repos/github/conf22-style-transfer/iesta_venv/lib/python3.8/site-packages (from evaluate->iesta==1.3.18) (21.3)\n",
      "Requirement already satisfied: responses<0.19 in /home/elba_ro/repos/github/conf22-style-transfer/iesta_venv/lib/python3.8/site-packages (from evaluate->iesta==1.3.18) (0.18.0)\n",
      "Requirement already satisfied: multiprocess in /home/elba_ro/repos/github/conf22-style-transfer/iesta_venv/lib/python3.8/site-packages (from evaluate->iesta==1.3.18) (0.70.14)\n",
      "Requirement already satisfied: dill in /home/elba_ro/repos/github/conf22-style-transfer/iesta_venv/lib/python3.8/site-packages (from evaluate->iesta==1.3.18) (0.3.6)\n",
      "Requirement already satisfied: xxhash in /home/elba_ro/repos/github/conf22-style-transfer/iesta_venv/lib/python3.8/site-packages (from evaluate->iesta==1.3.18) (3.1.0)\n",
      "Requirement already satisfied: fsspec[http]>=2021.05.0 in /home/elba_ro/repos/github/conf22-style-transfer/iesta_venv/lib/python3.8/site-packages (from evaluate->iesta==1.3.18) (2022.11.0)\n",
      "Requirement already satisfied: huggingface-hub>=0.7.0 in /home/elba_ro/repos/github/conf22-style-transfer/iesta_venv/lib/python3.8/site-packages (from evaluate->iesta==1.3.18) (0.14.1)\n",
      "Requirement already satisfied: datasets>=2.0.0 in /home/elba_ro/repos/github/conf22-style-transfer/iesta_venv/lib/python3.8/site-packages (from evaluate->iesta==1.3.18) (2.7.0)\n",
      "Requirement already satisfied: wordcloud; python_version < \"3.9\" in /home/elba_ro/repos/github/conf22-style-transfer/iesta_venv/lib/python3.8/site-packages (from nlpaf>=2.6.0->iesta==1.3.18) (1.8.2.2)\n",
      "Requirement already satisfied: matplotlib in /home/elba_ro/repos/github/conf22-style-transfer/iesta_venv/lib/python3.8/site-packages (from nlpaf>=2.6.0->iesta==1.3.18) (3.6.3)\n",
      "Requirement already satisfied: spacy_arguing_lexicon in /home/elba_ro/repos/github/conf22-style-transfer/iesta_venv/lib/python3.8/site-packages (from nlpaf>=2.6.0->iesta==1.3.18) (0.0.3)\n",
      "Requirement already satisfied: nltk in /home/elba_ro/repos/github/conf22-style-transfer/iesta_venv/lib/python3.8/site-packages (from nlpaf>=2.6.0->iesta==1.3.18) (3.7)\n",
      "Requirement already satisfied: scipy in /home/elba_ro/repos/github/conf22-style-transfer/iesta_venv/lib/python3.8/site-packages (from nlpaf>=2.6.0->iesta==1.3.18) (1.6.2)\n",
      "Requirement already satisfied: gensim>=3.8.1 in /home/elba_ro/repos/github/conf22-style-transfer/iesta_venv/lib/python3.8/site-packages (from nlpaf>=2.6.0->iesta==1.3.18) (4.2.0)\n",
      "Requirement already satisfied: scikit-learn in /home/elba_ro/repos/github/conf22-style-transfer/iesta_venv/lib/python3.8/site-packages (from nlpaf>=2.6.0->iesta==1.3.18) (1.1.3)\n",
      "Requirement already satisfied: simpletransformers; python_version < \"3.9\" in /home/elba_ro/repos/github/conf22-style-transfer/iesta_venv/lib/python3.8/site-packages (from nlpaf>=2.6.0->iesta==1.3.18) (0.63.9)\n",
      "Requirement already satisfied: pyLDAvis; python_version < \"3.9\" in /home/elba_ro/repos/github/conf22-style-transfer/iesta_venv/lib/python3.8/site-packages (from nlpaf>=2.6.0->iesta==1.3.18) (3.3.1)\n",
      "Requirement already satisfied: statsmodels in /home/elba_ro/repos/github/conf22-style-transfer/iesta_venv/lib/python3.8/site-packages (from nlpaf>=2.6.0->iesta==1.3.18) (0.13.5)\n",
      "Requirement already satisfied: pyarrow in /home/elba_ro/repos/github/conf22-style-transfer/iesta_venv/lib/python3.8/site-packages (from nlpaf>=2.6.0->iesta==1.3.18) (8.0.0)\n",
      "Requirement already satisfied: preshed<3.1.0,>=3.0.2 in /home/elba_ro/repos/github/conf22-style-transfer/iesta_venv/lib/python3.8/site-packages (from spacy>=3.4->iesta==1.3.18) (3.0.8)\n",
      "Requirement already satisfied: srsly<3.0.0,>=2.4.3 in /home/elba_ro/repos/github/conf22-style-transfer/iesta_venv/lib/python3.8/site-packages (from spacy>=3.4->iesta==1.3.18) (2.4.5)\n",
      "Requirement already satisfied: typer<0.8.0,>=0.3.0 in /home/elba_ro/repos/github/conf22-style-transfer/iesta_venv/lib/python3.8/site-packages (from spacy>=3.4->iesta==1.3.18) (0.7.0)\n",
      "Requirement already satisfied: pathy>=0.3.5 in /home/elba_ro/repos/github/conf22-style-transfer/iesta_venv/lib/python3.8/site-packages (from spacy>=3.4->iesta==1.3.18) (0.8.1)\n",
      "Requirement already satisfied: catalogue<2.1.0,>=2.0.6 in /home/elba_ro/repos/github/conf22-style-transfer/iesta_venv/lib/python3.8/site-packages (from spacy>=3.4->iesta==1.3.18) (2.0.8)\n",
      "Requirement already satisfied: spacy-loggers<2.0.0,>=1.0.0 in /home/elba_ro/repos/github/conf22-style-transfer/iesta_venv/lib/python3.8/site-packages (from spacy>=3.4->iesta==1.3.18) (1.0.3)\n",
      "Requirement already satisfied: spacy-legacy<3.1.0,>=3.0.10 in /home/elba_ro/repos/github/conf22-style-transfer/iesta_venv/lib/python3.8/site-packages (from spacy>=3.4->iesta==1.3.18) (3.0.10)\n",
      "Requirement already satisfied: cymem<2.1.0,>=2.0.2 in /home/elba_ro/repos/github/conf22-style-transfer/iesta_venv/lib/python3.8/site-packages (from spacy>=3.4->iesta==1.3.18) (2.0.7)\n",
      "Requirement already satisfied: murmurhash<1.1.0,>=0.28.0 in /home/elba_ro/repos/github/conf22-style-transfer/iesta_venv/lib/python3.8/site-packages (from spacy>=3.4->iesta==1.3.18) (1.0.9)\n",
      "Requirement already satisfied: langcodes<4.0.0,>=3.2.0 in /home/elba_ro/repos/github/conf22-style-transfer/iesta_venv/lib/python3.8/site-packages (from spacy>=3.4->iesta==1.3.18) (3.3.0)\n",
      "Requirement already satisfied: jinja2 in /home/elba_ro/repos/github/conf22-style-transfer/iesta_venv/lib/python3.8/site-packages (from spacy>=3.4->iesta==1.3.18) (3.1.2)\n",
      "Requirement already satisfied: thinc<8.2.0,>=8.1.0 in /home/elba_ro/repos/github/conf22-style-transfer/iesta_venv/lib/python3.8/site-packages (from spacy>=3.4->iesta==1.3.18) (8.1.5)\n",
      "Requirement already satisfied: wasabi<1.1.0,>=0.9.1 in /home/elba_ro/repos/github/conf22-style-transfer/iesta_venv/lib/python3.8/site-packages (from spacy>=3.4->iesta==1.3.18) (0.10.1)\n",
      "Requirement already satisfied: setuptools in /home/elba_ro/repos/github/conf22-style-transfer/iesta_venv/lib/python3.8/site-packages (from spacy>=3.4->iesta==1.3.18) (44.0.0)\n",
      "Requirement already satisfied: pydantic!=1.8,!=1.8.1,<1.11.0,>=1.7.4 in /home/elba_ro/repos/github/conf22-style-transfer/iesta_venv/lib/python3.8/site-packages (from spacy>=3.4->iesta==1.3.18) (1.10.2)\n",
      "Requirement already satisfied: charset-normalizer<3,>=2 in /home/elba_ro/repos/github/conf22-style-transfer/iesta_venv/lib/python3.8/site-packages (from requests->empath>=0.89->iesta==1.3.18) (2.1.1)\n",
      "Requirement already satisfied: urllib3<1.27,>=1.21.1 in /home/elba_ro/repos/github/conf22-style-transfer/iesta_venv/lib/python3.8/site-packages (from requests->empath>=0.89->iesta==1.3.18) (1.26.12)\n",
      "Requirement already satisfied: idna<4,>=2.5 in /home/elba_ro/repos/github/conf22-style-transfer/iesta_venv/lib/python3.8/site-packages (from requests->empath>=0.89->iesta==1.3.18) (3.4)\n",
      "Requirement already satisfied: certifi>=2017.4.17 in /home/elba_ro/repos/github/conf22-style-transfer/iesta_venv/lib/python3.8/site-packages (from requests->empath>=0.89->iesta==1.3.18) (2022.9.24)\n",
      "Requirement already satisfied: python-dateutil>=2.8.1 in /home/elba_ro/repos/github/conf22-style-transfer/iesta_venv/lib/python3.8/site-packages (from pandas->evaluate->iesta==1.3.18) (2.8.2)\n",
      "Requirement already satisfied: pytz>=2020.1 in /home/elba_ro/repos/github/conf22-style-transfer/iesta_venv/lib/python3.8/site-packages (from pandas->evaluate->iesta==1.3.18) (2022.6)\n",
      "Requirement already satisfied: pyparsing!=3.0.5,>=2.0.2 in /home/elba_ro/repos/github/conf22-style-transfer/iesta_venv/lib/python3.8/site-packages (from packaging->evaluate->iesta==1.3.18) (3.0.9)\n",
      "Requirement already satisfied: aiohttp!=4.0.0a0,!=4.0.0a1; extra == \"http\" in /home/elba_ro/repos/github/conf22-style-transfer/iesta_venv/lib/python3.8/site-packages (from fsspec[http]>=2021.05.0->evaluate->iesta==1.3.18) (3.8.3)\n",
      "Requirement already satisfied: filelock in /home/elba_ro/repos/github/conf22-style-transfer/iesta_venv/lib/python3.8/site-packages (from huggingface-hub>=0.7.0->evaluate->iesta==1.3.18) (3.8.0)\n",
      "Requirement already satisfied: typing-extensions>=3.7.4.3 in /home/elba_ro/repos/github/conf22-style-transfer/iesta_venv/lib/python3.8/site-packages (from huggingface-hub>=0.7.0->evaluate->iesta==1.3.18) (4.4.0)\n",
      "Requirement already satisfied: pyyaml>=5.1 in /home/elba_ro/repos/github/conf22-style-transfer/iesta_venv/lib/python3.8/site-packages (from huggingface-hub>=0.7.0->evaluate->iesta==1.3.18) (6.0)\n",
      "Requirement already satisfied: pillow in /home/elba_ro/repos/github/conf22-style-transfer/iesta_venv/lib/python3.8/site-packages (from wordcloud; python_version < \"3.9\"->nlpaf>=2.6.0->iesta==1.3.18) (9.3.0)\n",
      "Requirement already satisfied: cycler>=0.10 in /home/elba_ro/repos/github/conf22-style-transfer/iesta_venv/lib/python3.8/site-packages (from matplotlib->nlpaf>=2.6.0->iesta==1.3.18) (0.11.0)\n",
      "Requirement already satisfied: contourpy>=1.0.1 in /home/elba_ro/repos/github/conf22-style-transfer/iesta_venv/lib/python3.8/site-packages (from matplotlib->nlpaf>=2.6.0->iesta==1.3.18) (1.0.6)\n",
      "Requirement already satisfied: kiwisolver>=1.0.1 in /home/elba_ro/repos/github/conf22-style-transfer/iesta_venv/lib/python3.8/site-packages (from matplotlib->nlpaf>=2.6.0->iesta==1.3.18) (1.4.4)\n",
      "Requirement already satisfied: fonttools>=4.22.0 in /home/elba_ro/repos/github/conf22-style-transfer/iesta_venv/lib/python3.8/site-packages (from matplotlib->nlpaf>=2.6.0->iesta==1.3.18) (4.38.0)\n",
      "Requirement already satisfied: click in /home/elba_ro/repos/github/conf22-style-transfer/iesta_venv/lib/python3.8/site-packages (from nltk->nlpaf>=2.6.0->iesta==1.3.18) (8.1.3)\n",
      "Requirement already satisfied: joblib in /home/elba_ro/repos/github/conf22-style-transfer/iesta_venv/lib/python3.8/site-packages (from nltk->nlpaf>=2.6.0->iesta==1.3.18) (1.2.0)\n",
      "Requirement already satisfied: regex>=2021.8.3 in /home/elba_ro/repos/github/conf22-style-transfer/iesta_venv/lib/python3.8/site-packages (from nltk->nlpaf>=2.6.0->iesta==1.3.18) (2022.10.31)\n",
      "Requirement already satisfied: smart-open>=1.8.1 in /home/elba_ro/repos/github/conf22-style-transfer/iesta_venv/lib/python3.8/site-packages (from gensim>=3.8.1->nlpaf>=2.6.0->iesta==1.3.18) (5.2.1)\n",
      "Requirement already satisfied: threadpoolctl>=2.0.0 in /home/elba_ro/repos/github/conf22-style-transfer/iesta_venv/lib/python3.8/site-packages (from scikit-learn->nlpaf>=2.6.0->iesta==1.3.18) (3.1.0)\n",
      "Requirement already satisfied: streamlit in /home/elba_ro/repos/github/conf22-style-transfer/iesta_venv/lib/python3.8/site-packages (from simpletransformers; python_version < \"3.9\"->nlpaf>=2.6.0->iesta==1.3.18) (1.15.0)\n",
      "Requirement already satisfied: sentencepiece in /home/elba_ro/repos/github/conf22-style-transfer/iesta_venv/lib/python3.8/site-packages (from simpletransformers; python_version < \"3.9\"->nlpaf>=2.6.0->iesta==1.3.18) (0.1.97)\n",
      "Requirement already satisfied: tokenizers in /home/elba_ro/repos/github/conf22-style-transfer/iesta_venv/lib/python3.8/site-packages (from simpletransformers; python_version < \"3.9\"->nlpaf>=2.6.0->iesta==1.3.18) (0.13.2)\n",
      "Requirement already satisfied: transformers>=4.6.0 in /home/elba_ro/repos/github/conf22-style-transfer/iesta_venv/lib/python3.8/site-packages (from simpletransformers; python_version < \"3.9\"->nlpaf>=2.6.0->iesta==1.3.18) (4.29.2)\n",
      "Requirement already satisfied: seqeval in /home/elba_ro/repos/github/conf22-style-transfer/iesta_venv/lib/python3.8/site-packages (from simpletransformers; python_version < \"3.9\"->nlpaf>=2.6.0->iesta==1.3.18) (1.2.2)\n",
      "Requirement already satisfied: tensorboard in /home/elba_ro/repos/github/conf22-style-transfer/iesta_venv/lib/python3.8/site-packages (from simpletransformers; python_version < \"3.9\"->nlpaf>=2.6.0->iesta==1.3.18) (2.11.0)\n",
      "Requirement already satisfied: wandb>=0.10.32 in /home/elba_ro/repos/github/conf22-style-transfer/iesta_venv/lib/python3.8/site-packages (from simpletransformers; python_version < \"3.9\"->nlpaf>=2.6.0->iesta==1.3.18) (0.13.5)\n",
      "Requirement already satisfied: numexpr in /home/elba_ro/repos/github/conf22-style-transfer/iesta_venv/lib/python3.8/site-packages (from pyLDAvis; python_version < \"3.9\"->nlpaf>=2.6.0->iesta==1.3.18) (2.8.4)\n",
      "Requirement already satisfied: sklearn in /home/elba_ro/repos/github/conf22-style-transfer/iesta_venv/lib/python3.8/site-packages (from pyLDAvis; python_version < \"3.9\"->nlpaf>=2.6.0->iesta==1.3.18) (0.0.post1)\n",
      "Requirement already satisfied: funcy in /home/elba_ro/repos/github/conf22-style-transfer/iesta_venv/lib/python3.8/site-packages (from pyLDAvis; python_version < \"3.9\"->nlpaf>=2.6.0->iesta==1.3.18) (1.17)\n",
      "Requirement already satisfied: future in /home/elba_ro/repos/github/conf22-style-transfer/iesta_venv/lib/python3.8/site-packages (from pyLDAvis; python_version < \"3.9\"->nlpaf>=2.6.0->iesta==1.3.18) (0.18.2)\n",
      "Requirement already satisfied: patsy>=0.5.2 in /home/elba_ro/repos/github/conf22-style-transfer/iesta_venv/lib/python3.8/site-packages (from statsmodels->nlpaf>=2.6.0->iesta==1.3.18) (0.5.3)\n",
      "Requirement already satisfied: blis<0.8.0,>=0.7.8 in /home/elba_ro/repos/github/conf22-style-transfer/iesta_venv/lib/python3.8/site-packages (from thinc<8.2.0,>=8.1.0->spacy>=3.4->iesta==1.3.18) (0.7.9)\n",
      "Requirement already satisfied: confection<1.0.0,>=0.0.1 in /home/elba_ro/repos/github/conf22-style-transfer/iesta_venv/lib/python3.8/site-packages (from thinc<8.2.0,>=8.1.0->spacy>=3.4->iesta==1.3.18) (0.0.3)\n",
      "Requirement already satisfied: six>=1.5 in /home/elba_ro/repos/github/conf22-style-transfer/iesta_venv/lib/python3.8/site-packages (from python-dateutil>=2.8.1->pandas->evaluate->iesta==1.3.18) (1.16.0)\n",
      "Requirement already satisfied: attrs>=17.3.0 in /home/elba_ro/repos/github/conf22-style-transfer/iesta_venv/lib/python3.8/site-packages (from aiohttp!=4.0.0a0,!=4.0.0a1; extra == \"http\"->fsspec[http]>=2021.05.0->evaluate->iesta==1.3.18) (22.1.0)\n",
      "Requirement already satisfied: async-timeout<5.0,>=4.0.0a3 in /home/elba_ro/repos/github/conf22-style-transfer/iesta_venv/lib/python3.8/site-packages (from aiohttp!=4.0.0a0,!=4.0.0a1; extra == \"http\"->fsspec[http]>=2021.05.0->evaluate->iesta==1.3.18) (4.0.2)\n",
      "Requirement already satisfied: yarl<2.0,>=1.0 in /home/elba_ro/repos/github/conf22-style-transfer/iesta_venv/lib/python3.8/site-packages (from aiohttp!=4.0.0a0,!=4.0.0a1; extra == \"http\"->fsspec[http]>=2021.05.0->evaluate->iesta==1.3.18) (1.8.1)\n",
      "Requirement already satisfied: multidict<7.0,>=4.5 in /home/elba_ro/repos/github/conf22-style-transfer/iesta_venv/lib/python3.8/site-packages (from aiohttp!=4.0.0a0,!=4.0.0a1; extra == \"http\"->fsspec[http]>=2021.05.0->evaluate->iesta==1.3.18) (6.0.2)\n",
      "Requirement already satisfied: frozenlist>=1.1.1 in /home/elba_ro/repos/github/conf22-style-transfer/iesta_venv/lib/python3.8/site-packages (from aiohttp!=4.0.0a0,!=4.0.0a1; extra == \"http\"->fsspec[http]>=2021.05.0->evaluate->iesta==1.3.18) (1.3.3)\n",
      "Requirement already satisfied: aiosignal>=1.1.2 in /home/elba_ro/repos/github/conf22-style-transfer/iesta_venv/lib/python3.8/site-packages (from aiohttp!=4.0.0a0,!=4.0.0a1; extra == \"http\"->fsspec[http]>=2021.05.0->evaluate->iesta==1.3.18) (1.3.1)\n",
      "Requirement already satisfied: gitpython!=3.1.19 in /home/elba_ro/repos/github/conf22-style-transfer/iesta_venv/lib/python3.8/site-packages (from streamlit->simpletransformers; python_version < \"3.9\"->nlpaf>=2.6.0->iesta==1.3.18) (3.1.29)\n",
      "Requirement already satisfied: semver in /home/elba_ro/repos/github/conf22-style-transfer/iesta_venv/lib/python3.8/site-packages (from streamlit->simpletransformers; python_version < \"3.9\"->nlpaf>=2.6.0->iesta==1.3.18) (2.13.0)\n",
      "Requirement already satisfied: pympler>=0.9 in /home/elba_ro/repos/github/conf22-style-transfer/iesta_venv/lib/python3.8/site-packages (from streamlit->simpletransformers; python_version < \"3.9\"->nlpaf>=2.6.0->iesta==1.3.18) (1.0.1)\n",
      "Requirement already satisfied: rich>=10.11.0 in /home/elba_ro/repos/github/conf22-style-transfer/iesta_venv/lib/python3.8/site-packages (from streamlit->simpletransformers; python_version < \"3.9\"->nlpaf>=2.6.0->iesta==1.3.18) (13.3.5)\n",
      "Requirement already satisfied: pydeck>=0.1.dev5 in /home/elba_ro/repos/github/conf22-style-transfer/iesta_venv/lib/python3.8/site-packages (from streamlit->simpletransformers; python_version < \"3.9\"->nlpaf>=2.6.0->iesta==1.3.18) (0.8.0)\n",
      "Requirement already satisfied: protobuf<4,>=3.12 in /home/elba_ro/repos/github/conf22-style-transfer/iesta_venv/lib/python3.8/site-packages (from streamlit->simpletransformers; python_version < \"3.9\"->nlpaf>=2.6.0->iesta==1.3.18) (3.20.3)\n",
      "Requirement already satisfied: toml in /home/elba_ro/repos/github/conf22-style-transfer/iesta_venv/lib/python3.8/site-packages (from streamlit->simpletransformers; python_version < \"3.9\"->nlpaf>=2.6.0->iesta==1.3.18) (0.10.2)\n",
      "Requirement already satisfied: validators>=0.2 in /home/elba_ro/repos/github/conf22-style-transfer/iesta_venv/lib/python3.8/site-packages (from streamlit->simpletransformers; python_version < \"3.9\"->nlpaf>=2.6.0->iesta==1.3.18) (0.20.0)\n",
      "Requirement already satisfied: tzlocal>=1.1 in /home/elba_ro/repos/github/conf22-style-transfer/iesta_venv/lib/python3.8/site-packages (from streamlit->simpletransformers; python_version < \"3.9\"->nlpaf>=2.6.0->iesta==1.3.18) (4.2)\n",
      "Requirement already satisfied: importlib-metadata>=1.4 in /home/elba_ro/repos/github/conf22-style-transfer/iesta_venv/lib/python3.8/site-packages (from streamlit->simpletransformers; python_version < \"3.9\"->nlpaf>=2.6.0->iesta==1.3.18) (5.0.0)\n",
      "Requirement already satisfied: altair>=3.2.0 in /home/elba_ro/repos/github/conf22-style-transfer/iesta_venv/lib/python3.8/site-packages (from streamlit->simpletransformers; python_version < \"3.9\"->nlpaf>=2.6.0->iesta==1.3.18) (4.2.0)\n",
      "Requirement already satisfied: watchdog; platform_system != \"Darwin\" in /home/elba_ro/repos/github/conf22-style-transfer/iesta_venv/lib/python3.8/site-packages (from streamlit->simpletransformers; python_version < \"3.9\"->nlpaf>=2.6.0->iesta==1.3.18) (2.1.9)\n",
      "Requirement already satisfied: blinker>=1.0.0 in /home/elba_ro/repos/github/conf22-style-transfer/iesta_venv/lib/python3.8/site-packages (from streamlit->simpletransformers; python_version < \"3.9\"->nlpaf>=2.6.0->iesta==1.3.18) (1.5)\n",
      "Requirement already satisfied: tornado>=5.0 in /home/elba_ro/repos/github/conf22-style-transfer/iesta_venv/lib/python3.8/site-packages (from streamlit->simpletransformers; python_version < \"3.9\"->nlpaf>=2.6.0->iesta==1.3.18) (6.2)\n",
      "Requirement already satisfied: cachetools>=4.0 in /home/elba_ro/repos/github/conf22-style-transfer/iesta_venv/lib/python3.8/site-packages (from streamlit->simpletransformers; python_version < \"3.9\"->nlpaf>=2.6.0->iesta==1.3.18) (5.2.0)\n",
      "Requirement already satisfied: grpcio>=1.24.3 in /home/elba_ro/repos/github/conf22-style-transfer/iesta_venv/lib/python3.8/site-packages (from tensorboard->simpletransformers; python_version < \"3.9\"->nlpaf>=2.6.0->iesta==1.3.18) (1.50.0)\n",
      "Requirement already satisfied: werkzeug>=1.0.1 in /home/elba_ro/repos/github/conf22-style-transfer/iesta_venv/lib/python3.8/site-packages (from tensorboard->simpletransformers; python_version < \"3.9\"->nlpaf>=2.6.0->iesta==1.3.18) (2.2.2)\n",
      "Requirement already satisfied: markdown>=2.6.8 in /home/elba_ro/repos/github/conf22-style-transfer/iesta_venv/lib/python3.8/site-packages (from tensorboard->simpletransformers; python_version < \"3.9\"->nlpaf>=2.6.0->iesta==1.3.18) (3.4.1)\n",
      "Requirement already satisfied: tensorboard-data-server<0.7.0,>=0.6.0 in /home/elba_ro/repos/github/conf22-style-transfer/iesta_venv/lib/python3.8/site-packages (from tensorboard->simpletransformers; python_version < \"3.9\"->nlpaf>=2.6.0->iesta==1.3.18) (0.6.1)\n",
      "Requirement already satisfied: wheel>=0.26 in /home/elba_ro/repos/github/conf22-style-transfer/iesta_venv/lib/python3.8/site-packages (from tensorboard->simpletransformers; python_version < \"3.9\"->nlpaf>=2.6.0->iesta==1.3.18) (0.38.4)\n",
      "Requirement already satisfied: absl-py>=0.4 in /home/elba_ro/repos/github/conf22-style-transfer/iesta_venv/lib/python3.8/site-packages (from tensorboard->simpletransformers; python_version < \"3.9\"->nlpaf>=2.6.0->iesta==1.3.18) (1.3.0)\n",
      "Requirement already satisfied: tensorboard-plugin-wit>=1.6.0 in /home/elba_ro/repos/github/conf22-style-transfer/iesta_venv/lib/python3.8/site-packages (from tensorboard->simpletransformers; python_version < \"3.9\"->nlpaf>=2.6.0->iesta==1.3.18) (1.8.1)\n",
      "Requirement already satisfied: google-auth<3,>=1.6.3 in /home/elba_ro/repos/github/conf22-style-transfer/iesta_venv/lib/python3.8/site-packages (from tensorboard->simpletransformers; python_version < \"3.9\"->nlpaf>=2.6.0->iesta==1.3.18) (2.14.1)\n",
      "Requirement already satisfied: google-auth-oauthlib<0.5,>=0.4.1 in /home/elba_ro/repos/github/conf22-style-transfer/iesta_venv/lib/python3.8/site-packages (from tensorboard->simpletransformers; python_version < \"3.9\"->nlpaf>=2.6.0->iesta==1.3.18) (0.4.6)\n",
      "Requirement already satisfied: psutil>=5.0.0 in /home/elba_ro/repos/github/conf22-style-transfer/iesta_venv/lib/python3.8/site-packages (from wandb>=0.10.32->simpletransformers; python_version < \"3.9\"->nlpaf>=2.6.0->iesta==1.3.18) (5.9.4)\n",
      "Requirement already satisfied: sentry-sdk>=1.0.0 in /home/elba_ro/repos/github/conf22-style-transfer/iesta_venv/lib/python3.8/site-packages (from wandb>=0.10.32->simpletransformers; python_version < \"3.9\"->nlpaf>=2.6.0->iesta==1.3.18) (1.11.0)\n",
      "Requirement already satisfied: promise<3,>=2.0 in /home/elba_ro/repos/github/conf22-style-transfer/iesta_venv/lib/python3.8/site-packages (from wandb>=0.10.32->simpletransformers; python_version < \"3.9\"->nlpaf>=2.6.0->iesta==1.3.18) (2.3)\n",
      "Requirement already satisfied: shortuuid>=0.5.0 in /home/elba_ro/repos/github/conf22-style-transfer/iesta_venv/lib/python3.8/site-packages (from wandb>=0.10.32->simpletransformers; python_version < \"3.9\"->nlpaf>=2.6.0->iesta==1.3.18) (1.0.11)\n",
      "Requirement already satisfied: docker-pycreds>=0.4.0 in /home/elba_ro/repos/github/conf22-style-transfer/iesta_venv/lib/python3.8/site-packages (from wandb>=0.10.32->simpletransformers; python_version < \"3.9\"->nlpaf>=2.6.0->iesta==1.3.18) (0.4.0)\n",
      "Requirement already satisfied: pathtools in /home/elba_ro/repos/github/conf22-style-transfer/iesta_venv/lib/python3.8/site-packages (from wandb>=0.10.32->simpletransformers; python_version < \"3.9\"->nlpaf>=2.6.0->iesta==1.3.18) (0.1.2)\n",
      "Requirement already satisfied: setproctitle in /home/elba_ro/repos/github/conf22-style-transfer/iesta_venv/lib/python3.8/site-packages (from wandb>=0.10.32->simpletransformers; python_version < \"3.9\"->nlpaf>=2.6.0->iesta==1.3.18) (1.3.2)\n",
      "Requirement already satisfied: gitdb<5,>=4.0.1 in /home/elba_ro/repos/github/conf22-style-transfer/iesta_venv/lib/python3.8/site-packages (from gitpython!=3.1.19->streamlit->simpletransformers; python_version < \"3.9\"->nlpaf>=2.6.0->iesta==1.3.18) (4.0.9)\n",
      "Requirement already satisfied: markdown-it-py<3.0.0,>=2.2.0 in /home/elba_ro/repos/github/conf22-style-transfer/iesta_venv/lib/python3.8/site-packages (from rich>=10.11.0->streamlit->simpletransformers; python_version < \"3.9\"->nlpaf>=2.6.0->iesta==1.3.18) (2.2.0)\n",
      "Requirement already satisfied: pygments<3.0.0,>=2.13.0 in /home/elba_ro/repos/github/conf22-style-transfer/iesta_venv/lib/python3.8/site-packages (from rich>=10.11.0->streamlit->simpletransformers; python_version < \"3.9\"->nlpaf>=2.6.0->iesta==1.3.18) (2.13.0)\n",
      "Requirement already satisfied: decorator>=3.4.0 in /home/elba_ro/repos/github/conf22-style-transfer/iesta_venv/lib/python3.8/site-packages (from validators>=0.2->streamlit->simpletransformers; python_version < \"3.9\"->nlpaf>=2.6.0->iesta==1.3.18) (5.1.1)\n",
      "Requirement already satisfied: backports.zoneinfo; python_version < \"3.9\" in /home/elba_ro/repos/github/conf22-style-transfer/iesta_venv/lib/python3.8/site-packages (from tzlocal>=1.1->streamlit->simpletransformers; python_version < \"3.9\"->nlpaf>=2.6.0->iesta==1.3.18) (0.2.1)\n",
      "Requirement already satisfied: pytz-deprecation-shim in /home/elba_ro/repos/github/conf22-style-transfer/iesta_venv/lib/python3.8/site-packages (from tzlocal>=1.1->streamlit->simpletransformers; python_version < \"3.9\"->nlpaf>=2.6.0->iesta==1.3.18) (0.1.0.post0)\n",
      "Requirement already satisfied: zipp>=0.5 in /home/elba_ro/repos/github/conf22-style-transfer/iesta_venv/lib/python3.8/site-packages (from importlib-metadata>=1.4->streamlit->simpletransformers; python_version < \"3.9\"->nlpaf>=2.6.0->iesta==1.3.18) (3.10.0)\n",
      "Requirement already satisfied: jsonschema>=3.0 in /home/elba_ro/repos/github/conf22-style-transfer/iesta_venv/lib/python3.8/site-packages (from altair>=3.2.0->streamlit->simpletransformers; python_version < \"3.9\"->nlpaf>=2.6.0->iesta==1.3.18) (4.17.0)\n",
      "Requirement already satisfied: toolz in /home/elba_ro/repos/github/conf22-style-transfer/iesta_venv/lib/python3.8/site-packages (from altair>=3.2.0->streamlit->simpletransformers; python_version < \"3.9\"->nlpaf>=2.6.0->iesta==1.3.18) (0.12.0)\n",
      "Requirement already satisfied: entrypoints in /home/elba_ro/repos/github/conf22-style-transfer/iesta_venv/lib/python3.8/site-packages (from altair>=3.2.0->streamlit->simpletransformers; python_version < \"3.9\"->nlpaf>=2.6.0->iesta==1.3.18) (0.4)\n",
      "Requirement already satisfied: rsa<5,>=3.1.4; python_version >= \"3.6\" in /home/elba_ro/repos/github/conf22-style-transfer/iesta_venv/lib/python3.8/site-packages (from google-auth<3,>=1.6.3->tensorboard->simpletransformers; python_version < \"3.9\"->nlpaf>=2.6.0->iesta==1.3.18) (4.9)\n",
      "Requirement already satisfied: pyasn1-modules>=0.2.1 in /home/elba_ro/repos/github/conf22-style-transfer/iesta_venv/lib/python3.8/site-packages (from google-auth<3,>=1.6.3->tensorboard->simpletransformers; python_version < \"3.9\"->nlpaf>=2.6.0->iesta==1.3.18) (0.2.8)\n",
      "Requirement already satisfied: requests-oauthlib>=0.7.0 in /home/elba_ro/repos/github/conf22-style-transfer/iesta_venv/lib/python3.8/site-packages (from google-auth-oauthlib<0.5,>=0.4.1->tensorboard->simpletransformers; python_version < \"3.9\"->nlpaf>=2.6.0->iesta==1.3.18) (1.3.1)\n",
      "Requirement already satisfied: smmap<6,>=3.0.1 in /home/elba_ro/repos/github/conf22-style-transfer/iesta_venv/lib/python3.8/site-packages (from gitdb<5,>=4.0.1->gitpython!=3.1.19->streamlit->simpletransformers; python_version < \"3.9\"->nlpaf>=2.6.0->iesta==1.3.18) (5.0.0)\n",
      "Requirement already satisfied: mdurl~=0.1 in /home/elba_ro/repos/github/conf22-style-transfer/iesta_venv/lib/python3.8/site-packages (from markdown-it-py<3.0.0,>=2.2.0->rich>=10.11.0->streamlit->simpletransformers; python_version < \"3.9\"->nlpaf>=2.6.0->iesta==1.3.18) (0.1.2)\n",
      "Requirement already satisfied: tzdata; python_version >= \"3.6\" in /home/elba_ro/repos/github/conf22-style-transfer/iesta_venv/lib/python3.8/site-packages (from pytz-deprecation-shim->tzlocal>=1.1->streamlit->simpletransformers; python_version < \"3.9\"->nlpaf>=2.6.0->iesta==1.3.18) (2022.6)\n",
      "Requirement already satisfied: importlib-resources>=1.4.0; python_version < \"3.9\" in /home/elba_ro/repos/github/conf22-style-transfer/iesta_venv/lib/python3.8/site-packages (from jsonschema>=3.0->altair>=3.2.0->streamlit->simpletransformers; python_version < \"3.9\"->nlpaf>=2.6.0->iesta==1.3.18) (5.10.0)\n",
      "Requirement already satisfied: pyrsistent!=0.17.0,!=0.17.1,!=0.17.2,>=0.14.0 in /home/elba_ro/repos/github/conf22-style-transfer/iesta_venv/lib/python3.8/site-packages (from jsonschema>=3.0->altair>=3.2.0->streamlit->simpletransformers; python_version < \"3.9\"->nlpaf>=2.6.0->iesta==1.3.18) (0.19.2)\n",
      "Requirement already satisfied: pkgutil-resolve-name>=1.3.10; python_version < \"3.9\" in /home/elba_ro/repos/github/conf22-style-transfer/iesta_venv/lib/python3.8/site-packages (from jsonschema>=3.0->altair>=3.2.0->streamlit->simpletransformers; python_version < \"3.9\"->nlpaf>=2.6.0->iesta==1.3.18) (1.3.10)\n",
      "Requirement already satisfied: pyasn1>=0.1.3 in /home/elba_ro/repos/github/conf22-style-transfer/iesta_venv/lib/python3.8/site-packages (from rsa<5,>=3.1.4; python_version >= \"3.6\"->google-auth<3,>=1.6.3->tensorboard->simpletransformers; python_version < \"3.9\"->nlpaf>=2.6.0->iesta==1.3.18) (0.4.8)\n",
      "Requirement already satisfied: oauthlib>=3.0.0 in /home/elba_ro/repos/github/conf22-style-transfer/iesta_venv/lib/python3.8/site-packages (from requests-oauthlib>=0.7.0->google-auth-oauthlib<0.5,>=0.4.1->tensorboard->simpletransformers; python_version < \"3.9\"->nlpaf>=2.6.0->iesta==1.3.18) (3.2.2)\n",
      "Installing collected packages: iesta\n",
      "  Attempting uninstall: iesta\n",
      "    Found existing installation: iesta 1.3.18\n",
      "    Uninstalling iesta-1.3.18:\n",
      "      Successfully uninstalled iesta-1.3.18\n",
      "  Running setup.py develop for iesta\n",
      "Successfully installed iesta\n",
      "Note: you may need to restart the kernel to use updated packages.\n"
     ]
    }
   ],
   "source": [
    "# Get Training Data\n",
    "# %pip show nlpaf\n",
    "%pip install  -e ../"
   ]
  },
  {
   "cell_type": "code",
   "execution_count": 1,
   "metadata": {},
   "outputs": [
    {
     "name": "stdout",
     "output_type": "stream",
     "text": [
      "Name: iesta\n",
      "Version: 1.3.16\n",
      "Summary: Python package for Conf 2023 for INEFF-IFFE Style Transfer\n",
      "Home-page: UNKNOWN\n",
      "Author: Roxanne El Baff\n",
      "Author-email: roxanne.elbaff@dlr.de\n",
      "License: MIT\n",
      "Location: /home/elba_ro/repos/github/conf22-style-transfer\n",
      "Requires: empath, markupsafe, nlpaf, seaborn, spacy, tomli, tqdm\n",
      "Required-by: \n",
      "Note: you may need to restart the kernel to use updated packages.\n"
     ]
    }
   ],
   "source": [
    "%pip show iesta"
   ]
  },
  {
   "cell_type": "code",
   "execution_count": 2,
   "metadata": {},
   "outputs": [
    {
     "name": "stderr",
     "output_type": "stream",
     "text": [
      "/home/elba_ro/repos/github/conf22-style-transfer/iesta_venv/lib/python3.8/site-packages/scipy/__init__.py:138: UserWarning: A NumPy version >=1.16.5 and <1.23.0 is required for this version of SciPy (detected version 1.23.4)\n",
      "  warnings.warn(f\"A NumPy version >={np_minversion} and <{np_maxversion} is required for this version of \"\n"
     ]
    }
   ],
   "source": [
    "from iesta.data.iesta_dataimport load_training_features_df\n",
    "import iesta.properties"
   ]
  },
  {
   "cell_type": "code",
   "execution_count": 3,
   "metadata": {},
   "outputs": [],
   "source": [
    "from datasets.dataset_dict import DatasetDict"
   ]
  },
  {
   "cell_type": "code",
   "execution_count": 4,
   "metadata": {},
   "outputs": [],
   "source": [
    "from datasets import load_dataset"
   ]
  },
  {
   "cell_type": "code",
   "execution_count": 5,
   "metadata": {},
   "outputs": [],
   "source": [
    "from iesta.data.iesta_dataimport IESTAData, LABELS\n",
    "from iesta.data.huggingface_loader import IESTAHuggingFace"
   ]
  },
  {
   "attachments": {},
   "cell_type": "markdown",
   "metadata": {},
   "source": [
    "\n",
    "### Data Count for main\n",
    "\n",
    "training      27522\n",
    "\n",
    "validation     7962\n",
    "\n",
    "test           3906\n",
    "\n",
    "\n",
    "### Data Count for style classifier\n",
    "\n",
    "\n",
    "training      11913\n",
    "\n",
    "validation     3400\n",
    "\n",
    "test           1691"
   ]
  },
  {
   "cell_type": "code",
   "execution_count": null,
   "metadata": {},
   "outputs": [],
   "source": [
    "from sklearn.model_selection import train_test_split\n",
    "\n",
    "\n",
    "unique_debates = liberal_training.debate_id.unique()\n",
    "\n",
    "training_debates, testval_debates = train_test_split(\n",
    "    unique_debates, test_size=0.3, random_state=42, shuffle=True\n",
    ")\n",
    "\n",
    "\n",
    "def _add_splits(row, training_debates, testval_debates):\n",
    "    if row[\"debate_id\"] in training_debates:\n",
    "        row[\"classifier_split\"] = \"train\"\n",
    "    elif row[\"debate_id\"] in testval_debates:\n",
    "        row[\"classifier_split\"] = \"test\"\n",
    "    else:\n",
    "        assert False\n",
    "    return row\n",
    "\n",
    "\n",
    "liberal_training = liberal_training.apply(\n",
    "    _add_splits,\n",
    "    args=(\n",
    "        training_debates,\n",
    "        testval_debates,\n",
    "    ),\n",
    "    axis=1,\n",
    ")"
   ]
  },
  {
   "cell_type": "code",
   "execution_count": null,
   "metadata": {},
   "outputs": [],
   "source": [
    "liberal_training.classifier_split.value_counts()\n",
    "import pandas as pd\n",
    "\n",
    "pd.crosstab(liberal_training.classifier_split, liberal_training.binary_effect)"
   ]
  },
  {
   "cell_type": "code",
   "execution_count": null,
   "metadata": {},
   "outputs": [],
   "source": [
    "import numpy as np\n",
    "import pandas as pd\n",
    "from sklearn.preprocessing import LabelEncoder\n",
    "\n",
    "\n",
    "def filter_cols(cols):\n",
    "    prefices = [\"mpqa\", \"hedge\", \"emotion\", \"toxicity\", \"mpqa\", \"empath\"]\n",
    "    keep = [\n",
    "        c\n",
    "        for c in cols\n",
    "        if c.split(\"_\")[0] in prefices and not c.endswith(\"_count\")\n",
    "    ]\n",
    "    return keep\n",
    "\n",
    "\n",
    "def filter_feature_df(\n",
    "    df: pd.DataFrame,\n",
    "    class_col: str = \"effect\",\n",
    "    split_col: str = \"classifier_split\",\n",
    "):  # binary_effect\n",
    "    feature_cols = filter_cols(df.columns.tolist())\n",
    "    df_ = df[feature_cols + [class_col, split_col]].copy()\n",
    "    numeric_cols = df_.select_dtypes(include=np.number).columns.tolist()\n",
    "    df_ = df_[numeric_cols + [class_col, split_col]]\n",
    "\n",
    "    df_.fillna(0.0, inplace=True)\n",
    "\n",
    "    # transform y to numeric\n",
    "    le = LabelEncoder()\n",
    "    le.fit(df_[class_col])\n",
    "    df_[class_col] = le.transform(df_[class_col])\n",
    "    # X = df_.values\n",
    "    # y_str = df[class_].values\n",
    "\n",
    "    # def to_numeric(x):\n",
    "    #    return 0 if x == \"ineffective\" else (1 if x == \"effective\" else 2)\n",
    "    # y = [to_numeric(x) for x in y_str]\n",
    "\n",
    "    return df_, numeric_cols"
   ]
  },
  {
   "cell_type": "code",
   "execution_count": null,
   "metadata": {},
   "outputs": [],
   "source": [
    "le = LabelEncoder()\n",
    "le.fit([\"paris\", \"paris\", \"tokyo\", \"amsterdam\"])\n",
    "list(le.classes_)\n",
    "le.transform(\n",
    "    [\n",
    "        \"amsterdam\",\n",
    "    ]\n",
    ")"
   ]
  },
  {
   "cell_type": "code",
   "execution_count": null,
   "metadata": {},
   "outputs": [],
   "source": [
    "_df, numeric_cols = filter_feature_df(\n",
    "    liberal_training, class_col=\"binary_effect\", split_col=\"classifier_split\"\n",
    ")"
   ]
  },
  {
   "cell_type": "code",
   "execution_count": null,
   "metadata": {},
   "outputs": [],
   "source": [
    "_df.binary_effect.value_counts()"
   ]
  },
  {
   "cell_type": "code",
   "execution_count": null,
   "metadata": {},
   "outputs": [],
   "source": [
    "from nlpaf.ml.feature_based import FeatureBasedML\n",
    "\n",
    "trainer = FeatureBasedML(\n",
    "    y_col=\"binary_effect\",\n",
    "    dataset=_df,\n",
    "    split_label_name=\"classifier_split\",\n",
    "    training_cols=numeric_cols,\n",
    "    remove_outliers=False,\n",
    "    normalize=False,\n",
    ")"
   ]
  },
  {
   "cell_type": "code",
   "execution_count": null,
   "metadata": {},
   "outputs": [],
   "source": [
    "dummy = trainer.train_baseline()"
   ]
  },
  {
   "cell_type": "code",
   "execution_count": null,
   "metadata": {},
   "outputs": [],
   "source": [
    "xfold_results = trainer.train_xfold()"
   ]
  },
  {
   "cell_type": "code",
   "execution_count": null,
   "metadata": {},
   "outputs": [],
   "source": [
    "xfold_results.keys()"
   ]
  },
  {
   "cell_type": "code",
   "execution_count": null,
   "metadata": {},
   "outputs": [],
   "source": [
    "xfold_results"
   ]
  },
  {
   "cell_type": "code",
   "execution_count": null,
   "metadata": {},
   "outputs": [],
   "source": [
    "trainer_nooutliers = FeatureBasedML(\n",
    "    y_col=\"binary_effect\",\n",
    "    dataset=_df,\n",
    "    split_label_name=\"classifier_split\",\n",
    "    training_cols=numeric_cols,\n",
    "    remove_outliers=True,\n",
    "    normalize=True,\n",
    ")"
   ]
  },
  {
   "cell_type": "code",
   "execution_count": null,
   "metadata": {},
   "outputs": [],
   "source": [
    "xfold_nooutlier_results = trainer_nooutliers.train_xfold()"
   ]
  },
  {
   "cell_type": "code",
   "execution_count": null,
   "metadata": {},
   "outputs": [],
   "source": [
    "from nlpaf.ml.feature_based import FeatureBasedML\n",
    "\n",
    "trainer_ensemble = FeatureBasedML(\n",
    "    y_col=\"binary_effect\",\n",
    "    dataset=_df,\n",
    "    split_label_name=\"classifier_split\",\n",
    "    training_cols=numeric_cols,\n",
    "    remove_outliers=True,\n",
    "    normalize=True,\n",
    ")"
   ]
  },
  {
   "cell_type": "code",
   "execution_count": null,
   "metadata": {},
   "outputs": [],
   "source": [
    "from nlpaf.ml import traditional_trainer as tt\n",
    "\n",
    "results = tt.train_ensemble(\n",
    "    trainer_ensemble.X_train,\n",
    "    trainer_ensemble.X_test,\n",
    "    trainer_ensemble.y_train,\n",
    "    trainer_ensemble.y_test,\n",
    ")\n",
    "\n",
    "\n",
    "\"\"\"\n",
    "          precision    recall  f1-score   support\n",
    "\n",
    "           0       0.06      0.12      0.08       563\n",
    "           1       0.95      0.91      0.93     11554\n",
    "\n",
    "    accuracy                           0.87     12117\n",
    "   macro avg       0.51      0.51      0.50     12117\n",
    "weighted avg       0.91      0.87      0.89     12117\n",
    "\n",
    "\n",
    "time: 2222m 7.3s\n",
    "\"\"\""
   ]
  },
  {
   "cell_type": "code",
   "execution_count": null,
   "metadata": {},
   "outputs": [],
   "source": []
  }
 ],
 "metadata": {
  "kernelspec": {
   "display_name": "iesta_venv",
   "language": "python",
   "name": "python3"
  },
  "language_info": {
   "codemirror_mode": {
    "name": "ipython",
    "version": 3
   },
   "file_extension": ".py",
   "mimetype": "text/x-python",
   "name": "python",
   "nbconvert_exporter": "python",
   "pygments_lexer": "ipython3",
   "version": "3.8.10"
  },
  "orig_nbformat": 4
 },
 "nbformat": 4,
 "nbformat_minor": 2
}
