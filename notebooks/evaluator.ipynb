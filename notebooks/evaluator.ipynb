{
 "cells": [
  {
   "cell_type": "code",
   "execution_count": 64,
   "metadata": {},
   "outputs": [],
   "source": [
    "import pandas as pd\n",
    "import json"
   ]
  },
  {
   "cell_type": "code",
   "execution_count": 69,
   "metadata": {},
   "outputs": [],
   "source": [
    "def find_all(a_str, sub):\n",
    "    start = 0\n",
    "    res = []\n",
    "    while start < len(a_str):\n",
    "        start = a_str.find(sub, start)\n",
    "\n",
    "        if start == -1: \n",
    "            return res\n",
    "        \n",
    "        res.append(start)\n",
    "        start = start + len(sub) # use start += 1 to find overlapping matches\n",
    "    return res\n",
    "\n",
    "def get_between_chars(str_, char_: str = '\"'):\n",
    "    indices = find_all(str_, char_)\n",
    "    \n",
    "    if len(indices) % 2 !=0:\n",
    "        str_ = str_[indices[0]+1:]\n",
    "        \n",
    "    indices = find_all(str_, char_)\n",
    "    if len(indices) >1:\n",
    "        str_ = str_[indices[0]+1:indices[-1]]"
   ]
  },
  {
   "cell_type": "code",
   "execution_count": 95,
   "metadata": {},
   "outputs": [
    {
     "data": {
      "text/plain": [
       "'sdasdasdasd!'"
      ]
     },
     "execution_count": 95,
     "metadata": {},
     "output_type": "execute_result"
    }
   ],
   "source": [
    "str_ = \"!sdasdasdasd!\"\n",
    "str_[1:]"
   ]
  },
  {
   "cell_type": "code",
   "execution_count": 92,
   "metadata": {},
   "outputs": [
    {
     "name": "stderr",
     "output_type": "stream",
     "text": [
      "  0%|          | 0/521 [00:00<?, ?it/s]"
     ]
    },
    {
     "name": "stderr",
     "output_type": "stream",
     "text": [
      "100%|██████████| 521/521 [00:00<00:00, 26055.93it/s]"
     ]
    },
    {
     "name": "stdout",
     "output_type": "stream",
     "text": [
      "33671 generated text for base 4696 and substr 4585\n",
      "33671 generated text for content 5072 and substr 4973\n",
      "33671 generated text for content_style_ideology 6147 and substr 6048\n",
      "33671 generated text for style 5446 and substr 5347\n",
      "33671 generated text for style_ideology 6222 and substr 6123\n",
      "28760 generated text for ideology 1939 and substr 0\n",
      "34844 generated text for content_style_ideology 1955 and substr 0\n",
      "252 generated text for base 3256 and substr 2624\n",
      "252 generated text for content 3006 and substr 2402\n",
      "252 generated text for content_style 2965 and substr 2383\n",
      "252 generated text for content_style_ideology 3139 and substr 2519\n",
      "252 generated text for style 2356 and substr 129\n",
      "252 generated text for style_ideology 3256 and substr 2618\n",
      "18659 generated text for style 610 and substr 0\n",
      "1404 generated text for content 1338 and substr 0\n",
      "1404 generated text for content_style_ideology 2320 and substr 0\n",
      "4014 generated text for content_style_ideology 2480 and substr 518\n",
      "46604 generated text for content_style_ideology 977 and substr 0\n",
      "9444 generated text for base 1250 and substr 0\n",
      "3259 generated text for style_ideology 1386 and substr 129\n",
      "3176 generated text for style 1785 and substr 1618\n",
      "15234 generated text for content_style_ideology 1779 and substr 0\n",
      "42194 generated text for style_ideology 1274 and substr 0\n",
      "2545 generated text for style_ideology 4348 and substr 0\n",
      "30683 generated text for content_style_ideology 2759 and substr 0\n",
      "45097 generated text for content_style_ideology 2156 and substr 0\n",
      "6472 generated text for ideology 3351 and substr 3323\n",
      "51598 generated text for ideology 1277 and substr 470\n",
      "44708 generated text for style_ideology 736 and substr 65\n",
      "42597 generated text for ideology 1516 and substr 0\n",
      "53262 generated text for content_style_ideology 1174 and substr 0\n",
      "53262 generated text for style_ideology 1173 and substr 0\n",
      "44860 generated text for content 1256 and substr 0\n",
      "44860 generated text for content_style 1234 and substr 0\n",
      "49157 generated text for style_ideology 140 and substr 0\n",
      "33670 generated text for ideology 5545 and substr 5471\n",
      "44796 generated text for ideology 3076 and substr 0\n",
      "30566 generated text for content_style 1735 and substr 1592\n",
      "9443 generated text for content_style_ideology 2964 and substr 1249\n",
      "43928 generated text for base 396 and substr 0\n",
      "43928 generated text for content 335 and substr 0\n",
      "43928 generated text for content_style 399 and substr 0\n",
      "35597 generated text for ideology 4570 and substr 4566\n",
      "28154 generated text for content_style_ideology 1482 and substr 0\n",
      "28154 generated text for ideology 1766 and substr 0\n",
      "45614 generated text for base 808 and substr 656\n",
      "45614 generated text for style_ideology 784 and substr 618\n",
      "45614 generated text for ideology 858 and substr 652\n",
      "9729 generated text for base 1459 and substr 0\n",
      "55137 generated text for style_ideology 916 and substr 0\n",
      "42440 generated text for content 2221 and substr 25\n",
      "35204 generated text for base 1371 and substr 156\n",
      "35204 generated text for content 1532 and substr 156\n",
      "35204 generated text for content_style 1431 and substr 156\n",
      "35204 generated text for ideology 1613 and substr 158\n",
      "38583 generated text for content_style_ideology 2419 and substr 0\n",
      "1403 generated text for style_ideology 2837 and substr 2832\n",
      "27823 generated text for style 553 and substr 0\n",
      "27823 generated text for style_ideology 535 and substr 0\n",
      "34248 generated text for content_style_ideology 1872 and substr 616\n",
      "34248 generated text for style_ideology 1861 and substr 619\n",
      "6644 generated text for content_style 2178 and substr 760\n",
      "6644 generated text for content_style_ideology 2303 and substr 893\n",
      "6644 generated text for style 2206 and substr 0\n",
      "10100 generated text for style 1552 and substr 0\n",
      "1190 generated text for ideology 2783 and substr 0\n",
      "16602 generated text for content_style_ideology 923 and substr 92\n",
      "18397 generated text for content_style_ideology 554 and substr 530\n",
      "18397 generated text for style 695 and substr 62\n",
      "18397 generated text for ideology 512 and substr 488\n",
      "34592 generated text for content_style_ideology 167 and substr 0\n",
      "9124 generated text for content_style_ideology 81 and substr 0\n",
      "9124 generated text for style_ideology 70 and substr 0\n",
      "41665 generated text for style 1751 and substr 0\n",
      "4023 generated text for content_style 1650 and substr 1603\n",
      "17597 generated text for ideology 1939 and substr 0\n",
      "16653 generated text for base 2198 and substr 76\n",
      "16653 generated text for content 2787 and substr 0\n",
      "16653 generated text for style 1623 and substr 1140\n",
      "49978 generated text for content_style_ideology 207 and substr 0\n",
      "30566 generated text for base 1767 and substr 924\n",
      "30566 generated text for style_ideology 1961 and substr 1819\n",
      "3565 out of 3647\n"
     ]
    },
    {
     "name": "stderr",
     "output_type": "stream",
     "text": [
      "\n"
     ]
    },
    {
     "data": {
      "text/plain": [
       "'\"There\\'s no question that weapons in the hands of the public have prevented acts of terror or stopped them\" stated Inspector-General Shlomo Aharonisk in regards to Israel\\'s gun control policy. And who cannot look at the facts and assume a similar position on the subject of gun control? Why would any society with an adequately supplied army and constabulary ever notion that disarming the people would not lead to the lessening of power of non-governmental forces? In countries like British North America or British India Gandhi and Jefferson shunned the idea of depriving their citizens of firearms, but you must come to realise that these were the very sorts of people who wanted to cause political destability, which was certainly the moral high ground in Gandhi\\'s time, but considering that the United States is democratic, stable, and has the principles of liberty ingrained deep in tradition and law, should this historical solution originally designed by rebels and criminals (Founding Fathers) be reconsidered? I am by no means suggesting that the wide circulation of firearms is going become an asset in mass political destablizartion and revolution (though it has happened in American history, most notably 1960). You state that guns are needed to preserve the liberty of the people, but one must also conclude from history that it hasn\\'t even helped father the cause of liberty, for it proved inadequate in the various slave rebellions that lit up America. Yet the sad fact remains that gun-related violent crime at the hands of mobsters and street gangs is rampant in many major American cities. Critics point out that gun control doesn\\'t work and point to examples like Glasgow where knife-crime is rampant. Yet the liberal production of assault rifles, handguns, and other hobby guns seethes across the United States, and cities like New York that have issued restriction polices have only yielded benefits, such as a slight decline in violent. The problem created in United States even travels north across the border where Canadian officials are powerless to stop the flow of legally produced armanments that often find their way into the hands of Torontonian or Vancouverite gangs and tarnishes American image as a people of hapless rednecks that can\\'t even control military supplies. Again in your rebuttal you visit another moot issue that you believe to be truth merely because it was written in a several hundred-year old document, \"A well regulated militia, being necessary to the security of a free state...\" is no longer valid because the United States has evolved past its stage as wayside colony scared of being gobbled up its former mistress or raided from the West by Aboriginal raids. Now she is a nation among nations, a superpower more committed to the cause of democracy than most others, stable, and protected by a regular army (not had in Jefferson\\'s day) and elite constabulary that makes criminals both home and abroad scared to attain America\\'s wrath, but on occasion using one the very constitutional principles of arms-bearing to blacken the efforts of American law enforcement.'"
      ]
     },
     "execution_count": 92,
     "metadata": {},
     "output_type": "execute_result"
    }
   ],
   "source": [
    "\n",
    "from tqdm import tqdm\n",
    "import re\n",
    "\n",
    "# 'text',  'original_text', \n",
    "text_keys = [ 'base',  'content', 'content_style', 'content_style_ideology',\n",
    "              'style', 'style_ideology',  'ideology']\n",
    "with open('../data/llms_out/new/liberal_chatgpt_0shot.jsonl', 'r') as json_file:\n",
    "    json_list = list(json_file)\n",
    "\n",
    "arr = []\n",
    "debug_idx = []\n",
    "correct = 7 * len(json_list)\n",
    "for json_str in tqdm(json_list):\n",
    "    single = json.loads(json_str)\n",
    "    arr.append(single)\n",
    "    for col in text_keys:\n",
    "        sub = get_between_chars(single[col])  # re.findall(r'\"(.*?)\"', single[col])\n",
    "        if len(sub) != (len(single[col]) -2):\n",
    "            print(f\"{single['idx']} generated text for {col} {len(single[col])} and substr {len(sub)}\")\n",
    "            debug_idx.append(single['idx'])\n",
    "            correct = correct -1\n",
    "        \n",
    "    #print(f\"result: {result}\")\n",
    "    #print(isinstance(result, dict))\n",
    "\n",
    "print(f\"{correct} out of {7 * len(json_list)}\")\n",
    "debug_idx  = list(set(debug_idx))\n",
    "df = pd.DataFrame(arr)\n",
    "\n",
    "df.set_index(\"idx\", inplace = True)\n",
    "df.loc[252 ]['text']"
   ]
  },
  {
   "cell_type": "code",
   "execution_count": 81,
   "metadata": {},
   "outputs": [
    {
     "data": {
      "text/plain": [
       "51"
      ]
     },
     "execution_count": 81,
     "metadata": {},
     "output_type": "execute_result"
    }
   ],
   "source": [
    "len(debug_idx)"
   ]
  },
  {
   "cell_type": "code",
   "execution_count": null,
   "metadata": {},
   "outputs": [],
   "source": []
  }
 ],
 "metadata": {
  "kernelspec": {
   "display_name": "Python 3",
   "language": "python",
   "name": "python3"
  },
  "language_info": {
   "codemirror_mode": {
    "name": "ipython",
    "version": 3
   },
   "file_extension": ".py",
   "mimetype": "text/x-python",
   "name": "python",
   "nbconvert_exporter": "python",
   "pygments_lexer": "ipython3",
   "version": "3.11.2"
  },
  "orig_nbformat": 4
 },
 "nbformat": 4,
 "nbformat_minor": 2
}
