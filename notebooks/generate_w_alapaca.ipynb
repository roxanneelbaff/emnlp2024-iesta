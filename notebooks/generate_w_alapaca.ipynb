{
 "cells": [
  {
   "cell_type": "code",
   "execution_count": null,
   "metadata": {},
   "outputs": [],
   "source": [
    "pip -q install -U datasets loralib sentencepiece "
   ]
  },
  {
   "cell_type": "code",
   "execution_count": null,
   "metadata": {},
   "outputs": [],
   "source": [
    "pip -q install -U git+https://github.com/huggingface/transformers"
   ]
  },
  {
   "cell_type": "code",
   "execution_count": null,
   "metadata": {},
   "outputs": [],
   "source": [
    "pip -q install -U  bitsandbytes accelerate"
   ]
  },
  {
   "cell_type": "code",
   "execution_count": null,
   "metadata": {},
   "outputs": [],
   "source": [
    "from transformers import LlamaTokenizer, LlamaForCausalLM, GenerationConfig, pipeline\n",
    "from langchain.llms import HuggingFacePipeline\n",
    "from langchain import PromptTemplate, LLMChain\n",
    "\n",
    "import torch"
   ]
  },
  {
   "cell_type": "code",
   "execution_count": null,
   "metadata": {},
   "outputs": [],
   "source": [
    "tokenizer = LlamaTokenizer.from_pretrained(\"chavinlo/alpaca-native\")\n",
    "\n",
    "base_model = LlamaForCausalLM.from_pretrained(\n",
    "    \"chavinlo/alpaca-native\",\n",
    "    load_in_8bit=True,\n",
    "    device_map='auto',\n",
    ")"
   ]
  },
  {
   "cell_type": "code",
   "execution_count": null,
   "metadata": {},
   "outputs": [],
   "source": [
    "pipe = pipeline(\n",
    "    \"text-generation\",\n",
    "    model=base_model, \n",
    "    tokenizer=tokenizer, \n",
    "    max_length=256,\n",
    "    temperature=0.6,\n",
    "    top_p=0.95,\n",
    "    repetition_penalty=1.2\n",
    ")\n",
    "\n",
    "local_llm = HuggingFacePipeline(pipeline=pipe)"
   ]
  },
  {
   "cell_type": "code",
   "execution_count": null,
   "metadata": {},
   "outputs": [],
   "source": [
    "\n",
    "liberal_chat_prompt = ChatPromptTemplate.from_messages(create_prompt_template(prompt_dict[\"all\"].format(ideology =\"liberal\")))\n",
    "llm_chain = LLMChain(llm=chat, prompt=liberal_chat_prompt)\n",
    "result = llm_chain.run(ineffective_argument=\"If there was no Kryptonite, can Superman defeat the Silver Surfer?\")\n",
    "print(result)\n",
    "cons_chat_prompt = ChatPromptTemplate.from_messages(create_prompt_template(prompt_dict[\"all\"].format(ideology =\"conservative\")))\n",
    "llm_chain = LLMChain(llm=chat, prompt=cons_chat_prompt)\n",
    "result = llm_chain.run(ineffective_argument=\"If there was no Kryptonite, can Superman defeat the Silver Surfer?\")\n",
    "print(result)"
   ]
  },
  {
   "cell_type": "code",
   "execution_count": 9,
   "metadata": {},
   "outputs": [],
   "source": [
    "from huggingface_hub import scan_cache_dir"
   ]
  },
  {
   "cell_type": "code",
   "execution_count": 17,
   "metadata": {},
   "outputs": [
    {
     "data": {
      "text/plain": [
       "HFCacheInfo(size_on_disk=2424586571, repos=frozenset({CachedRepoInfo(repo_id='jeniakim/hedgehog', repo_type='model', repo_path=PosixPath('/home/elba_ro/.cache/huggingface/hub/models--jeniakim--hedgehog'), size_on_disk=431197584, nb_files=5, revisions=frozenset({CachedRevisionInfo(commit_hash='d3a64a1c24dce72e4a52c63570f7faa744678f55', snapshot_path=PosixPath('/home/elba_ro/.cache/huggingface/hub/models--jeniakim--hedgehog/snapshots/d3a64a1c24dce72e4a52c63570f7faa744678f55'), size_on_disk=431197584, files=frozenset({CachedFileInfo(file_name='pytorch_model.bin', file_path=PosixPath('/home/elba_ro/.cache/huggingface/hub/models--jeniakim--hedgehog/snapshots/d3a64a1c24dce72e4a52c63570f7faa744678f55/pytorch_model.bin'), blob_path=PosixPath('/home/elba_ro/.cache/huggingface/hub/models--jeniakim--hedgehog/blobs/df0a11db02a0be2fe4699cf9944088f411a269f046bc3f6e615293803d57bb8e'), size_on_disk=430982647, blob_last_accessed=1688836226.93873, blob_last_modified=1668883416.518889), CachedFileInfo(file_name='tokenizer_config.json', file_path=PosixPath('/home/elba_ro/.cache/huggingface/hub/models--jeniakim--hedgehog/snapshots/d3a64a1c24dce72e4a52c63570f7faa744678f55/tokenizer_config.json'), blob_path=PosixPath('/home/elba_ro/.cache/huggingface/hub/models--jeniakim--hedgehog/blobs/7eff91f4f1e9c63a4be55e35d63800ad40e5be8e'), size_on_disk=531, blob_last_accessed=1688836227.703724, blob_last_modified=1668883425.700908), CachedFileInfo(file_name='config.json', file_path=PosixPath('/home/elba_ro/.cache/huggingface/hub/models--jeniakim--hedgehog/snapshots/d3a64a1c24dce72e4a52c63570f7faa744678f55/config.json'), blob_path=PosixPath('/home/elba_ro/.cache/huggingface/hub/models--jeniakim--hedgehog/blobs/761c038fdedc2b68fb28580142dffe6ab5f21578'), size_on_disk=844, blob_last_accessed=1688836218.851698, blob_last_modified=1668883403.963914), CachedFileInfo(file_name='special_tokens_map.json', file_path=PosixPath('/home/elba_ro/.cache/huggingface/hub/models--jeniakim--hedgehog/snapshots/d3a64a1c24dce72e4a52c63570f7faa744678f55/special_tokens_map.json'), blob_path=PosixPath('/home/elba_ro/.cache/huggingface/hub/models--jeniakim--hedgehog/blobs/e7b0375001f109a6b8873d756ad4f7bbb15fbaa5'), size_on_disk=112, blob_last_accessed=1688836227.765724, blob_last_modified=1668883424.284904), CachedFileInfo(file_name='vocab.txt', file_path=PosixPath('/home/elba_ro/.cache/huggingface/hub/models--jeniakim--hedgehog/snapshots/d3a64a1c24dce72e4a52c63570f7faa744678f55/vocab.txt'), blob_path=PosixPath('/home/elba_ro/.cache/huggingface/hub/models--jeniakim--hedgehog/blobs/2ea941cc79a6f3d7985ca6991ef4f67dad62af04'), size_on_disk=213450, blob_last_accessed=1688836227.729725, blob_last_modified=1668883422.176921)}), refs=frozenset({'main'}), last_modified=1668883425.700908)}), last_accessed=1688836227.765724, last_modified=1668883425.700908), CachedRepoInfo(repo_id='allenai/longformer-base-4096', repo_type='model', repo_path=PosixPath('/home/elba_ro/.cache/huggingface/hub/models--allenai--longformer-base-4096'), size_on_disk=599968857, nb_files=5, revisions=frozenset({CachedRevisionInfo(commit_hash='301e6a42cb0d9976a6d6a26a079fef81c18aa895', snapshot_path=PosixPath('/home/elba_ro/.cache/huggingface/hub/models--allenai--longformer-base-4096/snapshots/301e6a42cb0d9976a6d6a26a079fef81c18aa895'), size_on_disk=599968857, files=frozenset({CachedFileInfo(file_name='config.json', file_path=PosixPath('/home/elba_ro/.cache/huggingface/hub/models--allenai--longformer-base-4096/snapshots/301e6a42cb0d9976a6d6a26a079fef81c18aa895/config.json'), blob_path=PosixPath('/home/elba_ro/.cache/huggingface/hub/models--allenai--longformer-base-4096/blobs/01cd1069021c2d2abb86a83a6255a77a1b3a6901'), size_on_disk=694, blob_last_accessed=1688465828.932072, blob_last_modified=1685777090.507394), CachedFileInfo(file_name='pytorch_model.bin', file_path=PosixPath('/home/elba_ro/.cache/huggingface/hub/models--allenai--longformer-base-4096/snapshots/301e6a42cb0d9976a6d6a26a079fef81c18aa895/pytorch_model.bin'), blob_path=PosixPath('/home/elba_ro/.cache/huggingface/hub/models--allenai--longformer-base-4096/blobs/06c56757f0510de87c231acd03650ca204c5ed65c281cd1081b98288183f2468'), size_on_disk=597257159, blob_last_accessed=1688465846.618077, blob_last_modified=1685778367.18731), CachedFileInfo(file_name='vocab.json', file_path=PosixPath('/home/elba_ro/.cache/huggingface/hub/models--allenai--longformer-base-4096/snapshots/301e6a42cb0d9976a6d6a26a079fef81c18aa895/vocab.json'), blob_path=PosixPath('/home/elba_ro/.cache/huggingface/hub/models--allenai--longformer-base-4096/blobs/5606f48548d99a9829d10a96cd364b816b02cd21'), size_on_disk=898823, blob_last_accessed=1685777090.992389, blob_last_modified=1685777091.241391), CachedFileInfo(file_name='tokenizer.json', file_path=PosixPath('/home/elba_ro/.cache/huggingface/hub/models--allenai--longformer-base-4096/snapshots/301e6a42cb0d9976a6d6a26a079fef81c18aa895/tokenizer.json'), blob_path=PosixPath('/home/elba_ro/.cache/huggingface/hub/models--allenai--longformer-base-4096/blobs/ad0bcbeb288f0d1373d88e0762e66357f55b8311'), size_on_disk=1355863, blob_last_accessed=1688465829.38607, blob_last_modified=1685777092.090393), CachedFileInfo(file_name='merges.txt', file_path=PosixPath('/home/elba_ro/.cache/huggingface/hub/models--allenai--longformer-base-4096/snapshots/301e6a42cb0d9976a6d6a26a079fef81c18aa895/merges.txt'), blob_path=PosixPath('/home/elba_ro/.cache/huggingface/hub/models--allenai--longformer-base-4096/blobs/226b0752cac7789c48f0cb3ec53eda48b7be36cc'), size_on_disk=456318, blob_last_accessed=1685777091.454396, blob_last_modified=1685777091.608396)}), refs=frozenset({'main'}), last_modified=1685778367.18731)}), last_accessed=1688465846.618077, last_modified=1685778367.18731), CachedRepoInfo(repo_id='j-hartmann/emotion-english-distilroberta-base', repo_type='model', repo_path=PosixPath('/home/elba_ro/.cache/huggingface/hub/models--j-hartmann--emotion-english-distilroberta-base'), size_on_disk=331156595, nb_files=7, revisions=frozenset({CachedRevisionInfo(commit_hash='ef7062275bdeaecc765cffbbb892aed7bf53e004', snapshot_path=PosixPath('/home/elba_ro/.cache/huggingface/hub/models--j-hartmann--emotion-english-distilroberta-base/snapshots/ef7062275bdeaecc765cffbbb892aed7bf53e004'), size_on_disk=331156595, files=frozenset({CachedFileInfo(file_name='tokenizer_config.json', file_path=PosixPath('/home/elba_ro/.cache/huggingface/hub/models--j-hartmann--emotion-english-distilroberta-base/snapshots/ef7062275bdeaecc765cffbbb892aed7bf53e004/tokenizer_config.json'), blob_path=PosixPath('/home/elba_ro/.cache/huggingface/hub/models--j-hartmann--emotion-english-distilroberta-base/blobs/ca40de99cebb24fe4d2c259d48f3350dfe1372c5'), size_on_disk=294, blob_last_accessed=1688836210.213671, blob_last_modified=1668883391.833909), CachedFileInfo(file_name='vocab.json', file_path=PosixPath('/home/elba_ro/.cache/huggingface/hub/models--j-hartmann--emotion-english-distilroberta-base/snapshots/ef7062275bdeaecc765cffbbb892aed7bf53e004/vocab.json'), blob_path=PosixPath('/home/elba_ro/.cache/huggingface/hub/models--j-hartmann--emotion-english-distilroberta-base/blobs/4ebe4bb3f3114daf2e4cc349f24873a1175a35d7'), size_on_disk=798293, blob_last_accessed=1668883392.547924, blob_last_modified=1668883394.420905), CachedFileInfo(file_name='pytorch_model.bin', file_path=PosixPath('/home/elba_ro/.cache/huggingface/hub/models--j-hartmann--emotion-english-distilroberta-base/snapshots/ef7062275bdeaecc765cffbbb892aed7bf53e004/pytorch_model.bin'), blob_path=PosixPath('/home/elba_ro/.cache/huggingface/hub/models--j-hartmann--emotion-english-distilroberta-base/blobs/dde1eadd81741344dd707d1c482a3293810eb895c873053213ccdb2b57ca9e95'), size_on_disk=328544361, blob_last_accessed=1688836209.704671, blob_last_modified=1668883386.175901), CachedFileInfo(file_name='tokenizer.json', file_path=PosixPath('/home/elba_ro/.cache/huggingface/hub/models--j-hartmann--emotion-english-distilroberta-base/snapshots/ef7062275bdeaecc765cffbbb892aed7bf53e004/tokenizer.json'), blob_path=PosixPath('/home/elba_ro/.cache/huggingface/hub/models--j-hartmann--emotion-english-distilroberta-base/blobs/fcb66de1795c6da6d8b01d4f3f1978a88b39c3f4'), size_on_disk=1356047, blob_last_accessed=1688836210.277674, blob_last_modified=1668883399.603896), CachedFileInfo(file_name='merges.txt', file_path=PosixPath('/home/elba_ro/.cache/huggingface/hub/models--j-hartmann--emotion-english-distilroberta-base/snapshots/ef7062275bdeaecc765cffbbb892aed7bf53e004/merges.txt'), blob_path=PosixPath('/home/elba_ro/.cache/huggingface/hub/models--j-hartmann--emotion-english-distilroberta-base/blobs/6636bda4a1fd7a63653dffb22683b8162c8de956'), size_on_disk=456356, blob_last_accessed=1668883395.107888, blob_last_modified=1668883396.581892), CachedFileInfo(file_name='special_tokens_map.json', file_path=PosixPath('/home/elba_ro/.cache/huggingface/hub/models--j-hartmann--emotion-english-distilroberta-base/snapshots/ef7062275bdeaecc765cffbbb892aed7bf53e004/special_tokens_map.json'), blob_path=PosixPath('/home/elba_ro/.cache/huggingface/hub/models--j-hartmann--emotion-english-distilroberta-base/blobs/2ea7ad0e45a9d1d1591782ba7e29a703d0758831'), size_on_disk=239, blob_last_accessed=1688836210.333672, blob_last_modified=1668883401.6599), CachedFileInfo(file_name='config.json', file_path=PosixPath('/home/elba_ro/.cache/huggingface/hub/models--j-hartmann--emotion-english-distilroberta-base/snapshots/ef7062275bdeaecc765cffbbb892aed7bf53e004/config.json'), blob_path=PosixPath('/home/elba_ro/.cache/huggingface/hub/models--j-hartmann--emotion-english-distilroberta-base/blobs/10d853287ef2f8e3e8f9cd1e89dd967937a40086'), size_on_disk=1005, blob_last_accessed=1688836203.244648, blob_last_modified=1668883381.714912)}), refs=frozenset(), last_modified=1668883401.6599), CachedRevisionInfo(commit_hash='0e1cd914e3d46199ed785853e12b57304e04178b', snapshot_path=PosixPath('/home/elba_ro/.cache/huggingface/hub/models--j-hartmann--emotion-english-distilroberta-base/snapshots/0e1cd914e3d46199ed785853e12b57304e04178b'), size_on_disk=331156595, files=frozenset({CachedFileInfo(file_name='vocab.json', file_path=PosixPath('/home/elba_ro/.cache/huggingface/hub/models--j-hartmann--emotion-english-distilroberta-base/snapshots/0e1cd914e3d46199ed785853e12b57304e04178b/vocab.json'), blob_path=PosixPath('/home/elba_ro/.cache/huggingface/hub/models--j-hartmann--emotion-english-distilroberta-base/blobs/4ebe4bb3f3114daf2e4cc349f24873a1175a35d7'), size_on_disk=798293, blob_last_accessed=1668883392.547924, blob_last_modified=1668883394.420905), CachedFileInfo(file_name='pytorch_model.bin', file_path=PosixPath('/home/elba_ro/.cache/huggingface/hub/models--j-hartmann--emotion-english-distilroberta-base/snapshots/0e1cd914e3d46199ed785853e12b57304e04178b/pytorch_model.bin'), blob_path=PosixPath('/home/elba_ro/.cache/huggingface/hub/models--j-hartmann--emotion-english-distilroberta-base/blobs/dde1eadd81741344dd707d1c482a3293810eb895c873053213ccdb2b57ca9e95'), size_on_disk=328544361, blob_last_accessed=1688836209.704671, blob_last_modified=1668883386.175901), CachedFileInfo(file_name='tokenizer_config.json', file_path=PosixPath('/home/elba_ro/.cache/huggingface/hub/models--j-hartmann--emotion-english-distilroberta-base/snapshots/0e1cd914e3d46199ed785853e12b57304e04178b/tokenizer_config.json'), blob_path=PosixPath('/home/elba_ro/.cache/huggingface/hub/models--j-hartmann--emotion-english-distilroberta-base/blobs/ca40de99cebb24fe4d2c259d48f3350dfe1372c5'), size_on_disk=294, blob_last_accessed=1688836210.213671, blob_last_modified=1668883391.833909), CachedFileInfo(file_name='special_tokens_map.json', file_path=PosixPath('/home/elba_ro/.cache/huggingface/hub/models--j-hartmann--emotion-english-distilroberta-base/snapshots/0e1cd914e3d46199ed785853e12b57304e04178b/special_tokens_map.json'), blob_path=PosixPath('/home/elba_ro/.cache/huggingface/hub/models--j-hartmann--emotion-english-distilroberta-base/blobs/2ea7ad0e45a9d1d1591782ba7e29a703d0758831'), size_on_disk=239, blob_last_accessed=1688836210.333672, blob_last_modified=1668883401.6599), CachedFileInfo(file_name='tokenizer.json', file_path=PosixPath('/home/elba_ro/.cache/huggingface/hub/models--j-hartmann--emotion-english-distilroberta-base/snapshots/0e1cd914e3d46199ed785853e12b57304e04178b/tokenizer.json'), blob_path=PosixPath('/home/elba_ro/.cache/huggingface/hub/models--j-hartmann--emotion-english-distilroberta-base/blobs/fcb66de1795c6da6d8b01d4f3f1978a88b39c3f4'), size_on_disk=1356047, blob_last_accessed=1688836210.277674, blob_last_modified=1668883399.603896), CachedFileInfo(file_name='config.json', file_path=PosixPath('/home/elba_ro/.cache/huggingface/hub/models--j-hartmann--emotion-english-distilroberta-base/snapshots/0e1cd914e3d46199ed785853e12b57304e04178b/config.json'), blob_path=PosixPath('/home/elba_ro/.cache/huggingface/hub/models--j-hartmann--emotion-english-distilroberta-base/blobs/10d853287ef2f8e3e8f9cd1e89dd967937a40086'), size_on_disk=1005, blob_last_accessed=1688836203.244648, blob_last_modified=1668883381.714912), CachedFileInfo(file_name='merges.txt', file_path=PosixPath('/home/elba_ro/.cache/huggingface/hub/models--j-hartmann--emotion-english-distilroberta-base/snapshots/0e1cd914e3d46199ed785853e12b57304e04178b/merges.txt'), blob_path=PosixPath('/home/elba_ro/.cache/huggingface/hub/models--j-hartmann--emotion-english-distilroberta-base/blobs/6636bda4a1fd7a63653dffb22683b8162c8de956'), size_on_disk=456356, blob_last_accessed=1668883395.107888, blob_last_modified=1668883396.581892)}), refs=frozenset({'main'}), last_modified=1668883401.6599)}), last_accessed=1688836210.333672, last_modified=1668883401.6599), CachedRepoInfo(repo_id='SkolkovoInstitute/roberta_toxicity_classifier', repo_type='model', repo_path=PosixPath('/home/elba_ro/.cache/huggingface/hub/models--SkolkovoInstitute--roberta_toxicity_classifier'), size_on_disk=502293677, nb_files=6, revisions=frozenset({CachedRevisionInfo(commit_hash='3cd450864abaa584b1620f5bea9169a2226db3eb', snapshot_path=PosixPath('/home/elba_ro/.cache/huggingface/hub/models--SkolkovoInstitute--roberta_toxicity_classifier/snapshots/3cd450864abaa584b1620f5bea9169a2226db3eb'), size_on_disk=502293677, files=frozenset({CachedFileInfo(file_name='config.json', file_path=PosixPath('/home/elba_ro/.cache/huggingface/hub/models--SkolkovoInstitute--roberta_toxicity_classifier/snapshots/3cd450864abaa584b1620f5bea9169a2226db3eb/config.json'), blob_path=PosixPath('/home/elba_ro/.cache/huggingface/hub/models--SkolkovoInstitute--roberta_toxicity_classifier/blobs/f82163358a41bab92647c1abf5f8afc86d862f59'), size_on_disk=794, blob_last_accessed=1688836228.127727, blob_last_modified=1668883435.466937), CachedFileInfo(file_name='merges.txt', file_path=PosixPath('/home/elba_ro/.cache/huggingface/hub/models--SkolkovoInstitute--roberta_toxicity_classifier/snapshots/3cd450864abaa584b1620f5bea9169a2226db3eb/merges.txt'), blob_path=PosixPath('/home/elba_ro/.cache/huggingface/hub/models--SkolkovoInstitute--roberta_toxicity_classifier/blobs/6636bda4a1fd7a63653dffb22683b8162c8de956'), size_on_disk=456356, blob_last_accessed=1688836228.203728, blob_last_modified=1668883430.495922), CachedFileInfo(file_name='pytorch_model.bin', file_path=PosixPath('/home/elba_ro/.cache/huggingface/hub/models--SkolkovoInstitute--roberta_toxicity_classifier/snapshots/3cd450864abaa584b1620f5bea9169a2226db3eb/pytorch_model.bin'), blob_path=PosixPath('/home/elba_ro/.cache/huggingface/hub/models--SkolkovoInstitute--roberta_toxicity_classifier/blobs/896f52af161757594994d1fefe85ac79cbb57c9a96b26fba8ab93139b6426b8c'), size_on_disk=501037970, blob_last_accessed=1688836239.048765, blob_last_modified=1668883450.144987), CachedFileInfo(file_name='special_tokens_map.json', file_path=PosixPath('/home/elba_ro/.cache/huggingface/hub/models--SkolkovoInstitute--roberta_toxicity_classifier/snapshots/3cd450864abaa584b1620f5bea9169a2226db3eb/special_tokens_map.json'), blob_path=PosixPath('/home/elba_ro/.cache/huggingface/hub/models--SkolkovoInstitute--roberta_toxicity_classifier/blobs/2ea7ad0e45a9d1d1591782ba7e29a703d0758831'), size_on_disk=239, blob_last_accessed=1688836228.320726, blob_last_modified=1668883432.652931), CachedFileInfo(file_name='vocab.json', file_path=PosixPath('/home/elba_ro/.cache/huggingface/hub/models--SkolkovoInstitute--roberta_toxicity_classifier/snapshots/3cd450864abaa584b1620f5bea9169a2226db3eb/vocab.json'), blob_path=PosixPath('/home/elba_ro/.cache/huggingface/hub/models--SkolkovoInstitute--roberta_toxicity_classifier/blobs/4ebe4bb3f3114daf2e4cc349f24873a1175a35d7'), size_on_disk=798293, blob_last_accessed=1688836228.163726, blob_last_modified=1668883428.341944), CachedFileInfo(file_name='tokenizer_config.json', file_path=PosixPath('/home/elba_ro/.cache/huggingface/hub/models--SkolkovoInstitute--roberta_toxicity_classifier/snapshots/3cd450864abaa584b1620f5bea9169a2226db3eb/tokenizer_config.json'), blob_path=PosixPath('/home/elba_ro/.cache/huggingface/hub/models--SkolkovoInstitute--roberta_toxicity_classifier/blobs/34ddbd64a4cd3f2d9d8a9120d3662d0bf91baead'), size_on_disk=25, blob_last_accessed=1688836228.123729, blob_last_modified=1668883434.069932)}), refs=frozenset({'main'}), last_modified=1668883450.144987)}), last_accessed=1688836239.048765, last_modified=1668883450.144987), CachedRepoInfo(repo_id='microsoft/deberta-base', repo_type='model', repo_path=PosixPath('/home/elba_ro/.cache/huggingface/hub/models--microsoft--deberta-base'), size_on_disk=559969858, nb_files=5, revisions=frozenset({CachedRevisionInfo(commit_hash='0d1b43ccf21b5acd9f4e5f7b077fa698f05cf195', snapshot_path=PosixPath('/home/elba_ro/.cache/huggingface/hub/models--microsoft--deberta-base/snapshots/0d1b43ccf21b5acd9f4e5f7b077fa698f05cf195'), size_on_disk=559969858, files=frozenset({CachedFileInfo(file_name='tokenizer_config.json', file_path=PosixPath('/home/elba_ro/.cache/huggingface/hub/models--microsoft--deberta-base/snapshots/0d1b43ccf21b5acd9f4e5f7b077fa698f05cf195/tokenizer_config.json'), blob_path=PosixPath('/home/elba_ro/.cache/huggingface/hub/models--microsoft--deberta-base/blobs/efd16ae3cb656c5ffd4d21193daf24794aafb0d7'), size_on_disk=52, blob_last_accessed=1688554898.829109, blob_last_modified=1684514597.341991), CachedFileInfo(file_name='vocab.json', file_path=PosixPath('/home/elba_ro/.cache/huggingface/hub/models--microsoft--deberta-base/snapshots/0d1b43ccf21b5acd9f4e5f7b077fa698f05cf195/vocab.json'), blob_path=PosixPath('/home/elba_ro/.cache/huggingface/hub/models--microsoft--deberta-base/blobs/c3972d7e638fc3560500bc0bd5bd2d18291eb79e'), size_on_disk=898825, blob_last_accessed=1688554898.994107, blob_last_modified=1684514599.044007), CachedFileInfo(file_name='pytorch_model.bin', file_path=PosixPath('/home/elba_ro/.cache/huggingface/hub/models--microsoft--deberta-base/snapshots/0d1b43ccf21b5acd9f4e5f7b077fa698f05cf195/pytorch_model.bin'), blob_path=PosixPath('/home/elba_ro/.cache/huggingface/hub/models--microsoft--deberta-base/blobs/81ab61c5dc9111f81e528b7b3ae93997f4ae72ba531e60587835be894ab0ffe5'), size_on_disk=558614189, blob_last_accessed=1688554912.313147, blob_last_modified=1684514643.074127), CachedFileInfo(file_name='config.json', file_path=PosixPath('/home/elba_ro/.cache/huggingface/hub/models--microsoft--deberta-base/snapshots/0d1b43ccf21b5acd9f4e5f7b077fa698f05cf195/config.json'), blob_path=PosixPath('/home/elba_ro/.cache/huggingface/hub/models--microsoft--deberta-base/blobs/f8d4199d3fa92000a968422012ac81d3b95f21b7'), size_on_disk=474, blob_last_accessed=1688554898.855109, blob_last_modified=1684514598.118995), CachedFileInfo(file_name='merges.txt', file_path=PosixPath('/home/elba_ro/.cache/huggingface/hub/models--microsoft--deberta-base/snapshots/0d1b43ccf21b5acd9f4e5f7b077fa698f05cf195/merges.txt'), blob_path=PosixPath('/home/elba_ro/.cache/huggingface/hub/models--microsoft--deberta-base/blobs/226b0752cac7789c48f0cb3ec53eda48b7be36cc'), size_on_disk=456318, blob_last_accessed=1688554899.046107, blob_last_modified=1684514599.787001)}), refs=frozenset({'main'}), last_modified=1684514643.074127)}), last_accessed=1688554912.313147, last_modified=1684514643.074127)}), warnings=[CorruptedCacheException('Repo path is not a directory: /home/elba_ro/.cache/huggingface/hub/version.txt'), CorruptedCacheException('Repo path is not a directory: /home/elba_ro/.cache/huggingface/hub/tmp0xuk6oyp'), CorruptedCacheException(\"Snapshots dir doesn't exist in cached repo: /home/elba_ro/.cache/huggingface/hub/models--notaphoenix--style_evaluator_liberal_2952023/snapshots\"), CorruptedCacheException(\"Snapshots dir doesn't exist in cached repo: /home/elba_ro/.cache/huggingface/hub/models--notaphoenix--style_evaluator_liberal/snapshots\"), CorruptedCacheException(\"Snapshots dir doesn't exist in cached repo: /home/elba_ro/.cache/huggingface/hub/models--notaphoenix--style_evaluator_liberal_3052023/snapshots\"), CorruptedCacheException('Repo path is not a directory: /home/elba_ro/.cache/huggingface/hub/tmp_kte4a2v'), CorruptedCacheException(\"Snapshots dir doesn't exist in cached repo: /home/elba_ro/.cache/huggingface/hub/models--notaphoenix--shakespeare_classifier2/snapshots\"), CorruptedCacheException(\"Snapshots dir doesn't exist in cached repo: /home/elba_ro/.cache/huggingface/hub/models--notaphoenix--shakespeare_classifier3/snapshots\"), CorruptedCacheException(\"Snapshots dir doesn't exist in cached repo: /home/elba_ro/.cache/huggingface/hub/models--allenai--longformer-base-uncased/snapshots\"), CorruptedCacheException(\"Snapshots dir doesn't exist in cached repo: /home/elba_ro/.cache/huggingface/hub/models--longformer-base-4096/snapshots\"), CorruptedCacheException('Repo path is not a directory: /home/elba_ro/.cache/huggingface/hub/tmpb7vbvnza'), CorruptedCacheException('Repo path is not a directory: /home/elba_ro/.cache/huggingface/hub/tmp87lwd6o8'), CorruptedCacheException('Repo path is not a directory: /home/elba_ro/.cache/huggingface/hub/tmpxudmsqgh')])"
      ]
     },
     "execution_count": 17,
     "metadata": {},
     "output_type": "execute_result"
    }
   ],
   "source": [
    "scan_cache_dir()"
   ]
  },
  {
   "cell_type": "code",
   "execution_count": 14,
   "metadata": {},
   "outputs": [],
   "source": [
    "from huggingface_hub import scan_cache_dir\n",
    "delete_strategy = scan_cache_dir().delete_revisions(\n",
    "    \"5a145f7852cba9bd431386a58137bf8a29903b90\",\n",
    "    \"cc7773cac2478231807c56ef2f02292d98f85cf5\",\n",
    "    \"36beeb5fe6656c3a6dce2eadc93480b218a327bd\",\n",
    "    \"1c4513b2eedbda136f57676a34eea67aba266e5c\",\n",
    "    \"9f16e66a0235c4ba24e321e3be86dd347a7911a0\",\n",
    "    \"8ccc9b6f36199bec6961081d44eb72fb3f7353f3\",\n",
    "    \"06e6637b570251bad550dab6fc54496889c9729b\",\n",
    "    \"202f0aed76aa5523d08d371f2d53d61a3b1660a2\",\n",
    ")\n"
   ]
  },
  {
   "cell_type": "code",
   "execution_count": 15,
   "metadata": {},
   "outputs": [
    {
     "name": "stdout",
     "output_type": "stream",
     "text": [
      "Will free 15.9G.\n"
     ]
    }
   ],
   "source": [
    "print(f\"Will free {delete_strategy.expected_freed_size_str}.\")"
   ]
  },
  {
   "cell_type": "code",
   "execution_count": 16,
   "metadata": {},
   "outputs": [],
   "source": [
    "delete_strategy.execute()"
   ]
  },
  {
   "cell_type": "code",
   "execution_count": null,
   "metadata": {},
   "outputs": [],
   "source": []
  }
 ],
 "metadata": {
  "kernelspec": {
   "display_name": "iesta_venv",
   "language": "python",
   "name": "python3"
  },
  "language_info": {
   "codemirror_mode": {
    "name": "ipython",
    "version": 3
   },
   "file_extension": ".py",
   "mimetype": "text/x-python",
   "name": "python",
   "nbconvert_exporter": "python",
   "pygments_lexer": "ipython3",
   "version": "3.8.10"
  },
  "orig_nbformat": 4
 },
 "nbformat": 4,
 "nbformat_minor": 2
}
