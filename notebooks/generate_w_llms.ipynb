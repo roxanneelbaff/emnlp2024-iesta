{
 "cells": [
  {
   "cell_type": "code",
   "execution_count": 2,
   "metadata": {},
   "outputs": [],
   "source": [
    "from langchain.llms import OpenAIChat\n",
    "from langchain import LLMChain\n",
    "from langchain.text_splitter import CharacterTextSplitter,TokenTextSplitter\n",
    "from langchain.chains.mapreduce import MapReduceChain\n",
    "from langchain.prompts import PromptTemplate\n",
    "from langchain.prompts.chat import (\n",
    "    ChatPromptTemplate,\n",
    "    SystemMessagePromptTemplate,\n",
    "    AIMessagePromptTemplate,\n",
    "    HumanMessagePromptTemplate,\n",
    ")\n",
    "from langchain.docstore.document import Document\n",
    "from langchain.chains.summarize import load_summarize_chain\n",
    "from langchain.prompts.few_shot import FewShotPromptTemplate\n",
    "\n",
    "\n",
    "import os\n",
    "from dotenv import load_dotenv\n",
    "load_dotenv()\n",
    "\n",
    "import pandas as pd\n",
    "pd.set_option('display.max_colwidth', None)\n",
    "from tqdm.notebook import tqdm\n",
    "tqdm.pandas()\n",
    "from ast import literal_eval\n",
    "import random\n",
    "import re"
   ]
  },
  {
   "cell_type": "code",
   "execution_count": 3,
   "metadata": {},
   "outputs": [],
   "source": [
    "# !source ../../../elbaff_iesta_venv/bin/activate\n",
    "# %pip install langchain\n",
    "# %pip install python-dotenv\n",
    "#%pip install openai"
   ]
  },
  {
   "cell_type": "code",
   "execution_count": 4,
   "metadata": {},
   "outputs": [],
   "source": [
    "# Create a new OpenAI instance\n",
    "from langchain.chat_models import ChatOpenAI\n",
    "chat = ChatOpenAI(model_name=\"gpt-3.5-turbo\", temperature=0)"
   ]
  },
  {
   "cell_type": "code",
   "execution_count": 5,
   "metadata": {},
   "outputs": [],
   "source": [
    "text_splitter = CharacterTextSplitter()"
   ]
  },
  {
   "cell_type": "code",
   "execution_count": 6,
   "metadata": {},
   "outputs": [],
   "source": [
    "\n",
    "basic_str = \"Transform the following argument to an effective argument by maintaining the original length\"\n",
    "ideology_str = \"for readers with a {ideology} political ideology\"\n",
    "content_str = \"by preserving the content of the argument\"\n",
    "style_str = \"by changing the style of the text only\"\n",
    "\n",
    "prompt_dict = {\n",
    "    \"basic\": f\"{basic_str}:\",\n",
    "    \"ideology\": f\"{basic_str} {ideology_str}:\",\n",
    "    \"content\":  f\"{basic_str} {content_str}:\",\n",
    "    \"style\":f\"{basic_str} {style_str}:\",\n",
    "    \"ideology-content\": f\"{basic_str} {ideology_str} {content_str}:\",\n",
    "    \"ideology-style\": f\"{basic_str} {ideology_str} {style_str}:\",\n",
    "    \"all\": f\"{basic_str} {ideology_str} {content_str} and {style_str}:\",\n",
    "}\n",
    "\n"
   ]
  },
  {
   "cell_type": "code",
   "execution_count": 7,
   "metadata": {},
   "outputs": [],
   "source": [
    "\n",
    "def create_prompt_template(prompt):\n",
    "\n",
    "    system_message_prompt = SystemMessagePromptTemplate.from_template(prompt)\n",
    "    human_template=\"{ineffective_argument}\"\n",
    "    human_message_prompt = HumanMessagePromptTemplate.from_template(human_template)\n",
    "    return [system_message_prompt, human_message_prompt]"
   ]
  },
  {
   "cell_type": "code",
   "execution_count": 8,
   "metadata": {},
   "outputs": [],
   "source": [
    "\n",
    "liberal_chat_prompt = ChatPromptTemplate.from_messages(create_prompt_template(prompt_dict[\"all\"].format(ideology =\"liberal\")))\n",
    "llm_chain = LLMChain(llm=chat, prompt=liberal_chat_prompt)"
   ]
  },
  {
   "cell_type": "code",
   "execution_count": 9,
   "metadata": {},
   "outputs": [
    {
     "name": "stdout",
     "output_type": "stream",
     "text": [
      "It's an interesting question to consider whether Superman could defeat the Silver Surfer if Kryptonite were not a factor. While the Silver Surfer possesses incredible cosmic powers, Superman's abilities are equally impressive. He has superhuman strength, speed, and agility, as well as the power of flight and heat vision. Additionally, Superman's moral code and determination to protect the innocent give him an edge in any battle. Ultimately, it's impossible to say for certain who would come out on top in a fight between these two iconic superheroes, but it's certainly a debate worth having.\n"
     ]
    }
   ],
   "source": [
    "result = llm_chain.run(ineffective_argument=\"If there was no Kryptonite, can Superman defeat the Silver Surfer?\")\n",
    "print(result)"
   ]
  },
  {
   "cell_type": "code",
   "execution_count": 10,
   "metadata": {},
   "outputs": [
    {
     "name": "stdout",
     "output_type": "stream",
     "text": [
      "It is a well-known fact that Superman is one of the most powerful superheroes in the comic book universe. However, some may wonder if he would be able to defeat the Silver Surfer if there was no Kryptonite involved. This is a valid question that has been debated among comic book fans for years.\n",
      "\n",
      "On one hand, Superman possesses incredible strength, speed, and durability. He also has the ability to fly and shoot heat vision from his eyes. These powers have allowed him to defeat many formidable opponents in the past.\n",
      "\n",
      "On the other hand, the Silver Surfer is also an incredibly powerful character. He possesses the Power Cosmic, which grants him a wide range of abilities including energy projection, matter manipulation, and the ability to travel faster than the speed of light. He has also proven to be a formidable opponent for other superheroes in the Marvel Universe.\n",
      "\n",
      "Therefore, it is difficult to say for certain who would come out on top in a battle between Superman and the Silver Surfer. It would likely be a close and intense fight, with both characters pushing their limits to emerge victorious. Ultimately, it would come down to the specific circumstances of the battle and the strategies employed by each character.\n"
     ]
    }
   ],
   "source": [
    "cons_chat_prompt = ChatPromptTemplate.from_messages(create_prompt_template(prompt_dict[\"all\"].format(ideology =\"conservative\")))\n",
    "llm_chain = LLMChain(llm=chat, prompt=cons_chat_prompt)\n",
    "result = llm_chain.run(ineffective_argument=\"If there was no Kryptonite, can Superman defeat the Silver Surfer?\")\n",
    "print(result)"
   ]
  },
  {
   "cell_type": "code",
   "execution_count": 11,
   "metadata": {},
   "outputs": [
    {
     "name": "stdout",
     "output_type": "stream",
     "text": [
      "running basic with prompt 'template Transform the following argument to an effective argument by maintaining the original length:'\n",
      "running ideology with prompt 'template Transform the following argument to an effective argument by maintaining the original length for readers with a {ideology} political ideology:'\n",
      "running content with prompt 'template Transform the following argument to an effective argument by maintaining the original length by preserving the content of the argument:'\n",
      "running style with prompt 'template Transform the following argument to an effective argument by maintaining the original length by changing the style of the text only:'\n",
      "running ideology-content with prompt 'template Transform the following argument to an effective argument by maintaining the original length for readers with a {ideology} political ideology by preserving the content of the argument:'\n",
      "running ideology-style with prompt 'template Transform the following argument to an effective argument by maintaining the original length for readers with a {ideology} political ideology by changing the style of the text only:'\n",
      "running all with prompt 'template Transform the following argument to an effective argument by maintaining the original length for readers with a {ideology} political ideology by preserving the content of the argument and by changing the style of the text only:'\n"
     ]
    }
   ],
   "source": [
    "ineffective_argument = \"\"\"\n",
    "People should be allowed to do what they want with their own bodies. They aren't harming anyone, so there really is no reason to prevent them from having a good time. 2. There are more harmful drugs such as alcohol and tobacco which are legalized. If it's okay for those things to be consumed than it's certainly okay for the less harmful cannabis to be legalized. 3. If Cannabis is legalized it can be regulated. At this point there is no Fda or government oversight of the cannabis market.\n",
    "\"\"\"\n",
    "ideology = \"conservative\"\n",
    "result_dict = {}\n",
    "for k, prompt_template in prompt_dict.items():\n",
    "    print(f\"running {k} with prompt 'template {prompt_template}'\")\n",
    "    \n",
    "    chat_prompt = ChatPromptTemplate.from_messages(create_prompt_template(prompt_template.format(ideology=ideology)))\n",
    "    llm_chain = LLMChain(llm=chat, prompt=chat_prompt)\n",
    "    result_dict[k] = llm_chain.run(ineffective_argument=ineffective_argument)\n",
    "    #print(f\"'{result}'\\n\\n\")\n",
    "\n",
    "    \n"
   ]
  },
  {
   "cell_type": "code",
   "execution_count": null,
   "metadata": {},
   "outputs": [],
   "source": []
  },
  {
   "cell_type": "code",
   "execution_count": 13,
   "metadata": {},
   "outputs": [],
   "source": [
    "#%pip install redlines\n",
    "#%pip install Markdown\n"
   ]
  },
  {
   "cell_type": "code",
   "execution_count": 15,
   "metadata": {},
   "outputs": [
    {
     "name": "stdout",
     "output_type": "stream",
     "text": [
      "\n",
      "basic - Transform the following argument to an effective argument by maintaining the original length:\n"
     ]
    },
    {
     "data": {
      "text/markdown": [
       "People should <span style=\"color:red;font-weight:700;text-decoration:line-through;\">be </span><span style=\"color:red;font-weight:700;\">have the freedom to make choices about their own bodies without interference. This includes the choice to use cannabis, which is less harmful than other legal substances like alcohol and tobacco. If these substances are </span>allowed to <span style=\"color:red;font-weight:700;text-decoration:line-through;\">do what they want with </span><span style=\"color:red;font-weight:700;\">be consumed, then it only makes sense to legalize cannabis as well. In fact, legalizing cannabis would allow for regulation and oversight by the government, which is currently lacking in the unregulated cannabis market. Therefore, it is time to legalize cannabis and give people the freedom to make </span>their own <span style=\"color:red;font-weight:700;text-decoration:line-through;\">bodies. They aren't harming anyone, so there really is no reason to prevent them from having a good time. 2. There are more harmful drugs such as alcohol and tobacco which are legalized. If it's okay for those things to be consumed than it's certainly okay for the less harmful cannabis to be legalized. 3. If Cannabis is legalized it can be regulated. At this point there is no Fda or government oversight of the cannabis market.</span><span style=\"color:red;font-weight:700;\">choices while also ensuring their safety through proper regulation.</span>"
      ],
      "text/plain": [
       "<IPython.core.display.Markdown object>"
      ]
     },
     "metadata": {},
     "output_type": "display_data"
    },
    {
     "name": "stdout",
     "output_type": "stream",
     "text": [
      "\n",
      "ideology - Transform the following argument to an effective argument by maintaining the original length for readers with a {ideology} political ideology:\n"
     ]
    },
    {
     "data": {
      "text/markdown": [
       "People should <span style=\"color:red;font-weight:700;text-decoration:line-through;\">be </span><span style=\"color:red;font-weight:700;\">have the freedom to make choices about their own bodies without interference. This includes the choice to use cannabis, which is less harmful than other legal substances like alcohol and tobacco. If these substances are </span>allowed to <span style=\"color:red;font-weight:700;text-decoration:line-through;\">do what they want with their own bodies. They aren't harming anyone, so there really </span><span style=\"color:red;font-weight:700;\">be consumed, then it only makes sense to legalize cannabis as well. In fact, legalizing cannabis would allow for regulation and oversight by the government, which </span>is <span style=\"color:red;font-weight:700;text-decoration:line-through;\">no reason to prevent them from having a good time. 2. There are more harmful drugs such as alcohol </span><span style=\"color:red;font-weight:700;\">currently lacking in the unregulated cannabis market. By legalizing cannabis, we can ensure that it is used safely </span>and <span style=\"color:red;font-weight:700;text-decoration:line-through;\">tobacco which are legalized. If it's okay for those things to be consumed than it's certainly okay for the less harmful cannabis to be legalized. 3. If Cannabis is legalized it can be regulated. At this point there is no Fda or government oversight of the cannabis market.</span><span style=\"color:red;font-weight:700;\">responsibly.</span>"
      ],
      "text/plain": [
       "<IPython.core.display.Markdown object>"
      ]
     },
     "metadata": {},
     "output_type": "display_data"
    },
    {
     "name": "stdout",
     "output_type": "stream",
     "text": [
      "\n",
      "content - Transform the following argument to an effective argument by maintaining the original length by preserving the content of the argument:\n"
     ]
    },
    {
     "data": {
      "text/markdown": [
       "<span style=\"color:red;font-weight:700;text-decoration:line-through;\">People </span><span style=\"color:red;font-weight:700;\">The argument for legalizing cannabis is a matter of personal freedom and responsibility. Individuals </span>should <span style=\"color:red;font-weight:700;text-decoration:line-through;\">be allowed </span><span style=\"color:red;font-weight:700;\">have the right </span>to <span style=\"color:red;font-weight:700;text-decoration:line-through;\">do what they want with </span><span style=\"color:red;font-weight:700;\">make choices about </span>their own <span style=\"color:red;font-weight:700;text-decoration:line-through;\">bodies. They aren't harming anyone, so there really </span><span style=\"color:red;font-weight:700;\">bodies without interference from the government. Cannabis </span>is <span style=\"color:red;font-weight:700;text-decoration:line-through;\">no reason to prevent them from having a good time. 2. There are more </span><span style=\"color:red;font-weight:700;\">less </span>harmful <span style=\"color:red;font-weight:700;text-decoration:line-through;\">drugs </span><span style=\"color:red;font-weight:700;\">than other legal substances </span>such as alcohol and <span style=\"color:red;font-weight:700;text-decoration:line-through;\">tobacco which are legalized. If it's okay for those things to be consumed than it's certainly okay for the less harmful cannabis to be legalized. 3. If Cannabis is legalized it can be regulated. At this point </span><span style=\"color:red;font-weight:700;\">tobacco, so </span>there is no <span style=\"color:red;font-weight:700;text-decoration:line-through;\">Fda or </span><span style=\"color:red;font-weight:700;\">reason for it to remain illegal. In fact, legalizing cannabis would allow for regulation and oversight by the government, which is currently lacking in the unregulated cannabis market. Therefore, it is time for the </span>government <span style=\"color:red;font-weight:700;text-decoration:line-through;\">oversight </span><span style=\"color:red;font-weight:700;\">to recognize the rights </span>of <span style=\"color:red;font-weight:700;text-decoration:line-through;\">the cannabis market.</span><span style=\"color:red;font-weight:700;\">individuals and legalize cannabis.</span>"
      ],
      "text/plain": [
       "<IPython.core.display.Markdown object>"
      ]
     },
     "metadata": {},
     "output_type": "display_data"
    },
    {
     "name": "stdout",
     "output_type": "stream",
     "text": [
      "\n",
      "style - Transform the following argument to an effective argument by maintaining the original length by changing the style of the text only:\n"
     ]
    },
    {
     "data": {
      "text/markdown": [
       "<span style=\"color:red;font-weight:700;text-decoration:line-through;\">People should be allowed </span><span style=\"color:red;font-weight:700;\">It is imperative that individuals have the freedom </span>to <span style=\"color:red;font-weight:700;text-decoration:line-through;\">do what they want with </span><span style=\"color:red;font-weight:700;\">make choices regarding </span>their own <span style=\"color:red;font-weight:700;text-decoration:line-through;\">bodies. They aren't harming anyone, so </span><span style=\"color:red;font-weight:700;\">bodies without interference. The use of substances that do not harm others should not be prohibited. In fact, </span>there <span style=\"color:red;font-weight:700;text-decoration:line-through;\">really is no reason to prevent them from having a good time. 2. There </span>are <span style=\"color:red;font-weight:700;text-decoration:line-through;\">more harmful drugs </span><span style=\"color:red;font-weight:700;\">already legal substances </span>such as alcohol and tobacco <span style=\"color:red;font-weight:700;text-decoration:line-through;\">which </span><span style=\"color:red;font-weight:700;\">that </span>are <span style=\"color:red;font-weight:700;text-decoration:line-through;\">legalized. If it's okay for those things to be consumed </span><span style=\"color:red;font-weight:700;\">more harmful </span>than <span style=\"color:red;font-weight:700;text-decoration:line-through;\">it's certainly okay for the less harmful </span><span style=\"color:red;font-weight:700;\">cannabis. Therefore, it is only logical that </span>cannabis <span style=\"color:red;font-weight:700;text-decoration:line-through;\">to </span><span style=\"color:red;font-weight:700;\">should also </span>be legalized. <span style=\"color:red;font-weight:700;text-decoration:line-through;\">3. If Cannabis is legalized </span><span style=\"color:red;font-weight:700;\">By doing so, </span>it can be <span style=\"color:red;font-weight:700;text-decoration:line-through;\">regulated. At this point there </span><span style=\"color:red;font-weight:700;\">regulated and monitored by the government, which </span>is <span style=\"color:red;font-weight:700;text-decoration:line-through;\">no Fda or government oversight of </span><span style=\"color:red;font-weight:700;\">currently not the case. This would ensure that </span>the cannabis <span style=\"color:red;font-weight:700;text-decoration:line-through;\">market.</span><span style=\"color:red;font-weight:700;\">market is safe and controlled.</span>"
      ],
      "text/plain": [
       "<IPython.core.display.Markdown object>"
      ]
     },
     "metadata": {},
     "output_type": "display_data"
    },
    {
     "name": "stdout",
     "output_type": "stream",
     "text": [
      "\n",
      "ideology-content - Transform the following argument to an effective argument by maintaining the original length for readers with a {ideology} political ideology by preserving the content of the argument:\n"
     ]
    },
    {
     "data": {
      "text/markdown": [
       "<span style=\"color:red;font-weight:700;text-decoration:line-through;\">People </span><span style=\"color:red;font-weight:700;\">As individuals, we </span>should <span style=\"color:red;font-weight:700;text-decoration:line-through;\">be allowed </span><span style=\"color:red;font-weight:700;\">have the freedom </span>to <span style=\"color:red;font-weight:700;text-decoration:line-through;\">do what they want with their </span><span style=\"color:red;font-weight:700;\">make choices about our </span>own <span style=\"color:red;font-weight:700;text-decoration:line-through;\">bodies. They aren't </span><span style=\"color:red;font-weight:700;\">bodies without interference from the government. If we are not </span>harming <span style=\"color:red;font-weight:700;text-decoration:line-through;\">anyone, so </span><span style=\"color:red;font-weight:700;\">anyone else, </span>there <span style=\"color:red;font-weight:700;text-decoration:line-through;\">really </span>is no reason to prevent <span style=\"color:red;font-weight:700;text-decoration:line-through;\">them </span><span style=\"color:red;font-weight:700;\">us </span>from <span style=\"color:red;font-weight:700;text-decoration:line-through;\">having a good time. 2. There are </span><span style=\"color:red;font-weight:700;\">enjoying ourselves. Additionally, it is hypocritical to allow the consumption of </span>more harmful <span style=\"color:red;font-weight:700;text-decoration:line-through;\">drugs such as </span><span style=\"color:red;font-weight:700;\">substances like </span>alcohol and tobacco <span style=\"color:red;font-weight:700;\">while criminalizing the use of cannabis, </span>which <span style=\"color:red;font-weight:700;text-decoration:line-through;\">are legalized. If it's okay </span><span style=\"color:red;font-weight:700;\">is less harmful. Legalizing cannabis would also allow </span>for <span style=\"color:red;font-weight:700;text-decoration:line-through;\">those things to be consumed than it's certainly okay for </span><span style=\"color:red;font-weight:700;\">regulation and oversight by </span>the <span style=\"color:red;font-weight:700;text-decoration:line-through;\">less harmful cannabis to be legalized. 3. If Cannabis </span><span style=\"color:red;font-weight:700;\">FDA and government, which </span>is <span style=\"color:red;font-weight:700;text-decoration:line-through;\">legalized it can be regulated. At this point there is no Fda or government oversight of </span><span style=\"color:red;font-weight:700;\">currently lacking in </span>the <span style=\"color:red;font-weight:700;\">unregulated </span>cannabis market."
      ],
      "text/plain": [
       "<IPython.core.display.Markdown object>"
      ]
     },
     "metadata": {},
     "output_type": "display_data"
    },
    {
     "name": "stdout",
     "output_type": "stream",
     "text": [
      "\n",
      "ideology-style - Transform the following argument to an effective argument by maintaining the original length for readers with a {ideology} political ideology by changing the style of the text only:\n"
     ]
    },
    {
     "data": {
      "text/markdown": [
       "<span style=\"color:red;font-weight:700;text-decoration:line-through;\">People should be allowed </span><span style=\"color:red;font-weight:700;\">Individuals have the right </span>to <span style=\"color:red;font-weight:700;text-decoration:line-through;\">do what they want with </span><span style=\"color:red;font-weight:700;\">make choices regarding </span>their own <span style=\"color:red;font-weight:700;text-decoration:line-through;\">bodies. They aren't harming anyone, so </span><span style=\"color:red;font-weight:700;\">bodies without interference. These choices do not harm others, and therefore should not be restricted. Additionally, it is worth noting that </span>there <span style=\"color:red;font-weight:700;text-decoration:line-through;\">really is no reason to prevent them from having a good time. 2. There </span>are <span style=\"color:red;font-weight:700;text-decoration:line-through;\">more harmful drugs </span><span style=\"color:red;font-weight:700;\">other substances, </span>such as alcohol and <span style=\"color:red;font-weight:700;text-decoration:line-through;\">tobacco </span><span style=\"color:red;font-weight:700;\">tobacco, </span>which are <span style=\"color:red;font-weight:700;text-decoration:line-through;\">legalized. </span><span style=\"color:red;font-weight:700;\">legal despite being more harmful than cannabis. </span>If <span style=\"color:red;font-weight:700;text-decoration:line-through;\">it's okay </span><span style=\"color:red;font-weight:700;\">these substances are allowed, then it is reasonable to legalize cannabis, which is less harmful. Furthermore, legalization would allow </span>for <span style=\"color:red;font-weight:700;text-decoration:line-through;\">those things to be consumed than it's certainly okay for </span><span style=\"color:red;font-weight:700;\">regulation and oversight by </span>the <span style=\"color:red;font-weight:700;text-decoration:line-through;\">less harmful cannabis to be legalized. 3. If Cannabis </span><span style=\"color:red;font-weight:700;\">government, which </span>is <span style=\"color:red;font-weight:700;text-decoration:line-through;\">legalized it can be regulated. At this point there is no Fda or government oversight of </span><span style=\"color:red;font-weight:700;\">currently lacking in </span>the cannabis market."
      ],
      "text/plain": [
       "<IPython.core.display.Markdown object>"
      ]
     },
     "metadata": {},
     "output_type": "display_data"
    },
    {
     "name": "stdout",
     "output_type": "stream",
     "text": [
      "\n",
      "all - Transform the following argument to an effective argument by maintaining the original length for readers with a {ideology} political ideology by preserving the content of the argument and by changing the style of the text only:\n"
     ]
    },
    {
     "data": {
      "text/markdown": [
       "<span style=\"color:red;font-weight:700;text-decoration:line-through;\">People should be allowed </span><span style=\"color:red;font-weight:700;\">Individuals have the right </span>to <span style=\"color:red;font-weight:700;text-decoration:line-through;\">do what they want with </span><span style=\"color:red;font-weight:700;\">make decisions about </span>their own <span style=\"color:red;font-weight:700;text-decoration:line-through;\">bodies. They aren't harming anyone, so there really </span><span style=\"color:red;font-weight:700;\">bodies without interference. This includes the use of cannabis, which </span>is <span style=\"color:red;font-weight:700;text-decoration:line-through;\">no reason to prevent them from having a good time. 2. There are more </span><span style=\"color:red;font-weight:700;\">less </span>harmful <span style=\"color:red;font-weight:700;text-decoration:line-through;\">drugs such as </span><span style=\"color:red;font-weight:700;\">than other legal substances like </span>alcohol and <span style=\"color:red;font-weight:700;text-decoration:line-through;\">tobacco </span><span style=\"color:red;font-weight:700;\">tobacco. Legalizing cannabis would allow for regulation and oversight by the government, </span>which <span style=\"color:red;font-weight:700;text-decoration:line-through;\">are legalized. If it's okay for those things to be consumed than it's certainly okay for </span><span style=\"color:red;font-weight:700;\">is currently lacking in </span>the <span style=\"color:red;font-weight:700;text-decoration:line-through;\">less harmful cannabis to be legalized. 3. If Cannabis is legalized it can be regulated. At this point there is no Fda or government oversight of the cannabis </span><span style=\"color:red;font-weight:700;\">unregulated </span>market."
      ],
      "text/plain": [
       "<IPython.core.display.Markdown object>"
      ]
     },
     "metadata": {},
     "output_type": "display_data"
    }
   ],
   "source": [
    "for k, v in result_dict.items():\n",
    "    print(f\"\\n{k} - {prompt_dict[k]}\")\n",
    "    diff = Redlines(ineffective_argument,v)\n",
    "    display(Markdown(diff.output_markdown))"
   ]
  },
  {
   "cell_type": "code",
   "execution_count": 22,
   "metadata": {},
   "outputs": [
    {
     "name": "stdout",
     "output_type": "stream",
     "text": [
      "\n",
      "basic VS. ideology\n",
      "------------------\n"
     ]
    },
    {
     "data": {
      "text/markdown": [
       "People should have the freedom to make choices about their own bodies without interference. This includes the choice to use cannabis, which is less harmful than other legal substances like alcohol and tobacco. If these substances are allowed to be consumed, then it only makes sense to legalize cannabis as well. In fact, legalizing cannabis would allow for regulation and oversight by the government, which is currently lacking in the unregulated cannabis market. <span style=\"color:red;font-weight:700;text-decoration:line-through;\">Therefore, </span><span style=\"color:red;font-weight:700;\">By legalizing cannabis, we can ensure that </span>it is <span style=\"color:red;font-weight:700;text-decoration:line-through;\">time to legalize cannabis </span><span style=\"color:red;font-weight:700;\">used safely </span>and <span style=\"color:red;font-weight:700;text-decoration:line-through;\">give people the freedom to make their own choices while also ensuring their safety through proper regulation.</span><span style=\"color:red;font-weight:700;\">responsibly.</span>"
      ],
      "text/plain": [
       "<IPython.core.display.Markdown object>"
      ]
     },
     "metadata": {},
     "output_type": "display_data"
    },
    {
     "name": "stdout",
     "output_type": "stream",
     "text": [
      "\n",
      "basic VS. content\n",
      "-----------------\n"
     ]
    },
    {
     "data": {
      "text/markdown": [
       "<span style=\"color:red;font-weight:700;text-decoration:line-through;\">People </span><span style=\"color:red;font-weight:700;\">The argument for legalizing cannabis is a matter of personal freedom and responsibility. Individuals </span>should have the <span style=\"color:red;font-weight:700;text-decoration:line-through;\">freedom </span><span style=\"color:red;font-weight:700;\">right </span>to make choices about their own bodies without <span style=\"color:red;font-weight:700;text-decoration:line-through;\">interference. This includes </span><span style=\"color:red;font-weight:700;\">interference from </span>the <span style=\"color:red;font-weight:700;text-decoration:line-through;\">choice to use cannabis, which </span><span style=\"color:red;font-weight:700;\">government. Cannabis </span>is less harmful than other legal substances <span style=\"color:red;font-weight:700;text-decoration:line-through;\">like </span><span style=\"color:red;font-weight:700;\">such as </span>alcohol and <span style=\"color:red;font-weight:700;text-decoration:line-through;\">tobacco. If these substances are allowed </span><span style=\"color:red;font-weight:700;\">tobacco, so there is no reason for it </span>to <span style=\"color:red;font-weight:700;text-decoration:line-through;\">be consumed, then it only makes sense to legalize cannabis as well. </span><span style=\"color:red;font-weight:700;\">remain illegal. </span>In fact, legalizing cannabis would allow for regulation and oversight by the government, which is currently lacking in the unregulated cannabis market. Therefore, it is time <span style=\"color:red;font-weight:700;\">for the government </span>to <span style=\"color:red;font-weight:700;\">recognize the rights of individuals and </span>legalize <span style=\"color:red;font-weight:700;text-decoration:line-through;\">cannabis and give people the freedom to make their own choices while also ensuring their safety through proper regulation.</span><span style=\"color:red;font-weight:700;\">cannabis.</span>"
      ],
      "text/plain": [
       "<IPython.core.display.Markdown object>"
      ]
     },
     "metadata": {},
     "output_type": "display_data"
    },
    {
     "name": "stdout",
     "output_type": "stream",
     "text": [
      "\n",
      "basic VS. style\n",
      "---------------\n"
     ]
    },
    {
     "data": {
      "text/markdown": [
       "<span style=\"color:red;font-weight:700;text-decoration:line-through;\">People should </span><span style=\"color:red;font-weight:700;\">It is imperative that individuals </span>have the freedom to make choices <span style=\"color:red;font-weight:700;text-decoration:line-through;\">about </span><span style=\"color:red;font-weight:700;\">regarding </span>their own bodies without interference. <span style=\"color:red;font-weight:700;text-decoration:line-through;\">This includes the choice to </span><span style=\"color:red;font-weight:700;\">The </span>use <span style=\"color:red;font-weight:700;text-decoration:line-through;\">cannabis, which is less </span><span style=\"color:red;font-weight:700;\">of substances that do not harm others should not be prohibited. In fact, there are already legal substances such as alcohol and tobacco that are more </span>harmful than <span style=\"color:red;font-weight:700;text-decoration:line-through;\">other legal substances like alcohol </span><span style=\"color:red;font-weight:700;\">cannabis. Therefore, it is only logical that cannabis should also be legalized. By doing so, it can be regulated </span>and <span style=\"color:red;font-weight:700;text-decoration:line-through;\">tobacco. If these substances are allowed to be consumed, then it only makes sense to legalize cannabis as well. In fact, legalizing cannabis would allow for regulation and oversight </span><span style=\"color:red;font-weight:700;\">monitored </span>by the government, which is currently <span style=\"color:red;font-weight:700;text-decoration:line-through;\">lacking in </span><span style=\"color:red;font-weight:700;\">not </span>the <span style=\"color:red;font-weight:700;text-decoration:line-through;\">unregulated </span><span style=\"color:red;font-weight:700;\">case. This would ensure that the </span>cannabis <span style=\"color:red;font-weight:700;text-decoration:line-through;\">market. Therefore, it </span><span style=\"color:red;font-weight:700;\">market </span>is <span style=\"color:red;font-weight:700;text-decoration:line-through;\">time to legalize cannabis </span><span style=\"color:red;font-weight:700;\">safe </span>and <span style=\"color:red;font-weight:700;text-decoration:line-through;\">give people the freedom to make their own choices while also ensuring their safety through proper regulation.</span><span style=\"color:red;font-weight:700;\">controlled.</span>"
      ],
      "text/plain": [
       "<IPython.core.display.Markdown object>"
      ]
     },
     "metadata": {},
     "output_type": "display_data"
    },
    {
     "name": "stdout",
     "output_type": "stream",
     "text": [
      "\n",
      "basic VS. ideology-content\n",
      "--------------------------\n"
     ]
    },
    {
     "data": {
      "text/markdown": [
       "<span style=\"color:red;font-weight:700;text-decoration:line-through;\">People </span><span style=\"color:red;font-weight:700;\">As individuals, we </span>should have the freedom to make choices about <span style=\"color:red;font-weight:700;text-decoration:line-through;\">their </span><span style=\"color:red;font-weight:700;\">our </span>own bodies without <span style=\"color:red;font-weight:700;text-decoration:line-through;\">interference. This includes </span><span style=\"color:red;font-weight:700;\">interference from </span>the <span style=\"color:red;font-weight:700;text-decoration:line-through;\">choice </span><span style=\"color:red;font-weight:700;\">government. If we are not harming anyone else, there is no reason </span>to <span style=\"color:red;font-weight:700;\">prevent us from enjoying ourselves. Additionally, it is hypocritical to allow the consumption of more harmful substances like alcohol and tobacco while criminalizing the </span>use <span style=\"color:red;font-weight:700;\">of </span>cannabis, which is less <span style=\"color:red;font-weight:700;text-decoration:line-through;\">harmful than other legal substances like alcohol and tobacco. If these substances are allowed to be consumed, then it only makes sense to legalize cannabis as well. In fact, legalizing </span><span style=\"color:red;font-weight:700;\">harmful. Legalizing </span>cannabis would <span style=\"color:red;font-weight:700;\">also </span>allow for regulation and oversight by the <span style=\"color:red;font-weight:700;\">FDA and </span>government, which is currently lacking in the unregulated cannabis <span style=\"color:red;font-weight:700;text-decoration:line-through;\">market. Therefore, it is time to legalize cannabis and give people the freedom to make their own choices while also ensuring their safety through proper regulation.</span><span style=\"color:red;font-weight:700;\">market.</span>"
      ],
      "text/plain": [
       "<IPython.core.display.Markdown object>"
      ]
     },
     "metadata": {},
     "output_type": "display_data"
    },
    {
     "name": "stdout",
     "output_type": "stream",
     "text": [
      "\n",
      "basic VS. ideology-style\n",
      "------------------------\n"
     ]
    },
    {
     "data": {
      "text/markdown": [
       "<span style=\"color:red;font-weight:700;text-decoration:line-through;\">People should </span><span style=\"color:red;font-weight:700;\">Individuals </span>have the <span style=\"color:red;font-weight:700;text-decoration:line-through;\">freedom </span><span style=\"color:red;font-weight:700;\">right </span>to make choices <span style=\"color:red;font-weight:700;text-decoration:line-through;\">about </span><span style=\"color:red;font-weight:700;\">regarding </span>their own bodies without interference. <span style=\"color:red;font-weight:700;text-decoration:line-through;\">This includes the choice </span><span style=\"color:red;font-weight:700;\">These choices do not harm others, and therefore should not be restricted. Additionally, it is worth noting that there are other substances, such as alcohol and tobacco, which are legal despite being more harmful than cannabis. If these substances are allowed, then it is reasonable </span>to <span style=\"color:red;font-weight:700;text-decoration:line-through;\">use </span><span style=\"color:red;font-weight:700;\">legalize </span>cannabis, which is less <span style=\"color:red;font-weight:700;text-decoration:line-through;\">harmful than other legal substances like alcohol and tobacco. If these substances are allowed to be consumed, then it only makes sense to legalize cannabis as well. In fact, legalizing cannabis </span><span style=\"color:red;font-weight:700;\">harmful. Furthermore, legalization </span>would allow for regulation and oversight by the government, which is currently lacking in the <span style=\"color:red;font-weight:700;text-decoration:line-through;\">unregulated </span>cannabis <span style=\"color:red;font-weight:700;text-decoration:line-through;\">market. Therefore, it is time to legalize cannabis and give people the freedom to make their own choices while also ensuring their safety through proper regulation.</span><span style=\"color:red;font-weight:700;\">market.</span>"
      ],
      "text/plain": [
       "<IPython.core.display.Markdown object>"
      ]
     },
     "metadata": {},
     "output_type": "display_data"
    },
    {
     "name": "stdout",
     "output_type": "stream",
     "text": [
      "\n",
      "basic VS. all\n",
      "-------------\n"
     ]
    },
    {
     "data": {
      "text/markdown": [
       "<span style=\"color:red;font-weight:700;text-decoration:line-through;\">People should </span><span style=\"color:red;font-weight:700;\">Individuals </span>have the <span style=\"color:red;font-weight:700;text-decoration:line-through;\">freedom </span><span style=\"color:red;font-weight:700;\">right </span>to make <span style=\"color:red;font-weight:700;text-decoration:line-through;\">choices </span><span style=\"color:red;font-weight:700;\">decisions </span>about their own bodies without interference. This includes the <span style=\"color:red;font-weight:700;text-decoration:line-through;\">choice to </span>use <span style=\"color:red;font-weight:700;\">of </span>cannabis, which is less harmful than other legal substances like alcohol and tobacco. <span style=\"color:red;font-weight:700;text-decoration:line-through;\">If these substances are allowed to be consumed, then it only makes sense to legalize cannabis as well. In fact, legalizing </span><span style=\"color:red;font-weight:700;\">Legalizing </span>cannabis would allow for regulation and oversight by the government, which is currently lacking in the unregulated <span style=\"color:red;font-weight:700;text-decoration:line-through;\">cannabis market. Therefore, it is time to legalize cannabis and give people the freedom to make their own choices while also ensuring their safety through proper regulation.</span><span style=\"color:red;font-weight:700;\">market.</span>"
      ],
      "text/plain": [
       "<IPython.core.display.Markdown object>"
      ]
     },
     "metadata": {},
     "output_type": "display_data"
    },
    {
     "name": "stdout",
     "output_type": "stream",
     "text": [
      "\n",
      "ideology VS. content\n",
      "--------------------\n"
     ]
    },
    {
     "data": {
      "text/markdown": [
       "<span style=\"color:red;font-weight:700;text-decoration:line-through;\">People </span><span style=\"color:red;font-weight:700;\">The argument for legalizing cannabis is a matter of personal freedom and responsibility. Individuals </span>should have the <span style=\"color:red;font-weight:700;text-decoration:line-through;\">freedom </span><span style=\"color:red;font-weight:700;\">right </span>to make choices about their own bodies without <span style=\"color:red;font-weight:700;text-decoration:line-through;\">interference. This includes </span><span style=\"color:red;font-weight:700;\">interference from </span>the <span style=\"color:red;font-weight:700;text-decoration:line-through;\">choice to use cannabis, which </span><span style=\"color:red;font-weight:700;\">government. Cannabis </span>is less harmful than other legal substances <span style=\"color:red;font-weight:700;text-decoration:line-through;\">like </span><span style=\"color:red;font-weight:700;\">such as </span>alcohol and <span style=\"color:red;font-weight:700;text-decoration:line-through;\">tobacco. If these substances are allowed </span><span style=\"color:red;font-weight:700;\">tobacco, so there is no reason for it </span>to <span style=\"color:red;font-weight:700;text-decoration:line-through;\">be consumed, then it only makes sense to legalize cannabis as well. </span><span style=\"color:red;font-weight:700;\">remain illegal. </span>In fact, legalizing cannabis would allow for regulation and oversight by the government, which is currently lacking in the unregulated cannabis market. <span style=\"color:red;font-weight:700;text-decoration:line-through;\">By legalizing cannabis, we can ensure that </span><span style=\"color:red;font-weight:700;\">Therefore, </span>it is <span style=\"color:red;font-weight:700;text-decoration:line-through;\">used safely </span><span style=\"color:red;font-weight:700;\">time for the government to recognize the rights of individuals </span>and <span style=\"color:red;font-weight:700;text-decoration:line-through;\">responsibly.</span><span style=\"color:red;font-weight:700;\">legalize cannabis.</span>"
      ],
      "text/plain": [
       "<IPython.core.display.Markdown object>"
      ]
     },
     "metadata": {},
     "output_type": "display_data"
    },
    {
     "name": "stdout",
     "output_type": "stream",
     "text": [
      "\n",
      "ideology VS. style\n",
      "------------------\n"
     ]
    },
    {
     "data": {
      "text/markdown": [
       "<span style=\"color:red;font-weight:700;text-decoration:line-through;\">People should </span><span style=\"color:red;font-weight:700;\">It is imperative that individuals </span>have the freedom to make choices <span style=\"color:red;font-weight:700;text-decoration:line-through;\">about </span><span style=\"color:red;font-weight:700;\">regarding </span>their own bodies without interference. <span style=\"color:red;font-weight:700;text-decoration:line-through;\">This includes the choice to </span><span style=\"color:red;font-weight:700;\">The </span>use <span style=\"color:red;font-weight:700;text-decoration:line-through;\">cannabis, which is less </span><span style=\"color:red;font-weight:700;\">of substances that do not harm others should not be prohibited. In fact, there are already legal substances such as alcohol and tobacco that are more </span>harmful than <span style=\"color:red;font-weight:700;text-decoration:line-through;\">other legal substances like alcohol </span><span style=\"color:red;font-weight:700;\">cannabis. Therefore, it is only logical that cannabis should also be legalized. By doing so, it can be regulated </span>and <span style=\"color:red;font-weight:700;text-decoration:line-through;\">tobacco. If these substances are allowed to be consumed, then it only makes sense to legalize cannabis as well. In fact, legalizing cannabis would allow for regulation and oversight </span><span style=\"color:red;font-weight:700;\">monitored </span>by the government, which is currently <span style=\"color:red;font-weight:700;text-decoration:line-through;\">lacking in </span><span style=\"color:red;font-weight:700;\">not </span>the <span style=\"color:red;font-weight:700;text-decoration:line-through;\">unregulated cannabis market. By legalizing cannabis, we can </span><span style=\"color:red;font-weight:700;\">case. This would </span>ensure that <span style=\"color:red;font-weight:700;text-decoration:line-through;\">it </span><span style=\"color:red;font-weight:700;\">the cannabis market </span>is <span style=\"color:red;font-weight:700;text-decoration:line-through;\">used safely </span><span style=\"color:red;font-weight:700;\">safe </span>and <span style=\"color:red;font-weight:700;text-decoration:line-through;\">responsibly.</span><span style=\"color:red;font-weight:700;\">controlled.</span>"
      ],
      "text/plain": [
       "<IPython.core.display.Markdown object>"
      ]
     },
     "metadata": {},
     "output_type": "display_data"
    },
    {
     "name": "stdout",
     "output_type": "stream",
     "text": [
      "\n",
      "ideology VS. ideology-content\n",
      "-----------------------------\n"
     ]
    },
    {
     "data": {
      "text/markdown": [
       "<span style=\"color:red;font-weight:700;text-decoration:line-through;\">People </span><span style=\"color:red;font-weight:700;\">As individuals, we </span>should have the freedom to make choices about <span style=\"color:red;font-weight:700;text-decoration:line-through;\">their </span><span style=\"color:red;font-weight:700;\">our </span>own bodies without <span style=\"color:red;font-weight:700;text-decoration:line-through;\">interference. This includes </span><span style=\"color:red;font-weight:700;\">interference from </span>the <span style=\"color:red;font-weight:700;text-decoration:line-through;\">choice </span><span style=\"color:red;font-weight:700;\">government. If we are not harming anyone else, there is no reason </span>to <span style=\"color:red;font-weight:700;\">prevent us from enjoying ourselves. Additionally, it is hypocritical to allow the consumption of more harmful substances like alcohol and tobacco while criminalizing the </span>use <span style=\"color:red;font-weight:700;\">of </span>cannabis, which is less <span style=\"color:red;font-weight:700;text-decoration:line-through;\">harmful than other legal substances like alcohol and tobacco. If these substances are allowed to be consumed, then it only makes sense to legalize cannabis as well. In fact, legalizing </span><span style=\"color:red;font-weight:700;\">harmful. Legalizing </span>cannabis would <span style=\"color:red;font-weight:700;\">also </span>allow for regulation and oversight by the <span style=\"color:red;font-weight:700;\">FDA and </span>government, which is currently lacking in the unregulated cannabis <span style=\"color:red;font-weight:700;text-decoration:line-through;\">market. By legalizing cannabis, we can ensure that it is used safely and responsibly.</span><span style=\"color:red;font-weight:700;\">market.</span>"
      ],
      "text/plain": [
       "<IPython.core.display.Markdown object>"
      ]
     },
     "metadata": {},
     "output_type": "display_data"
    },
    {
     "name": "stdout",
     "output_type": "stream",
     "text": [
      "\n",
      "ideology VS. ideology-style\n",
      "---------------------------\n"
     ]
    },
    {
     "data": {
      "text/markdown": [
       "<span style=\"color:red;font-weight:700;text-decoration:line-through;\">People should </span><span style=\"color:red;font-weight:700;\">Individuals </span>have the <span style=\"color:red;font-weight:700;text-decoration:line-through;\">freedom </span><span style=\"color:red;font-weight:700;\">right </span>to make choices <span style=\"color:red;font-weight:700;text-decoration:line-through;\">about </span><span style=\"color:red;font-weight:700;\">regarding </span>their own bodies without interference. <span style=\"color:red;font-weight:700;text-decoration:line-through;\">This includes the choice </span><span style=\"color:red;font-weight:700;\">These choices do not harm others, and therefore should not be restricted. Additionally, it is worth noting that there are other substances, such as alcohol and tobacco, which are legal despite being more harmful than cannabis. If these substances are allowed, then it is reasonable </span>to <span style=\"color:red;font-weight:700;text-decoration:line-through;\">use </span><span style=\"color:red;font-weight:700;\">legalize </span>cannabis, which is less <span style=\"color:red;font-weight:700;text-decoration:line-through;\">harmful than other legal substances like alcohol and tobacco. If these substances are allowed to be consumed, then it only makes sense to legalize cannabis as well. In fact, legalizing cannabis </span><span style=\"color:red;font-weight:700;\">harmful. Furthermore, legalization </span>would allow for regulation and oversight by the government, which is currently lacking in the <span style=\"color:red;font-weight:700;text-decoration:line-through;\">unregulated </span>cannabis <span style=\"color:red;font-weight:700;text-decoration:line-through;\">market. By legalizing cannabis, we can ensure that it is used safely and responsibly.</span><span style=\"color:red;font-weight:700;\">market.</span>"
      ],
      "text/plain": [
       "<IPython.core.display.Markdown object>"
      ]
     },
     "metadata": {},
     "output_type": "display_data"
    },
    {
     "name": "stdout",
     "output_type": "stream",
     "text": [
      "\n",
      "ideology VS. all\n",
      "----------------\n"
     ]
    },
    {
     "data": {
      "text/markdown": [
       "<span style=\"color:red;font-weight:700;text-decoration:line-through;\">People should </span><span style=\"color:red;font-weight:700;\">Individuals </span>have the <span style=\"color:red;font-weight:700;text-decoration:line-through;\">freedom </span><span style=\"color:red;font-weight:700;\">right </span>to make <span style=\"color:red;font-weight:700;text-decoration:line-through;\">choices </span><span style=\"color:red;font-weight:700;\">decisions </span>about their own bodies without interference. This includes the <span style=\"color:red;font-weight:700;text-decoration:line-through;\">choice to </span>use <span style=\"color:red;font-weight:700;\">of </span>cannabis, which is less harmful than other legal substances like alcohol and tobacco. <span style=\"color:red;font-weight:700;text-decoration:line-through;\">If these substances are allowed to be consumed, then it only makes sense to legalize cannabis as well. In fact, legalizing </span><span style=\"color:red;font-weight:700;\">Legalizing </span>cannabis would allow for regulation and oversight by the government, which is currently lacking in the unregulated <span style=\"color:red;font-weight:700;text-decoration:line-through;\">cannabis market. By legalizing cannabis, we can ensure that it is used safely and responsibly.</span><span style=\"color:red;font-weight:700;\">market.</span>"
      ],
      "text/plain": [
       "<IPython.core.display.Markdown object>"
      ]
     },
     "metadata": {},
     "output_type": "display_data"
    },
    {
     "name": "stdout",
     "output_type": "stream",
     "text": [
      "\n",
      "content VS. style\n",
      "-----------------\n"
     ]
    },
    {
     "data": {
      "text/markdown": [
       "<span style=\"color:red;font-weight:700;text-decoration:line-through;\">The argument for legalizing cannabis </span><span style=\"color:red;font-weight:700;\">It </span>is <span style=\"color:red;font-weight:700;text-decoration:line-through;\">a matter of personal freedom and responsibility. Individuals should </span><span style=\"color:red;font-weight:700;\">imperative that individuals </span>have the <span style=\"color:red;font-weight:700;text-decoration:line-through;\">right </span><span style=\"color:red;font-weight:700;\">freedom </span>to make choices <span style=\"color:red;font-weight:700;text-decoration:line-through;\">about </span><span style=\"color:red;font-weight:700;\">regarding </span>their own bodies without <span style=\"color:red;font-weight:700;text-decoration:line-through;\">interference from the government. Cannabis is less harmful than other </span><span style=\"color:red;font-weight:700;\">interference. The use of substances that do not harm others should not be prohibited. In fact, there are already </span>legal substances such as alcohol and <span style=\"color:red;font-weight:700;text-decoration:line-through;\">tobacco, so there </span><span style=\"color:red;font-weight:700;\">tobacco that are more harmful than cannabis. Therefore, it </span>is <span style=\"color:red;font-weight:700;text-decoration:line-through;\">no reason for </span><span style=\"color:red;font-weight:700;\">only logical that cannabis should also be legalized. By doing so, </span>it <span style=\"color:red;font-weight:700;text-decoration:line-through;\">to remain illegal. In fact, legalizing cannabis would allow for regulation </span><span style=\"color:red;font-weight:700;\">can be regulated </span>and <span style=\"color:red;font-weight:700;text-decoration:line-through;\">oversight </span><span style=\"color:red;font-weight:700;\">monitored </span>by the government, which is currently <span style=\"color:red;font-weight:700;text-decoration:line-through;\">lacking in </span><span style=\"color:red;font-weight:700;\">not </span>the <span style=\"color:red;font-weight:700;text-decoration:line-through;\">unregulated </span><span style=\"color:red;font-weight:700;\">case. This would ensure that the </span>cannabis <span style=\"color:red;font-weight:700;text-decoration:line-through;\">market. Therefore, it </span><span style=\"color:red;font-weight:700;\">market </span>is <span style=\"color:red;font-weight:700;text-decoration:line-through;\">time for the government to recognize the rights of individuals </span><span style=\"color:red;font-weight:700;\">safe </span>and <span style=\"color:red;font-weight:700;text-decoration:line-through;\">legalize cannabis.</span><span style=\"color:red;font-weight:700;\">controlled.</span>"
      ],
      "text/plain": [
       "<IPython.core.display.Markdown object>"
      ]
     },
     "metadata": {},
     "output_type": "display_data"
    },
    {
     "name": "stdout",
     "output_type": "stream",
     "text": [
      "\n",
      "content VS. ideology-content\n",
      "----------------------------\n"
     ]
    },
    {
     "data": {
      "text/markdown": [
       "<span style=\"color:red;font-weight:700;text-decoration:line-through;\">The argument for legalizing cannabis is a matter of personal freedom and responsibility. Individuals </span><span style=\"color:red;font-weight:700;\">As individuals, we </span>should have the <span style=\"color:red;font-weight:700;text-decoration:line-through;\">right </span><span style=\"color:red;font-weight:700;\">freedom </span>to make choices about <span style=\"color:red;font-weight:700;text-decoration:line-through;\">their </span><span style=\"color:red;font-weight:700;\">our </span>own bodies without interference from the government. <span style=\"color:red;font-weight:700;text-decoration:line-through;\">Cannabis is less harmful than other legal substances such as alcohol and tobacco, so </span><span style=\"color:red;font-weight:700;\">If we are not harming anyone else, </span>there is no reason <span style=\"color:red;font-weight:700;text-decoration:line-through;\">for </span><span style=\"color:red;font-weight:700;\">to prevent us from enjoying ourselves. Additionally, </span>it <span style=\"color:red;font-weight:700;\">is hypocritical </span>to <span style=\"color:red;font-weight:700;text-decoration:line-through;\">remain illegal. In fact, legalizing </span><span style=\"color:red;font-weight:700;\">allow the consumption of more harmful substances like alcohol and tobacco while criminalizing the use of cannabis, which is less harmful. Legalizing </span>cannabis would <span style=\"color:red;font-weight:700;\">also </span>allow for regulation and oversight by the <span style=\"color:red;font-weight:700;\">FDA and </span>government, which is currently lacking in the unregulated cannabis <span style=\"color:red;font-weight:700;text-decoration:line-through;\">market. Therefore, it is time for the government to recognize the rights of individuals and legalize cannabis.</span><span style=\"color:red;font-weight:700;\">market.</span>"
      ],
      "text/plain": [
       "<IPython.core.display.Markdown object>"
      ]
     },
     "metadata": {},
     "output_type": "display_data"
    },
    {
     "name": "stdout",
     "output_type": "stream",
     "text": [
      "\n",
      "content VS. ideology-style\n",
      "--------------------------\n"
     ]
    },
    {
     "data": {
      "text/markdown": [
       "<span style=\"color:red;font-weight:700;text-decoration:line-through;\">The argument for legalizing cannabis is a matter of personal freedom and responsibility. </span>Individuals <span style=\"color:red;font-weight:700;text-decoration:line-through;\">should </span>have the right to make choices <span style=\"color:red;font-weight:700;text-decoration:line-through;\">about </span><span style=\"color:red;font-weight:700;\">regarding </span>their own bodies without <span style=\"color:red;font-weight:700;text-decoration:line-through;\">interference from the government. Cannabis </span><span style=\"color:red;font-weight:700;\">interference. These choices do not harm others, and therefore should not be restricted. Additionally, it </span>is <span style=\"color:red;font-weight:700;text-decoration:line-through;\">less harmful than </span><span style=\"color:red;font-weight:700;\">worth noting that there are </span>other <span style=\"color:red;font-weight:700;text-decoration:line-through;\">legal substances </span><span style=\"color:red;font-weight:700;\">substances, </span>such as alcohol and tobacco, <span style=\"color:red;font-weight:700;text-decoration:line-through;\">so there </span><span style=\"color:red;font-weight:700;\">which are legal despite being more harmful than cannabis. If these substances are allowed, then it </span>is <span style=\"color:red;font-weight:700;text-decoration:line-through;\">no reason for it </span><span style=\"color:red;font-weight:700;\">reasonable </span>to <span style=\"color:red;font-weight:700;text-decoration:line-through;\">remain illegal. In fact, legalizing cannabis </span><span style=\"color:red;font-weight:700;\">legalize cannabis, which is less harmful. Furthermore, legalization </span>would allow for regulation and oversight by the government, which is currently lacking in the <span style=\"color:red;font-weight:700;text-decoration:line-through;\">unregulated </span>cannabis <span style=\"color:red;font-weight:700;text-decoration:line-through;\">market. Therefore, it is time for the government to recognize the rights of individuals and legalize cannabis.</span><span style=\"color:red;font-weight:700;\">market.</span>"
      ],
      "text/plain": [
       "<IPython.core.display.Markdown object>"
      ]
     },
     "metadata": {},
     "output_type": "display_data"
    },
    {
     "name": "stdout",
     "output_type": "stream",
     "text": [
      "\n",
      "content VS. all\n",
      "---------------\n"
     ]
    },
    {
     "data": {
      "text/markdown": [
       "<span style=\"color:red;font-weight:700;text-decoration:line-through;\">The argument for legalizing cannabis is a matter of personal freedom and responsibility. </span>Individuals <span style=\"color:red;font-weight:700;text-decoration:line-through;\">should </span>have the right to make <span style=\"color:red;font-weight:700;text-decoration:line-through;\">choices </span><span style=\"color:red;font-weight:700;\">decisions </span>about their own bodies without <span style=\"color:red;font-weight:700;text-decoration:line-through;\">interference from </span><span style=\"color:red;font-weight:700;\">interference. This includes </span>the <span style=\"color:red;font-weight:700;text-decoration:line-through;\">government. Cannabis </span><span style=\"color:red;font-weight:700;\">use of cannabis, which </span>is less harmful than other legal substances <span style=\"color:red;font-weight:700;text-decoration:line-through;\">such as </span><span style=\"color:red;font-weight:700;\">like </span>alcohol and <span style=\"color:red;font-weight:700;text-decoration:line-through;\">tobacco, so there is no reason for it to remain illegal. In fact, legalizing </span><span style=\"color:red;font-weight:700;\">tobacco. Legalizing </span>cannabis would allow for regulation and oversight by the government, which is currently lacking in the unregulated <span style=\"color:red;font-weight:700;text-decoration:line-through;\">cannabis market. Therefore, it is time for the government to recognize the rights of individuals and legalize cannabis.</span><span style=\"color:red;font-weight:700;\">market.</span>"
      ],
      "text/plain": [
       "<IPython.core.display.Markdown object>"
      ]
     },
     "metadata": {},
     "output_type": "display_data"
    },
    {
     "name": "stdout",
     "output_type": "stream",
     "text": [
      "\n",
      "style VS. ideology-content\n",
      "--------------------------\n"
     ]
    },
    {
     "data": {
      "text/markdown": [
       "<span style=\"color:red;font-weight:700;text-decoration:line-through;\">It is imperative that individuals </span><span style=\"color:red;font-weight:700;\">As individuals, we should </span>have the freedom to make choices <span style=\"color:red;font-weight:700;text-decoration:line-through;\">regarding their </span><span style=\"color:red;font-weight:700;\">about our </span>own bodies without <span style=\"color:red;font-weight:700;text-decoration:line-through;\">interference. The use </span><span style=\"color:red;font-weight:700;\">interference from the government. If we are not harming anyone else, there is no reason to prevent us from enjoying ourselves. Additionally, it is hypocritical to allow the consumption </span>of <span style=\"color:red;font-weight:700;\">more harmful </span>substances <span style=\"color:red;font-weight:700;text-decoration:line-through;\">that do not harm others should not be prohibited. In fact, there are already legal substances such as </span><span style=\"color:red;font-weight:700;\">like </span>alcohol and tobacco <span style=\"color:red;font-weight:700;text-decoration:line-through;\">that are more harmful than cannabis. Therefore, it </span><span style=\"color:red;font-weight:700;\">while criminalizing the use of cannabis, which </span>is <span style=\"color:red;font-weight:700;text-decoration:line-through;\">only logical that </span><span style=\"color:red;font-weight:700;\">less harmful. Legalizing </span>cannabis <span style=\"color:red;font-weight:700;text-decoration:line-through;\">should </span><span style=\"color:red;font-weight:700;\">would </span>also <span style=\"color:red;font-weight:700;text-decoration:line-through;\">be legalized. By doing so, it can be regulated </span><span style=\"color:red;font-weight:700;\">allow for regulation </span>and <span style=\"color:red;font-weight:700;text-decoration:line-through;\">monitored </span><span style=\"color:red;font-weight:700;\">oversight </span>by the <span style=\"color:red;font-weight:700;\">FDA and </span>government, which is currently <span style=\"color:red;font-weight:700;text-decoration:line-through;\">not </span><span style=\"color:red;font-weight:700;\">lacking in </span>the <span style=\"color:red;font-weight:700;text-decoration:line-through;\">case. This would ensure that the </span><span style=\"color:red;font-weight:700;\">unregulated </span>cannabis <span style=\"color:red;font-weight:700;text-decoration:line-through;\">market is safe and controlled.</span><span style=\"color:red;font-weight:700;\">market.</span>"
      ],
      "text/plain": [
       "<IPython.core.display.Markdown object>"
      ]
     },
     "metadata": {},
     "output_type": "display_data"
    },
    {
     "name": "stdout",
     "output_type": "stream",
     "text": [
      "\n",
      "style VS. ideology-style\n",
      "------------------------\n"
     ]
    },
    {
     "data": {
      "text/markdown": [
       "<span style=\"color:red;font-weight:700;text-decoration:line-through;\">It is imperative that individuals </span><span style=\"color:red;font-weight:700;\">Individuals </span>have the <span style=\"color:red;font-weight:700;text-decoration:line-through;\">freedom </span><span style=\"color:red;font-weight:700;\">right </span>to make choices regarding their own bodies without interference. <span style=\"color:red;font-weight:700;text-decoration:line-through;\">The use of substances that </span><span style=\"color:red;font-weight:700;\">These choices </span>do not harm <span style=\"color:red;font-weight:700;text-decoration:line-through;\">others </span><span style=\"color:red;font-weight:700;\">others, and therefore </span>should not be <span style=\"color:red;font-weight:700;text-decoration:line-through;\">prohibited. In fact, </span><span style=\"color:red;font-weight:700;\">restricted. Additionally, it is worth noting that </span>there are <span style=\"color:red;font-weight:700;text-decoration:line-through;\">already legal substances </span><span style=\"color:red;font-weight:700;\">other substances, </span>such as alcohol and <span style=\"color:red;font-weight:700;text-decoration:line-through;\">tobacco that </span><span style=\"color:red;font-weight:700;\">tobacco, which </span>are <span style=\"color:red;font-weight:700;\">legal despite being </span>more harmful than cannabis. <span style=\"color:red;font-weight:700;text-decoration:line-through;\">Therefore, </span><span style=\"color:red;font-weight:700;\">If these substances are allowed, then </span>it is <span style=\"color:red;font-weight:700;text-decoration:line-through;\">only logical that cannabis should also be legalized. By doing so, it can be regulated </span><span style=\"color:red;font-weight:700;\">reasonable to legalize cannabis, which is less harmful. Furthermore, legalization would allow for regulation </span>and <span style=\"color:red;font-weight:700;text-decoration:line-through;\">monitored </span><span style=\"color:red;font-weight:700;\">oversight </span>by the government, which is currently <span style=\"color:red;font-weight:700;text-decoration:line-through;\">not the case. This would ensure that </span><span style=\"color:red;font-weight:700;\">lacking in </span>the cannabis <span style=\"color:red;font-weight:700;text-decoration:line-through;\">market is safe and controlled.</span><span style=\"color:red;font-weight:700;\">market.</span>"
      ],
      "text/plain": [
       "<IPython.core.display.Markdown object>"
      ]
     },
     "metadata": {},
     "output_type": "display_data"
    },
    {
     "name": "stdout",
     "output_type": "stream",
     "text": [
      "\n",
      "style VS. all\n",
      "-------------\n"
     ]
    },
    {
     "data": {
      "text/markdown": [
       "<span style=\"color:red;font-weight:700;text-decoration:line-through;\">It is imperative that individuals </span><span style=\"color:red;font-weight:700;\">Individuals </span>have the <span style=\"color:red;font-weight:700;text-decoration:line-through;\">freedom </span><span style=\"color:red;font-weight:700;\">right </span>to make <span style=\"color:red;font-weight:700;text-decoration:line-through;\">choices regarding </span><span style=\"color:red;font-weight:700;\">decisions about </span>their own bodies without interference. <span style=\"color:red;font-weight:700;text-decoration:line-through;\">The </span><span style=\"color:red;font-weight:700;\">This includes the </span>use of <span style=\"color:red;font-weight:700;text-decoration:line-through;\">substances that do not harm others should not be prohibited. In fact, there are already </span><span style=\"color:red;font-weight:700;\">cannabis, which is less harmful than other </span>legal substances <span style=\"color:red;font-weight:700;text-decoration:line-through;\">such as </span><span style=\"color:red;font-weight:700;\">like </span>alcohol and <span style=\"color:red;font-weight:700;text-decoration:line-through;\">tobacco that are more harmful than cannabis. Therefore, it is only logical that </span><span style=\"color:red;font-weight:700;\">tobacco. Legalizing </span>cannabis <span style=\"color:red;font-weight:700;text-decoration:line-through;\">should also be legalized. By doing so, it can be regulated </span><span style=\"color:red;font-weight:700;\">would allow for regulation </span>and <span style=\"color:red;font-weight:700;text-decoration:line-through;\">monitored </span><span style=\"color:red;font-weight:700;\">oversight </span>by the government, which is currently <span style=\"color:red;font-weight:700;text-decoration:line-through;\">not </span><span style=\"color:red;font-weight:700;\">lacking in </span>the <span style=\"color:red;font-weight:700;text-decoration:line-through;\">case. This would ensure that the cannabis market is safe and controlled.</span><span style=\"color:red;font-weight:700;\">unregulated market.</span>"
      ],
      "text/plain": [
       "<IPython.core.display.Markdown object>"
      ]
     },
     "metadata": {},
     "output_type": "display_data"
    },
    {
     "name": "stdout",
     "output_type": "stream",
     "text": [
      "\n",
      "ideology-content VS. ideology-style\n",
      "-----------------------------------\n"
     ]
    },
    {
     "data": {
      "text/markdown": [
       "<span style=\"color:red;font-weight:700;text-decoration:line-through;\">As individuals, we should </span><span style=\"color:red;font-weight:700;\">Individuals </span>have the <span style=\"color:red;font-weight:700;text-decoration:line-through;\">freedom </span><span style=\"color:red;font-weight:700;\">right </span>to make choices <span style=\"color:red;font-weight:700;text-decoration:line-through;\">about our </span><span style=\"color:red;font-weight:700;\">regarding their </span>own bodies without <span style=\"color:red;font-weight:700;text-decoration:line-through;\">interference from the government. If we are </span><span style=\"color:red;font-weight:700;\">interference. These choices do </span>not <span style=\"color:red;font-weight:700;text-decoration:line-through;\">harming anyone else, there is no reason to prevent us from enjoying ourselves. </span><span style=\"color:red;font-weight:700;\">harm others, and therefore should not be restricted. </span>Additionally, it is <span style=\"color:red;font-weight:700;text-decoration:line-through;\">hypocritical to allow the consumption of </span><span style=\"color:red;font-weight:700;\">worth noting that there are other substances, such as alcohol and tobacco, which are legal despite being </span>more harmful <span style=\"color:red;font-weight:700;\">than cannabis. If these </span>substances <span style=\"color:red;font-weight:700;text-decoration:line-through;\">like alcohol and tobacco while criminalizing the use of </span><span style=\"color:red;font-weight:700;\">are allowed, then it is reasonable to legalize </span>cannabis, which is less harmful. <span style=\"color:red;font-weight:700;text-decoration:line-through;\">Legalizing cannabis </span><span style=\"color:red;font-weight:700;\">Furthermore, legalization </span>would <span style=\"color:red;font-weight:700;text-decoration:line-through;\">also </span>allow for regulation and oversight by the <span style=\"color:red;font-weight:700;text-decoration:line-through;\">FDA and </span>government, which is currently lacking in the <span style=\"color:red;font-weight:700;text-decoration:line-through;\">unregulated </span>cannabis market."
      ],
      "text/plain": [
       "<IPython.core.display.Markdown object>"
      ]
     },
     "metadata": {},
     "output_type": "display_data"
    },
    {
     "name": "stdout",
     "output_type": "stream",
     "text": [
      "\n",
      "ideology-content VS. all\n",
      "------------------------\n"
     ]
    },
    {
     "data": {
      "text/markdown": [
       "<span style=\"color:red;font-weight:700;text-decoration:line-through;\">As individuals, we should </span><span style=\"color:red;font-weight:700;\">Individuals </span>have the <span style=\"color:red;font-weight:700;text-decoration:line-through;\">freedom </span><span style=\"color:red;font-weight:700;\">right </span>to make <span style=\"color:red;font-weight:700;text-decoration:line-through;\">choices </span><span style=\"color:red;font-weight:700;\">decisions </span>about <span style=\"color:red;font-weight:700;text-decoration:line-through;\">our </span><span style=\"color:red;font-weight:700;\">their </span>own bodies without <span style=\"color:red;font-weight:700;text-decoration:line-through;\">interference from the government. If we are not harming anyone else, there is no reason to prevent us from enjoying ourselves. Additionally, it is hypocritical to allow the consumption of more harmful substances like alcohol and tobacco while criminalizing </span><span style=\"color:red;font-weight:700;\">interference. This includes </span>the use of cannabis, which is less <span style=\"color:red;font-weight:700;text-decoration:line-through;\">harmful. </span><span style=\"color:red;font-weight:700;\">harmful than other legal substances like alcohol and tobacco. </span>Legalizing cannabis would <span style=\"color:red;font-weight:700;text-decoration:line-through;\">also </span>allow for regulation and oversight by the <span style=\"color:red;font-weight:700;text-decoration:line-through;\">FDA and </span>government, which is currently lacking in the unregulated <span style=\"color:red;font-weight:700;text-decoration:line-through;\">cannabis </span>market."
      ],
      "text/plain": [
       "<IPython.core.display.Markdown object>"
      ]
     },
     "metadata": {},
     "output_type": "display_data"
    },
    {
     "name": "stdout",
     "output_type": "stream",
     "text": [
      "\n",
      "ideology-style VS. all\n",
      "----------------------\n"
     ]
    },
    {
     "data": {
      "text/markdown": [
       "Individuals have the right to make <span style=\"color:red;font-weight:700;text-decoration:line-through;\">choices regarding </span><span style=\"color:red;font-weight:700;\">decisions about </span>their own bodies without interference. <span style=\"color:red;font-weight:700;text-decoration:line-through;\">These choices do not harm others, and therefore should not be restricted. Additionally, it is worth noting that there are other substances, such as alcohol and tobacco, which are legal despite being more harmful than cannabis. If these substances are allowed, then it is reasonable to legalize </span><span style=\"color:red;font-weight:700;\">This includes the use of </span>cannabis, which is less <span style=\"color:red;font-weight:700;text-decoration:line-through;\">harmful. Furthermore, legalization </span><span style=\"color:red;font-weight:700;\">harmful than other legal substances like alcohol and tobacco. Legalizing cannabis </span>would allow for regulation and oversight by the government, which is currently lacking in the <span style=\"color:red;font-weight:700;text-decoration:line-through;\">cannabis </span><span style=\"color:red;font-weight:700;\">unregulated </span>market."
      ],
      "text/plain": [
       "<IPython.core.display.Markdown object>"
      ]
     },
     "metadata": {},
     "output_type": "display_data"
    }
   ],
   "source": [
    "import itertools\n",
    "for ptype1, ptype2 in itertools.combinations_with_replacement(prompt_dict.keys(), 2):\n",
    "    if ptype1 == ptype2:\n",
    "        continue\n",
    "    print(f\"\\n{ptype1} VS. {ptype2}\")\n",
    "    print(len(f\"{ptype1} VS. {ptype2}\")*\"-\")\n",
    "\n",
    "    diff = Redlines(result_dict[ptype1],result_dict[ptype2])\n",
    "    display(Markdown(diff.output_markdown))"
   ]
  },
  {
   "cell_type": "code",
   "execution_count": null,
   "metadata": {},
   "outputs": [],
   "source": [
    "for k, v in result_dict.items():\n",
    "    for k,v  in result_dict.items():\n",
    "    print(f\"\\n{k} - {prompt_dict[k]}\")\n",
    "    diff = Redlines(ineffective_argument,v)\n",
    "    display(Markdown(diff.output_markdown))"
   ]
  }
 ],
 "metadata": {
  "kernelspec": {
   "display_name": "iesta_venv",
   "language": "python",
   "name": "python3"
  },
  "language_info": {
   "codemirror_mode": {
    "name": "ipython",
    "version": 3
   },
   "file_extension": ".py",
   "mimetype": "text/x-python",
   "name": "python",
   "nbconvert_exporter": "python",
   "pygments_lexer": "ipython3",
   "version": "3.8.10"
  },
  "orig_nbformat": 4
 },
 "nbformat": 4,
 "nbformat_minor": 2
}
