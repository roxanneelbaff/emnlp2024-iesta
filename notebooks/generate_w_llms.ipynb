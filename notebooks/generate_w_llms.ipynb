{
 "cells": [
  {
   "cell_type": "code",
   "execution_count": 11,
   "metadata": {},
   "outputs": [],
   "source": [
    "from langchain.llms import OpenAIChat\n",
    "from langchain import LLMChain\n",
    "from langchain.text_splitter import CharacterTextSplitter,TokenTextSplitter\n",
    "from langchain.chains.mapreduce import MapReduceChain\n",
    "from langchain.prompts import PromptTemplate\n",
    "from langchain.prompts.chat import (\n",
    "    ChatPromptTemplate,\n",
    "    SystemMessagePromptTemplate,\n",
    "    AIMessagePromptTemplate,\n",
    "    HumanMessagePromptTemplate,\n",
    ")\n",
    "from langchain.docstore.document import Document\n",
    "from langchain.chains.summarize import load_summarize_chain\n",
    "from langchain.prompts.few_shot import FewShotPromptTemplate\n",
    "\n",
    "\n",
    "import os\n",
    "from dotenv import load_dotenv\n",
    "load_dotenv()\n",
    "\n",
    "import pandas as pd\n",
    "pd.set_option('display.max_colwidth', None)\n",
    "from tqdm.notebook import tqdm\n",
    "tqdm.pandas()\n",
    "from ast import literal_eval\n",
    "import random\n",
    "import re"
   ]
  },
  {
   "cell_type": "code",
   "execution_count": null,
   "metadata": {},
   "outputs": [],
   "source": [
    "# !source ../../../elbaff_iesta_venv/bin/activate\n",
    "# %pip install langchain\n",
    "# %pip install python-dotenv\n",
    "%pip install openai"
   ]
  },
  {
   "cell_type": "code",
   "execution_count": 14,
   "metadata": {},
   "outputs": [],
   "source": [
    "# Create a new OpenAI instance\n",
    "from langchain.chat_models import ChatOpenAI\n",
    "chat = ChatOpenAI(model_name=\"gpt-3.5-turbo\", temperature=0)"
   ]
  },
  {
   "cell_type": "code",
   "execution_count": 13,
   "metadata": {},
   "outputs": [],
   "source": [
    "text_splitter = CharacterTextSplitter()"
   ]
  },
  {
   "cell_type": "code",
   "execution_count": 41,
   "metadata": {},
   "outputs": [],
   "source": [
    "\n",
    "basic_str = \"Transform the following argument to an effective argument by maintaining the original length\"\n",
    "ideology_str = \"for readers with a {ideology} political ideology\"\n",
    "content_str = \"by preserving the content of the argument\"\n",
    "style_str = \"by changing the style of the text only\"\n",
    "\n",
    "prompt_dict = {\n",
    "    \"basic\": f\"{basic_str}:\",\n",
    "    \"ideology\": f\"{basic_str} {ideology_str}:\",\n",
    "    \"content\":  f\"{basic_str} {content_str}:\",\n",
    "    \"style\":f\"{basic_str} {style_str}:\",\n",
    "    \"ideology-content\": f\"{basic_str} {ideology_str} {content_str}:\",\n",
    "    \"ideology-style\": f\"{basic_str} {ideology_str} {style_str}:\",\n",
    "    \"all\": f\"{basic_str} {ideology_str} {content_str} and {style_str}:\",\n",
    "}\n",
    "\n"
   ]
  },
  {
   "cell_type": "code",
   "execution_count": 42,
   "metadata": {},
   "outputs": [],
   "source": [
    "\n",
    "def create_prompt_template(prompt):\n",
    "\n",
    "    system_message_prompt = SystemMessagePromptTemplate.from_template(prompt)\n",
    "    human_template=\"{ineffective_argument}\"\n",
    "    human_message_prompt = HumanMessagePromptTemplate.from_template(human_template)\n",
    "    return [system_message_prompt, human_message_prompt]"
   ]
  },
  {
   "cell_type": "code",
   "execution_count": 43,
   "metadata": {},
   "outputs": [],
   "source": [
    "\n",
    "liberal_chat_prompt = ChatPromptTemplate.from_messages(create_prompt_template(prompt_dict[\"all\"].format(ideology =\"liberal\")))\n",
    "llm_chain = LLMChain(llm=chat, prompt=liberal_chat_prompt)"
   ]
  },
  {
   "cell_type": "code",
   "execution_count": 44,
   "metadata": {},
   "outputs": [
    {
     "name": "stdout",
     "output_type": "stream",
     "text": [
      "It's an interesting question to consider whether Superman could defeat the Silver Surfer if Kryptonite were not a factor. While the Silver Surfer possesses incredible cosmic powers, Superman's abilities are equally impressive. He has superhuman strength, speed, and durability, as well as the ability to fly and shoot heat vision from his eyes. Additionally, Superman's moral code and determination to protect the innocent give him an edge in any battle. Ultimately, it's impossible to say for certain who would emerge victorious in a fight between these two iconic superheroes, but it's certainly a debate worth having.\n"
     ]
    }
   ],
   "source": [
    "result = llm_chain.run(ineffective_argument=\"If there was no Kryptonite, can Superman defeat the Silver Surfer?\")\n",
    "print(result)"
   ]
  },
  {
   "cell_type": "code",
   "execution_count": 37,
   "metadata": {},
   "outputs": [
    {
     "name": "stdout",
     "output_type": "stream",
     "text": [
      "As a fan of Superman, it's natural to wonder if he could defeat the Silver Surfer in a hypothetical battle. After all, both characters possess incredible powers that make them nearly invincible. However, it's important to remember that Superman's strength is not solely dependent on Kryptonite. He has a wide range of abilities, including super speed, heat vision, and freeze breath, that could potentially give him an advantage in a fight against the Silver Surfer. Additionally, Superman's experience as a superhero and his strategic thinking could also play a crucial role in determining the outcome of the battle. While it's impossible to say for certain who would emerge victorious in this matchup, it's clear that Superman would not be completely helpless without Kryptonite.\n"
     ]
    }
   ],
   "source": [
    "cons_chat_prompt = ChatPromptTemplate.from_messages(create_prompt_template(prompt_dict[\"all\"].format(ideology =\"conservative\")))\n",
    "llm_chain = LLMChain(llm=chat, prompt=cons_chat_prompt)\n",
    "result = llm_chain.run(ineffective_argument=\"If there was no Kryptonite, can Superman defeat the Silver Surfer?\")\n",
    "print(result)"
   ]
  },
  {
   "cell_type": "code",
   "execution_count": null,
   "metadata": {},
   "outputs": [],
   "source": []
  }
 ],
 "metadata": {
  "kernelspec": {
   "display_name": "iesta_venv",
   "language": "python",
   "name": "python3"
  },
  "language_info": {
   "codemirror_mode": {
    "name": "ipython",
    "version": 3
   },
   "file_extension": ".py",
   "mimetype": "text/x-python",
   "name": "python",
   "nbconvert_exporter": "python",
   "pygments_lexer": "ipython3",
   "version": "3.8.10"
  },
  "orig_nbformat": 4
 },
 "nbformat": 4,
 "nbformat_minor": 2
}
