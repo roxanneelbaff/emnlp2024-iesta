{
 "cells": [
  {
   "cell_type": "code",
   "execution_count": 1,
   "metadata": {},
   "outputs": [
    {
     "name": "stdout",
     "output_type": "stream",
     "text": [
      "Obtaining file:///home/elba_ro/repos/github/conf22-style-transfer\n",
      "Requirement already satisfied: empath>=0.89 in /home/elba_ro/repos/github/conf22-style-transfer/iesta_venv/lib/python3.8/site-packages (from iesta==1.3.18) (0.89)\n",
      "Requirement already satisfied: evaluate in /home/elba_ro/repos/github/conf22-style-transfer/iesta_venv/lib/python3.8/site-packages (from iesta==1.3.18) (0.4.0)\n",
      "Requirement already satisfied: markupsafe<=2.1.1 in /home/elba_ro/repos/github/conf22-style-transfer/iesta_venv/lib/python3.8/site-packages (from iesta==1.3.18) (2.1.1)\n",
      "Requirement already satisfied: nlpaf>=2.6.0 in /home/elba_ro/repos/github/conf22-style-transfer/iesta_venv/lib/python3.8/site-packages (from iesta==1.3.18) (2.12.20)\n",
      "Requirement already satisfied: seaborn in /home/elba_ro/repos/github/conf22-style-transfer/iesta_venv/lib/python3.8/site-packages (from iesta==1.3.18) (0.12.2)\n",
      "Requirement already satisfied: spacy>=3.4 in /home/elba_ro/repos/github/conf22-style-transfer/iesta_venv/lib/python3.8/site-packages (from iesta==1.3.18) (3.4.3)\n",
      "Requirement already satisfied: tomli>=1.1.0 in /home/elba_ro/repos/github/conf22-style-transfer/iesta_venv/lib/python3.8/site-packages (from iesta==1.3.18) (2.0.1)\n",
      "Requirement already satisfied: tqdm in /home/elba_ro/repos/github/conf22-style-transfer/iesta_venv/lib/python3.8/site-packages (from iesta==1.3.18) (4.64.0)\n",
      "Requirement already satisfied: requests in /home/elba_ro/repos/github/conf22-style-transfer/iesta_venv/lib/python3.8/site-packages (from empath>=0.89->iesta==1.3.18) (2.28.1)\n",
      "Requirement already satisfied: numpy>=1.17 in /home/elba_ro/repos/github/conf22-style-transfer/iesta_venv/lib/python3.8/site-packages (from evaluate->iesta==1.3.18) (1.23.4)\n",
      "Requirement already satisfied: pandas in /home/elba_ro/repos/github/conf22-style-transfer/iesta_venv/lib/python3.8/site-packages (from evaluate->iesta==1.3.18) (1.5.1)\n",
      "Requirement already satisfied: packaging in /home/elba_ro/repos/github/conf22-style-transfer/iesta_venv/lib/python3.8/site-packages (from evaluate->iesta==1.3.18) (21.3)\n",
      "Requirement already satisfied: responses<0.19 in /home/elba_ro/repos/github/conf22-style-transfer/iesta_venv/lib/python3.8/site-packages (from evaluate->iesta==1.3.18) (0.18.0)\n",
      "Requirement already satisfied: multiprocess in /home/elba_ro/repos/github/conf22-style-transfer/iesta_venv/lib/python3.8/site-packages (from evaluate->iesta==1.3.18) (0.70.14)\n",
      "Requirement already satisfied: dill in /home/elba_ro/repos/github/conf22-style-transfer/iesta_venv/lib/python3.8/site-packages (from evaluate->iesta==1.3.18) (0.3.6)\n",
      "Requirement already satisfied: xxhash in /home/elba_ro/repos/github/conf22-style-transfer/iesta_venv/lib/python3.8/site-packages (from evaluate->iesta==1.3.18) (3.1.0)\n",
      "Requirement already satisfied: fsspec[http]>=2021.05.0 in /home/elba_ro/repos/github/conf22-style-transfer/iesta_venv/lib/python3.8/site-packages (from evaluate->iesta==1.3.18) (2022.11.0)\n",
      "Requirement already satisfied: huggingface-hub>=0.7.0 in /home/elba_ro/repos/github/conf22-style-transfer/iesta_venv/lib/python3.8/site-packages (from evaluate->iesta==1.3.18) (0.14.1)\n",
      "Requirement already satisfied: datasets>=2.0.0 in /home/elba_ro/repos/github/conf22-style-transfer/iesta_venv/lib/python3.8/site-packages (from evaluate->iesta==1.3.18) (2.7.0)\n",
      "Requirement already satisfied: wordcloud; python_version < \"3.9\" in /home/elba_ro/repos/github/conf22-style-transfer/iesta_venv/lib/python3.8/site-packages (from nlpaf>=2.6.0->iesta==1.3.18) (1.8.2.2)\n",
      "Requirement already satisfied: matplotlib in /home/elba_ro/repos/github/conf22-style-transfer/iesta_venv/lib/python3.8/site-packages (from nlpaf>=2.6.0->iesta==1.3.18) (3.6.3)\n",
      "Requirement already satisfied: spacy_arguing_lexicon in /home/elba_ro/repos/github/conf22-style-transfer/iesta_venv/lib/python3.8/site-packages (from nlpaf>=2.6.0->iesta==1.3.18) (0.0.3)\n",
      "Requirement already satisfied: nltk in /home/elba_ro/repos/github/conf22-style-transfer/iesta_venv/lib/python3.8/site-packages (from nlpaf>=2.6.0->iesta==1.3.18) (3.7)\n",
      "Requirement already satisfied: scipy in /home/elba_ro/repos/github/conf22-style-transfer/iesta_venv/lib/python3.8/site-packages (from nlpaf>=2.6.0->iesta==1.3.18) (1.6.2)\n",
      "Requirement already satisfied: gensim>=3.8.1 in /home/elba_ro/repos/github/conf22-style-transfer/iesta_venv/lib/python3.8/site-packages (from nlpaf>=2.6.0->iesta==1.3.18) (4.2.0)\n",
      "Requirement already satisfied: scikit-learn in /home/elba_ro/repos/github/conf22-style-transfer/iesta_venv/lib/python3.8/site-packages (from nlpaf>=2.6.0->iesta==1.3.18) (1.1.3)\n",
      "Requirement already satisfied: simpletransformers; python_version < \"3.9\" in /home/elba_ro/repos/github/conf22-style-transfer/iesta_venv/lib/python3.8/site-packages (from nlpaf>=2.6.0->iesta==1.3.18) (0.63.9)\n",
      "Requirement already satisfied: pyLDAvis; python_version < \"3.9\" in /home/elba_ro/repos/github/conf22-style-transfer/iesta_venv/lib/python3.8/site-packages (from nlpaf>=2.6.0->iesta==1.3.18) (3.3.1)\n",
      "Requirement already satisfied: statsmodels in /home/elba_ro/repos/github/conf22-style-transfer/iesta_venv/lib/python3.8/site-packages (from nlpaf>=2.6.0->iesta==1.3.18) (0.13.5)\n",
      "Requirement already satisfied: pyarrow in /home/elba_ro/repos/github/conf22-style-transfer/iesta_venv/lib/python3.8/site-packages (from nlpaf>=2.6.0->iesta==1.3.18) (8.0.0)\n",
      "Requirement already satisfied: preshed<3.1.0,>=3.0.2 in /home/elba_ro/repos/github/conf22-style-transfer/iesta_venv/lib/python3.8/site-packages (from spacy>=3.4->iesta==1.3.18) (3.0.8)\n",
      "Requirement already satisfied: srsly<3.0.0,>=2.4.3 in /home/elba_ro/repos/github/conf22-style-transfer/iesta_venv/lib/python3.8/site-packages (from spacy>=3.4->iesta==1.3.18) (2.4.5)\n",
      "Requirement already satisfied: typer<0.8.0,>=0.3.0 in /home/elba_ro/repos/github/conf22-style-transfer/iesta_venv/lib/python3.8/site-packages (from spacy>=3.4->iesta==1.3.18) (0.7.0)\n",
      "Requirement already satisfied: pathy>=0.3.5 in /home/elba_ro/repos/github/conf22-style-transfer/iesta_venv/lib/python3.8/site-packages (from spacy>=3.4->iesta==1.3.18) (0.8.1)\n",
      "Requirement already satisfied: catalogue<2.1.0,>=2.0.6 in /home/elba_ro/repos/github/conf22-style-transfer/iesta_venv/lib/python3.8/site-packages (from spacy>=3.4->iesta==1.3.18) (2.0.8)\n",
      "Requirement already satisfied: spacy-loggers<2.0.0,>=1.0.0 in /home/elba_ro/repos/github/conf22-style-transfer/iesta_venv/lib/python3.8/site-packages (from spacy>=3.4->iesta==1.3.18) (1.0.3)\n",
      "Requirement already satisfied: spacy-legacy<3.1.0,>=3.0.10 in /home/elba_ro/repos/github/conf22-style-transfer/iesta_venv/lib/python3.8/site-packages (from spacy>=3.4->iesta==1.3.18) (3.0.10)\n",
      "Requirement already satisfied: cymem<2.1.0,>=2.0.2 in /home/elba_ro/repos/github/conf22-style-transfer/iesta_venv/lib/python3.8/site-packages (from spacy>=3.4->iesta==1.3.18) (2.0.7)\n",
      "Requirement already satisfied: murmurhash<1.1.0,>=0.28.0 in /home/elba_ro/repos/github/conf22-style-transfer/iesta_venv/lib/python3.8/site-packages (from spacy>=3.4->iesta==1.3.18) (1.0.9)\n",
      "Requirement already satisfied: langcodes<4.0.0,>=3.2.0 in /home/elba_ro/repos/github/conf22-style-transfer/iesta_venv/lib/python3.8/site-packages (from spacy>=3.4->iesta==1.3.18) (3.3.0)\n",
      "Requirement already satisfied: jinja2 in /home/elba_ro/repos/github/conf22-style-transfer/iesta_venv/lib/python3.8/site-packages (from spacy>=3.4->iesta==1.3.18) (3.1.2)\n",
      "Requirement already satisfied: thinc<8.2.0,>=8.1.0 in /home/elba_ro/repos/github/conf22-style-transfer/iesta_venv/lib/python3.8/site-packages (from spacy>=3.4->iesta==1.3.18) (8.1.5)\n",
      "Requirement already satisfied: wasabi<1.1.0,>=0.9.1 in /home/elba_ro/repos/github/conf22-style-transfer/iesta_venv/lib/python3.8/site-packages (from spacy>=3.4->iesta==1.3.18) (0.10.1)\n",
      "Requirement already satisfied: setuptools in /home/elba_ro/repos/github/conf22-style-transfer/iesta_venv/lib/python3.8/site-packages (from spacy>=3.4->iesta==1.3.18) (44.0.0)\n",
      "Requirement already satisfied: pydantic!=1.8,!=1.8.1,<1.11.0,>=1.7.4 in /home/elba_ro/repos/github/conf22-style-transfer/iesta_venv/lib/python3.8/site-packages (from spacy>=3.4->iesta==1.3.18) (1.10.2)\n",
      "Requirement already satisfied: charset-normalizer<3,>=2 in /home/elba_ro/repos/github/conf22-style-transfer/iesta_venv/lib/python3.8/site-packages (from requests->empath>=0.89->iesta==1.3.18) (2.1.1)\n",
      "Requirement already satisfied: urllib3<1.27,>=1.21.1 in /home/elba_ro/repos/github/conf22-style-transfer/iesta_venv/lib/python3.8/site-packages (from requests->empath>=0.89->iesta==1.3.18) (1.26.12)\n",
      "Requirement already satisfied: idna<4,>=2.5 in /home/elba_ro/repos/github/conf22-style-transfer/iesta_venv/lib/python3.8/site-packages (from requests->empath>=0.89->iesta==1.3.18) (3.4)\n",
      "Requirement already satisfied: certifi>=2017.4.17 in /home/elba_ro/repos/github/conf22-style-transfer/iesta_venv/lib/python3.8/site-packages (from requests->empath>=0.89->iesta==1.3.18) (2022.9.24)\n",
      "Requirement already satisfied: python-dateutil>=2.8.1 in /home/elba_ro/repos/github/conf22-style-transfer/iesta_venv/lib/python3.8/site-packages (from pandas->evaluate->iesta==1.3.18) (2.8.2)\n",
      "Requirement already satisfied: pytz>=2020.1 in /home/elba_ro/repos/github/conf22-style-transfer/iesta_venv/lib/python3.8/site-packages (from pandas->evaluate->iesta==1.3.18) (2022.6)\n",
      "Requirement already satisfied: pyparsing!=3.0.5,>=2.0.2 in /home/elba_ro/repos/github/conf22-style-transfer/iesta_venv/lib/python3.8/site-packages (from packaging->evaluate->iesta==1.3.18) (3.0.9)\n",
      "Requirement already satisfied: aiohttp!=4.0.0a0,!=4.0.0a1; extra == \"http\" in /home/elba_ro/repos/github/conf22-style-transfer/iesta_venv/lib/python3.8/site-packages (from fsspec[http]>=2021.05.0->evaluate->iesta==1.3.18) (3.8.3)\n",
      "Requirement already satisfied: filelock in /home/elba_ro/repos/github/conf22-style-transfer/iesta_venv/lib/python3.8/site-packages (from huggingface-hub>=0.7.0->evaluate->iesta==1.3.18) (3.8.0)\n",
      "Requirement already satisfied: typing-extensions>=3.7.4.3 in /home/elba_ro/repos/github/conf22-style-transfer/iesta_venv/lib/python3.8/site-packages (from huggingface-hub>=0.7.0->evaluate->iesta==1.3.18) (4.4.0)\n",
      "Requirement already satisfied: pyyaml>=5.1 in /home/elba_ro/repos/github/conf22-style-transfer/iesta_venv/lib/python3.8/site-packages (from huggingface-hub>=0.7.0->evaluate->iesta==1.3.18) (6.0)\n",
      "Requirement already satisfied: pillow in /home/elba_ro/repos/github/conf22-style-transfer/iesta_venv/lib/python3.8/site-packages (from wordcloud; python_version < \"3.9\"->nlpaf>=2.6.0->iesta==1.3.18) (9.3.0)\n",
      "Requirement already satisfied: cycler>=0.10 in /home/elba_ro/repos/github/conf22-style-transfer/iesta_venv/lib/python3.8/site-packages (from matplotlib->nlpaf>=2.6.0->iesta==1.3.18) (0.11.0)\n",
      "Requirement already satisfied: contourpy>=1.0.1 in /home/elba_ro/repos/github/conf22-style-transfer/iesta_venv/lib/python3.8/site-packages (from matplotlib->nlpaf>=2.6.0->iesta==1.3.18) (1.0.6)\n",
      "Requirement already satisfied: kiwisolver>=1.0.1 in /home/elba_ro/repos/github/conf22-style-transfer/iesta_venv/lib/python3.8/site-packages (from matplotlib->nlpaf>=2.6.0->iesta==1.3.18) (1.4.4)\n",
      "Requirement already satisfied: fonttools>=4.22.0 in /home/elba_ro/repos/github/conf22-style-transfer/iesta_venv/lib/python3.8/site-packages (from matplotlib->nlpaf>=2.6.0->iesta==1.3.18) (4.38.0)\n",
      "Requirement already satisfied: click in /home/elba_ro/repos/github/conf22-style-transfer/iesta_venv/lib/python3.8/site-packages (from nltk->nlpaf>=2.6.0->iesta==1.3.18) (8.1.3)\n",
      "Requirement already satisfied: joblib in /home/elba_ro/repos/github/conf22-style-transfer/iesta_venv/lib/python3.8/site-packages (from nltk->nlpaf>=2.6.0->iesta==1.3.18) (1.2.0)\n",
      "Requirement already satisfied: regex>=2021.8.3 in /home/elba_ro/repos/github/conf22-style-transfer/iesta_venv/lib/python3.8/site-packages (from nltk->nlpaf>=2.6.0->iesta==1.3.18) (2022.10.31)\n",
      "Requirement already satisfied: smart-open>=1.8.1 in /home/elba_ro/repos/github/conf22-style-transfer/iesta_venv/lib/python3.8/site-packages (from gensim>=3.8.1->nlpaf>=2.6.0->iesta==1.3.18) (5.2.1)\n",
      "Requirement already satisfied: threadpoolctl>=2.0.0 in /home/elba_ro/repos/github/conf22-style-transfer/iesta_venv/lib/python3.8/site-packages (from scikit-learn->nlpaf>=2.6.0->iesta==1.3.18) (3.1.0)\n",
      "Requirement already satisfied: streamlit in /home/elba_ro/repos/github/conf22-style-transfer/iesta_venv/lib/python3.8/site-packages (from simpletransformers; python_version < \"3.9\"->nlpaf>=2.6.0->iesta==1.3.18) (1.15.0)\n",
      "Requirement already satisfied: sentencepiece in /home/elba_ro/repos/github/conf22-style-transfer/iesta_venv/lib/python3.8/site-packages (from simpletransformers; python_version < \"3.9\"->nlpaf>=2.6.0->iesta==1.3.18) (0.1.97)\n",
      "Requirement already satisfied: tokenizers in /home/elba_ro/repos/github/conf22-style-transfer/iesta_venv/lib/python3.8/site-packages (from simpletransformers; python_version < \"3.9\"->nlpaf>=2.6.0->iesta==1.3.18) (0.13.2)\n",
      "Requirement already satisfied: transformers>=4.6.0 in /home/elba_ro/repos/github/conf22-style-transfer/iesta_venv/lib/python3.8/site-packages (from simpletransformers; python_version < \"3.9\"->nlpaf>=2.6.0->iesta==1.3.18) (4.29.2)\n",
      "Requirement already satisfied: seqeval in /home/elba_ro/repos/github/conf22-style-transfer/iesta_venv/lib/python3.8/site-packages (from simpletransformers; python_version < \"3.9\"->nlpaf>=2.6.0->iesta==1.3.18) (1.2.2)\n",
      "Requirement already satisfied: tensorboard in /home/elba_ro/repos/github/conf22-style-transfer/iesta_venv/lib/python3.8/site-packages (from simpletransformers; python_version < \"3.9\"->nlpaf>=2.6.0->iesta==1.3.18) (2.11.0)\n",
      "Requirement already satisfied: wandb>=0.10.32 in /home/elba_ro/repos/github/conf22-style-transfer/iesta_venv/lib/python3.8/site-packages (from simpletransformers; python_version < \"3.9\"->nlpaf>=2.6.0->iesta==1.3.18) (0.13.5)\n",
      "Requirement already satisfied: numexpr in /home/elba_ro/repos/github/conf22-style-transfer/iesta_venv/lib/python3.8/site-packages (from pyLDAvis; python_version < \"3.9\"->nlpaf>=2.6.0->iesta==1.3.18) (2.8.4)\n",
      "Requirement already satisfied: sklearn in /home/elba_ro/repos/github/conf22-style-transfer/iesta_venv/lib/python3.8/site-packages (from pyLDAvis; python_version < \"3.9\"->nlpaf>=2.6.0->iesta==1.3.18) (0.0.post1)\n",
      "Requirement already satisfied: funcy in /home/elba_ro/repos/github/conf22-style-transfer/iesta_venv/lib/python3.8/site-packages (from pyLDAvis; python_version < \"3.9\"->nlpaf>=2.6.0->iesta==1.3.18) (1.17)\n",
      "Requirement already satisfied: future in /home/elba_ro/repos/github/conf22-style-transfer/iesta_venv/lib/python3.8/site-packages (from pyLDAvis; python_version < \"3.9\"->nlpaf>=2.6.0->iesta==1.3.18) (0.18.2)\n",
      "Requirement already satisfied: patsy>=0.5.2 in /home/elba_ro/repos/github/conf22-style-transfer/iesta_venv/lib/python3.8/site-packages (from statsmodels->nlpaf>=2.6.0->iesta==1.3.18) (0.5.3)\n",
      "Requirement already satisfied: blis<0.8.0,>=0.7.8 in /home/elba_ro/repos/github/conf22-style-transfer/iesta_venv/lib/python3.8/site-packages (from thinc<8.2.0,>=8.1.0->spacy>=3.4->iesta==1.3.18) (0.7.9)\n",
      "Requirement already satisfied: confection<1.0.0,>=0.0.1 in /home/elba_ro/repos/github/conf22-style-transfer/iesta_venv/lib/python3.8/site-packages (from thinc<8.2.0,>=8.1.0->spacy>=3.4->iesta==1.3.18) (0.0.3)\n",
      "Requirement already satisfied: six>=1.5 in /home/elba_ro/repos/github/conf22-style-transfer/iesta_venv/lib/python3.8/site-packages (from python-dateutil>=2.8.1->pandas->evaluate->iesta==1.3.18) (1.16.0)\n",
      "Requirement already satisfied: attrs>=17.3.0 in /home/elba_ro/repos/github/conf22-style-transfer/iesta_venv/lib/python3.8/site-packages (from aiohttp!=4.0.0a0,!=4.0.0a1; extra == \"http\"->fsspec[http]>=2021.05.0->evaluate->iesta==1.3.18) (22.1.0)\n",
      "Requirement already satisfied: async-timeout<5.0,>=4.0.0a3 in /home/elba_ro/repos/github/conf22-style-transfer/iesta_venv/lib/python3.8/site-packages (from aiohttp!=4.0.0a0,!=4.0.0a1; extra == \"http\"->fsspec[http]>=2021.05.0->evaluate->iesta==1.3.18) (4.0.2)\n",
      "Requirement already satisfied: yarl<2.0,>=1.0 in /home/elba_ro/repos/github/conf22-style-transfer/iesta_venv/lib/python3.8/site-packages (from aiohttp!=4.0.0a0,!=4.0.0a1; extra == \"http\"->fsspec[http]>=2021.05.0->evaluate->iesta==1.3.18) (1.8.1)\n",
      "Requirement already satisfied: multidict<7.0,>=4.5 in /home/elba_ro/repos/github/conf22-style-transfer/iesta_venv/lib/python3.8/site-packages (from aiohttp!=4.0.0a0,!=4.0.0a1; extra == \"http\"->fsspec[http]>=2021.05.0->evaluate->iesta==1.3.18) (6.0.2)\n",
      "Requirement already satisfied: frozenlist>=1.1.1 in /home/elba_ro/repos/github/conf22-style-transfer/iesta_venv/lib/python3.8/site-packages (from aiohttp!=4.0.0a0,!=4.0.0a1; extra == \"http\"->fsspec[http]>=2021.05.0->evaluate->iesta==1.3.18) (1.3.3)\n",
      "Requirement already satisfied: aiosignal>=1.1.2 in /home/elba_ro/repos/github/conf22-style-transfer/iesta_venv/lib/python3.8/site-packages (from aiohttp!=4.0.0a0,!=4.0.0a1; extra == \"http\"->fsspec[http]>=2021.05.0->evaluate->iesta==1.3.18) (1.3.1)\n",
      "Requirement already satisfied: gitpython!=3.1.19 in /home/elba_ro/repos/github/conf22-style-transfer/iesta_venv/lib/python3.8/site-packages (from streamlit->simpletransformers; python_version < \"3.9\"->nlpaf>=2.6.0->iesta==1.3.18) (3.1.29)\n",
      "Requirement already satisfied: semver in /home/elba_ro/repos/github/conf22-style-transfer/iesta_venv/lib/python3.8/site-packages (from streamlit->simpletransformers; python_version < \"3.9\"->nlpaf>=2.6.0->iesta==1.3.18) (2.13.0)\n",
      "Requirement already satisfied: pympler>=0.9 in /home/elba_ro/repos/github/conf22-style-transfer/iesta_venv/lib/python3.8/site-packages (from streamlit->simpletransformers; python_version < \"3.9\"->nlpaf>=2.6.0->iesta==1.3.18) (1.0.1)\n",
      "Requirement already satisfied: rich>=10.11.0 in /home/elba_ro/repos/github/conf22-style-transfer/iesta_venv/lib/python3.8/site-packages (from streamlit->simpletransformers; python_version < \"3.9\"->nlpaf>=2.6.0->iesta==1.3.18) (13.3.5)\n",
      "Requirement already satisfied: pydeck>=0.1.dev5 in /home/elba_ro/repos/github/conf22-style-transfer/iesta_venv/lib/python3.8/site-packages (from streamlit->simpletransformers; python_version < \"3.9\"->nlpaf>=2.6.0->iesta==1.3.18) (0.8.0)\n",
      "Requirement already satisfied: protobuf<4,>=3.12 in /home/elba_ro/repos/github/conf22-style-transfer/iesta_venv/lib/python3.8/site-packages (from streamlit->simpletransformers; python_version < \"3.9\"->nlpaf>=2.6.0->iesta==1.3.18) (3.20.3)\n",
      "Requirement already satisfied: toml in /home/elba_ro/repos/github/conf22-style-transfer/iesta_venv/lib/python3.8/site-packages (from streamlit->simpletransformers; python_version < \"3.9\"->nlpaf>=2.6.0->iesta==1.3.18) (0.10.2)\n",
      "Requirement already satisfied: validators>=0.2 in /home/elba_ro/repos/github/conf22-style-transfer/iesta_venv/lib/python3.8/site-packages (from streamlit->simpletransformers; python_version < \"3.9\"->nlpaf>=2.6.0->iesta==1.3.18) (0.20.0)\n",
      "Requirement already satisfied: tzlocal>=1.1 in /home/elba_ro/repos/github/conf22-style-transfer/iesta_venv/lib/python3.8/site-packages (from streamlit->simpletransformers; python_version < \"3.9\"->nlpaf>=2.6.0->iesta==1.3.18) (4.2)\n",
      "Requirement already satisfied: importlib-metadata>=1.4 in /home/elba_ro/repos/github/conf22-style-transfer/iesta_venv/lib/python3.8/site-packages (from streamlit->simpletransformers; python_version < \"3.9\"->nlpaf>=2.6.0->iesta==1.3.18) (5.0.0)\n",
      "Requirement already satisfied: altair>=3.2.0 in /home/elba_ro/repos/github/conf22-style-transfer/iesta_venv/lib/python3.8/site-packages (from streamlit->simpletransformers; python_version < \"3.9\"->nlpaf>=2.6.0->iesta==1.3.18) (4.2.0)\n",
      "Requirement already satisfied: watchdog; platform_system != \"Darwin\" in /home/elba_ro/repos/github/conf22-style-transfer/iesta_venv/lib/python3.8/site-packages (from streamlit->simpletransformers; python_version < \"3.9\"->nlpaf>=2.6.0->iesta==1.3.18) (2.1.9)\n",
      "Requirement already satisfied: blinker>=1.0.0 in /home/elba_ro/repos/github/conf22-style-transfer/iesta_venv/lib/python3.8/site-packages (from streamlit->simpletransformers; python_version < \"3.9\"->nlpaf>=2.6.0->iesta==1.3.18) (1.5)\n",
      "Requirement already satisfied: tornado>=5.0 in /home/elba_ro/repos/github/conf22-style-transfer/iesta_venv/lib/python3.8/site-packages (from streamlit->simpletransformers; python_version < \"3.9\"->nlpaf>=2.6.0->iesta==1.3.18) (6.2)\n",
      "Requirement already satisfied: cachetools>=4.0 in /home/elba_ro/repos/github/conf22-style-transfer/iesta_venv/lib/python3.8/site-packages (from streamlit->simpletransformers; python_version < \"3.9\"->nlpaf>=2.6.0->iesta==1.3.18) (5.2.0)\n",
      "Requirement already satisfied: grpcio>=1.24.3 in /home/elba_ro/repos/github/conf22-style-transfer/iesta_venv/lib/python3.8/site-packages (from tensorboard->simpletransformers; python_version < \"3.9\"->nlpaf>=2.6.0->iesta==1.3.18) (1.50.0)\n",
      "Requirement already satisfied: werkzeug>=1.0.1 in /home/elba_ro/repos/github/conf22-style-transfer/iesta_venv/lib/python3.8/site-packages (from tensorboard->simpletransformers; python_version < \"3.9\"->nlpaf>=2.6.0->iesta==1.3.18) (2.2.2)\n",
      "Requirement already satisfied: markdown>=2.6.8 in /home/elba_ro/repos/github/conf22-style-transfer/iesta_venv/lib/python3.8/site-packages (from tensorboard->simpletransformers; python_version < \"3.9\"->nlpaf>=2.6.0->iesta==1.3.18) (3.4.1)\n",
      "Requirement already satisfied: tensorboard-data-server<0.7.0,>=0.6.0 in /home/elba_ro/repos/github/conf22-style-transfer/iesta_venv/lib/python3.8/site-packages (from tensorboard->simpletransformers; python_version < \"3.9\"->nlpaf>=2.6.0->iesta==1.3.18) (0.6.1)\n",
      "Requirement already satisfied: wheel>=0.26 in /home/elba_ro/repos/github/conf22-style-transfer/iesta_venv/lib/python3.8/site-packages (from tensorboard->simpletransformers; python_version < \"3.9\"->nlpaf>=2.6.0->iesta==1.3.18) (0.38.4)\n",
      "Requirement already satisfied: absl-py>=0.4 in /home/elba_ro/repos/github/conf22-style-transfer/iesta_venv/lib/python3.8/site-packages (from tensorboard->simpletransformers; python_version < \"3.9\"->nlpaf>=2.6.0->iesta==1.3.18) (1.3.0)\n",
      "Requirement already satisfied: tensorboard-plugin-wit>=1.6.0 in /home/elba_ro/repos/github/conf22-style-transfer/iesta_venv/lib/python3.8/site-packages (from tensorboard->simpletransformers; python_version < \"3.9\"->nlpaf>=2.6.0->iesta==1.3.18) (1.8.1)\n",
      "Requirement already satisfied: google-auth<3,>=1.6.3 in /home/elba_ro/repos/github/conf22-style-transfer/iesta_venv/lib/python3.8/site-packages (from tensorboard->simpletransformers; python_version < \"3.9\"->nlpaf>=2.6.0->iesta==1.3.18) (2.14.1)\n",
      "Requirement already satisfied: google-auth-oauthlib<0.5,>=0.4.1 in /home/elba_ro/repos/github/conf22-style-transfer/iesta_venv/lib/python3.8/site-packages (from tensorboard->simpletransformers; python_version < \"3.9\"->nlpaf>=2.6.0->iesta==1.3.18) (0.4.6)\n",
      "Requirement already satisfied: psutil>=5.0.0 in /home/elba_ro/repos/github/conf22-style-transfer/iesta_venv/lib/python3.8/site-packages (from wandb>=0.10.32->simpletransformers; python_version < \"3.9\"->nlpaf>=2.6.0->iesta==1.3.18) (5.9.4)\n",
      "Requirement already satisfied: sentry-sdk>=1.0.0 in /home/elba_ro/repos/github/conf22-style-transfer/iesta_venv/lib/python3.8/site-packages (from wandb>=0.10.32->simpletransformers; python_version < \"3.9\"->nlpaf>=2.6.0->iesta==1.3.18) (1.11.0)\n",
      "Requirement already satisfied: promise<3,>=2.0 in /home/elba_ro/repos/github/conf22-style-transfer/iesta_venv/lib/python3.8/site-packages (from wandb>=0.10.32->simpletransformers; python_version < \"3.9\"->nlpaf>=2.6.0->iesta==1.3.18) (2.3)\n",
      "Requirement already satisfied: shortuuid>=0.5.0 in /home/elba_ro/repos/github/conf22-style-transfer/iesta_venv/lib/python3.8/site-packages (from wandb>=0.10.32->simpletransformers; python_version < \"3.9\"->nlpaf>=2.6.0->iesta==1.3.18) (1.0.11)\n",
      "Requirement already satisfied: docker-pycreds>=0.4.0 in /home/elba_ro/repos/github/conf22-style-transfer/iesta_venv/lib/python3.8/site-packages (from wandb>=0.10.32->simpletransformers; python_version < \"3.9\"->nlpaf>=2.6.0->iesta==1.3.18) (0.4.0)\n",
      "Requirement already satisfied: pathtools in /home/elba_ro/repos/github/conf22-style-transfer/iesta_venv/lib/python3.8/site-packages (from wandb>=0.10.32->simpletransformers; python_version < \"3.9\"->nlpaf>=2.6.0->iesta==1.3.18) (0.1.2)\n",
      "Requirement already satisfied: setproctitle in /home/elba_ro/repos/github/conf22-style-transfer/iesta_venv/lib/python3.8/site-packages (from wandb>=0.10.32->simpletransformers; python_version < \"3.9\"->nlpaf>=2.6.0->iesta==1.3.18) (1.3.2)\n",
      "Requirement already satisfied: gitdb<5,>=4.0.1 in /home/elba_ro/repos/github/conf22-style-transfer/iesta_venv/lib/python3.8/site-packages (from gitpython!=3.1.19->streamlit->simpletransformers; python_version < \"3.9\"->nlpaf>=2.6.0->iesta==1.3.18) (4.0.9)\n",
      "Requirement already satisfied: markdown-it-py<3.0.0,>=2.2.0 in /home/elba_ro/repos/github/conf22-style-transfer/iesta_venv/lib/python3.8/site-packages (from rich>=10.11.0->streamlit->simpletransformers; python_version < \"3.9\"->nlpaf>=2.6.0->iesta==1.3.18) (2.2.0)\n",
      "Requirement already satisfied: pygments<3.0.0,>=2.13.0 in /home/elba_ro/repos/github/conf22-style-transfer/iesta_venv/lib/python3.8/site-packages (from rich>=10.11.0->streamlit->simpletransformers; python_version < \"3.9\"->nlpaf>=2.6.0->iesta==1.3.18) (2.13.0)\n",
      "Requirement already satisfied: decorator>=3.4.0 in /home/elba_ro/repos/github/conf22-style-transfer/iesta_venv/lib/python3.8/site-packages (from validators>=0.2->streamlit->simpletransformers; python_version < \"3.9\"->nlpaf>=2.6.0->iesta==1.3.18) (5.1.1)\n",
      "Requirement already satisfied: backports.zoneinfo; python_version < \"3.9\" in /home/elba_ro/repos/github/conf22-style-transfer/iesta_venv/lib/python3.8/site-packages (from tzlocal>=1.1->streamlit->simpletransformers; python_version < \"3.9\"->nlpaf>=2.6.0->iesta==1.3.18) (0.2.1)\n",
      "Requirement already satisfied: pytz-deprecation-shim in /home/elba_ro/repos/github/conf22-style-transfer/iesta_venv/lib/python3.8/site-packages (from tzlocal>=1.1->streamlit->simpletransformers; python_version < \"3.9\"->nlpaf>=2.6.0->iesta==1.3.18) (0.1.0.post0)\n",
      "Requirement already satisfied: zipp>=0.5 in /home/elba_ro/repos/github/conf22-style-transfer/iesta_venv/lib/python3.8/site-packages (from importlib-metadata>=1.4->streamlit->simpletransformers; python_version < \"3.9\"->nlpaf>=2.6.0->iesta==1.3.18) (3.10.0)\n",
      "Requirement already satisfied: jsonschema>=3.0 in /home/elba_ro/repos/github/conf22-style-transfer/iesta_venv/lib/python3.8/site-packages (from altair>=3.2.0->streamlit->simpletransformers; python_version < \"3.9\"->nlpaf>=2.6.0->iesta==1.3.18) (4.17.0)\n",
      "Requirement already satisfied: toolz in /home/elba_ro/repos/github/conf22-style-transfer/iesta_venv/lib/python3.8/site-packages (from altair>=3.2.0->streamlit->simpletransformers; python_version < \"3.9\"->nlpaf>=2.6.0->iesta==1.3.18) (0.12.0)\n",
      "Requirement already satisfied: entrypoints in /home/elba_ro/repos/github/conf22-style-transfer/iesta_venv/lib/python3.8/site-packages (from altair>=3.2.0->streamlit->simpletransformers; python_version < \"3.9\"->nlpaf>=2.6.0->iesta==1.3.18) (0.4)\n",
      "Requirement already satisfied: rsa<5,>=3.1.4; python_version >= \"3.6\" in /home/elba_ro/repos/github/conf22-style-transfer/iesta_venv/lib/python3.8/site-packages (from google-auth<3,>=1.6.3->tensorboard->simpletransformers; python_version < \"3.9\"->nlpaf>=2.6.0->iesta==1.3.18) (4.9)\n",
      "Requirement already satisfied: pyasn1-modules>=0.2.1 in /home/elba_ro/repos/github/conf22-style-transfer/iesta_venv/lib/python3.8/site-packages (from google-auth<3,>=1.6.3->tensorboard->simpletransformers; python_version < \"3.9\"->nlpaf>=2.6.0->iesta==1.3.18) (0.2.8)\n",
      "Requirement already satisfied: requests-oauthlib>=0.7.0 in /home/elba_ro/repos/github/conf22-style-transfer/iesta_venv/lib/python3.8/site-packages (from google-auth-oauthlib<0.5,>=0.4.1->tensorboard->simpletransformers; python_version < \"3.9\"->nlpaf>=2.6.0->iesta==1.3.18) (1.3.1)\n",
      "Requirement already satisfied: smmap<6,>=3.0.1 in /home/elba_ro/repos/github/conf22-style-transfer/iesta_venv/lib/python3.8/site-packages (from gitdb<5,>=4.0.1->gitpython!=3.1.19->streamlit->simpletransformers; python_version < \"3.9\"->nlpaf>=2.6.0->iesta==1.3.18) (5.0.0)\n",
      "Requirement already satisfied: mdurl~=0.1 in /home/elba_ro/repos/github/conf22-style-transfer/iesta_venv/lib/python3.8/site-packages (from markdown-it-py<3.0.0,>=2.2.0->rich>=10.11.0->streamlit->simpletransformers; python_version < \"3.9\"->nlpaf>=2.6.0->iesta==1.3.18) (0.1.2)\n",
      "Requirement already satisfied: tzdata; python_version >= \"3.6\" in /home/elba_ro/repos/github/conf22-style-transfer/iesta_venv/lib/python3.8/site-packages (from pytz-deprecation-shim->tzlocal>=1.1->streamlit->simpletransformers; python_version < \"3.9\"->nlpaf>=2.6.0->iesta==1.3.18) (2022.6)\n",
      "Requirement already satisfied: importlib-resources>=1.4.0; python_version < \"3.9\" in /home/elba_ro/repos/github/conf22-style-transfer/iesta_venv/lib/python3.8/site-packages (from jsonschema>=3.0->altair>=3.2.0->streamlit->simpletransformers; python_version < \"3.9\"->nlpaf>=2.6.0->iesta==1.3.18) (5.10.0)\n",
      "Requirement already satisfied: pyrsistent!=0.17.0,!=0.17.1,!=0.17.2,>=0.14.0 in /home/elba_ro/repos/github/conf22-style-transfer/iesta_venv/lib/python3.8/site-packages (from jsonschema>=3.0->altair>=3.2.0->streamlit->simpletransformers; python_version < \"3.9\"->nlpaf>=2.6.0->iesta==1.3.18) (0.19.2)\n",
      "Requirement already satisfied: pkgutil-resolve-name>=1.3.10; python_version < \"3.9\" in /home/elba_ro/repos/github/conf22-style-transfer/iesta_venv/lib/python3.8/site-packages (from jsonschema>=3.0->altair>=3.2.0->streamlit->simpletransformers; python_version < \"3.9\"->nlpaf>=2.6.0->iesta==1.3.18) (1.3.10)\n",
      "Requirement already satisfied: pyasn1>=0.1.3 in /home/elba_ro/repos/github/conf22-style-transfer/iesta_venv/lib/python3.8/site-packages (from rsa<5,>=3.1.4; python_version >= \"3.6\"->google-auth<3,>=1.6.3->tensorboard->simpletransformers; python_version < \"3.9\"->nlpaf>=2.6.0->iesta==1.3.18) (0.4.8)\n",
      "Requirement already satisfied: oauthlib>=3.0.0 in /home/elba_ro/repos/github/conf22-style-transfer/iesta_venv/lib/python3.8/site-packages (from requests-oauthlib>=0.7.0->google-auth-oauthlib<0.5,>=0.4.1->tensorboard->simpletransformers; python_version < \"3.9\"->nlpaf>=2.6.0->iesta==1.3.18) (3.2.2)\n",
      "Installing collected packages: iesta\n",
      "  Attempting uninstall: iesta\n",
      "    Found existing installation: iesta 1.3.18\n",
      "    Uninstalling iesta-1.3.18:\n",
      "      Successfully uninstalled iesta-1.3.18\n",
      "  Running setup.py develop for iesta\n",
      "Successfully installed iesta\n",
      "Note: you may need to restart the kernel to use updated packages.\n"
     ]
    }
   ],
   "source": [
    "# Get Training Data\n",
    "#%pip show nlpaf\n",
    "%pip install  -e ../"
   ]
  },
  {
   "cell_type": "code",
   "execution_count": 1,
   "metadata": {},
   "outputs": [
    {
     "name": "stdout",
     "output_type": "stream",
     "text": [
      "Name: iesta\n",
      "Version: 1.3.16\n",
      "Summary: Python package for Conf 2023 for INEFF-IFFE Style Transfer\n",
      "Home-page: UNKNOWN\n",
      "Author: Roxanne El Baff\n",
      "Author-email: roxanne.elbaff@dlr.de\n",
      "License: MIT\n",
      "Location: /home/elba_ro/repos/github/conf22-style-transfer\n",
      "Requires: empath, markupsafe, nlpaf, seaborn, spacy, tomli, tqdm\n",
      "Required-by: \n",
      "Note: you may need to restart the kernel to use updated packages.\n"
     ]
    }
   ],
   "source": [
    "%pip show iesta\n"
   ]
  },
  {
   "cell_type": "code",
   "execution_count": 2,
   "metadata": {},
   "outputs": [
    {
     "name": "stderr",
     "output_type": "stream",
     "text": [
      "/home/elba_ro/repos/github/conf22-style-transfer/iesta_venv/lib/python3.8/site-packages/scipy/__init__.py:138: UserWarning: A NumPy version >=1.16.5 and <1.23.0 is required for this version of SciPy (detected version 1.23.4)\n",
      "  warnings.warn(f\"A NumPy version >={np_minversion} and <{np_maxversion} is required for this version of \"\n"
     ]
    }
   ],
   "source": [
    "from  iesta.machine_learning.dataloader import load_training_features_df\n",
    "import iesta.properties"
   ]
  },
  {
   "cell_type": "code",
   "execution_count": 3,
   "metadata": {},
   "outputs": [],
   "source": [
    "from datasets.dataset_dict import DatasetDict\n"
   ]
  },
  {
   "cell_type": "code",
   "execution_count": 4,
   "metadata": {},
   "outputs": [],
   "source": [
    "from datasets import load_dataset\n"
   ]
  },
  {
   "cell_type": "code",
   "execution_count": 5,
   "metadata": {},
   "outputs": [],
   "source": [
    "from iesta.machine_learning.dataloader import IESTAData, LABELS\n",
    "from iesta.machine_learning.huggingface_loader import IESTAHuggingFace"
   ]
  },
  {
   "attachments": {},
   "cell_type": "markdown",
   "metadata": {},
   "source": [
    "\n",
    "### Data Count for main\n",
    "\n",
    "training      27522\n",
    "\n",
    "validation     7962\n",
    "\n",
    "test           3906\n",
    "\n",
    "\n",
    "### Data Count for style classifier\n",
    "\n",
    "\n",
    "training      11913\n",
    "\n",
    "validation     3400\n",
    "\n",
    "test           1691"
   ]
  },
  {
   "cell_type": "code",
   "execution_count": 6,
   "metadata": {},
   "outputs": [
    {
     "name": "stdout",
     "output_type": "stream",
     "text": [
      "dataset was not found on hugging face.\n",
      "creating huggingface dataset from local dataset\n",
      "/home/elba_ro/repos/github/conf22-style-transfer/iesta/../data/splitted_conservative_debate_arguments_effect_test0.3_random2.parquet\n"
     ]
    },
    {
     "name": "stderr",
     "output_type": "stream",
     "text": [
      "Pushing split test to the Hub.\n"
     ]
    },
    {
     "name": "stdout",
     "output_type": "stream",
     "text": [
      "The file for data_w_splits_df already exists\n",
      "Before filtering effects 101932\n",
      "After filtering effects 84711\n",
      "The columns are ['id', 'debate_id', 'p_name', 'effects', 'effect_count', 'top_effect', 'label', 'category', 'round', 'argument', 'split', 'is_for_eval_classifier', 'text']\n"
     ]
    },
    {
     "data": {
      "application/json": {
       "ascii": false,
       "bar_format": null,
       "colour": null,
       "elapsed": 0.02611565589904785,
       "initial": 0,
       "n": 0,
       "ncols": null,
       "nrows": null,
       "postfix": null,
       "prefix": "Pushing dataset shards to the dataset hub",
       "rate": null,
       "total": 1,
       "unit": "it",
       "unit_divisor": 1000,
       "unit_scale": false
      },
      "application/vnd.jupyter.widget-view+json": {
       "model_id": "16c2f095aca548e1b5009dbc06d9352e",
       "version_major": 2,
       "version_minor": 0
      },
      "text/plain": [
       "Pushing dataset shards to the dataset hub:   0%|          | 0/1 [00:00<?, ?it/s]"
      ]
     },
     "metadata": {},
     "output_type": "display_data"
    },
    {
     "name": "stderr",
     "output_type": "stream",
     "text": [
      "Pushing split training to the Hub.\n"
     ]
    },
    {
     "data": {
      "application/json": {
       "ascii": false,
       "bar_format": null,
       "colour": null,
       "elapsed": 0.02243351936340332,
       "initial": 0,
       "n": 0,
       "ncols": null,
       "nrows": null,
       "postfix": null,
       "prefix": "Pushing dataset shards to the dataset hub",
       "rate": null,
       "total": 1,
       "unit": "it",
       "unit_divisor": 1000,
       "unit_scale": false
      },
      "application/vnd.jupyter.widget-view+json": {
       "model_id": "0fe69d7b60a84b3483322504883be664",
       "version_major": 2,
       "version_minor": 0
      },
      "text/plain": [
       "Pushing dataset shards to the dataset hub:   0%|          | 0/1 [00:00<?, ?it/s]"
      ]
     },
     "metadata": {},
     "output_type": "display_data"
    },
    {
     "name": "stderr",
     "output_type": "stream",
     "text": [
      "Pushing split validation to the Hub.\n"
     ]
    },
    {
     "data": {
      "application/json": {
       "ascii": false,
       "bar_format": null,
       "colour": null,
       "elapsed": 0.02921915054321289,
       "initial": 0,
       "n": 0,
       "ncols": null,
       "nrows": null,
       "postfix": null,
       "prefix": "Pushing dataset shards to the dataset hub",
       "rate": null,
       "total": 1,
       "unit": "it",
       "unit_divisor": 1000,
       "unit_scale": false
      },
      "application/vnd.jupyter.widget-view+json": {
       "model_id": "c62ddf02616e4696ade4757963cd92c5",
       "version_major": 2,
       "version_minor": 0
      },
      "text/plain": [
       "Pushing dataset shards to the dataset hub:   0%|          | 0/1 [00:00<?, ?it/s]"
      ]
     },
     "metadata": {},
     "output_type": "display_data"
    },
    {
     "data": {
      "application/json": {
       "ascii": false,
       "bar_format": null,
       "colour": null,
       "elapsed": 0.023192167282104492,
       "initial": 0,
       "n": 0,
       "ncols": null,
       "nrows": null,
       "postfix": null,
       "prefix": "Downloading readme",
       "rate": null,
       "total": 595,
       "unit": "B",
       "unit_divisor": 1000,
       "unit_scale": true
      },
      "application/vnd.jupyter.widget-view+json": {
       "model_id": "642089f4df624e70ae3df9b7fb710de3",
       "version_major": 2,
       "version_minor": 0
      },
      "text/plain": [
       "Downloading readme:   0%|          | 0.00/595 [00:00<?, ?B/s]"
      ]
     },
     "metadata": {},
     "output_type": "display_data"
    },
    {
     "name": "stderr",
     "output_type": "stream",
     "text": [
      "Using custom data configuration notaphoenix--debateorg_w_effect_for_conservative-1d281f13a5fef231\n"
     ]
    },
    {
     "name": "stdout",
     "output_type": "stream",
     "text": [
      "Downloading and preparing dataset None/None to /home/elba_ro/.cache/huggingface/datasets/notaphoenix___parquet/notaphoenix--debateorg_w_effect_for_conservative-1d281f13a5fef231/0.0.0/2a3b91fbd88a2c90d1dbbb32b460cf621d31bd5b05b934492fdef7d8d6f236ec...\n"
     ]
    },
    {
     "data": {
      "application/json": {
       "ascii": false,
       "bar_format": null,
       "colour": null,
       "elapsed": 0.026097774505615234,
       "initial": 0,
       "n": 0,
       "ncols": null,
       "nrows": null,
       "postfix": null,
       "prefix": "Downloading data files",
       "rate": null,
       "total": 3,
       "unit": "it",
       "unit_divisor": 1000,
       "unit_scale": false
      },
      "application/vnd.jupyter.widget-view+json": {
       "model_id": "d5acd135d1004ec390b8f404f6066eb8",
       "version_major": 2,
       "version_minor": 0
      },
      "text/plain": [
       "Downloading data files:   0%|          | 0/3 [00:00<?, ?it/s]"
      ]
     },
     "metadata": {},
     "output_type": "display_data"
    },
    {
     "data": {
      "application/json": {
       "ascii": false,
       "bar_format": null,
       "colour": null,
       "elapsed": 0.023183584213256836,
       "initial": 0,
       "n": 0,
       "ncols": null,
       "nrows": null,
       "postfix": null,
       "prefix": "Downloading data",
       "rate": null,
       "total": 5932041,
       "unit": "B",
       "unit_divisor": 1000,
       "unit_scale": true
      },
      "application/vnd.jupyter.widget-view+json": {
       "model_id": "52522b9b81874375a976bb62a23166f1",
       "version_major": 2,
       "version_minor": 0
      },
      "text/plain": [
       "Downloading data:   0%|          | 0.00/5.93M [00:00<?, ?B/s]"
      ]
     },
     "metadata": {},
     "output_type": "display_data"
    },
    {
     "data": {
      "application/json": {
       "ascii": false,
       "bar_format": null,
       "colour": null,
       "elapsed": 0.02519083023071289,
       "initial": 0,
       "n": 0,
       "ncols": null,
       "nrows": null,
       "postfix": null,
       "prefix": "Downloading data",
       "rate": null,
       "total": 12156683,
       "unit": "B",
       "unit_divisor": 1000,
       "unit_scale": true
      },
      "application/vnd.jupyter.widget-view+json": {
       "model_id": "e66f692be8d447e898d301a4cff2b2b8",
       "version_major": 2,
       "version_minor": 0
      },
      "text/plain": [
       "Downloading data:   0%|          | 0.00/12.2M [00:00<?, ?B/s]"
      ]
     },
     "metadata": {},
     "output_type": "display_data"
    },
    {
     "data": {
      "application/json": {
       "ascii": false,
       "bar_format": null,
       "colour": null,
       "elapsed": 0.025236845016479492,
       "initial": 0,
       "n": 0,
       "ncols": null,
       "nrows": null,
       "postfix": null,
       "prefix": "Downloading data",
       "rate": null,
       "total": 42546493,
       "unit": "B",
       "unit_divisor": 1000,
       "unit_scale": true
      },
      "application/vnd.jupyter.widget-view+json": {
       "model_id": "6cc1d73cdc554f88a88b7fbe5c8a6da7",
       "version_major": 2,
       "version_minor": 0
      },
      "text/plain": [
       "Downloading data:   0%|          | 0.00/42.5M [00:00<?, ?B/s]"
      ]
     },
     "metadata": {},
     "output_type": "display_data"
    },
    {
     "name": "stdout",
     "output_type": "stream",
     "text": [
      "   "
     ]
    },
    {
     "data": {
      "application/json": {
       "ascii": false,
       "bar_format": null,
       "colour": null,
       "elapsed": 0.03529524803161621,
       "initial": 0,
       "n": 0,
       "ncols": null,
       "nrows": null,
       "postfix": null,
       "prefix": "Extracting data files #2",
       "rate": null,
       "total": 1,
       "unit": "obj",
       "unit_divisor": 1000,
       "unit_scale": false
      },
      "application/vnd.jupyter.widget-view+json": {
       "model_id": "bc6b54ee40bd445b9714e0414ff9c13e",
       "version_major": 2,
       "version_minor": 0
      },
      "text/plain": [
       "Extracting data files #2:   0%|          | 0/1 [00:00<?, ?obj/s]"
      ]
     },
     "metadata": {},
     "output_type": "display_data"
    },
    {
     "data": {
      "application/json": {
       "ascii": false,
       "bar_format": null,
       "colour": null,
       "elapsed": 0.043546199798583984,
       "initial": 0,
       "n": 0,
       "ncols": null,
       "nrows": null,
       "postfix": null,
       "prefix": "Extracting data files #1",
       "rate": null,
       "total": 1,
       "unit": "obj",
       "unit_divisor": 1000,
       "unit_scale": false
      },
      "application/vnd.jupyter.widget-view+json": {
       "model_id": "6960768710a44c0bae52d98920d00685",
       "version_major": 2,
       "version_minor": 0
      },
      "text/plain": [
       "Extracting data files #1:   0%|          | 0/1 [00:00<?, ?obj/s]"
      ]
     },
     "metadata": {},
     "output_type": "display_data"
    },
    {
     "data": {
      "application/json": {
       "ascii": false,
       "bar_format": null,
       "colour": null,
       "elapsed": 0.04489636421203613,
       "initial": 0,
       "n": 0,
       "ncols": null,
       "nrows": null,
       "postfix": null,
       "prefix": "Extracting data files #0",
       "rate": null,
       "total": 1,
       "unit": "obj",
       "unit_divisor": 1000,
       "unit_scale": false
      },
      "application/vnd.jupyter.widget-view+json": {
       "model_id": "85dd6d3ec70944d2a34115f223906d87",
       "version_major": 2,
       "version_minor": 0
      },
      "text/plain": [
       "Extracting data files #0:   0%|          | 0/1 [00:00<?, ?obj/s]"
      ]
     },
     "metadata": {},
     "output_type": "display_data"
    },
    {
     "data": {
      "application/json": {
       "ascii": false,
       "bar_format": null,
       "colour": null,
       "elapsed": 0.011677980422973633,
       "initial": 0,
       "n": 0,
       "ncols": null,
       "nrows": null,
       "postfix": null,
       "prefix": "Generating test split",
       "rate": null,
       "total": 5984,
       "unit": " examples",
       "unit_divisor": 1000,
       "unit_scale": false
      },
      "application/vnd.jupyter.widget-view+json": {
       "model_id": "5893452195144f478e98f29a0fbda79c",
       "version_major": 2,
       "version_minor": 0
      },
      "text/plain": [
       "Generating test split:   0%|          | 0/5984 [00:00<?, ? examples/s]"
      ]
     },
     "metadata": {},
     "output_type": "display_data"
    },
    {
     "data": {
      "application/json": {
       "ascii": false,
       "bar_format": null,
       "colour": null,
       "elapsed": 0.012490987777709961,
       "initial": 0,
       "n": 0,
       "ncols": null,
       "nrows": null,
       "postfix": null,
       "prefix": "Generating validation split",
       "rate": null,
       "total": 11931,
       "unit": " examples",
       "unit_divisor": 1000,
       "unit_scale": false
      },
      "application/vnd.jupyter.widget-view+json": {
       "model_id": "3ae2bd07c51f45cb9aedc92a30a240c9",
       "version_major": 2,
       "version_minor": 0
      },
      "text/plain": [
       "Generating validation split:   0%|          | 0/11931 [00:00<?, ? examples/s]"
      ]
     },
     "metadata": {},
     "output_type": "display_data"
    },
    {
     "data": {
      "application/json": {
       "ascii": false,
       "bar_format": null,
       "colour": null,
       "elapsed": 0.013926982879638672,
       "initial": 0,
       "n": 0,
       "ncols": null,
       "nrows": null,
       "postfix": null,
       "prefix": "Generating training split",
       "rate": null,
       "total": 41497,
       "unit": " examples",
       "unit_divisor": 1000,
       "unit_scale": false
      },
      "application/vnd.jupyter.widget-view+json": {
       "model_id": "98a7a263680e4a53ae08b46858f6061c",
       "version_major": 2,
       "version_minor": 0
      },
      "text/plain": [
       "Generating training split:   0%|          | 0/41497 [00:00<?, ? examples/s]"
      ]
     },
     "metadata": {},
     "output_type": "display_data"
    },
    {
     "name": "stdout",
     "output_type": "stream",
     "text": [
      "Dataset parquet downloaded and prepared to /home/elba_ro/.cache/huggingface/datasets/notaphoenix___parquet/notaphoenix--debateorg_w_effect_for_conservative-1d281f13a5fef231/0.0.0/2a3b91fbd88a2c90d1dbbb32b460cf621d31bd5b05b934492fdef7d8d6f236ec. Subsequent calls will reuse this data.\n"
     ]
    },
    {
     "data": {
      "application/json": {
       "ascii": false,
       "bar_format": null,
       "colour": null,
       "elapsed": 0.011458635330200195,
       "initial": 0,
       "n": 0,
       "ncols": null,
       "nrows": null,
       "postfix": null,
       "prefix": "",
       "rate": null,
       "total": 3,
       "unit": "it",
       "unit_divisor": 1000,
       "unit_scale": false
      },
      "application/vnd.jupyter.widget-view+json": {
       "model_id": "157f3c7fa82e4e1f9338dfa0845ead2b",
       "version_major": 2,
       "version_minor": 0
      },
      "text/plain": [
       "  0%|          | 0/3 [00:00<?, ?it/s]"
      ]
     },
     "metadata": {},
     "output_type": "display_data"
    },
    {
     "name": "stdout",
     "output_type": "stream",
     "text": [
      "dataset was not found on hugging face.\n",
      "creating huggingface dataset from local dataset\n",
      "/home/elba_ro/repos/github/conf22-style-transfer/iesta/../data/splitted_conservative_debate_arguments_effect_test0.3_random2.parquet\n"
     ]
    },
    {
     "name": "stderr",
     "output_type": "stream",
     "text": [
      "Pushing split test to the Hub.\n"
     ]
    },
    {
     "name": "stdout",
     "output_type": "stream",
     "text": [
      "The file for data_w_splits_df already exists\n",
      "Before filtering effects 101932\n",
      "After filtering effects 84711\n",
      "The columns are ['id', 'debate_id', 'p_name', 'effects', 'effect_count', 'top_effect', 'label', 'category', 'round', 'argument', 'split', 'is_for_eval_classifier', 'text']\n"
     ]
    },
    {
     "data": {
      "application/json": {
       "ascii": false,
       "bar_format": null,
       "colour": null,
       "elapsed": 0.025450944900512695,
       "initial": 0,
       "n": 0,
       "ncols": null,
       "nrows": null,
       "postfix": null,
       "prefix": "Pushing dataset shards to the dataset hub",
       "rate": null,
       "total": 1,
       "unit": "it",
       "unit_divisor": 1000,
       "unit_scale": false
      },
      "application/vnd.jupyter.widget-view+json": {
       "model_id": "9920ccae2fa2446c8c40c64af80573c5",
       "version_major": 2,
       "version_minor": 0
      },
      "text/plain": [
       "Pushing dataset shards to the dataset hub:   0%|          | 0/1 [00:00<?, ?it/s]"
      ]
     },
     "metadata": {},
     "output_type": "display_data"
    },
    {
     "name": "stderr",
     "output_type": "stream",
     "text": [
      "Pushing split training to the Hub.\n"
     ]
    },
    {
     "data": {
      "application/json": {
       "ascii": false,
       "bar_format": null,
       "colour": null,
       "elapsed": 0.02933359146118164,
       "initial": 0,
       "n": 0,
       "ncols": null,
       "nrows": null,
       "postfix": null,
       "prefix": "Pushing dataset shards to the dataset hub",
       "rate": null,
       "total": 1,
       "unit": "it",
       "unit_divisor": 1000,
       "unit_scale": false
      },
      "application/vnd.jupyter.widget-view+json": {
       "model_id": "8542e2a3f3cb4b13877b6c079ee8c870",
       "version_major": 2,
       "version_minor": 0
      },
      "text/plain": [
       "Pushing dataset shards to the dataset hub:   0%|          | 0/1 [00:00<?, ?it/s]"
      ]
     },
     "metadata": {},
     "output_type": "display_data"
    },
    {
     "name": "stderr",
     "output_type": "stream",
     "text": [
      "Pushing split validation to the Hub.\n"
     ]
    },
    {
     "data": {
      "application/json": {
       "ascii": false,
       "bar_format": null,
       "colour": null,
       "elapsed": 0.022063493728637695,
       "initial": 0,
       "n": 0,
       "ncols": null,
       "nrows": null,
       "postfix": null,
       "prefix": "Pushing dataset shards to the dataset hub",
       "rate": null,
       "total": 1,
       "unit": "it",
       "unit_divisor": 1000,
       "unit_scale": false
      },
      "application/vnd.jupyter.widget-view+json": {
       "model_id": "a65d4d105e3d49568ab0936ed694a2de",
       "version_major": 2,
       "version_minor": 0
      },
      "text/plain": [
       "Pushing dataset shards to the dataset hub:   0%|          | 0/1 [00:00<?, ?it/s]"
      ]
     },
     "metadata": {},
     "output_type": "display_data"
    },
    {
     "data": {
      "application/json": {
       "ascii": false,
       "bar_format": null,
       "colour": null,
       "elapsed": 0.025971412658691406,
       "initial": 0,
       "n": 0,
       "ncols": null,
       "nrows": null,
       "postfix": null,
       "prefix": "Downloading readme",
       "rate": null,
       "total": 598,
       "unit": "B",
       "unit_divisor": 1000,
       "unit_scale": true
      },
      "application/vnd.jupyter.widget-view+json": {
       "model_id": "37561dd6dae94056a80ab7f5c15aadd9",
       "version_major": 2,
       "version_minor": 0
      },
      "text/plain": [
       "Downloading readme:   0%|          | 0.00/598 [00:00<?, ?B/s]"
      ]
     },
     "metadata": {},
     "output_type": "display_data"
    },
    {
     "name": "stderr",
     "output_type": "stream",
     "text": [
      "Using custom data configuration notaphoenix--debateorg_w_effect_for_conservative_subset-f9040a5a0d89b057\n"
     ]
    },
    {
     "name": "stdout",
     "output_type": "stream",
     "text": [
      "Downloading and preparing dataset None/None to /home/elba_ro/.cache/huggingface/datasets/notaphoenix___parquet/notaphoenix--debateorg_w_effect_for_conservative_subset-f9040a5a0d89b057/0.0.0/2a3b91fbd88a2c90d1dbbb32b460cf621d31bd5b05b934492fdef7d8d6f236ec...\n"
     ]
    },
    {
     "data": {
      "application/json": {
       "ascii": false,
       "bar_format": null,
       "colour": null,
       "elapsed": 0.026359081268310547,
       "initial": 0,
       "n": 0,
       "ncols": null,
       "nrows": null,
       "postfix": null,
       "prefix": "Downloading data files",
       "rate": null,
       "total": 3,
       "unit": "it",
       "unit_divisor": 1000,
       "unit_scale": false
      },
      "application/vnd.jupyter.widget-view+json": {
       "model_id": "b773b5891ab3474fb264298754745fcd",
       "version_major": 2,
       "version_minor": 0
      },
      "text/plain": [
       "Downloading data files:   0%|          | 0/3 [00:00<?, ?it/s]"
      ]
     },
     "metadata": {},
     "output_type": "display_data"
    },
    {
     "data": {
      "application/json": {
       "ascii": false,
       "bar_format": null,
       "colour": null,
       "elapsed": 0.030464649200439453,
       "initial": 0,
       "n": 0,
       "ncols": null,
       "nrows": null,
       "postfix": null,
       "prefix": "Downloading data",
       "rate": null,
       "total": 2537449,
       "unit": "B",
       "unit_divisor": 1000,
       "unit_scale": true
      },
      "application/vnd.jupyter.widget-view+json": {
       "model_id": "b9cf987baeae4632b2f852560a71c61f",
       "version_major": 2,
       "version_minor": 0
      },
      "text/plain": [
       "Downloading data:   0%|          | 0.00/2.54M [00:00<?, ?B/s]"
      ]
     },
     "metadata": {},
     "output_type": "display_data"
    },
    {
     "data": {
      "application/json": {
       "ascii": false,
       "bar_format": null,
       "colour": null,
       "elapsed": 0.0240786075592041,
       "initial": 0,
       "n": 0,
       "ncols": null,
       "nrows": null,
       "postfix": null,
       "prefix": "Downloading data",
       "rate": null,
       "total": 5116707,
       "unit": "B",
       "unit_divisor": 1000,
       "unit_scale": true
      },
      "application/vnd.jupyter.widget-view+json": {
       "model_id": "428145712f9948e0a9e60500f5dff4b9",
       "version_major": 2,
       "version_minor": 0
      },
      "text/plain": [
       "Downloading data:   0%|          | 0.00/5.12M [00:00<?, ?B/s]"
      ]
     },
     "metadata": {},
     "output_type": "display_data"
    },
    {
     "data": {
      "application/json": {
       "ascii": false,
       "bar_format": null,
       "colour": null,
       "elapsed": 0.021567344665527344,
       "initial": 0,
       "n": 0,
       "ncols": null,
       "nrows": null,
       "postfix": null,
       "prefix": "Downloading data",
       "rate": null,
       "total": 18316763,
       "unit": "B",
       "unit_divisor": 1000,
       "unit_scale": true
      },
      "application/vnd.jupyter.widget-view+json": {
       "model_id": "5c585ee542af4a779e745d7179156048",
       "version_major": 2,
       "version_minor": 0
      },
      "text/plain": [
       "Downloading data:   0%|          | 0.00/18.3M [00:00<?, ?B/s]"
      ]
     },
     "metadata": {},
     "output_type": "display_data"
    },
    {
     "name": "stdout",
     "output_type": "stream",
     "text": [
      "   "
     ]
    },
    {
     "data": {
      "application/json": {
       "ascii": false,
       "bar_format": null,
       "colour": null,
       "elapsed": 0.03207254409790039,
       "initial": 0,
       "n": 0,
       "ncols": null,
       "nrows": null,
       "postfix": null,
       "prefix": "Extracting data files #1",
       "rate": null,
       "total": 1,
       "unit": "obj",
       "unit_divisor": 1000,
       "unit_scale": false
      },
      "application/vnd.jupyter.widget-view+json": {
       "model_id": "1deaf4deabb944ce876012a65ee012eb",
       "version_major": 2,
       "version_minor": 0
      },
      "text/plain": [
       "Extracting data files #1:   0%|          | 0/1 [00:00<?, ?obj/s]"
      ]
     },
     "metadata": {},
     "output_type": "display_data"
    },
    {
     "data": {
      "application/json": {
       "ascii": false,
       "bar_format": null,
       "colour": null,
       "elapsed": 0.03190422058105469,
       "initial": 0,
       "n": 0,
       "ncols": null,
       "nrows": null,
       "postfix": null,
       "prefix": "Extracting data files #2",
       "rate": null,
       "total": 1,
       "unit": "obj",
       "unit_divisor": 1000,
       "unit_scale": false
      },
      "application/vnd.jupyter.widget-view+json": {
       "model_id": "549d8ccca43145f29f3b71622e29a028",
       "version_major": 2,
       "version_minor": 0
      },
      "text/plain": [
       "Extracting data files #2:   0%|          | 0/1 [00:00<?, ?obj/s]"
      ]
     },
     "metadata": {},
     "output_type": "display_data"
    },
    {
     "data": {
      "application/json": {
       "ascii": false,
       "bar_format": null,
       "colour": null,
       "elapsed": 0.036069393157958984,
       "initial": 0,
       "n": 0,
       "ncols": null,
       "nrows": null,
       "postfix": null,
       "prefix": "Extracting data files #0",
       "rate": null,
       "total": 1,
       "unit": "obj",
       "unit_divisor": 1000,
       "unit_scale": false
      },
      "application/vnd.jupyter.widget-view+json": {
       "model_id": "f0e6c2caa27e47a4846cd3654e84b36c",
       "version_major": 2,
       "version_minor": 0
      },
      "text/plain": [
       "Extracting data files #0:   0%|          | 0/1 [00:00<?, ?obj/s]"
      ]
     },
     "metadata": {},
     "output_type": "display_data"
    },
    {
     "data": {
      "application/json": {
       "ascii": false,
       "bar_format": null,
       "colour": null,
       "elapsed": 0.02926015853881836,
       "initial": 0,
       "n": 0,
       "ncols": null,
       "nrows": null,
       "postfix": null,
       "prefix": "Generating test split",
       "rate": null,
       "total": 2474,
       "unit": " examples",
       "unit_divisor": 1000,
       "unit_scale": false
      },
      "application/vnd.jupyter.widget-view+json": {
       "model_id": "867aa21e106143a7a693644a42012806",
       "version_major": 2,
       "version_minor": 0
      },
      "text/plain": [
       "Generating test split:   0%|          | 0/2474 [00:00<?, ? examples/s]"
      ]
     },
     "metadata": {},
     "output_type": "display_data"
    },
    {
     "data": {
      "application/json": {
       "ascii": false,
       "bar_format": null,
       "colour": null,
       "elapsed": 0.012195110321044922,
       "initial": 0,
       "n": 0,
       "ncols": null,
       "nrows": null,
       "postfix": null,
       "prefix": "Generating validation split",
       "rate": null,
       "total": 5082,
       "unit": " examples",
       "unit_divisor": 1000,
       "unit_scale": false
      },
      "application/vnd.jupyter.widget-view+json": {
       "model_id": "ba2292348c244e0497acbc235ebde94f",
       "version_major": 2,
       "version_minor": 0
      },
      "text/plain": [
       "Generating validation split:   0%|          | 0/5082 [00:00<?, ? examples/s]"
      ]
     },
     "metadata": {},
     "output_type": "display_data"
    },
    {
     "data": {
      "application/json": {
       "ascii": false,
       "bar_format": null,
       "colour": null,
       "elapsed": 0.01163172721862793,
       "initial": 0,
       "n": 0,
       "ncols": null,
       "nrows": null,
       "postfix": null,
       "prefix": "Generating training split",
       "rate": null,
       "total": 17743,
       "unit": " examples",
       "unit_divisor": 1000,
       "unit_scale": false
      },
      "application/vnd.jupyter.widget-view+json": {
       "model_id": "664fc4906d514f23887025bb1ebcb3a8",
       "version_major": 2,
       "version_minor": 0
      },
      "text/plain": [
       "Generating training split:   0%|          | 0/17743 [00:00<?, ? examples/s]"
      ]
     },
     "metadata": {},
     "output_type": "display_data"
    },
    {
     "name": "stdout",
     "output_type": "stream",
     "text": [
      "Dataset parquet downloaded and prepared to /home/elba_ro/.cache/huggingface/datasets/notaphoenix___parquet/notaphoenix--debateorg_w_effect_for_conservative_subset-f9040a5a0d89b057/0.0.0/2a3b91fbd88a2c90d1dbbb32b460cf621d31bd5b05b934492fdef7d8d6f236ec. Subsequent calls will reuse this data.\n"
     ]
    },
    {
     "data": {
      "application/json": {
       "ascii": false,
       "bar_format": null,
       "colour": null,
       "elapsed": 0.024584293365478516,
       "initial": 0,
       "n": 0,
       "ncols": null,
       "nrows": null,
       "postfix": null,
       "prefix": "",
       "rate": null,
       "total": 3,
       "unit": "it",
       "unit_divisor": 1000,
       "unit_scale": false
      },
      "application/vnd.jupyter.widget-view+json": {
       "model_id": "c4b40262614c42e890b1d1413fdc15a2",
       "version_major": 2,
       "version_minor": 0
      },
      "text/plain": [
       "  0%|          | 0/3 [00:00<?, ?it/s]"
      ]
     },
     "metadata": {},
     "output_type": "display_data"
    }
   ],
   "source": [
    "conservative_data_obj = IESTAData(ideology=\"conservative\", keep_labels = LABELS.EFF_INEFF)\n",
    "conservative_hf = IESTAHuggingFace(conservative_data_obj)\n",
    "conservative_w_effect = conservative_hf.upload_w_labels(is_for_style_classifier=False)\n",
    "conservative_w_effect_for_sc = conservative_hf.upload_w_labels(is_for_style_classifier=True)\n"
   ]
  },
  {
   "cell_type": "code",
   "execution_count": 7,
   "metadata": {},
   "outputs": [
    {
     "name": "stdout",
     "output_type": "stream",
     "text": [
      "dataset was not found on hugging face.\n",
      "creating huggingface dataset from local dataset\n",
      "/home/elba_ro/repos/github/conf22-style-transfer/iesta/../data/splitted_liberal_debate_arguments_effect_test0.3_random2.parquet\n"
     ]
    },
    {
     "name": "stderr",
     "output_type": "stream",
     "text": [
      "Pushing split test to the Hub.\n"
     ]
    },
    {
     "name": "stdout",
     "output_type": "stream",
     "text": [
      "The file for data_w_splits_df already exists\n",
      "Before filtering effects 66844\n",
      "After filtering effects 56394\n",
      "The columns are ['id', 'debate_id', 'p_name', 'effects', 'effect_count', 'top_effect', 'label', 'category', 'round', 'argument', 'split', 'is_for_eval_classifier', 'text']\n"
     ]
    },
    {
     "data": {
      "application/json": {
       "ascii": false,
       "bar_format": null,
       "colour": null,
       "elapsed": 0.02456355094909668,
       "initial": 0,
       "n": 0,
       "ncols": null,
       "nrows": null,
       "postfix": null,
       "prefix": "Pushing dataset shards to the dataset hub",
       "rate": null,
       "total": 1,
       "unit": "it",
       "unit_divisor": 1000,
       "unit_scale": false
      },
      "application/vnd.jupyter.widget-view+json": {
       "model_id": "5390e2e3f62d47b796f35233304b0cff",
       "version_major": 2,
       "version_minor": 0
      },
      "text/plain": [
       "Pushing dataset shards to the dataset hub:   0%|          | 0/1 [00:00<?, ?it/s]"
      ]
     },
     "metadata": {},
     "output_type": "display_data"
    },
    {
     "name": "stderr",
     "output_type": "stream",
     "text": [
      "Pushing split training to the Hub.\n"
     ]
    },
    {
     "data": {
      "application/json": {
       "ascii": false,
       "bar_format": null,
       "colour": null,
       "elapsed": 0.029052257537841797,
       "initial": 0,
       "n": 0,
       "ncols": null,
       "nrows": null,
       "postfix": null,
       "prefix": "Pushing dataset shards to the dataset hub",
       "rate": null,
       "total": 1,
       "unit": "it",
       "unit_divisor": 1000,
       "unit_scale": false
      },
      "application/vnd.jupyter.widget-view+json": {
       "model_id": "d7725cb72c9e476289c1116261e25209",
       "version_major": 2,
       "version_minor": 0
      },
      "text/plain": [
       "Pushing dataset shards to the dataset hub:   0%|          | 0/1 [00:00<?, ?it/s]"
      ]
     },
     "metadata": {},
     "output_type": "display_data"
    },
    {
     "name": "stderr",
     "output_type": "stream",
     "text": [
      "Pushing split validation to the Hub.\n"
     ]
    },
    {
     "data": {
      "application/json": {
       "ascii": false,
       "bar_format": null,
       "colour": null,
       "elapsed": 0.022288084030151367,
       "initial": 0,
       "n": 0,
       "ncols": null,
       "nrows": null,
       "postfix": null,
       "prefix": "Pushing dataset shards to the dataset hub",
       "rate": null,
       "total": 1,
       "unit": "it",
       "unit_divisor": 1000,
       "unit_scale": false
      },
      "application/vnd.jupyter.widget-view+json": {
       "model_id": "302b2293efa44798b902fac226ce1fb1",
       "version_major": 2,
       "version_minor": 0
      },
      "text/plain": [
       "Pushing dataset shards to the dataset hub:   0%|          | 0/1 [00:00<?, ?it/s]"
      ]
     },
     "metadata": {},
     "output_type": "display_data"
    },
    {
     "data": {
      "application/json": {
       "ascii": false,
       "bar_format": null,
       "colour": null,
       "elapsed": 0.02541804313659668,
       "initial": 0,
       "n": 0,
       "ncols": null,
       "nrows": null,
       "postfix": null,
       "prefix": "Downloading readme",
       "rate": null,
       "total": 587,
       "unit": "B",
       "unit_divisor": 1000,
       "unit_scale": true
      },
      "application/vnd.jupyter.widget-view+json": {
       "model_id": "c0665c09ec4b42e2b303d9f9da68d7e1",
       "version_major": 2,
       "version_minor": 0
      },
      "text/plain": [
       "Downloading readme:   0%|          | 0.00/587 [00:00<?, ?B/s]"
      ]
     },
     "metadata": {},
     "output_type": "display_data"
    },
    {
     "name": "stderr",
     "output_type": "stream",
     "text": [
      "Using custom data configuration notaphoenix--debateorg_w_effect_for_liberal-0c331b28edd928ee\n"
     ]
    },
    {
     "name": "stdout",
     "output_type": "stream",
     "text": [
      "Downloading and preparing dataset None/None to /home/elba_ro/.cache/huggingface/datasets/notaphoenix___parquet/notaphoenix--debateorg_w_effect_for_liberal-0c331b28edd928ee/0.0.0/2a3b91fbd88a2c90d1dbbb32b460cf621d31bd5b05b934492fdef7d8d6f236ec...\n"
     ]
    },
    {
     "data": {
      "application/json": {
       "ascii": false,
       "bar_format": null,
       "colour": null,
       "elapsed": 0.027646303176879883,
       "initial": 0,
       "n": 0,
       "ncols": null,
       "nrows": null,
       "postfix": null,
       "prefix": "Downloading data files",
       "rate": null,
       "total": 3,
       "unit": "it",
       "unit_divisor": 1000,
       "unit_scale": false
      },
      "application/vnd.jupyter.widget-view+json": {
       "model_id": "95b1d4036c8d4b339de6832712fe9082",
       "version_major": 2,
       "version_minor": 0
      },
      "text/plain": [
       "Downloading data files:   0%|          | 0/3 [00:00<?, ?it/s]"
      ]
     },
     "metadata": {},
     "output_type": "display_data"
    },
    {
     "data": {
      "application/json": {
       "ascii": false,
       "bar_format": null,
       "colour": null,
       "elapsed": 0.025475263595581055,
       "initial": 0,
       "n": 0,
       "ncols": null,
       "nrows": null,
       "postfix": null,
       "prefix": "Downloading data",
       "rate": null,
       "total": 4182387,
       "unit": "B",
       "unit_divisor": 1000,
       "unit_scale": true
      },
      "application/vnd.jupyter.widget-view+json": {
       "model_id": "a9fbc3ba7e584e15b55d1651bf53efdd",
       "version_major": 2,
       "version_minor": 0
      },
      "text/plain": [
       "Downloading data:   0%|          | 0.00/4.18M [00:00<?, ?B/s]"
      ]
     },
     "metadata": {},
     "output_type": "display_data"
    },
    {
     "data": {
      "application/json": {
       "ascii": false,
       "bar_format": null,
       "colour": null,
       "elapsed": 0.0241086483001709,
       "initial": 0,
       "n": 0,
       "ncols": null,
       "nrows": null,
       "postfix": null,
       "prefix": "Downloading data",
       "rate": null,
       "total": 8716119,
       "unit": "B",
       "unit_divisor": 1000,
       "unit_scale": true
      },
      "application/vnd.jupyter.widget-view+json": {
       "model_id": "1bfb6ea456b84893a69e791c31574d9a",
       "version_major": 2,
       "version_minor": 0
      },
      "text/plain": [
       "Downloading data:   0%|          | 0.00/8.72M [00:00<?, ?B/s]"
      ]
     },
     "metadata": {},
     "output_type": "display_data"
    },
    {
     "data": {
      "application/json": {
       "ascii": false,
       "bar_format": null,
       "colour": null,
       "elapsed": 0.02503061294555664,
       "initial": 0,
       "n": 0,
       "ncols": null,
       "nrows": null,
       "postfix": null,
       "prefix": "Downloading data",
       "rate": null,
       "total": 31481015,
       "unit": "B",
       "unit_divisor": 1000,
       "unit_scale": true
      },
      "application/vnd.jupyter.widget-view+json": {
       "model_id": "c13b96539ff141ffacd1b4ce48ce0d8b",
       "version_major": 2,
       "version_minor": 0
      },
      "text/plain": [
       "Downloading data:   0%|          | 0.00/31.5M [00:00<?, ?B/s]"
      ]
     },
     "metadata": {},
     "output_type": "display_data"
    },
    {
     "name": "stdout",
     "output_type": "stream",
     "text": [
      "   "
     ]
    },
    {
     "data": {
      "application/json": {
       "ascii": false,
       "bar_format": null,
       "colour": null,
       "elapsed": 0.03480339050292969,
       "initial": 0,
       "n": 0,
       "ncols": null,
       "nrows": null,
       "postfix": null,
       "prefix": "Extracting data files #1",
       "rate": null,
       "total": 1,
       "unit": "obj",
       "unit_divisor": 1000,
       "unit_scale": false
      },
      "application/vnd.jupyter.widget-view+json": {
       "model_id": "7ebf3e8ba1d44cd4a798329f4aa77750",
       "version_major": 2,
       "version_minor": 0
      },
      "text/plain": [
       "Extracting data files #1:   0%|          | 0/1 [00:00<?, ?obj/s]"
      ]
     },
     "metadata": {},
     "output_type": "display_data"
    },
    {
     "data": {
      "application/json": {
       "ascii": false,
       "bar_format": null,
       "colour": null,
       "elapsed": 0.0393223762512207,
       "initial": 0,
       "n": 0,
       "ncols": null,
       "nrows": null,
       "postfix": null,
       "prefix": "Extracting data files #2",
       "rate": null,
       "total": 1,
       "unit": "obj",
       "unit_divisor": 1000,
       "unit_scale": false
      },
      "application/vnd.jupyter.widget-view+json": {
       "model_id": "892a2c5719e24beea486d446ff7fd354",
       "version_major": 2,
       "version_minor": 0
      },
      "text/plain": [
       "Extracting data files #2:   0%|          | 0/1 [00:00<?, ?obj/s]"
      ]
     },
     "metadata": {},
     "output_type": "display_data"
    },
    {
     "data": {
      "application/json": {
       "ascii": false,
       "bar_format": null,
       "colour": null,
       "elapsed": 0.04365658760070801,
       "initial": 0,
       "n": 0,
       "ncols": null,
       "nrows": null,
       "postfix": null,
       "prefix": "Extracting data files #0",
       "rate": null,
       "total": 1,
       "unit": "obj",
       "unit_divisor": 1000,
       "unit_scale": false
      },
      "application/vnd.jupyter.widget-view+json": {
       "model_id": "cffd821881854e1fbe5a37ca1ce4776c",
       "version_major": 2,
       "version_minor": 0
      },
      "text/plain": [
       "Extracting data files #0:   0%|          | 0/1 [00:00<?, ?obj/s]"
      ]
     },
     "metadata": {},
     "output_type": "display_data"
    },
    {
     "data": {
      "application/json": {
       "ascii": false,
       "bar_format": null,
       "colour": null,
       "elapsed": 0.026684045791625977,
       "initial": 0,
       "n": 0,
       "ncols": null,
       "nrows": null,
       "postfix": null,
       "prefix": "Generating test split",
       "rate": null,
       "total": 3880,
       "unit": " examples",
       "unit_divisor": 1000,
       "unit_scale": false
      },
      "application/vnd.jupyter.widget-view+json": {
       "model_id": "06b0494f0b9c47c494637aee89005a2a",
       "version_major": 2,
       "version_minor": 0
      },
      "text/plain": [
       "Generating test split:   0%|          | 0/3880 [00:00<?, ? examples/s]"
      ]
     },
     "metadata": {},
     "output_type": "display_data"
    },
    {
     "data": {
      "application/json": {
       "ascii": false,
       "bar_format": null,
       "colour": null,
       "elapsed": 0.015427827835083008,
       "initial": 0,
       "n": 0,
       "ncols": null,
       "nrows": null,
       "postfix": null,
       "prefix": "Generating validation split",
       "rate": null,
       "total": 7946,
       "unit": " examples",
       "unit_divisor": 1000,
       "unit_scale": false
      },
      "application/vnd.jupyter.widget-view+json": {
       "model_id": "e50e8334e0714d84a8890e89599149c0",
       "version_major": 2,
       "version_minor": 0
      },
      "text/plain": [
       "Generating validation split:   0%|          | 0/7946 [00:00<?, ? examples/s]"
      ]
     },
     "metadata": {},
     "output_type": "display_data"
    },
    {
     "data": {
      "application/json": {
       "ascii": false,
       "bar_format": null,
       "colour": null,
       "elapsed": 0.011637449264526367,
       "initial": 0,
       "n": 0,
       "ncols": null,
       "nrows": null,
       "postfix": null,
       "prefix": "Generating training split",
       "rate": null,
       "total": 27716,
       "unit": " examples",
       "unit_divisor": 1000,
       "unit_scale": false
      },
      "application/vnd.jupyter.widget-view+json": {
       "model_id": "31c63256c4ff429891a09d2e3b6f7c3b",
       "version_major": 2,
       "version_minor": 0
      },
      "text/plain": [
       "Generating training split:   0%|          | 0/27716 [00:00<?, ? examples/s]"
      ]
     },
     "metadata": {},
     "output_type": "display_data"
    },
    {
     "name": "stdout",
     "output_type": "stream",
     "text": [
      "Dataset parquet downloaded and prepared to /home/elba_ro/.cache/huggingface/datasets/notaphoenix___parquet/notaphoenix--debateorg_w_effect_for_liberal-0c331b28edd928ee/0.0.0/2a3b91fbd88a2c90d1dbbb32b460cf621d31bd5b05b934492fdef7d8d6f236ec. Subsequent calls will reuse this data.\n"
     ]
    },
    {
     "data": {
      "application/json": {
       "ascii": false,
       "bar_format": null,
       "colour": null,
       "elapsed": 0.010820865631103516,
       "initial": 0,
       "n": 0,
       "ncols": null,
       "nrows": null,
       "postfix": null,
       "prefix": "",
       "rate": null,
       "total": 3,
       "unit": "it",
       "unit_divisor": 1000,
       "unit_scale": false
      },
      "application/vnd.jupyter.widget-view+json": {
       "model_id": "c97c18bbc5f74470969a6500ea8356fa",
       "version_major": 2,
       "version_minor": 0
      },
      "text/plain": [
       "  0%|          | 0/3 [00:00<?, ?it/s]"
      ]
     },
     "metadata": {},
     "output_type": "display_data"
    },
    {
     "name": "stdout",
     "output_type": "stream",
     "text": [
      "dataset was not found on hugging face.\n",
      "creating huggingface dataset from local dataset\n",
      "/home/elba_ro/repos/github/conf22-style-transfer/iesta/../data/splitted_liberal_debate_arguments_effect_test0.3_random2.parquet\n"
     ]
    },
    {
     "name": "stderr",
     "output_type": "stream",
     "text": [
      "Pushing split test to the Hub.\n"
     ]
    },
    {
     "name": "stdout",
     "output_type": "stream",
     "text": [
      "The file for data_w_splits_df already exists\n",
      "Before filtering effects 66844\n",
      "After filtering effects 56394\n",
      "The columns are ['id', 'debate_id', 'p_name', 'effects', 'effect_count', 'top_effect', 'label', 'category', 'round', 'argument', 'split', 'is_for_eval_classifier', 'text']\n"
     ]
    },
    {
     "data": {
      "application/json": {
       "ascii": false,
       "bar_format": null,
       "colour": null,
       "elapsed": 0.02515697479248047,
       "initial": 0,
       "n": 0,
       "ncols": null,
       "nrows": null,
       "postfix": null,
       "prefix": "Pushing dataset shards to the dataset hub",
       "rate": null,
       "total": 1,
       "unit": "it",
       "unit_divisor": 1000,
       "unit_scale": false
      },
      "application/vnd.jupyter.widget-view+json": {
       "model_id": "cecc46972a6e44e9b125b0c5222a7a4b",
       "version_major": 2,
       "version_minor": 0
      },
      "text/plain": [
       "Pushing dataset shards to the dataset hub:   0%|          | 0/1 [00:00<?, ?it/s]"
      ]
     },
     "metadata": {},
     "output_type": "display_data"
    },
    {
     "name": "stderr",
     "output_type": "stream",
     "text": [
      "Pushing split training to the Hub.\n"
     ]
    },
    {
     "data": {
      "application/json": {
       "ascii": false,
       "bar_format": null,
       "colour": null,
       "elapsed": 0.022516250610351562,
       "initial": 0,
       "n": 0,
       "ncols": null,
       "nrows": null,
       "postfix": null,
       "prefix": "Pushing dataset shards to the dataset hub",
       "rate": null,
       "total": 1,
       "unit": "it",
       "unit_divisor": 1000,
       "unit_scale": false
      },
      "application/vnd.jupyter.widget-view+json": {
       "model_id": "3fdd02cd061a48e499f404cadef7d10b",
       "version_major": 2,
       "version_minor": 0
      },
      "text/plain": [
       "Pushing dataset shards to the dataset hub:   0%|          | 0/1 [00:00<?, ?it/s]"
      ]
     },
     "metadata": {},
     "output_type": "display_data"
    },
    {
     "name": "stderr",
     "output_type": "stream",
     "text": [
      "Pushing split validation to the Hub.\n"
     ]
    },
    {
     "data": {
      "application/json": {
       "ascii": false,
       "bar_format": null,
       "colour": null,
       "elapsed": 0.021780014038085938,
       "initial": 0,
       "n": 0,
       "ncols": null,
       "nrows": null,
       "postfix": null,
       "prefix": "Pushing dataset shards to the dataset hub",
       "rate": null,
       "total": 1,
       "unit": "it",
       "unit_divisor": 1000,
       "unit_scale": false
      },
      "application/vnd.jupyter.widget-view+json": {
       "model_id": "cc06d5e57f304e1aa4908005ea074119",
       "version_major": 2,
       "version_minor": 0
      },
      "text/plain": [
       "Pushing dataset shards to the dataset hub:   0%|          | 0/1 [00:00<?, ?it/s]"
      ]
     },
     "metadata": {},
     "output_type": "display_data"
    },
    {
     "data": {
      "application/json": {
       "ascii": false,
       "bar_format": null,
       "colour": null,
       "elapsed": 0.02718949317932129,
       "initial": 0,
       "n": 0,
       "ncols": null,
       "nrows": null,
       "postfix": null,
       "prefix": "Downloading readme",
       "rate": null,
       "total": 593,
       "unit": "B",
       "unit_divisor": 1000,
       "unit_scale": true
      },
      "application/vnd.jupyter.widget-view+json": {
       "model_id": "5711803e92154b4598391647ed28f77b",
       "version_major": 2,
       "version_minor": 0
      },
      "text/plain": [
       "Downloading readme:   0%|          | 0.00/593 [00:00<?, ?B/s]"
      ]
     },
     "metadata": {},
     "output_type": "display_data"
    },
    {
     "name": "stderr",
     "output_type": "stream",
     "text": [
      "Using custom data configuration notaphoenix--debateorg_w_effect_for_liberal_subset-dee676fc10300bce\n"
     ]
    },
    {
     "name": "stdout",
     "output_type": "stream",
     "text": [
      "Downloading and preparing dataset None/None to /home/elba_ro/.cache/huggingface/datasets/notaphoenix___parquet/notaphoenix--debateorg_w_effect_for_liberal_subset-dee676fc10300bce/0.0.0/2a3b91fbd88a2c90d1dbbb32b460cf621d31bd5b05b934492fdef7d8d6f236ec...\n"
     ]
    },
    {
     "data": {
      "application/json": {
       "ascii": false,
       "bar_format": null,
       "colour": null,
       "elapsed": 0.02363753318786621,
       "initial": 0,
       "n": 0,
       "ncols": null,
       "nrows": null,
       "postfix": null,
       "prefix": "Downloading data files",
       "rate": null,
       "total": 3,
       "unit": "it",
       "unit_divisor": 1000,
       "unit_scale": false
      },
      "application/vnd.jupyter.widget-view+json": {
       "model_id": "09d4f1e77f1f449ab9ace13138874693",
       "version_major": 2,
       "version_minor": 0
      },
      "text/plain": [
       "Downloading data files:   0%|          | 0/3 [00:00<?, ?it/s]"
      ]
     },
     "metadata": {},
     "output_type": "display_data"
    },
    {
     "data": {
      "application/json": {
       "ascii": false,
       "bar_format": null,
       "colour": null,
       "elapsed": 0.02632927894592285,
       "initial": 0,
       "n": 0,
       "ncols": null,
       "nrows": null,
       "postfix": null,
       "prefix": "Downloading data",
       "rate": null,
       "total": 2031327,
       "unit": "B",
       "unit_divisor": 1000,
       "unit_scale": true
      },
      "application/vnd.jupyter.widget-view+json": {
       "model_id": "a7eb727a2ba34c4e8a79a5a3d48e0fbc",
       "version_major": 2,
       "version_minor": 0
      },
      "text/plain": [
       "Downloading data:   0%|          | 0.00/2.03M [00:00<?, ?B/s]"
      ]
     },
     "metadata": {},
     "output_type": "display_data"
    },
    {
     "data": {
      "application/json": {
       "ascii": false,
       "bar_format": null,
       "colour": null,
       "elapsed": 0.02279043197631836,
       "initial": 0,
       "n": 0,
       "ncols": null,
       "nrows": null,
       "postfix": null,
       "prefix": "Downloading data",
       "rate": null,
       "total": 3810931,
       "unit": "B",
       "unit_divisor": 1000,
       "unit_scale": true
      },
      "application/vnd.jupyter.widget-view+json": {
       "model_id": "336b388da6a4403585a6859d63eb4992",
       "version_major": 2,
       "version_minor": 0
      },
      "text/plain": [
       "Downloading data:   0%|          | 0.00/3.81M [00:00<?, ?B/s]"
      ]
     },
     "metadata": {},
     "output_type": "display_data"
    },
    {
     "data": {
      "application/json": {
       "ascii": false,
       "bar_format": null,
       "colour": null,
       "elapsed": 0.026552200317382812,
       "initial": 0,
       "n": 0,
       "ncols": null,
       "nrows": null,
       "postfix": null,
       "prefix": "Downloading data",
       "rate": null,
       "total": 13574125,
       "unit": "B",
       "unit_divisor": 1000,
       "unit_scale": true
      },
      "application/vnd.jupyter.widget-view+json": {
       "model_id": "b034b551c97847179fe03d28ee648b3d",
       "version_major": 2,
       "version_minor": 0
      },
      "text/plain": [
       "Downloading data:   0%|          | 0.00/13.6M [00:00<?, ?B/s]"
      ]
     },
     "metadata": {},
     "output_type": "display_data"
    },
    {
     "name": "stdout",
     "output_type": "stream",
     "text": [
      "   "
     ]
    },
    {
     "data": {
      "application/json": {
       "ascii": false,
       "bar_format": null,
       "colour": null,
       "elapsed": 0.029808998107910156,
       "initial": 0,
       "n": 0,
       "ncols": null,
       "nrows": null,
       "postfix": null,
       "prefix": "Extracting data files #2",
       "rate": null,
       "total": 1,
       "unit": "obj",
       "unit_divisor": 1000,
       "unit_scale": false
      },
      "application/vnd.jupyter.widget-view+json": {
       "model_id": "ea1e9badd9c940d5959e940fa2692db9",
       "version_major": 2,
       "version_minor": 0
      },
      "text/plain": [
       "Extracting data files #2:   0%|          | 0/1 [00:00<?, ?obj/s]"
      ]
     },
     "metadata": {},
     "output_type": "display_data"
    },
    {
     "data": {
      "application/json": {
       "ascii": false,
       "bar_format": null,
       "colour": null,
       "elapsed": 0.03423023223876953,
       "initial": 0,
       "n": 0,
       "ncols": null,
       "nrows": null,
       "postfix": null,
       "prefix": "Extracting data files #0",
       "rate": null,
       "total": 1,
       "unit": "obj",
       "unit_divisor": 1000,
       "unit_scale": false
      },
      "application/vnd.jupyter.widget-view+json": {
       "model_id": "773825ddd4e54f59abda246cb75d56d0",
       "version_major": 2,
       "version_minor": 0
      },
      "text/plain": [
       "Extracting data files #0:   0%|          | 0/1 [00:00<?, ?obj/s]"
      ]
     },
     "metadata": {},
     "output_type": "display_data"
    },
    {
     "data": {
      "application/json": {
       "ascii": false,
       "bar_format": null,
       "colour": null,
       "elapsed": 0.03986382484436035,
       "initial": 0,
       "n": 0,
       "ncols": null,
       "nrows": null,
       "postfix": null,
       "prefix": "Extracting data files #1",
       "rate": null,
       "total": 1,
       "unit": "obj",
       "unit_divisor": 1000,
       "unit_scale": false
      },
      "application/vnd.jupyter.widget-view+json": {
       "model_id": "6676d953790f4241bf1b4fcfcfe0ad64",
       "version_major": 2,
       "version_minor": 0
      },
      "text/plain": [
       "Extracting data files #1:   0%|          | 0/1 [00:00<?, ?obj/s]"
      ]
     },
     "metadata": {},
     "output_type": "display_data"
    },
    {
     "data": {
      "application/json": {
       "ascii": false,
       "bar_format": null,
       "colour": null,
       "elapsed": 0.011383056640625,
       "initial": 0,
       "n": 0,
       "ncols": null,
       "nrows": null,
       "postfix": null,
       "prefix": "Generating test split",
       "rate": null,
       "total": 1717,
       "unit": " examples",
       "unit_divisor": 1000,
       "unit_scale": false
      },
      "application/vnd.jupyter.widget-view+json": {
       "model_id": "e320b5881642479b859aa78be73395d9",
       "version_major": 2,
       "version_minor": 0
      },
      "text/plain": [
       "Generating test split:   0%|          | 0/1717 [00:00<?, ? examples/s]"
      ]
     },
     "metadata": {},
     "output_type": "display_data"
    },
    {
     "data": {
      "application/json": {
       "ascii": false,
       "bar_format": null,
       "colour": null,
       "elapsed": 0.026810407638549805,
       "initial": 0,
       "n": 0,
       "ncols": null,
       "nrows": null,
       "postfix": null,
       "prefix": "Generating validation split",
       "rate": null,
       "total": 3416,
       "unit": " examples",
       "unit_divisor": 1000,
       "unit_scale": false
      },
      "application/vnd.jupyter.widget-view+json": {
       "model_id": "279951e6bc514290b5c58cd7aff26047",
       "version_major": 2,
       "version_minor": 0
      },
      "text/plain": [
       "Generating validation split:   0%|          | 0/3416 [00:00<?, ? examples/s]"
      ]
     },
     "metadata": {},
     "output_type": "display_data"
    },
    {
     "data": {
      "application/json": {
       "ascii": false,
       "bar_format": null,
       "colour": null,
       "elapsed": 0.013445377349853516,
       "initial": 0,
       "n": 0,
       "ncols": null,
       "nrows": null,
       "postfix": null,
       "prefix": "Generating training split",
       "rate": null,
       "total": 11719,
       "unit": " examples",
       "unit_divisor": 1000,
       "unit_scale": false
      },
      "application/vnd.jupyter.widget-view+json": {
       "model_id": "2a1e657efc5342b29c91e26931540eaf",
       "version_major": 2,
       "version_minor": 0
      },
      "text/plain": [
       "Generating training split:   0%|          | 0/11719 [00:00<?, ? examples/s]"
      ]
     },
     "metadata": {},
     "output_type": "display_data"
    },
    {
     "name": "stdout",
     "output_type": "stream",
     "text": [
      "Dataset parquet downloaded and prepared to /home/elba_ro/.cache/huggingface/datasets/notaphoenix___parquet/notaphoenix--debateorg_w_effect_for_liberal_subset-dee676fc10300bce/0.0.0/2a3b91fbd88a2c90d1dbbb32b460cf621d31bd5b05b934492fdef7d8d6f236ec. Subsequent calls will reuse this data.\n"
     ]
    },
    {
     "data": {
      "application/json": {
       "ascii": false,
       "bar_format": null,
       "colour": null,
       "elapsed": 0.020232439041137695,
       "initial": 0,
       "n": 0,
       "ncols": null,
       "nrows": null,
       "postfix": null,
       "prefix": "",
       "rate": null,
       "total": 3,
       "unit": "it",
       "unit_divisor": 1000,
       "unit_scale": false
      },
      "application/vnd.jupyter.widget-view+json": {
       "model_id": "914fb1f80e814bbc968752a71f708ad5",
       "version_major": 2,
       "version_minor": 0
      },
      "text/plain": [
       "  0%|          | 0/3 [00:00<?, ?it/s]"
      ]
     },
     "metadata": {},
     "output_type": "display_data"
    }
   ],
   "source": [
    "liberal_data_obj = IESTAData(ideology=\"liberal\", keep_labels = LABELS.EFF_INEFF)\n",
    "liberal_hf = IESTAHuggingFace(liberal_data_obj)\n",
    "liberal_w_effect = liberal_hf.upload_w_labels(is_for_style_classifier=False)\n",
    "liberal_w_effect_for_sc = liberal_hf.upload_w_labels(is_for_style_classifier=True)\n"
   ]
  },
  {
   "cell_type": "code",
   "execution_count": null,
   "metadata": {},
   "outputs": [],
   "source": [
    "\n",
    "def get_training(ideology, evaluation_classfier_data_flag= IESTAData._WITHOUT_EVAL_CLASSIFIER, discard_okay: bool = True):\n",
    "    _, feature_df = load_training_features_df(ideology)\n",
    "\n",
    "    training = feature_df\n",
    "    print(len(training))\n",
    "\n",
    "    if evaluation_classfier_data_flag == IESTAData._ONLY_EVAL_CLASSIFIER_:\n",
    "        training = training[training['is_for_eval_classifier'] == True]\n",
    "        print(len(training))\n",
    "    elif evaluation_classfier_data_flag == IESTAData._WITHOUT_EVAL_CLASSIFIER:\n",
    "        training = training[training['is_for_eval_classifier'] == False]\n",
    "        print(len(training))\n",
    "    if discard_okay:\n",
    "        training = training[training[\"effect\"]!=\"okay\"]\n",
    "    print(f\"Included effects are: {training.effect.unique()}\")\n",
    "    return training\n",
    "\n",
    "liberal_training = get_training( \"liberal\")\n",
    "liberal_training.columns.tolist"
   ]
  },
  {
   "cell_type": "code",
   "execution_count": null,
   "metadata": {},
   "outputs": [],
   "source": [
    "liberal_iesta = IESTAData(ideology=\"liberal\", keep_labels = LABELS.EFF_INEFF)\n",
    "data_w_splits_df, _ = liberal_iesta.split_iesta_dataset_by_debate()\n"
   ]
  },
  {
   "cell_type": "code",
   "execution_count": null,
   "metadata": {},
   "outputs": [],
   "source": [
    "default_data = data_w_splits_df[data_w_splits_df['is_for_eval_classifier'] == False]\n",
    "style_classifier_data = data_w_splits_df[data_w_splits_df['is_for_eval_classifier'] == True]"
   ]
  },
  {
   "cell_type": "code",
   "execution_count": null,
   "metadata": {},
   "outputs": [],
   "source": [
    "import pandas as pd\n",
    "\n",
    "print(pd.crosstab(default_data['split'], default_data['effect']))\n",
    "print(pd.crosstab(style_classifier_data['split'], style_classifier_data['effect']))\n",
    "print()\n",
    "print(default_data['split'].value_counts())\n",
    "print(style_classifier_data['split'].value_counts())"
   ]
  },
  {
   "cell_type": "code",
   "execution_count": null,
   "metadata": {},
   "outputs": [],
   "source": []
  },
  {
   "cell_type": "code",
   "execution_count": null,
   "metadata": {},
   "outputs": [],
   "source": [
    "from sklearn.model_selection import train_test_split\n",
    "\n",
    "\n",
    "unique_debates = liberal_training.debate_id.unique()\n",
    "\n",
    "training_debates, testval_debates = train_test_split(unique_debates, test_size=0.3,\n",
    "                 random_state=42,\n",
    "                 shuffle=True)\n",
    "\n",
    "def _add_splits(row, training_debates, testval_debates):\n",
    "    if row['debate_id'] in training_debates:\n",
    "        row[\"classifier_split\"] = \"train\"\n",
    "    elif row['debate_id'] in testval_debates:\n",
    "        row[\"classifier_split\"] = \"test\"\n",
    "    else:\n",
    "        assert False\n",
    "    return row \n",
    "\n",
    "liberal_training = liberal_training.apply(_add_splits, args=(training_debates,testval_debates, ),axis=1)"
   ]
  },
  {
   "cell_type": "code",
   "execution_count": null,
   "metadata": {},
   "outputs": [],
   "source": [
    "liberal_training.classifier_split.value_counts()\n",
    "import pandas as pd\n",
    "\n",
    "pd.crosstab(liberal_training.classifier_split, liberal_training.binary_effect)"
   ]
  },
  {
   "cell_type": "code",
   "execution_count": null,
   "metadata": {},
   "outputs": [],
   "source": [
    "import numpy as np\n",
    "import pandas as pd \n",
    "from sklearn.preprocessing import LabelEncoder\n",
    "def filter_cols(cols):\n",
    "    prefices = [\"mpqa\", \"hedge\", \"emotion\", \"toxicity\", \"mpqa\", \"empath\"]\n",
    "    keep = [c for c in cols if c.split(\"_\")[0] in prefices and not c.endswith(\"_count\")]\n",
    "    return keep\n",
    "\n",
    "def filter_feature_df(df: pd.DataFrame, class_col: str = \"effect\", split_col: str = \"classifier_split\") : # binary_effect\n",
    "    feature_cols = filter_cols(df.columns.tolist())\n",
    "    df_ = df[feature_cols+[class_col, split_col]].copy()\n",
    "    numeric_cols = df_.select_dtypes(include=np.number).columns.tolist()\n",
    "    df_ = df_[numeric_cols+[class_col, split_col]]\n",
    "    \n",
    "    df_.fillna(0.0, inplace=True)\n",
    "\n",
    "    # transform y to numeric\n",
    "    le = LabelEncoder()\n",
    "    le.fit(df_[class_col])\n",
    "    df_[class_col] = le.transform(df_[class_col])\n",
    "    #X = df_.values\n",
    "    #y_str = df[class_].values\n",
    "\n",
    "\n",
    "    #def to_numeric(x):\n",
    "    #    return 0 if x == \"ineffective\" else (1 if x == \"effective\" else 2)\n",
    "    #y = [to_numeric(x) for x in y_str]\n",
    "    \n",
    "    return df_, numeric_cols"
   ]
  },
  {
   "cell_type": "code",
   "execution_count": null,
   "metadata": {},
   "outputs": [],
   "source": [
    "le = LabelEncoder()\n",
    "le.fit([\"paris\", \"paris\", \"tokyo\", \"amsterdam\"])\n",
    "list(le.classes_)\n",
    "le.transform([\"amsterdam\", ])\n"
   ]
  },
  {
   "cell_type": "code",
   "execution_count": null,
   "metadata": {},
   "outputs": [],
   "source": [
    "\n",
    "\n",
    "_df, numeric_cols = filter_feature_df(liberal_training, class_col = \"binary_effect\", split_col = \"classifier_split\")"
   ]
  },
  {
   "cell_type": "code",
   "execution_count": null,
   "metadata": {},
   "outputs": [],
   "source": [
    "_df.binary_effect.value_counts()"
   ]
  },
  {
   "cell_type": "code",
   "execution_count": null,
   "metadata": {},
   "outputs": [],
   "source": [
    "from nlpaf.ml.feature_based import FeatureBasedML\n",
    "\n",
    "trainer = FeatureBasedML(y_col=\"binary_effect\", dataset=_df, split_label_name=\"classifier_split\", training_cols=numeric_cols, remove_outliers=False, normalize=False)"
   ]
  },
  {
   "cell_type": "code",
   "execution_count": null,
   "metadata": {},
   "outputs": [],
   "source": [
    "dummy = trainer.train_baseline()"
   ]
  },
  {
   "cell_type": "code",
   "execution_count": null,
   "metadata": {},
   "outputs": [],
   "source": [
    "xfold_results = trainer.train_xfold()"
   ]
  },
  {
   "cell_type": "code",
   "execution_count": null,
   "metadata": {},
   "outputs": [],
   "source": [
    "xfold_results.keys()"
   ]
  },
  {
   "cell_type": "code",
   "execution_count": null,
   "metadata": {},
   "outputs": [],
   "source": [
    "xfold_results"
   ]
  },
  {
   "cell_type": "code",
   "execution_count": null,
   "metadata": {},
   "outputs": [],
   "source": [
    "trainer_nooutliers = FeatureBasedML(y_col=\"binary_effect\", dataset=_df, split_label_name=\"classifier_split\", training_cols=numeric_cols, remove_outliers=True, normalize=True)"
   ]
  },
  {
   "cell_type": "code",
   "execution_count": null,
   "metadata": {},
   "outputs": [],
   "source": [
    "xfold_nooutlier_results = trainer_nooutliers.train_xfold()"
   ]
  },
  {
   "cell_type": "code",
   "execution_count": null,
   "metadata": {},
   "outputs": [],
   "source": [
    "from nlpaf.ml.feature_based import FeatureBasedML\n",
    "\n",
    "trainer_ensemble = FeatureBasedML(y_col=\"binary_effect\", dataset=_df, split_label_name=\"classifier_split\", training_cols=numeric_cols, remove_outliers=True, normalize=True)"
   ]
  },
  {
   "cell_type": "code",
   "execution_count": null,
   "metadata": {},
   "outputs": [],
   "source": [
    "from nlpaf.ml import traditional_trainer as tt\n",
    "\n",
    "results = tt.train_ensemble(trainer_ensemble.X_train, trainer_ensemble.X_test, trainer_ensemble.y_train, trainer_ensemble.y_test)\n",
    "\n",
    "\n",
    "\"\"\"\n",
    "          precision    recall  f1-score   support\n",
    "\n",
    "           0       0.06      0.12      0.08       563\n",
    "           1       0.95      0.91      0.93     11554\n",
    "\n",
    "    accuracy                           0.87     12117\n",
    "   macro avg       0.51      0.51      0.50     12117\n",
    "weighted avg       0.91      0.87      0.89     12117\n",
    "\n",
    "\n",
    "time: 2222m 7.3s\n",
    "\"\"\"\n"
   ]
  },
  {
   "cell_type": "code",
   "execution_count": null,
   "metadata": {},
   "outputs": [],
   "source": []
  }
 ],
 "metadata": {
  "kernelspec": {
   "display_name": "iesta_venv",
   "language": "python",
   "name": "python3"
  },
  "language_info": {
   "codemirror_mode": {
    "name": "ipython",
    "version": 3
   },
   "file_extension": ".py",
   "mimetype": "text/x-python",
   "name": "python",
   "nbconvert_exporter": "python",
   "pygments_lexer": "ipython3",
   "version": "3.8.10"
  },
  "orig_nbformat": 4
 },
 "nbformat": 4,
 "nbformat_minor": 2
}
