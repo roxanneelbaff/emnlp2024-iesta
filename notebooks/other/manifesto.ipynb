{
 "cells": [
  {
   "cell_type": "code",
   "execution_count": 1,
   "metadata": {},
   "outputs": [],
   "source": [
    "import numpy as np\n",
    "import pandas as pd"
   ]
  },
  {
   "cell_type": "code",
   "execution_count": 6,
   "metadata": {},
   "outputs": [],
   "source": [
    "manifesto_path = \"../data/manifesto/MPDataset_MPDS2019b.csv\"\n",
    "docs_path = \"../data/manifesto/documents_MPDataset_MPDS2019b.csv\"\n",
    "manifesto_df = pd.read_csv(manifesto_path)\n",
    "# docs_df = pd.read_csv(docs_path, encoding=\"iso-8859-2\")"
   ]
  },
  {
   "cell_type": "code",
   "execution_count": 7,
   "metadata": {},
   "outputs": [
    {
     "data": {
      "text/plain": [
       "' \\n\\nWe code election programmes of all those parties that have won one (Australia, Japan, New Zealand,\\nNorth America, South Korea, and Western Europe) or two (Central and Eastern Europe) seats in the\\nrespective national elections to the lower house.\\nIn addition, we code manifestos of those parties that were relevant actors in the past (especially\\nmembers of ruling coalitions), but which no longer meet our selection criteria due to dramatic vote losses.\\nIn the case of coalitions, we usually code the coalition manifesto. If the coalition has not published a\\nmanifesto, we consider the manifestos of the individual parties that have been part of the coalition. In\\nthis case, we code as many individual party programmes as we can find. Detailed information about the\\ntype of document coded for each coalition can be found in the variable \"progtype\\n\\n\\n# parfam\\n\\nTentative grouping of political parties and alliances into the following\\nparty families. The variable is constant over time and does not account\\nfor possible changes of party family. The variable is assigned when a\\nparty is included in the data set for the first time and is generally not\\nchanged afterwards:\\n10 ECO Ecological parties\\n20 LEF Socialist or other left parties\\n30 SOC Social democratic parties\\n40 LIB Liberal parties\\n50 CHR Christian democratic parties (in Israel also Jewish parties)\\n60 CON Conservative parties\\n70 NAT Nationalist parties\\n80 AGR Agrarian parties\\n90 ETH Ethnic and regional parties\\n95 SIP Special issue parties\\n98 DIV Electoral alliances of diverse origin without dominant party\\n999 MI Missing information\\n\\n\\n\\n# coderid\\nThree digit code identifies coder:\\n100–\\n199\\nMRG or CMP group member\\n200–\\n799\\nhired amd trained coder\\n800–\\n899\\nspecifically trained coder\\n998 not applicable\\n999 missing information\\n\\n# testresult kripp. alpha\\n\\n\\nDomain 1: External Relations\\nDomain 2: Freedom and Democracy\\nDomain 3: Political System\\nDomain 4: Economy\\nDomain 5: Welfare and Quality of Life\\nDomain 6: Fabric of Society\\nDomain 7: Social Groups\\n\\n\\nProgrammatic dimensions\\n# rile Right-left position of party as given in Michael Laver/Ian Budge (eds.):\\nParty Policy and Government Coalitions, Houndmills, Basingstoke,\\nHampshire: The MacMillan Press 1992\\n\\n'"
      ]
     },
     "execution_count": 7,
     "metadata": {},
     "output_type": "execute_result"
    }
   ],
   "source": [
    "manifesto_df.columns.values\n",
    "\n",
    "\"\"\" \n",
    "\n",
    "We code election programmes of all those parties that have won one (Australia, Japan, New Zealand,\n",
    "North America, South Korea, and Western Europe) or two (Central and Eastern Europe) seats in the\n",
    "respective national elections to the lower house.\n",
    "In addition, we code manifestos of those parties that were relevant actors in the past (especially\n",
    "members of ruling coalitions), but which no longer meet our selection criteria due to dramatic vote losses.\n",
    "In the case of coalitions, we usually code the coalition manifesto. If the coalition has not published a\n",
    "manifesto, we consider the manifestos of the individual parties that have been part of the coalition. In\n",
    "this case, we code as many individual party programmes as we can find. Detailed information about the\n",
    "type of document coded for each coalition can be found in the variable \"progtype\n",
    "\n",
    "\n",
    "# parfam\n",
    "\n",
    "Tentative grouping of political parties and alliances into the following\n",
    "party families. The variable is constant over time and does not account\n",
    "for possible changes of party family. The variable is assigned when a\n",
    "party is included in the data set for the first time and is generally not\n",
    "changed afterwards:\n",
    "10 ECO Ecological parties\n",
    "20 LEF Socialist or other left parties\n",
    "30 SOC Social democratic parties\n",
    "40 LIB Liberal parties\n",
    "50 CHR Christian democratic parties (in Israel also Jewish parties)\n",
    "60 CON Conservative parties\n",
    "70 NAT Nationalist parties\n",
    "80 AGR Agrarian parties\n",
    "90 ETH Ethnic and regional parties\n",
    "95 SIP Special issue parties\n",
    "98 DIV Electoral alliances of diverse origin without dominant party\n",
    "999 MI Missing information\n",
    "\n",
    "\n",
    "\n",
    "# coderid\n",
    "Three digit code identifies coder:\n",
    "100–\n",
    "199\n",
    "MRG or CMP group member\n",
    "200–\n",
    "799\n",
    "hired amd trained coder\n",
    "800–\n",
    "899\n",
    "specifically trained coder\n",
    "998 not applicable\n",
    "999 missing information\n",
    "\n",
    "# testresult kripp. alpha\n",
    "\n",
    "\n",
    "Domain 1: External Relations\n",
    "Domain 2: Freedom and Democracy\n",
    "Domain 3: Political System\n",
    "Domain 4: Economy\n",
    "Domain 5: Welfare and Quality of Life\n",
    "Domain 6: Fabric of Society\n",
    "Domain 7: Social Groups\n",
    "\n",
    "\n",
    "Programmatic dimensions\n",
    "# rile Right-left position of party as given in Michael Laver/Ian Budge (eds.):\n",
    "Party Policy and Government Coalitions, Houndmills, Basingstoke,\n",
    "Hampshire: The MacMillan Press 1992\n",
    "\n",
    "\"\"\""
   ]
  },
  {
   "cell_type": "code",
   "execution_count": 8,
   "metadata": {},
   "outputs": [
    {
     "name": "stdout",
     "output_type": "stream",
     "text": [
      "unique countries:  56\n",
      "unique countries:  1172\n",
      "# per country: \n",
      " Denmark                       235\n",
      "Israel                        198\n",
      "Netherlands                   178\n",
      "Italy                         178\n",
      "Belgium                       177\n",
      "Finland                       153\n",
      "Switzerland                   146\n",
      "Spain                         144\n",
      "Sweden                        137\n",
      "Norway                        130\n",
      "Japan                         123\n",
      "Iceland                       117\n",
      "France                        116\n",
      "Australia                     111\n",
      "Ireland                       103\n",
      "New Zealand                   101\n",
      "Portugal                      101\n",
      "Mexico                         94\n",
      "Canada                         94\n",
      "Germany                        89\n",
      "United Kingdom                 88\n",
      "Greece                         84\n",
      "Austria                        83\n",
      "Serbia                         80\n",
      "Turkey                         77\n",
      "Luxembourg                     75\n",
      "North Macedonia                74\n",
      "Croatia                        73\n",
      "Slovakia                       69\n",
      "Czech Republic                 63\n",
      "Slovenia                       63\n",
      "Latvia                         61\n",
      "Poland                         60\n",
      "Montenegro                     59\n",
      "Bulgaria                       59\n",
      "Bosnia-Herzegovina             57\n",
      "Georgia                        54\n",
      "United States                  53\n",
      "Lithuania                      52\n",
      "Romania                        52\n",
      "Estonia                        47\n",
      "Ukraine                        45\n",
      "Russia                         45\n",
      "Hungary                        43\n",
      "Albania                        38\n",
      "Northern Ireland               33\n",
      "Cyprus                         30\n",
      "Armenia                        28\n",
      "Moldova                        28\n",
      "South Korea                    28\n",
      "South Africa                   17\n",
      "German Democratic Republic     15\n",
      "Sri Lanka                      13\n",
      "Azerbaijan                      9\n",
      "Belarus                         8\n",
      "Malta                           4\n",
      "Name: countryname, dtype: int64\n",
      "# per eumember: \n",
      " 0     2569\n",
      "10    1681\n",
      "20     242\n",
      "Name: eumember, dtype: int64\n"
     ]
    }
   ],
   "source": [
    "print(\"unique countries: \", len(manifesto_df.countryname.unique()))\n",
    "print(\"unique parties: \", len(manifesto_df.partyname.unique()))\n",
    "\n",
    "print(\"# per country: \\n\", (manifesto_df.countryname.value_counts()))\n",
    "print(\"# per eumember: \\n\", (manifesto_df.eumember.value_counts()))\n",
    "# print('unique countries: ', len(manifesto_df.countryname.unique()) )"
   ]
  },
  {
   "cell_type": "code",
   "execution_count": 13,
   "metadata": {},
   "outputs": [
    {
     "data": {
      "text/plain": [
       "4492"
      ]
     },
     "execution_count": 13,
     "metadata": {},
     "output_type": "execute_result"
    }
   ],
   "source": [
    "len(manifesto_df)"
   ]
  },
  {
   "cell_type": "code",
   "execution_count": 12,
   "metadata": {},
   "outputs": [
    {
     "data": {
      "text/plain": [
       "0       0.0\n",
       "1       0.0\n",
       "2       0.0\n",
       "3       0.0\n",
       "4       0.0\n",
       "       ... \n",
       "4487    0.0\n",
       "4488    0.0\n",
       "4489    0.0\n",
       "4490    0.0\n",
       "4491    0.0\n",
       "Name: per102, Length: 4492, dtype: float64"
      ]
     },
     "execution_count": 12,
     "metadata": {},
     "output_type": "execute_result"
    }
   ],
   "source": [
    "manifesto_df[\"per102\"]"
   ]
  },
  {
   "cell_type": "code",
   "execution_count": null,
   "metadata": {},
   "outputs": [],
   "source": []
  }
 ],
 "metadata": {
  "kernelspec": {
   "display_name": "Python 3 (ipykernel)",
   "language": "python",
   "name": "python3"
  },
  "language_info": {
   "codemirror_mode": {
    "name": "ipython",
    "version": 3
   },
   "file_extension": ".py",
   "mimetype": "text/x-python",
   "name": "python",
   "nbconvert_exporter": "python",
   "pygments_lexer": "ipython3",
   "version": "3.7.3"
  }
 },
 "nbformat": 4,
 "nbformat_minor": 4
}
