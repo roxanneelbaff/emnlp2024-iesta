{
 "cells": [
  {
   "cell_type": "code",
   "execution_count": 1,
   "id": "28f95430",
   "metadata": {},
   "outputs": [],
   "source": [
    "import iesta.processor as proc  \n",
    "import iesta.properties as properties  #\n",
    "\n",
    "import pandas as pd\n",
    "from iesta.machine_learning.dataloader import IESTAData, METHODOLOGY"
   ]
  },
  {
   "cell_type": "code",
   "execution_count": 2,
   "id": "18411e65",
   "metadata": {},
   "outputs": [],
   "source": [
    "def run_all_splits():\n",
    "    methodologies = [\"each\", \"first\", \"last\", \"firstlast\", \"currentprevious\"]\n",
    "    ideologies =  [properties.CONSERVATIVE_IDEOLOGY, properties.LIBERAL_IDEOLOGY]\n",
    "    splitted_data={}\n",
    "    for ideology in ideologies:\n",
    "        for methodology in methodologies:\n",
    "\n",
    "            desc = f\"Ideology: {ideology} - preprocessing method: {methodology}\"\n",
    "            print(\"\\n\\n\" +\"-\"*len(desc))\n",
    "            print(desc)\n",
    "            print(\"-\"*len(desc))\n",
    "            loader = IESTAData(ideology=ideology, methodology=methodology)\n",
    "            loader.load(add_binary_effect=True)\n",
    "\n",
    "\n",
    "            print(loader.pivot_df)\n",
    "            print()\n",
    "            print(loader.pivot_binary_effect)\n"
   ]
  },
  {
   "cell_type": "code",
   "execution_count": null,
   "id": "75747cba",
   "metadata": {},
   "outputs": [
    {
     "name": "stdout",
     "output_type": "stream",
     "text": [
      "\n",
      "\n",
      "---------------------------------------------------\n",
      "Ideology: Conservative - preprocessing method: each\n",
      "---------------------------------------------------\n"
     ]
    },
    {
     "name": "stderr",
     "output_type": "stream",
     "text": [
      "textmining-utility INFO     File already created. Loading file...\n"
     ]
    }
   ],
   "source": [
    "run_all_splits()"
   ]
  },
  {
   "cell_type": "code",
   "execution_count": null,
   "id": "951afafd",
   "metadata": {},
   "outputs": [],
   "source": []
  }
 ],
 "metadata": {
  "kernelspec": {
   "display_name": "Python 3 (ipykernel)",
   "language": "python",
   "name": "python3"
  },
  "language_info": {
   "codemirror_mode": {
    "name": "ipython",
    "version": 3
   },
   "file_extension": ".py",
   "mimetype": "text/x-python",
   "name": "python",
   "nbconvert_exporter": "python",
   "pygments_lexer": "ipython3",
   "version": "3.8.6"
  }
 },
 "nbformat": 4,
 "nbformat_minor": 5
}
