{
 "cells": [
  {
   "cell_type": "code",
   "execution_count": 1,
   "id": "28f95430",
   "metadata": {},
   "outputs": [],
   "source": [
    "import iesta.processor as proc  \n",
    "import iesta.properties as properties  #\n",
    "\n",
    "import pandas as pd\n",
    "from iesta.machine_learning.dataloader import IESTAData, METHODOLOGY"
   ]
  },
  {
   "cell_type": "code",
   "execution_count": 2,
   "id": "18411e65",
   "metadata": {},
   "outputs": [],
   "source": [
    "def run_all_splits():\n",
    "    methodologies = [\"each\", \"first\", \"last\", \"firstlast\", \"currentprevious\"]\n",
    "    ideologies =  [properties.CONSERVATIVE_IDEOLOGY, properties.LIBERAL_IDEOLOGY]\n",
    "    splitted_data={}\n",
    "    for ideology in ideologies:\n",
    "        for methodology in methodologies:\n",
    "\n",
    "            desc = f\"Ideology: {ideology} - preprocessing method: {methodology}\"\n",
    "            print(\"\\n\\n\" +\"-\"*len(desc))\n",
    "            print(desc)\n",
    "            print(\"-\"*len(desc))\n",
    "            loader = IESTAData(ideology=ideology, methodology=methodology)\n",
    "            loader.load(add_binary_effect=True)\n",
    "\n",
    "\n",
    "            print(loader.pivot_df)\n",
    "            print()\n",
    "            print(loader.pivot_binary_effect)\n"
   ]
  },
  {
   "cell_type": "code",
   "execution_count": 3,
   "id": "6d1f5c27",
   "metadata": {
    "scrolled": false
   },
   "outputs": [
    {
     "name": "stdout",
     "output_type": "stream",
     "text": [
      "\n",
      "\n",
      "---------------------------------------------------\n",
      "Ideology: Conservative - preprocessing method: each\n",
      "---------------------------------------------------\n"
     ]
    },
    {
     "name": "stderr",
     "output_type": "stream",
     "text": [
      "textmining-utility INFO     File already created. Loading file...\n"
     ]
    },
    {
     "name": "stdout",
     "output_type": "stream",
     "text": [
      "effect      effective  ineffective   okay  provocative\n",
      "split                                                 \n",
      "test              294         8164   1677           93\n",
      "training         2044        57196  11460          616\n",
      "validation        649        16364   3178          197\n",
      "\n",
      "binary_effect  effective  ineffective\n",
      "split                                \n",
      "test                 294         9934\n",
      "training            2044        69272\n",
      "validation           649        19739\n",
      "\n",
      "\n",
      "----------------------------------------------------\n",
      "Ideology: Conservative - preprocessing method: first\n",
      "----------------------------------------------------\n"
     ]
    },
    {
     "name": "stderr",
     "output_type": "stream",
     "text": [
      "textmining-utility INFO     File already created. Loading file...\n"
     ]
    },
    {
     "name": "stdout",
     "output_type": "stream",
     "text": [
      "effect      effective  ineffective   okay  provocative\n",
      "split                                                 \n",
      "test              294         8164   1677           93\n",
      "training         2044        57196  11460          616\n",
      "validation        649        16364   3178          197\n",
      "\n",
      "binary_effect  effective  ineffective\n",
      "split                                \n",
      "test                  98         3419\n",
      "training             612        24034\n",
      "validation           201         6823\n",
      "\n",
      "\n",
      "---------------------------------------------------\n",
      "Ideology: Conservative - preprocessing method: last\n",
      "---------------------------------------------------\n"
     ]
    },
    {
     "name": "stderr",
     "output_type": "stream",
     "text": [
      "textmining-utility INFO     File already created. Loading file...\n"
     ]
    },
    {
     "name": "stdout",
     "output_type": "stream",
     "text": [
      "effect      effective  ineffective   okay  provocative\n",
      "split                                                 \n",
      "test              294         8164   1677           93\n",
      "training         2044        57196  11460          616\n",
      "validation        649        16364   3178          197\n",
      "\n",
      "binary_effect  effective  ineffective\n",
      "split                                \n",
      "test                  98         3419\n",
      "training             612        24034\n",
      "validation           201         6823\n",
      "\n",
      "\n",
      "--------------------------------------------------------\n",
      "Ideology: Conservative - preprocessing method: firstlast\n",
      "--------------------------------------------------------\n"
     ]
    },
    {
     "name": "stderr",
     "output_type": "stream",
     "text": [
      "textmining-utility INFO     File already created. Loading file...\n"
     ]
    },
    {
     "name": "stdout",
     "output_type": "stream",
     "text": [
      "effect      effective  ineffective   okay  provocative\n",
      "split                                                 \n",
      "test              294         8164   1677           93\n",
      "training         2044        57196  11460          616\n",
      "validation        649        16364   3178          197\n",
      "\n",
      "binary_effect  effective  ineffective\n",
      "split                                \n",
      "test                  98         3419\n",
      "training             612        24034\n",
      "validation           201         6823\n",
      "\n",
      "\n",
      "--------------------------------------------------------------\n",
      "Ideology: Conservative - preprocessing method: currentprevious\n",
      "--------------------------------------------------------------\n"
     ]
    },
    {
     "name": "stderr",
     "output_type": "stream",
     "text": [
      "textmining-utility INFO     File already created. Loading file...\n"
     ]
    },
    {
     "name": "stdout",
     "output_type": "stream",
     "text": [
      "effect      effective  ineffective   okay  provocative\n",
      "split                                                 \n",
      "test              294         8164   1677           93\n",
      "training         2044        57196  11460          616\n",
      "validation        649        16364   3178          197\n",
      "\n",
      "binary_effect  effective  ineffective\n",
      "split                                \n",
      "test                 294         9934\n",
      "training            2044        69272\n",
      "validation           649        19739\n",
      "\n",
      "\n",
      "----------------------------------------------\n",
      "Ideology: Liberal - preprocessing method: each\n",
      "----------------------------------------------\n"
     ]
    },
    {
     "name": "stderr",
     "output_type": "stream",
     "text": [
      "textmining-utility INFO     File already created. Loading file...\n"
     ]
    },
    {
     "name": "stdout",
     "output_type": "stream",
     "text": [
      "effect      effective  ineffective  okay  provocative\n",
      "split                                                \n",
      "test              248         5349   969           92\n",
      "training         1722        37713  6835          522\n",
      "validation        613        10749  1828          204\n",
      "\n",
      "binary_effect  effective  ineffective\n",
      "split                                \n",
      "test                 248         6410\n",
      "training            1722        45070\n",
      "validation           613        12781\n",
      "\n",
      "\n",
      "-----------------------------------------------\n",
      "Ideology: Liberal - preprocessing method: first\n",
      "-----------------------------------------------\n"
     ]
    },
    {
     "name": "stderr",
     "output_type": "stream",
     "text": [
      "textmining-utility INFO     File already created. Loading file...\n"
     ]
    },
    {
     "name": "stdout",
     "output_type": "stream",
     "text": [
      "effect      effective  ineffective  okay  provocative\n",
      "split                                                \n",
      "test              248         5349   969           92\n",
      "training         1722        37713  6835          522\n",
      "validation        613        10749  1828          204\n",
      "\n",
      "binary_effect  effective  ineffective\n",
      "split                                \n",
      "test                  81         2144\n",
      "training             542        15068\n",
      "validation           185         4267\n",
      "\n",
      "\n",
      "----------------------------------------------\n",
      "Ideology: Liberal - preprocessing method: last\n",
      "----------------------------------------------\n"
     ]
    },
    {
     "name": "stderr",
     "output_type": "stream",
     "text": [
      "textmining-utility INFO     File already created. Loading file...\n"
     ]
    },
    {
     "name": "stdout",
     "output_type": "stream",
     "text": [
      "effect      effective  ineffective  okay  provocative\n",
      "split                                                \n",
      "test              248         5349   969           92\n",
      "training         1722        37713  6835          522\n",
      "validation        613        10749  1828          204\n",
      "\n",
      "binary_effect  effective  ineffective\n",
      "split                                \n",
      "test                  81         2144\n",
      "training             542        15068\n",
      "validation           185         4267\n",
      "\n",
      "\n",
      "---------------------------------------------------\n",
      "Ideology: Liberal - preprocessing method: firstlast\n",
      "---------------------------------------------------\n"
     ]
    },
    {
     "name": "stderr",
     "output_type": "stream",
     "text": [
      "textmining-utility INFO     File already created. Loading file...\n"
     ]
    },
    {
     "name": "stdout",
     "output_type": "stream",
     "text": [
      "effect      effective  ineffective  okay  provocative\n",
      "split                                                \n",
      "test              248         5349   969           92\n",
      "training         1722        37713  6835          522\n",
      "validation        613        10749  1828          204\n",
      "\n",
      "binary_effect  effective  ineffective\n",
      "split                                \n",
      "test                  81         2144\n",
      "training             542        15068\n",
      "validation           185         4267\n",
      "\n",
      "\n",
      "---------------------------------------------------------\n",
      "Ideology: Liberal - preprocessing method: currentprevious\n",
      "---------------------------------------------------------\n"
     ]
    },
    {
     "name": "stderr",
     "output_type": "stream",
     "text": [
      "textmining-utility INFO     File already created. Loading file...\n"
     ]
    },
    {
     "name": "stdout",
     "output_type": "stream",
     "text": [
      "effect      effective  ineffective  okay  provocative\n",
      "split                                                \n",
      "test              248         5349   969           92\n",
      "training         1722        37713  6835          522\n",
      "validation        613        10749  1828          204\n",
      "\n",
      "binary_effect  effective  ineffective\n",
      "split                                \n",
      "test                 248         6410\n",
      "training            1722        45070\n",
      "validation           613        12781\n"
     ]
    }
   ],
   "source": [
    "run_all_splits()"
   ]
  },
  {
   "cell_type": "code",
   "execution_count": null,
   "id": "80e2d5f4",
   "metadata": {},
   "outputs": [],
   "source": []
  }
 ],
 "metadata": {
  "kernelspec": {
   "display_name": "Python 3 (ipykernel)",
   "language": "python",
   "name": "python3"
  },
  "language_info": {
   "codemirror_mode": {
    "name": "ipython",
    "version": 3
   },
   "file_extension": ".py",
   "mimetype": "text/x-python",
   "name": "python",
   "nbconvert_exporter": "python",
   "pygments_lexer": "ipython3",
   "version": "3.8.6"
  }
 },
 "nbformat": 4,
 "nbformat_minor": 5
}
