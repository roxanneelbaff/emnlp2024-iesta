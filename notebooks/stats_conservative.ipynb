{
 "cells": [
  {
   "cell_type": "code",
   "execution_count": null,
   "metadata": {},
   "outputs": [],
   "source": [
    "import pandas as pd\n",
    "import numpy as np\n",
    "from glob import glob\n",
    "from iesta.machine_learning.dataloader import IESTAData, METHODOLOGY\n",
    "\n",
    "from iesta.machine_learning.feature_extraction import get_features_df\n",
    "import iesta.loader as loader\n",
    "import iesta.properties as prop  \n",
    "import iesta.processor as proc  \n",
    "from iesta.machine_learning.dataloader import IESTAData, METHODOLOGY\n",
    "\n",
    "#from .autonotebook import tqdm as notebook_tqdm\n",
    "\n",
    "import matplotlib.pyplot as plt\n",
    "\n",
    "%matplotlib inline\n",
    "import seaborn as sns\n",
    "\n",
    "sns.reset_defaults()\n",
    "sns.set(\n",
    "    rc={'figure.figsize':(3,2)}, \n",
    "    #style=\"white\" # nicer layout\n",
    ")\n"
   ]
  },
  {
   "cell_type": "code",
   "execution_count": null,
   "metadata": {},
   "outputs": [],
   "source": [
    "ideology = prop.CONSERVATIVE_IDEOLOGY.lower()\n",
    "ideology"
   ]
  },
  {
   "cell_type": "code",
   "execution_count": null,
   "metadata": {},
   "outputs": [],
   "source": [
    "path = \"../data/extracted_features/\"\n",
    "\n",
    "\n",
    "\n",
    "dataloader = IESTAData(ideology=ideology, methodology=METHODOLOGY.EACH)\n",
    "\n",
    "training_df, training_data_path = dataloader.get_training_data()\n",
    "training_data = pd.read_parquet(training_data_path)"
   ]
  },
  {
   "cell_type": "code",
   "execution_count": null,
   "metadata": {},
   "outputs": [],
   "source": [
    "len(training_data)"
   ]
  },
  {
   "attachments": {},
   "cell_type": "markdown",
   "metadata": {},
   "source": [
    "## Fetching MPQA and EMPATH"
   ]
  },
  {
   "cell_type": "code",
   "execution_count": null,
   "metadata": {},
   "outputs": [],
   "source": [
    "style_features_path = glob(f\"{path}/{ideology}_style-features_1000/*.parquet\")\n",
    "transformer_features_path = glob(f\"{path}/{ideology}_transformer-features_100/*.parquet\")"
   ]
  },
  {
   "cell_type": "code",
   "execution_count": null,
   "metadata": {},
   "outputs": [],
   "source": [
    "style_features_df = get_features_df(style_features_path, 1000, training_data)\n",
    "transformers_features_df = get_features_df(transformer_features_path, 100, training_data)\n"
   ]
  },
  {
   "attachments": {},
   "cell_type": "markdown",
   "metadata": {},
   "source": [
    "## Running significance tests"
   ]
  },
  {
   "attachments": {},
   "cell_type": "markdown",
   "metadata": {},
   "source": [
    "### All Effects"
   ]
  },
  {
   "cell_type": "code",
   "execution_count": null,
   "metadata": {},
   "outputs": [],
   "source": [
    "\n",
    "import iesta.stats.significance\n",
    "significance_empath_mpqa_effects_df = iesta.stats.significance.calc_sign_effects(\n",
    "                        style_features_df, \n",
    "                        ideology, \n",
    "                        \"empath-mpqa\", \n",
    "                        \"effect\", \n",
    "                        exclude_iv_vals = [])\n",
    "\n",
    "significance_transformers_effects_df = iesta.stats.significance.calc_sign_effects(\n",
    "                        transformers_features_df, \n",
    "                        ideology, \n",
    "                        \"transformers\", \n",
    "                        \"effect\", \n",
    "                        exclude_iv_vals = [])"
   ]
  },
  {
   "cell_type": "code",
   "execution_count": null,
   "metadata": {},
   "outputs": [],
   "source": [
    "significance_empath_mpqa_effects_df"
   ]
  },
  {
   "cell_type": "code",
   "execution_count": null,
   "metadata": {},
   "outputs": [],
   "source": [
    "significance_transformers_effects_df"
   ]
  },
  {
   "attachments": {},
   "cell_type": "markdown",
   "metadata": {},
   "source": [
    "### All Effects - Excluding *Okay*"
   ]
  },
  {
   "cell_type": "code",
   "execution_count": null,
   "metadata": {},
   "outputs": [],
   "source": [
    "significance_empath_mpqa_NOOKAY_effects_df = iesta.stats.significance.calc_sign_effects(\n",
    "                        style_features_df, \n",
    "                        ideology, \n",
    "                        \"empath-mpqa\", \n",
    "                        \"effect\", \n",
    "                        exclude_iv_vals = [\"okay\"])\n",
    "\n",
    "\n",
    "significance_transformers_NOOKAY_effects_df = iesta.stats.significance.calc_sign_effects(\n",
    "                        transformers_features_df, \n",
    "                        ideology, \n",
    "                        \"transformers\", \n",
    "                        \"effect\", \n",
    "                        exclude_iv_vals = [\"okay\"])"
   ]
  },
  {
   "cell_type": "code",
   "execution_count": null,
   "metadata": {},
   "outputs": [],
   "source": [
    "significance_empath_mpqa_NOOKAY_effects_df"
   ]
  },
  {
   "cell_type": "code",
   "execution_count": null,
   "metadata": {},
   "outputs": [],
   "source": [
    "significance_transformers_NOOKAY_effects_df"
   ]
  },
  {
   "attachments": {},
   "cell_type": "markdown",
   "metadata": {},
   "source": [
    "### Binary Effects"
   ]
  },
  {
   "cell_type": "code",
   "execution_count": null,
   "metadata": {},
   "outputs": [],
   "source": [
    "significance_empath_mpqa_binaryeffects_df = iesta.stats.significance.calc_sign_effects(\n",
    "                        style_features_df, \n",
    "                        ideology, \n",
    "                        \"empath-mpqa\", \n",
    "                        \"binary_effect\", \n",
    "                        exclude_iv_vals = [])\n",
    "\n",
    "significance_transformers_binaryeffects_df = iesta.stats.significance.calc_sign_effects(\n",
    "                        transformers_features_df, \n",
    "                        ideology, \n",
    "                        \"transformers\", \n",
    "                        \"binary_effect\", \n",
    "                        exclude_iv_vals = [])"
   ]
  },
  {
   "cell_type": "code",
   "execution_count": null,
   "metadata": {},
   "outputs": [],
   "source": [
    "significance_empath_mpqa_binaryeffects_df"
   ]
  },
  {
   "cell_type": "code",
   "execution_count": null,
   "metadata": {},
   "outputs": [],
   "source": [
    "significance_transformers_binaryeffects_df"
   ]
  },
  {
   "attachments": {},
   "cell_type": "markdown",
   "metadata": {},
   "source": [
    "### Binary Effects - Excluding *Okay*"
   ]
  },
  {
   "cell_type": "code",
   "execution_count": null,
   "metadata": {},
   "outputs": [],
   "source": [
    "significance_empath_mpqa_NOOKAY_binaryeffects_df = iesta.stats.significance.calc_sign_effects(\n",
    "                        style_features_df[style_features_df[\"effect\"] != \"okay\"], \n",
    "                        ideology, \n",
    "                        \"empath-mpqa\", \n",
    "                        \"binary_effect\", \n",
    "                        exclude_iv_vals = [])\n",
    "\n",
    "significance_transformers_NOOKAY_binaryeffects_df = iesta.stats.significance.calc_sign_effects(\n",
    "                        transformers_features_df[transformers_features_df[\"effect\"] != \"okay\"], \n",
    "                        ideology, \n",
    "                        \"transformers\", \n",
    "                        \"binary_effect\", \n",
    "                        exclude_iv_vals = [])"
   ]
  },
  {
   "cell_type": "code",
   "execution_count": null,
   "metadata": {},
   "outputs": [],
   "source": [
    "significance_empath_mpqa_NOOKAY_binaryeffects_df"
   ]
  },
  {
   "cell_type": "code",
   "execution_count": null,
   "metadata": {},
   "outputs": [],
   "source": [
    "significance_transformers_NOOKAY_binaryeffects_df"
   ]
  }
 ],
 "metadata": {
  "kernelspec": {
   "display_name": "iesta_venv",
   "language": "python",
   "name": "python3"
  },
  "language_info": {
   "codemirror_mode": {
    "name": "ipython",
    "version": 3
   },
   "file_extension": ".py",
   "mimetype": "text/x-python",
   "name": "python",
   "nbconvert_exporter": "python",
   "pygments_lexer": "ipython3",
   "version": "3.8.10"
  },
  "orig_nbformat": 4,
  "vscode": {
   "interpreter": {
    "hash": "33b81bc8650a3643e935a2ab53ff66219719f7237086cfdf4850911b872414e3"
   }
  }
 },
 "nbformat": 4,
 "nbformat_minor": 2
}
