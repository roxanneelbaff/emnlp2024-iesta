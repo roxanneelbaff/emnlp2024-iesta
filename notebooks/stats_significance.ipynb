{
 "cells": [
  {
   "cell_type": "code",
   "execution_count": 4,
   "metadata": {},
   "outputs": [],
   "source": [
    "\n",
    "import iesta.machine_learning.dataloader\n",
    "#from .autonotebook import tqdm as notebook_tqdm\n",
    "import iesta.stats.significance\n",
    "import matplotlib.pyplot as plt\n",
    "\n",
    "%matplotlib inline\n",
    "import seaborn as sns\n",
    "\n",
    "sns.reset_defaults()\n",
    "sns.set(\n",
    "    rc={'figure.figsize':(3,2)}, \n",
    "    #style=\"white\" # nicer layout\n",
    ")\n"
   ]
  },
  {
   "cell_type": "code",
   "execution_count": 2,
   "metadata": {},
   "outputs": [
    {
     "name": "stdout",
     "output_type": "stream",
     "text": [
      "/home/elba_ro/repos/conf22-style-transfer/iesta/../data/splitted_conservative_debate_arguments_effect_test0.3_random2.parquet\n"
     ]
    },
    {
     "name": "stderr",
     "output_type": "stream",
     "text": [
      "iesta        INFO     File already created. Loading file...\n"
     ]
    },
    {
     "name": "stdout",
     "output_type": "stream",
     "text": [
      "/home/elba_ro/repos/conf22-style-transfer/iesta/../data/splitted_liberal_debate_arguments_effect_test0.3_random2.parquet\n"
     ]
    },
    {
     "name": "stderr",
     "output_type": "stream",
     "text": [
      "iesta        INFO     File already created. Loading file...\n"
     ]
    },
    {
     "name": "stdout",
     "output_type": "stream",
     "text": [
      "316: ../data/extracted_features//conservative_style-features_1000/conservative_batch1000_72_style-features.parquet\n",
      "16: ../data/extracted_features//conservative_transformer-features_100/conservative_batch100_714_transformer-features.parquet\n",
      "792: ../data/extracted_features//liberal_style-features_1000/liberal_batch1000_47_style-features.parquet\n",
      "92: ../data/extracted_features//liberal_transformer-features_100/liberal_batch100_468_transformer-features.parquet\n"
     ]
    }
   ],
   "source": [
    "feature_dfs = iesta.machine_learning.dataloader.load_features_df()\n",
    "significance = iesta.stats.significance.run_all_significance_test(feature_dfs)"
   ]
  },
  {
   "cell_type": "code",
   "execution_count": null,
   "metadata": {},
   "outputs": [],
   "source": [
    "significance.keys()"
   ]
  },
  {
   "cell_type": "code",
   "execution_count": null,
   "metadata": {},
   "outputs": [],
   "source": [
    "significance['conservative_binary_effect_transformers'][0]"
   ]
  },
  {
   "cell_type": "code",
   "execution_count": null,
   "metadata": {},
   "outputs": [],
   "source": [
    "significance['conservative_effect_undersampled_empath-mpqa'][0]"
   ]
  },
  {
   "cell_type": "code",
   "execution_count": null,
   "metadata": {},
   "outputs": [],
   "source": [
    "type(significance[\"conservative_effect__transformers\"][0]['effective okay'].unique().tolist())"
   ]
  },
  {
   "cell_type": "code",
   "execution_count": null,
   "metadata": {},
   "outputs": [],
   "source": [
    "key= \"liberal_effect_empath-mpqa\"\n",
    "cons_effect_tramsformers = significance[key][0].reset_index()\n",
    "cons_effect_tramsformers = cons_effect_tramsformers[(~cons_effect_tramsformers[\"feature\"].str.endswith(\"_count\")) & (~cons_effect_tramsformers[\"feature\"].str.endswith(\"_ratio\"))]\n",
    "cons_effect_tramsformers"
   ]
  },
  {
   "cell_type": "code",
   "execution_count": null,
   "metadata": {},
   "outputs": [],
   "source": [
    "liberal_effect_tramsformers = significance['liberal_effect__transformers'][0].reset_index()\n",
    "liberal_effect_tramsformers = liberal_effect_tramsformers[(~liberal_effect_tramsformers[\"feature\"].str.endswith(\"_count\")) & (~liberal_effect_tramsformers[\"feature\"].str.endswith(\"_ratio\"))]\n",
    "liberal_effect_tramsformers"
   ]
  },
  {
   "cell_type": "code",
   "execution_count": null,
   "metadata": {},
   "outputs": [],
   "source": []
  }
 ],
 "metadata": {
  "kernelspec": {
   "display_name": "iesta_venv",
   "language": "python",
   "name": "python3"
  },
  "language_info": {
   "codemirror_mode": {
    "name": "ipython",
    "version": 3
   },
   "file_extension": ".py",
   "mimetype": "text/x-python",
   "name": "python",
   "nbconvert_exporter": "python",
   "pygments_lexer": "ipython3",
   "version": "3.8.10"
  },
  "orig_nbformat": 4,
  "vscode": {
   "interpreter": {
    "hash": "33b81bc8650a3643e935a2ab53ff66219719f7237086cfdf4850911b872414e3"
   }
  }
 },
 "nbformat": 4,
 "nbformat_minor": 2
}
