{
 "cells": [
  {
   "cell_type": "code",
   "execution_count": null,
   "metadata": {},
   "outputs": [],
   "source": [
    "%pip -q install -e ../\n",
    "%pip show iesta"
   ]
  },
  {
   "cell_type": "code",
   "execution_count": null,
   "metadata": {},
   "outputs": [],
   "source": [
    "\n",
    "import iesta.machine_learning.dataloader\n",
    "#from .autonotebook import tqdm as notebook_tqdm\n",
    "import iesta.stats.significance\n",
    "import matplotlib.pyplot as plt\n",
    "\n",
    "%matplotlib inline\n",
    "import seaborn as sns\n",
    "\n",
    "sns.reset_defaults()\n",
    "sns.set(\n",
    "    rc={'figure.figsize':(3,2)}, \n",
    "    #style=\"white\" # nicer layout\n",
    ")\n"
   ]
  },
  {
   "cell_type": "code",
   "execution_count": null,
   "metadata": {},
   "outputs": [],
   "source": [
    "_, feature_dfs = iesta.machine_learning.dataloader.load_training_features_df()"
   ]
  },
  {
   "cell_type": "code",
   "execution_count": null,
   "metadata": {},
   "outputs": [],
   "source": [
    "significance = iesta.stats.significance.run_all_significance_test(feature_dfs)"
   ]
  },
  {
   "cell_type": "code",
   "execution_count": null,
   "metadata": {},
   "outputs": [],
   "source": [
    "for k in significance.keys():\n",
    "    print(k)\n",
    "\n",
    "\n",
    "def _get_key(\n",
    "    ideology, disregard_okay=False, undersampled=False, binary_effect=False\n",
    "):\n",
    "    _okay = \"_Okay\" if disregard_okay else \"\"\n",
    "    _undersampled = \"_undersampled\" if undersampled else \"\"\n",
    "    _binary = \"_binary\" if binary_effect else \"\"\n",
    "    _key = f\"{ideology}{_binary}_effect{_undersampled}{_okay}_all_features\"\n",
    "    return _key\n",
    "\n",
    "\n",
    "def _get_significance(\n",
    "    ideology, disregard_okay=False, undersampled=False, binary_effect=False\n",
    "):\n",
    "    _key = _get_key(ideology, disregard_okay, undersampled, binary_effect)\n",
    "    _df = significance[_key][0].reset_index().copy()\n",
    "    _df = _df[\n",
    "        (~_df[\"feature\"].str.endswith(\"_count\"))\n",
    "        & (~_df[\"feature\"].str.endswith(\"_ratio\"))\n",
    "    ]\n",
    "    if \"Unnamed: 0\" in _df.columns.tolist():\n",
    "        del _df[\"Unnamed: 0\"]\n",
    "    return _df"
   ]
  },
  {
   "cell_type": "code",
   "execution_count": null,
   "metadata": {},
   "outputs": [],
   "source": [
    "# LIBERAL BINARY - With NO OKAY\n",
    "\n",
    "liberal_binary_nookay = _get_significance(\n",
    "    \"liberal\", disregard_okay=True, undersampled=False, binary_effect=True\n",
    ")\n",
    "liberal_binary_nookay_undersampled = _get_significance(\n",
    "    \"liberal\", disregard_okay=True, undersampled=True, binary_effect=True\n",
    ")\n",
    "liberal_binary_nookay, liberal_binary_nookay_undersampled"
   ]
  },
  {
   "cell_type": "code",
   "execution_count": null,
   "metadata": {},
   "outputs": [],
   "source": [
    "cons_binary_nookay = _get_significance(\n",
    "    \"conservative\", disregard_okay=True, undersampled=False, binary_effect=True\n",
    ")\n",
    "cons_binary_nookay_undersampled = _get_significance(\n",
    "    \"conservative\", disregard_okay=True, undersampled=True, binary_effect=True\n",
    ")\n",
    "cons_binary_nookay, cons_binary_nookay_undersampled"
   ]
  },
  {
   "cell_type": "code",
   "execution_count": null,
   "metadata": {},
   "outputs": [],
   "source": [
    "liberal_alleffect_nookay = _get_significance(\n",
    "    \"liberal\", disregard_okay=True, undersampled=False, binary_effect=False\n",
    ")\n",
    "liberal_alleffect_nookay_undersampled = _get_significance(\n",
    "    \"liberal\", disregard_okay=True, undersampled=True, binary_effect=False\n",
    ")\n",
    "liberal_alleffect_nookay\n",
    "# liberal_alleffect_nookay_undersampled HAS 1 RESULT"
   ]
  },
  {
   "cell_type": "code",
   "execution_count": null,
   "metadata": {},
   "outputs": [],
   "source": [
    "conservative_alleffect_nookay = _get_significance(\n",
    "    \"conservative\",\n",
    "    disregard_okay=True,\n",
    "    undersampled=False,\n",
    "    binary_effect=False,\n",
    ")\n",
    "conservative_alleffect_nookay_undersampled = _get_significance(\n",
    "    \"conservative\", disregard_okay=True, undersampled=True, binary_effect=False\n",
    ")\n",
    "conservative_alleffect_nookay\n",
    "# liberal_alleffect_nookay_undersampled HAS 1 RESULT"
   ]
  },
  {
   "cell_type": "code",
   "execution_count": null,
   "metadata": {},
   "outputs": [],
   "source": [
    "_get_key(\n",
    "    \"liberal\", disregard_okay=True, undersampled=False, binary_effect=False\n",
    ")"
   ]
  },
  {
   "cell_type": "code",
   "execution_count": null,
   "metadata": {},
   "outputs": [],
   "source": [
    "features_df = feature_dfs[1][\"liberal\"]\n",
    "\n",
    "features_df[\"effect\"].unique()"
   ]
  },
  {
   "cell_type": "code",
   "execution_count": null,
   "metadata": {},
   "outputs": [],
   "source": [
    "features_df[~features_df[\"effect\"].isin([\"okay\"])].copy()[\"effect\"].unique()"
   ]
  },
  {
   "cell_type": "code",
   "execution_count": null,
   "metadata": {},
   "outputs": [],
   "source": []
  }
 ],
 "metadata": {
  "kernelspec": {
   "display_name": "iesta_venv",
   "language": "python",
   "name": "python3"
  },
  "language_info": {
   "codemirror_mode": {
    "name": "ipython",
    "version": 3
   },
   "file_extension": ".py",
   "mimetype": "text/x-python",
   "name": "python",
   "nbconvert_exporter": "python",
   "pygments_lexer": "ipython3",
   "version": "3.8.10"
  },
  "orig_nbformat": 4,
  "vscode": {
   "interpreter": {
    "hash": "33b81bc8650a3643e935a2ab53ff66219719f7237086cfdf4850911b872414e3"
   }
  }
 },
 "nbformat": 4,
 "nbformat_minor": 2
}
