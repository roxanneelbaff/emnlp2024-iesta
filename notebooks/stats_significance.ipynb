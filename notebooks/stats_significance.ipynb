{
 "cells": [
  {
   "cell_type": "code",
   "execution_count": null,
   "metadata": {},
   "outputs": [],
   "source": [
    "%pip install -e ../\n",
    "%pip show iesta\n"
   ]
  },
  {
   "cell_type": "code",
   "execution_count": null,
   "metadata": {},
   "outputs": [],
   "source": [
    "\n",
    "import iesta.machine_learning.dataloader\n",
    "#from .autonotebook import tqdm as notebook_tqdm\n",
    "import iesta.stats.significance\n",
    "import matplotlib.pyplot as plt\n",
    "\n",
    "%matplotlib inline\n",
    "import seaborn as sns\n",
    "\n",
    "sns.reset_defaults()\n",
    "sns.set(\n",
    "    rc={'figure.figsize':(3,2)}, \n",
    "    #style=\"white\" # nicer layout\n",
    ")\n"
   ]
  },
  {
   "cell_type": "code",
   "execution_count": null,
   "metadata": {},
   "outputs": [],
   "source": [
    "#feature_dfs = iesta.machine_learning.dataloader.load_features_df()\n",
    "feature_dfs[1]"
   ]
  },
  {
   "cell_type": "code",
   "execution_count": null,
   "metadata": {},
   "outputs": [],
   "source": [
    "significance = iesta.stats.significance.run_all_significance_test(feature_dfs[1])"
   ]
  },
  {
   "cell_type": "code",
   "execution_count": null,
   "metadata": {},
   "outputs": [],
   "source": [
    "for k in significance.keys():\n",
    "    print(k)\n",
    "\n",
    "\n",
    "def _get_key(ideology, diregard_okay=False, undersampled=False, binary_effect=False):\n",
    "    _okay = \"_Okay\" if diregard_okay else \"\"\n",
    "    _undersampled = \"_undersampled\" if undersampled else \"\"\n",
    "    _binary = \"_binary\" if binary_effect else \"\"\n",
    "    _key = f\"{ideology}{_binary}_effect{_undersampled}{_okay}_all_features\"\n",
    "    return _key"
   ]
  },
  {
   "cell_type": "code",
   "execution_count": null,
   "metadata": {},
   "outputs": [],
   "source": [
    "def _get_significance(ideology, diregard_okay=False, undersampled=False, binary_effect=False):\n",
    "    _key = _get_key(ideology, diregard_okay, undersampled, binary_effect)\n",
    "    _df = significance[_key][0].reset_index().copy()\n",
    "    _df = _df[(~_df[\"feature\"].str.endswith(\"_count\")) & (~_df[\"feature\"].str.endswith(\"_ratio\"))]\n",
    "    if 'Unnamed: 0'  in _df.columns.tolist():\n",
    "        del _df['Unnamed: 0']\n",
    "    return _df"
   ]
  },
  {
   "cell_type": "code",
   "execution_count": null,
   "metadata": {},
   "outputs": [],
   "source": [
    "# LIBERAL BINARY - With NO OKAY\n",
    "\n",
    "liberal_binary_nookay = _get_significance(\"liberal\", diregard_okay=True, undersampled=False, binary_effect=True)\n",
    "liberal_binary_nookay_undersampled = _get_significance(\"liberal\", diregard_okay=True, undersampled=True, binary_effect=True)\n",
    "liberal_binary_nookay, liberal_binary_nookay_undersampled"
   ]
  },
  {
   "cell_type": "code",
   "execution_count": null,
   "metadata": {},
   "outputs": [],
   "source": [
    "cons_binary_nookay = _get_significance(\"conservative\", diregard_okay=True, undersampled=False, binary_effect=True)\n",
    "cons_binary_nookay_undersampled = _get_significance(\"conservative\", diregard_okay=True, undersampled=True, binary_effect=True)\n",
    "cons_binary_nookay, cons_binary_nookay_undersampled"
   ]
  },
  {
   "cell_type": "code",
   "execution_count": null,
   "metadata": {},
   "outputs": [],
   "source": [
    "liberal_alleffect_nookay = _get_significance(\"liberal\", diregard_okay=True, undersampled=False, binary_effect=False)\n",
    "liberal_alleffect_nookay_undersampled = _get_significance(\"liberal\", diregard_okay=True, undersampled=True, binary_effect=False)\n",
    "liberal_alleffect_nookay\n",
    "# liberal_alleffect_nookay_undersampled HAS 1 RESULT"
   ]
  },
  {
   "cell_type": "code",
   "execution_count": null,
   "metadata": {},
   "outputs": [],
   "source": [
    "conservative_alleffect_nookay = _get_significance(\"conservative\", diregard_okay=True, undersampled=False, binary_effect=False)\n",
    "conservative_alleffect_nookay_undersampled = _get_significance(\"conservative\", diregard_okay=True, undersampled=True, binary_effect=False)\n",
    "conservative_alleffect_nookay\n",
    "# liberal_alleffect_nookay_undersampled HAS 1 RESULT"
   ]
  },
  {
   "cell_type": "code",
   "execution_count": null,
   "metadata": {},
   "outputs": [],
   "source": [
    "_get_key(\"liberal\", diregard_okay=True, undersampled=False, binary_effect=False)"
   ]
  },
  {
   "cell_type": "code",
   "execution_count": null,
   "metadata": {},
   "outputs": [],
   "source": [
    "features_df  = feature_dfs[1][\"liberal\"]\n",
    "\n",
    "features_df[\"effect\"].unique()"
   ]
  },
  {
   "cell_type": "code",
   "execution_count": null,
   "metadata": {},
   "outputs": [],
   "source": [
    "\n",
    "features_df[~features_df[\"effect\"].isin([\"okay\"])].copy()[\"effect\"].unique()\n"
   ]
  },
  {
   "cell_type": "code",
   "execution_count": null,
   "metadata": {},
   "outputs": [],
   "source": []
  }
 ],
 "metadata": {
  "kernelspec": {
   "display_name": "iesta_venv",
   "language": "python",
   "name": "python3"
  },
  "language_info": {
   "codemirror_mode": {
    "name": "ipython",
    "version": 3
   },
   "file_extension": ".py",
   "mimetype": "text/x-python",
   "name": "python",
   "nbconvert_exporter": "python",
   "pygments_lexer": "ipython3",
   "version": "3.8.10"
  },
  "orig_nbformat": 4,
  "vscode": {
   "interpreter": {
    "hash": "33b81bc8650a3643e935a2ab53ff66219719f7237086cfdf4850911b872414e3"
   }
  }
 },
 "nbformat": 4,
 "nbformat_minor": 2
}
