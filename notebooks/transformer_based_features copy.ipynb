{
 "cells": [
  {
   "cell_type": "code",
   "execution_count": 1,
   "id": "507a2706",
   "metadata": {},
   "outputs": [],
   "source": [
    "# python3 -m venv elbaff_iesta_venv --prompt=\"elbaff_iesta_venv\"\n",
    "# source elbaff_iesta_venv/bin/activate"
   ]
  },
  {
   "cell_type": "code",
   "execution_count": 2,
   "id": "56c37892",
   "metadata": {},
   "outputs": [
    {
     "name": "stderr",
     "output_type": "stream",
     "text": [
      "/home/elba_ro/repos/conf22-style-transfer/iesta_venv/lib/python3.8/site-packages/tqdm/auto.py:22: TqdmWarning: IProgress not found. Please update jupyter and ipywidgets. See https://ipywidgets.readthedocs.io/en/stable/user_install.html\n",
      "  from .autonotebook import tqdm as notebook_tqdm\n",
      "/home/elba_ro/repos/conf22-style-transfer/iesta_venv/lib/python3.8/site-packages/scipy/__init__.py:138: UserWarning: A NumPy version >=1.16.5 and <1.23.0 is required for this version of SciPy (detected version 1.23.4)\n",
      "  warnings.warn(f\"A NumPy version >={np_minversion} and <{np_maxversion} is required for this version of \"\n"
     ]
    }
   ],
   "source": [
    "from textmining_utility.annotator.pipeline.pipeline_base import Pipeline\n",
    "import pandas as pd\n",
    "\n",
    "import pandas as pd\n",
    "import numpy as np\n",
    "import sys, os\n",
    "import importlib\n",
    "\n",
    "import iesta.loader as loader\n",
    "import iesta.properties as prop  \n",
    "import iesta.processor as proc  \n",
    "import iesta.feature_extractor as fe\n",
    "from iesta.machine_learning.dataloader import IESTAData, METHODOLOGY\n",
    "\n",
    "from collections import Counter\n",
    "\n",
    "\n"
   ]
  },
  {
   "cell_type": "code",
   "execution_count": 3,
   "id": "721f7f51",
   "metadata": {},
   "outputs": [],
   "source": [
    "conservative_each_dataloader = IESTAData(ideology=prop.CONSERVATIVE_IDEOLOGY, methodology=METHODOLOGY.EACH)\n",
    "\n",
    "\n",
    "\n"
   ]
  },
  {
   "cell_type": "code",
   "execution_count": 4,
   "id": "f4d760d6",
   "metadata": {},
   "outputs": [
    {
     "name": "stderr",
     "output_type": "stream",
     "text": [
      "textmining-utility INFO     File already created. Loading file...\n",
      "textmining-utility INFO     File already created. Loading file...\n"
     ]
    }
   ],
   "source": [
    "conservative_each_dataloader.load()"
   ]
  },
  {
   "cell_type": "code",
   "execution_count": 5,
   "id": "05394a57",
   "metadata": {},
   "outputs": [
    {
     "data": {
      "text/html": [
       "<div>\n",
       "<style scoped>\n",
       "    .dataframe tbody tr th:only-of-type {\n",
       "        vertical-align: middle;\n",
       "    }\n",
       "\n",
       "    .dataframe tbody tr th {\n",
       "        vertical-align: top;\n",
       "    }\n",
       "\n",
       "    .dataframe thead th {\n",
       "        text-align: right;\n",
       "    }\n",
       "</style>\n",
       "<table border=\"1\" class=\"dataframe\">\n",
       "  <thead>\n",
       "    <tr style=\"text-align: right;\">\n",
       "      <th>effect</th>\n",
       "      <th>effective</th>\n",
       "      <th>ineffective</th>\n",
       "      <th>okay</th>\n",
       "      <th>provocative</th>\n",
       "    </tr>\n",
       "    <tr>\n",
       "      <th>split</th>\n",
       "      <th></th>\n",
       "      <th></th>\n",
       "      <th></th>\n",
       "      <th></th>\n",
       "    </tr>\n",
       "  </thead>\n",
       "  <tbody>\n",
       "    <tr>\n",
       "      <th>test</th>\n",
       "      <td>294</td>\n",
       "      <td>8164</td>\n",
       "      <td>1677</td>\n",
       "      <td>93</td>\n",
       "    </tr>\n",
       "    <tr>\n",
       "      <th>training</th>\n",
       "      <td>2044</td>\n",
       "      <td>57196</td>\n",
       "      <td>11460</td>\n",
       "      <td>616</td>\n",
       "    </tr>\n",
       "    <tr>\n",
       "      <th>validation</th>\n",
       "      <td>649</td>\n",
       "      <td>16364</td>\n",
       "      <td>3178</td>\n",
       "      <td>197</td>\n",
       "    </tr>\n",
       "  </tbody>\n",
       "</table>\n",
       "</div>"
      ],
      "text/plain": [
       "effect      effective  ineffective   okay  provocative\n",
       "split                                                 \n",
       "test              294         8164   1677           93\n",
       "training         2044        57196  11460          616\n",
       "validation        649        16364   3178          197"
      ]
     },
     "execution_count": 5,
     "metadata": {},
     "output_type": "execute_result"
    }
   ],
   "source": [
    "conservative_each_dataloader.pivot_df"
   ]
  },
  {
   "cell_type": "code",
   "execution_count": 6,
   "id": "7e10a31e",
   "metadata": {},
   "outputs": [
    {
     "data": {
      "text/html": [
       "<div>\n",
       "<style scoped>\n",
       "    .dataframe tbody tr th:only-of-type {\n",
       "        vertical-align: middle;\n",
       "    }\n",
       "\n",
       "    .dataframe tbody tr th {\n",
       "        vertical-align: top;\n",
       "    }\n",
       "\n",
       "    .dataframe thead th {\n",
       "        text-align: right;\n",
       "    }\n",
       "</style>\n",
       "<table border=\"1\" class=\"dataframe\">\n",
       "  <thead>\n",
       "    <tr style=\"text-align: right;\">\n",
       "      <th>binary_effect</th>\n",
       "      <th>effective</th>\n",
       "      <th>ineffective</th>\n",
       "    </tr>\n",
       "    <tr>\n",
       "      <th>split</th>\n",
       "      <th></th>\n",
       "      <th></th>\n",
       "    </tr>\n",
       "  </thead>\n",
       "  <tbody>\n",
       "    <tr>\n",
       "      <th>test</th>\n",
       "      <td>294</td>\n",
       "      <td>9934</td>\n",
       "    </tr>\n",
       "    <tr>\n",
       "      <th>training</th>\n",
       "      <td>2044</td>\n",
       "      <td>69272</td>\n",
       "    </tr>\n",
       "    <tr>\n",
       "      <th>validation</th>\n",
       "      <td>649</td>\n",
       "      <td>19739</td>\n",
       "    </tr>\n",
       "  </tbody>\n",
       "</table>\n",
       "</div>"
      ],
      "text/plain": [
       "binary_effect  effective  ineffective\n",
       "split                                \n",
       "test                 294         9934\n",
       "training            2044        69272\n",
       "validation           649        19739"
      ]
     },
     "execution_count": 6,
     "metadata": {},
     "output_type": "execute_result"
    }
   ],
   "source": [
    "conservative_each_dataloader.pivot_binary_effect"
   ]
  },
  {
   "cell_type": "code",
   "execution_count": 7,
   "id": "bfd481a4",
   "metadata": {},
   "outputs": [
    {
     "data": {
      "text/plain": [
       "71316"
      ]
     },
     "execution_count": 7,
     "metadata": {},
     "output_type": "execute_result"
    }
   ],
   "source": [
    "conservative_training_each_df  = conservative_each_dataloader.data_df[conservative_each_dataloader.data_df[\"split\"] == \"training\"].copy()\n",
    "len(conservative_training_each_df)"
   ]
  },
  {
   "cell_type": "code",
   "execution_count": 8,
   "id": "2e11a5d8",
   "metadata": {},
   "outputs": [
    {
     "data": {
      "text/plain": [
       "['id',\n",
       " 'debate_id',\n",
       " 'p_name',\n",
       " 'effects',\n",
       " 'effect_count',\n",
       " 'top_effect',\n",
       " 'effect',\n",
       " 'category',\n",
       " 'round',\n",
       " 'argument',\n",
       " 'split',\n",
       " 'binary_effect']"
      ]
     },
     "execution_count": 8,
     "metadata": {},
     "output_type": "execute_result"
    }
   ],
   "source": [
    "conservative_training_each_df.columns.tolist()"
   ]
  },
  {
   "cell_type": "code",
   "execution_count": 9,
   "id": "7efb2d4d",
   "metadata": {},
   "outputs": [],
   "source": [
    "import dataclasses\n",
    "class TransformerBasedFeaturePipeline(Pipeline):\n",
    "    \n",
    "    def __init__(self,\n",
    "                 input= None,\n",
    "                 load_default_pipe_configs = True,\n",
    "                 extended_pipe_configs:dict = None,\n",
    "                 save_output= False,\n",
    "                 out_path = None,\n",
    "                 argument_col:str = \"argument\"\n",
    "                 ):\n",
    "        super().__init__(input,\n",
    "                 load_default_pipe_configs,\n",
    "                 extended_pipe_configs,\n",
    "                 save_output,\n",
    "                 out_path)\n",
    "        self.argument_col= argument_col\n",
    "        \n",
    "    def process_input(self) -> list:\n",
    "        processed = []\n",
    "        txt_df = self.input[[\"id\", self.argument_col]].copy()\n",
    "        txt_df =txt_df.rename(columns={\"id\": \"input_id\", self.argument_col: \"text\"},)\n",
    "        \n",
    "        for idx, row in txt_df.iterrows():\n",
    "            processed.append((row.text, {\"input_id\": row.input_id}))\n",
    "\n",
    "        return processed\n",
    "\n",
    "    def init_and_run(self):\n",
    "        \n",
    "        self.add_annotation_pipe(name = \"senter\",                  save_output= False,is_spacy=True, is_native=True)\n",
    "        self.add_annotation_pipe(name = \"EmotionPipeOrchestrator\", save_output= True, is_spacy=True)\n",
    "        self.add_annotation_pipe(name = \"HedgePipeOrchestrator\",   save_output= True, is_spacy=True)\n",
    "        self.add_annotation_pipe(name = \"ToxicityOrchestrator\",    save_output= True, is_spacy=True)\n",
    "\n",
    "        # annotate the input\n",
    "        #self.set_spacy_language_model(\"en_core_web_md\")\n",
    "        self.annotate()\n",
    "        # save annotations when \"save_output\" is set to True\n",
    "        self.save()"
   ]
  },
  {
   "cell_type": "code",
   "execution_count": 10,
   "id": "bd90d486",
   "metadata": {
    "scrolled": true
   },
   "outputs": [
    {
     "name": "stderr",
     "output_type": "stream",
     "text": [
      "textmining-utility INFO     adding pipe with name EmotionPipeOrchestrator\n",
      "textmining-utility INFO     adding pipe with name EmotionPipeOrchestrator\n",
      "textmining-utility DEBUG    loading textmining_utility.annotator.pipe.linguistic.emotion\n",
      "textmining-utility DEBUG    loading textmining_utility.annotator.pipe.linguistic.emotion\n",
      "textmining-utility INFO     orchestrator was initialized successfully\n",
      "textmining-utility INFO     orchestrator was initialized successfully\n",
      "textmining-utility INFO     adding pipe with code emotion_hartmann_component\n",
      "textmining-utility INFO     adding pipe with code emotion_hartmann_component\n",
      "textmining-utility INFO     adding pipe with name HedgePipeOrchestrator\n",
      "textmining-utility INFO     adding pipe with name HedgePipeOrchestrator\n",
      "textmining-utility DEBUG    loading textmining_utility.annotator.pipe.linguistic.hedge\n",
      "textmining-utility DEBUG    loading textmining_utility.annotator.pipe.linguistic.hedge\n",
      "textmining-utility INFO     orchestrator was initialized successfully\n",
      "textmining-utility INFO     orchestrator was initialized successfully\n",
      "textmining-utility INFO     adding pipe with code hedge_component\n",
      "textmining-utility INFO     adding pipe with code hedge_component\n",
      "textmining-utility INFO     adding pipe with name ToxicityOrchestrator\n",
      "textmining-utility INFO     adding pipe with name ToxicityOrchestrator\n",
      "textmining-utility DEBUG    loading textmining_utility.annotator.pipe.linguistic.toxicity\n",
      "textmining-utility DEBUG    loading textmining_utility.annotator.pipe.linguistic.toxicity\n",
      "textmining-utility INFO     orchestrator was initialized successfully\n",
      "textmining-utility INFO     orchestrator was initialized successfully\n",
      "textmining-utility INFO     adding pipe with code toxicity_component\n",
      "textmining-utility INFO     adding pipe with code toxicity_component\n",
      "textmining-utility INFO     Defining pipe default and spacy stacks\n",
      "textmining-utility INFO     Defining pipe default and spacy stacks\n",
      "Some weights of the model checkpoint at SkolkovoInstitute/roberta_toxicity_classifier were not used when initializing RobertaForSequenceClassification: ['roberta.pooler.dense.weight', 'roberta.pooler.dense.bias']\n",
      "- This IS expected if you are initializing RobertaForSequenceClassification from the checkpoint of a model trained on another task or with another architecture (e.g. initializing a BertForSequenceClassification model from a BertForPreTraining model).\n",
      "- This IS NOT expected if you are initializing RobertaForSequenceClassification from the checkpoint of a model that you expect to be exactly identical (initializing a BertForSequenceClassification model from a BertForSequenceClassification model).\n"
     ]
    }
   ],
   "source": [
    "pipeline = TransformerBasedFeaturePipeline(save_output= True,\n",
    "                 out_path = \"../data/extracted_features/features_conservative_training_each.parquet\")\n",
    "pipeline.set_input(conservative_training_each_df)\n",
    "#pipeline.set_input(test_df)\n",
    "pipeline.init_and_run()\n",
    "pipeline.out_df.head()"
   ]
  },
  {
   "cell_type": "code",
   "execution_count": null,
   "id": "b1a221ac",
   "metadata": {},
   "outputs": [],
   "source": [
    "pipeline.spacy_language_model"
   ]
  },
  {
   "cell_type": "code",
   "execution_count": null,
   "id": "6d48b68e",
   "metadata": {},
   "outputs": [],
   "source": []
  },
  {
   "cell_type": "code",
   "execution_count": null,
   "id": "7ec82d9f",
   "metadata": {},
   "outputs": [],
   "source": []
  },
  {
   "cell_type": "code",
   "execution_count": null,
   "id": "d64c30a4",
   "metadata": {},
   "outputs": [],
   "source": []
  },
  {
   "cell_type": "code",
   "execution_count": null,
   "id": "22c1d55d",
   "metadata": {},
   "outputs": [],
   "source": [
    "lib_transformers_df = pd.read_parquet(\"../data/extracted_features/features_liberal_training_each.parquet\")\n",
    "\n",
    "lib_transformers_df.head()\n",
    "lib_transformers_df['hedge_dominant'].value_counts().to_frame().plot(kind=\"bar\")\n",
    "lib_transformers_df['emotion_hartmann_label'].value_counts().to_frame().plot(kind=\"bar\")\n",
    "lib_transformers_df['toxicity_dominant'].value_counts().to_frame().plot(kind=\"bar\")\n",
    "\n",
    "lib_transformers_df[[\"emotion_hartmann_anger\",\n",
    "                     \"emotion_hartmann_disgust\",\n",
    "                    \"emotion_hartmann_fear\", \n",
    "                    \"emotion_hartmann_joy\",\n",
    "                    \"emotion_hartmann_neutral\",\n",
    "                    \"emotion_hartmann_surprise\",\n",
    "                    \"emotion_hartmann_sadness\"]].plot.hist(bins=12, alpha=0.5)"
   ]
  },
  {
   "cell_type": "code",
   "execution_count": null,
   "id": "3b54cdc7",
   "metadata": {},
   "outputs": [],
   "source": []
  }
 ],
 "metadata": {
  "kernelspec": {
   "display_name": "Python 3.8.10 ('iesta_venv': venv)",
   "language": "python",
   "name": "python3"
  },
  "language_info": {
   "codemirror_mode": {
    "name": "ipython",
    "version": 3
   },
   "file_extension": ".py",
   "mimetype": "text/x-python",
   "name": "python",
   "nbconvert_exporter": "python",
   "pygments_lexer": "ipython3",
   "version": "3.8.10"
  },
  "vscode": {
   "interpreter": {
    "hash": "33b81bc8650a3643e935a2ab53ff66219719f7237086cfdf4850911b872414e3"
   }
  }
 },
 "nbformat": 4,
 "nbformat_minor": 5
}
