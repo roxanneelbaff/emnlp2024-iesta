{
 "cells": [
  {
   "cell_type": "code",
   "execution_count": 1,
   "id": "56c37892",
   "metadata": {},
   "outputs": [
    {
     "data": {
      "text/plain": [
       "<module 'iesta.feature_extractor' from 'c:\\\\users\\\\elba_ro\\\\documents\\\\projects\\\\conf22-style-transfer\\\\iesta\\\\feature_extractor.py'>"
      ]
     },
     "execution_count": 1,
     "metadata": {},
     "output_type": "execute_result"
    }
   ],
   "source": [
    "from textmining_utility.annotator.pipeline.pipeline_base import Pipeline\n",
    "import pandas as pd\n",
    "\n",
    "import pandas as pd\n",
    "import numpy as np\n",
    "import sys, os\n",
    "import importlib\n",
    "import textmining.cluster_analysis as cluster_analysis\n",
    "import textmining.lexicons as lexicons\n",
    "import textmining.machine_learning as machine_learning\n",
    "import textmining.significance_testing as significance_testing\n",
    "import iesta.loader as loader\n",
    "import iesta.properties as prop  \n",
    "import iesta.processor as proc  \n",
    "import iesta.feature_extractor as fe\n",
    "from iesta.machine_learning.dataloader import IESTAData, METHODOLOGY\n",
    "\n",
    "from collections import Counter\n",
    "\n",
    "importlib.reload(cluster_analysis)\n",
    "importlib.reload(lexicons)\n",
    "importlib.reload(machine_learning)\n",
    "importlib.reload(significance_testing)\n",
    "importlib.reload(loader)\n",
    "importlib.reload(prop)\n",
    "importlib.reload(proc)\n",
    "importlib.reload(fe)\n"
   ]
  },
  {
   "cell_type": "code",
   "execution_count": 2,
   "id": "721f7f51",
   "metadata": {},
   "outputs": [
    {
     "name": "stderr",
     "output_type": "stream",
     "text": [
      "textmining-utility INFO     File already created. Loading file...\n",
      "textmining-utility INFO     File already created. Loading file...\n"
     ]
    }
   ],
   "source": [
    "liberal_each_dataloader = IESTAData(ideology=prop.LIBERAL_IDEOLOGY, methodology=METHODOLOGY.EACH)\n",
    "\n",
    "liberal_each_dataloader.load()\n",
    "\n"
   ]
  },
  {
   "cell_type": "code",
   "execution_count": 3,
   "id": "05394a57",
   "metadata": {},
   "outputs": [
    {
     "data": {
      "text/html": [
       "<div>\n",
       "<style scoped>\n",
       "    .dataframe tbody tr th:only-of-type {\n",
       "        vertical-align: middle;\n",
       "    }\n",
       "\n",
       "    .dataframe tbody tr th {\n",
       "        vertical-align: top;\n",
       "    }\n",
       "\n",
       "    .dataframe thead th {\n",
       "        text-align: right;\n",
       "    }\n",
       "</style>\n",
       "<table border=\"1\" class=\"dataframe\">\n",
       "  <thead>\n",
       "    <tr style=\"text-align: right;\">\n",
       "      <th>effect</th>\n",
       "      <th>effective</th>\n",
       "      <th>ineffective</th>\n",
       "      <th>okay</th>\n",
       "      <th>provocative</th>\n",
       "    </tr>\n",
       "    <tr>\n",
       "      <th>split</th>\n",
       "      <th></th>\n",
       "      <th></th>\n",
       "      <th></th>\n",
       "      <th></th>\n",
       "    </tr>\n",
       "  </thead>\n",
       "  <tbody>\n",
       "    <tr>\n",
       "      <th>test</th>\n",
       "      <td>248</td>\n",
       "      <td>5349</td>\n",
       "      <td>969</td>\n",
       "      <td>92</td>\n",
       "    </tr>\n",
       "    <tr>\n",
       "      <th>training</th>\n",
       "      <td>1722</td>\n",
       "      <td>37713</td>\n",
       "      <td>6835</td>\n",
       "      <td>522</td>\n",
       "    </tr>\n",
       "    <tr>\n",
       "      <th>validation</th>\n",
       "      <td>613</td>\n",
       "      <td>10749</td>\n",
       "      <td>1828</td>\n",
       "      <td>204</td>\n",
       "    </tr>\n",
       "  </tbody>\n",
       "</table>\n",
       "</div>"
      ],
      "text/plain": [
       "effect      effective  ineffective  okay  provocative\n",
       "split                                                \n",
       "test              248         5349   969           92\n",
       "training         1722        37713  6835          522\n",
       "validation        613        10749  1828          204"
      ]
     },
     "execution_count": 3,
     "metadata": {},
     "output_type": "execute_result"
    }
   ],
   "source": [
    "liberal_each_dataloader.pivot_df"
   ]
  },
  {
   "cell_type": "code",
   "execution_count": 4,
   "id": "7e10a31e",
   "metadata": {},
   "outputs": [
    {
     "data": {
      "text/html": [
       "<div>\n",
       "<style scoped>\n",
       "    .dataframe tbody tr th:only-of-type {\n",
       "        vertical-align: middle;\n",
       "    }\n",
       "\n",
       "    .dataframe tbody tr th {\n",
       "        vertical-align: top;\n",
       "    }\n",
       "\n",
       "    .dataframe thead th {\n",
       "        text-align: right;\n",
       "    }\n",
       "</style>\n",
       "<table border=\"1\" class=\"dataframe\">\n",
       "  <thead>\n",
       "    <tr style=\"text-align: right;\">\n",
       "      <th>binary_effect</th>\n",
       "      <th>effective</th>\n",
       "      <th>ineffective</th>\n",
       "    </tr>\n",
       "    <tr>\n",
       "      <th>split</th>\n",
       "      <th></th>\n",
       "      <th></th>\n",
       "    </tr>\n",
       "  </thead>\n",
       "  <tbody>\n",
       "    <tr>\n",
       "      <th>test</th>\n",
       "      <td>248</td>\n",
       "      <td>6410</td>\n",
       "    </tr>\n",
       "    <tr>\n",
       "      <th>training</th>\n",
       "      <td>1722</td>\n",
       "      <td>45070</td>\n",
       "    </tr>\n",
       "    <tr>\n",
       "      <th>validation</th>\n",
       "      <td>613</td>\n",
       "      <td>12781</td>\n",
       "    </tr>\n",
       "  </tbody>\n",
       "</table>\n",
       "</div>"
      ],
      "text/plain": [
       "binary_effect  effective  ineffective\n",
       "split                                \n",
       "test                 248         6410\n",
       "training            1722        45070\n",
       "validation           613        12781"
      ]
     },
     "execution_count": 4,
     "metadata": {},
     "output_type": "execute_result"
    }
   ],
   "source": [
    "liberal_each_dataloader.pivot_binary_effect"
   ]
  },
  {
   "cell_type": "code",
   "execution_count": 5,
   "id": "bfd481a4",
   "metadata": {},
   "outputs": [
    {
     "data": {
      "text/plain": [
       "46792"
      ]
     },
     "execution_count": 5,
     "metadata": {},
     "output_type": "execute_result"
    }
   ],
   "source": [
    "liberal_training_each_df  = liberal_each_dataloader.data_df[liberal_each_dataloader.data_df[\"split\"] == \"training\"].copy()\n",
    "len(liberal_training_each_df)"
   ]
  },
  {
   "cell_type": "code",
   "execution_count": 6,
   "id": "2e11a5d8",
   "metadata": {},
   "outputs": [
    {
     "data": {
      "text/plain": [
       "['id',\n",
       " 'debate_id',\n",
       " 'p_name',\n",
       " 'effects',\n",
       " 'effect_count',\n",
       " 'top_effect',\n",
       " 'effect',\n",
       " 'category',\n",
       " 'round',\n",
       " 'argument',\n",
       " 'split',\n",
       " 'binary_effect']"
      ]
     },
     "execution_count": 6,
     "metadata": {},
     "output_type": "execute_result"
    }
   ],
   "source": [
    "liberal_training_each_df.columns.tolist()"
   ]
  },
  {
   "cell_type": "code",
   "execution_count": 20,
   "id": "7efb2d4d",
   "metadata": {},
   "outputs": [],
   "source": [
    "import dataclasses\n",
    "class TransformerBasedFeaturePipeline(Pipeline):\n",
    "    \n",
    "    def __init__(self,\n",
    "                 input: \"[Collection]\" = None,\n",
    "                 load_default_pipe_configs = True,\n",
    "                 extended_pipe_configs:dict = None,\n",
    "                 save_output= False,\n",
    "                 out_path = None,\n",
    "                 argument_col:str = \"argument\"\n",
    "                 ):\n",
    "        super().__init__(input,\n",
    "                 load_default_pipe_configs,\n",
    "                 extended_pipe_configs,\n",
    "                 save_output,\n",
    "                 out_path)\n",
    "        self.argument_col= argument_col\n",
    "        \n",
    "    def process_input(self) -> list:\n",
    "        processed = []\n",
    "        txt_df = self.input[[\"id\", self.argument_col]].copy()\n",
    "        txt_df =txt_df.rename(columns={\"id\": \"input_id\", self.argument_col: \"text\"},)\n",
    "        \n",
    "        for idx, row in txt_df.iterrows():\n",
    "            processed.append((row.text, {\"input_id\": row.input_id}))\n",
    "\n",
    "        return processed\n",
    "\n",
    "    def init_and_run(self):\n",
    "        \n",
    "        self.add_annotation_pipe(name = \"senter\",                  save_output= False,is_spacy=True, is_native=True)\n",
    "        #self.add_annotation_pipe(name = \"EmotionPipeOrchestrator\", save_output= True, is_spacy=True)\n",
    "        self.add_annotation_pipe(name = \"HedgePipeOrchestrator\",   save_output= True, is_spacy=True)\n",
    "        #self.add_annotation_pipe(name = \"ToxicityOrchestrator\",    save_output= True, is_spacy=True)\n",
    "\n",
    "        # annotate the input\n",
    "        #self.set_spacy_language_model(\"en_core_web_md\")\n",
    "        self.annotate()\n",
    "        # save annotations when \"save_output\" is set to True\n",
    "        self.save()"
   ]
  },
  {
   "cell_type": "code",
   "execution_count": 17,
   "id": "ecec3c62",
   "metadata": {},
   "outputs": [],
   "source": [
    "import pandas  as pd\n",
    "test_df = pd.DataFrame([{\"id\": 1, \"argument\": \"This is a very hard time, I am devastated!\"},\n",
    "                         {\"id\": 2, \"argument\": \"You can not get your tiny brain to work on this so stupid!!\"},\n",
    "                         {\"id\": 3, \"argument\": \"The amonium Nitrate was sitting there for ages.\"},\n",
    "                         {\"id\": 4, \"argument\": \"I love you and I love how you look\"}\n",
    "                       ])"
   ]
  },
  {
   "cell_type": "code",
   "execution_count": 18,
   "id": "3e75a8fb",
   "metadata": {},
   "outputs": [
    {
     "name": "stderr",
     "output_type": "stream",
     "text": [
      "textmining-utility INFO     adding pipe with name EmotionPipeOrchestrator\n",
      "textmining-utility INFO     adding pipe with name EmotionPipeOrchestrator\n",
      "textmining-utility DEBUG    loading textmining_utility.annotator.pipe.linguistic.emotion\n",
      "textmining-utility DEBUG    loading textmining_utility.annotator.pipe.linguistic.emotion\n",
      "textmining-utility INFO     orchestrator was initialized successfully\n",
      "textmining-utility INFO     orchestrator was initialized successfully\n",
      "textmining-utility INFO     adding pipe with code emotion_hartmann_component\n",
      "textmining-utility INFO     adding pipe with code emotion_hartmann_component\n",
      "textmining-utility INFO     Defining pipe default and spacy stacks\n",
      "textmining-utility INFO     Defining pipe default and spacy stacks\n",
      "  0%|                                                                                            | 0/2 [00:00<?, ?it/s]textmining-utility INFO     saving annotations of Pipe(name='EmotionPipeOrchestrator', save_output=True, is_spacy=True, is_native=False, pipe_id_or_func='emotion_hartmann_component')\n",
      "textmining-utility INFO     saving annotations of Pipe(name='EmotionPipeOrchestrator', save_output=True, is_spacy=True, is_native=False, pipe_id_or_func='emotion_hartmann_component')\n",
      "100%|███████████████████████████████████████████████████████████████████████████████████| 2/2 [00:00<00:00, 426.51it/s]\n"
     ]
    },
    {
     "data": {
      "text/html": [
       "<div>\n",
       "<style scoped>\n",
       "    .dataframe tbody tr th:only-of-type {\n",
       "        vertical-align: middle;\n",
       "    }\n",
       "\n",
       "    .dataframe tbody tr th {\n",
       "        vertical-align: top;\n",
       "    }\n",
       "\n",
       "    .dataframe thead th {\n",
       "        text-align: right;\n",
       "    }\n",
       "</style>\n",
       "<table border=\"1\" class=\"dataframe\">\n",
       "  <thead>\n",
       "    <tr style=\"text-align: right;\">\n",
       "      <th></th>\n",
       "      <th>input_id</th>\n",
       "      <th>emotion_hartmann_anger</th>\n",
       "      <th>emotion_hartmann_anger_count</th>\n",
       "      <th>emotion_hartmann_anger_ratio</th>\n",
       "      <th>emotion_hartmann_disgust</th>\n",
       "      <th>emotion_hartmann_disgust_count</th>\n",
       "      <th>emotion_hartmann_disgust_ratio</th>\n",
       "      <th>emotion_hartmann_fear</th>\n",
       "      <th>emotion_hartmann_fear_count</th>\n",
       "      <th>emotion_hartmann_fear_ratio</th>\n",
       "      <th>...</th>\n",
       "      <th>emotion_hartmann_neutral</th>\n",
       "      <th>emotion_hartmann_neutral_count</th>\n",
       "      <th>emotion_hartmann_neutral_ratio</th>\n",
       "      <th>emotion_hartmann_sadness</th>\n",
       "      <th>emotion_hartmann_sadness_count</th>\n",
       "      <th>emotion_hartmann_sadness_ratio</th>\n",
       "      <th>emotion_hartmann_surprise</th>\n",
       "      <th>emotion_hartmann_surprise_count</th>\n",
       "      <th>emotion_hartmann_surprise_ratio</th>\n",
       "      <th>emotion_hartmann_label</th>\n",
       "    </tr>\n",
       "  </thead>\n",
       "  <tbody>\n",
       "    <tr>\n",
       "      <th>0</th>\n",
       "      <td>1</td>\n",
       "      <td>0.001895</td>\n",
       "      <td>0.0</td>\n",
       "      <td>0.0</td>\n",
       "      <td>0.001441</td>\n",
       "      <td>0.0</td>\n",
       "      <td>0.0</td>\n",
       "      <td>0.003758</td>\n",
       "      <td>0.0</td>\n",
       "      <td>0.0</td>\n",
       "      <td>...</td>\n",
       "      <td>0.004330</td>\n",
       "      <td>0.0</td>\n",
       "      <td>0.0</td>\n",
       "      <td>0.973397</td>\n",
       "      <td>1.0</td>\n",
       "      <td>1.0</td>\n",
       "      <td>0.012989</td>\n",
       "      <td>0.0</td>\n",
       "      <td>0.0</td>\n",
       "      <td>sadness</td>\n",
       "    </tr>\n",
       "    <tr>\n",
       "      <th>1</th>\n",
       "      <td>2</td>\n",
       "      <td>0.723535</td>\n",
       "      <td>1.0</td>\n",
       "      <td>1.0</td>\n",
       "      <td>0.222484</td>\n",
       "      <td>0.0</td>\n",
       "      <td>0.0</td>\n",
       "      <td>0.007573</td>\n",
       "      <td>0.0</td>\n",
       "      <td>0.0</td>\n",
       "      <td>...</td>\n",
       "      <td>0.015128</td>\n",
       "      <td>0.0</td>\n",
       "      <td>0.0</td>\n",
       "      <td>0.015681</td>\n",
       "      <td>0.0</td>\n",
       "      <td>0.0</td>\n",
       "      <td>0.013002</td>\n",
       "      <td>0.0</td>\n",
       "      <td>0.0</td>\n",
       "      <td>anger</td>\n",
       "    </tr>\n",
       "    <tr>\n",
       "      <th>2</th>\n",
       "      <td>3</td>\n",
       "      <td>0.021493</td>\n",
       "      <td>0.0</td>\n",
       "      <td>0.0</td>\n",
       "      <td>0.283587</td>\n",
       "      <td>0.0</td>\n",
       "      <td>0.0</td>\n",
       "      <td>0.004941</td>\n",
       "      <td>0.0</td>\n",
       "      <td>0.0</td>\n",
       "      <td>...</td>\n",
       "      <td>0.656143</td>\n",
       "      <td>1.0</td>\n",
       "      <td>1.0</td>\n",
       "      <td>0.018515</td>\n",
       "      <td>0.0</td>\n",
       "      <td>0.0</td>\n",
       "      <td>0.011650</td>\n",
       "      <td>0.0</td>\n",
       "      <td>0.0</td>\n",
       "      <td>neutral</td>\n",
       "    </tr>\n",
       "    <tr>\n",
       "      <th>3</th>\n",
       "      <td>4</td>\n",
       "      <td>0.002313</td>\n",
       "      <td>0.0</td>\n",
       "      <td>0.0</td>\n",
       "      <td>0.002388</td>\n",
       "      <td>0.0</td>\n",
       "      <td>0.0</td>\n",
       "      <td>0.000476</td>\n",
       "      <td>0.0</td>\n",
       "      <td>0.0</td>\n",
       "      <td>...</td>\n",
       "      <td>0.004757</td>\n",
       "      <td>0.0</td>\n",
       "      <td>0.0</td>\n",
       "      <td>0.011659</td>\n",
       "      <td>0.0</td>\n",
       "      <td>0.0</td>\n",
       "      <td>0.003272</td>\n",
       "      <td>0.0</td>\n",
       "      <td>0.0</td>\n",
       "      <td>joy</td>\n",
       "    </tr>\n",
       "  </tbody>\n",
       "</table>\n",
       "<p>4 rows × 23 columns</p>\n",
       "</div>"
      ],
      "text/plain": [
       "   input_id  emotion_hartmann_anger  emotion_hartmann_anger_count  \\\n",
       "0         1                0.001895                           0.0   \n",
       "1         2                0.723535                           1.0   \n",
       "2         3                0.021493                           0.0   \n",
       "3         4                0.002313                           0.0   \n",
       "\n",
       "   emotion_hartmann_anger_ratio  emotion_hartmann_disgust  \\\n",
       "0                           0.0                  0.001441   \n",
       "1                           1.0                  0.222484   \n",
       "2                           0.0                  0.283587   \n",
       "3                           0.0                  0.002388   \n",
       "\n",
       "   emotion_hartmann_disgust_count  emotion_hartmann_disgust_ratio  \\\n",
       "0                             0.0                             0.0   \n",
       "1                             0.0                             0.0   \n",
       "2                             0.0                             0.0   \n",
       "3                             0.0                             0.0   \n",
       "\n",
       "   emotion_hartmann_fear  emotion_hartmann_fear_count  \\\n",
       "0               0.003758                          0.0   \n",
       "1               0.007573                          0.0   \n",
       "2               0.004941                          0.0   \n",
       "3               0.000476                          0.0   \n",
       "\n",
       "   emotion_hartmann_fear_ratio  ...  emotion_hartmann_neutral  \\\n",
       "0                          0.0  ...                  0.004330   \n",
       "1                          0.0  ...                  0.015128   \n",
       "2                          0.0  ...                  0.656143   \n",
       "3                          0.0  ...                  0.004757   \n",
       "\n",
       "   emotion_hartmann_neutral_count  emotion_hartmann_neutral_ratio  \\\n",
       "0                             0.0                             0.0   \n",
       "1                             0.0                             0.0   \n",
       "2                             1.0                             1.0   \n",
       "3                             0.0                             0.0   \n",
       "\n",
       "   emotion_hartmann_sadness  emotion_hartmann_sadness_count  \\\n",
       "0                  0.973397                             1.0   \n",
       "1                  0.015681                             0.0   \n",
       "2                  0.018515                             0.0   \n",
       "3                  0.011659                             0.0   \n",
       "\n",
       "   emotion_hartmann_sadness_ratio  emotion_hartmann_surprise  \\\n",
       "0                             1.0                   0.012989   \n",
       "1                             0.0                   0.013002   \n",
       "2                             0.0                   0.011650   \n",
       "3                             0.0                   0.003272   \n",
       "\n",
       "   emotion_hartmann_surprise_count  emotion_hartmann_surprise_ratio  \\\n",
       "0                              0.0                              0.0   \n",
       "1                              0.0                              0.0   \n",
       "2                              0.0                              0.0   \n",
       "3                              0.0                              0.0   \n",
       "\n",
       "   emotion_hartmann_label  \n",
       "0                 sadness  \n",
       "1                   anger  \n",
       "2                 neutral  \n",
       "3                     joy  \n",
       "\n",
       "[4 rows x 23 columns]"
      ]
     },
     "execution_count": 18,
     "metadata": {},
     "output_type": "execute_result"
    }
   ],
   "source": [
    "pipeline = TransformerBasedFeaturePipeline(save_output= True,\n",
    "                 out_path = \"../data/extracted_features/test.parquet\")\n",
    "pipeline.set_input(test_df)\n",
    "#pipeline.set_input(test_df)\n",
    "pipeline.init_and_run()\n",
    "pipeline.out_df.head()"
   ]
  },
  {
   "cell_type": "code",
   "execution_count": null,
   "id": "bd90d486",
   "metadata": {
    "scrolled": true
   },
   "outputs": [
    {
     "name": "stderr",
     "output_type": "stream",
     "text": [
      "textmining-utility INFO     adding pipe with name HedgePipeOrchestrator\n",
      "textmining-utility INFO     adding pipe with name HedgePipeOrchestrator\n",
      "textmining-utility DEBUG    loading textmining_utility.annotator.pipe.linguistic.hedge\n",
      "textmining-utility DEBUG    loading textmining_utility.annotator.pipe.linguistic.hedge\n",
      "textmining-utility INFO     orchestrator was initialized successfully\n",
      "textmining-utility INFO     orchestrator was initialized successfully\n",
      "textmining-utility INFO     adding pipe with code hedge_component\n",
      "textmining-utility INFO     adding pipe with code hedge_component\n",
      "textmining-utility INFO     Defining pipe default and spacy stacks\n",
      "textmining-utility INFO     Defining pipe default and spacy stacks\n"
     ]
    }
   ],
   "source": [
    "pipeline = TransformerBasedFeaturePipeline(save_output= True,\n",
    "                 out_path = \"../data/extracted_features/hedge_liberal_training_each.parquet\")\n",
    "pipeline.set_input(liberal_training_each_df)\n",
    "#pipeline.set_input(test_df)\n",
    "pipeline.init_and_run()\n",
    "pipeline.out_df.head()"
   ]
  },
  {
   "cell_type": "code",
   "execution_count": null,
   "id": "b1a221ac",
   "metadata": {},
   "outputs": [],
   "source": [
    "pipeline.spacy_language_model"
   ]
  },
  {
   "cell_type": "code",
   "execution_count": null,
   "id": "6d48b68e",
   "metadata": {},
   "outputs": [],
   "source": [
    "spacy.load(pipeline.spacy_language_model, disable=[\"ner\"])"
   ]
  },
  {
   "cell_type": "code",
   "execution_count": null,
   "id": "7ec82d9f",
   "metadata": {},
   "outputs": [],
   "source": [
    "pipeline_cons.processed_input#annotated_artifacts"
   ]
  },
  {
   "cell_type": "code",
   "execution_count": null,
   "id": "d64c30a4",
   "metadata": {},
   "outputs": [],
   "source": [
    "pipeline_cons.out_df"
   ]
  },
  {
   "cell_type": "code",
   "execution_count": null,
   "id": "22c1d55d",
   "metadata": {},
   "outputs": [],
   "source": [
    "lib_transformers_df = pd.read_parquet(\"../data/extracted_features/liberal_transformers_features.parquet\")\n",
    "\n",
    "lib_transformers_df.head()\n",
    "lib_transformers_df['hedge_dominant'].value_counts().to_frame().plot(kind=\"bar\")\n",
    "lib_transformers_df['emotion_hartmann_label'].value_counts().to_frame().plot(kind=\"bar\")\n",
    "lib_transformers_df['toxicity_dominant'].value_counts().to_frame().plot(kind=\"bar\")\n",
    "\n",
    "lib_transformers_df[[\"emotion_hartmann_anger\",\n",
    "                     \"emotion_hartmann_disgust\",\n",
    "                    \"emotion_hartmann_fear\", \n",
    "                    \"emotion_hartmann_joy\",\n",
    "                    \"emotion_hartmann_neutral\",\n",
    "                    \"emotion_hartmann_surprise\",\n",
    "                    \"emotion_hartmann_sadness\"]].plot.hist(bins=12, alpha=0.5)"
   ]
  },
  {
   "cell_type": "code",
   "execution_count": null,
   "id": "3b54cdc7",
   "metadata": {},
   "outputs": [],
   "source": []
  }
 ],
 "metadata": {
  "kernelspec": {
   "display_name": "Python 3 (ipykernel)",
   "language": "python",
   "name": "python3"
  },
  "language_info": {
   "codemirror_mode": {
    "name": "ipython",
    "version": 3
   },
   "file_extension": ".py",
   "mimetype": "text/x-python",
   "name": "python",
   "nbconvert_exporter": "python",
   "pygments_lexer": "ipython3",
   "version": "3.8.6"
  }
 },
 "nbformat": 4,
 "nbformat_minor": 5
}
