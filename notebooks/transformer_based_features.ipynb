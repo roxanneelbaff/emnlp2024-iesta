{
 "cells": [
  {
   "cell_type": "code",
   "execution_count": 1,
   "id": "56c37892",
   "metadata": {},
   "outputs": [
    {
     "data": {
      "text/plain": [
       "<module 'iesta.feature_extractor' from 'c:\\\\users\\\\elba_ro\\\\documents\\\\projects\\\\conf22-style-transfer\\\\iesta\\\\feature_extractor.py'>"
      ]
     },
     "execution_count": 1,
     "metadata": {},
     "output_type": "execute_result"
    }
   ],
   "source": [
    "from textmining_utility.annotator.pipeline.pipeline_base import Pipeline\n",
    "import pandas as pd\n",
    "\n",
    "import pandas as pd\n",
    "import numpy as np\n",
    "import sys, os\n",
    "import importlib\n",
    "import textmining.cluster_analysis as cluster_analysis\n",
    "import textmining.lexicons as lexicons\n",
    "import textmining.machine_learning as machine_learning\n",
    "import textmining.significance_testing as significance_testing\n",
    "import iesta.loader as loader\n",
    "import iesta.properties as prop  \n",
    "import iesta.processor as proc  \n",
    "import iesta.feature_extractor as fe\n",
    "\n",
    "from collections import Counter\n",
    "\n",
    "importlib.reload(cluster_analysis)\n",
    "importlib.reload(lexicons)\n",
    "importlib.reload(machine_learning)\n",
    "importlib.reload(significance_testing)\n",
    "importlib.reload(loader)\n",
    "importlib.reload(prop)\n",
    "importlib.reload(proc)\n",
    "importlib.reload(fe)\n"
   ]
  },
  {
   "cell_type": "code",
   "execution_count": 2,
   "id": "721f7f51",
   "metadata": {},
   "outputs": [],
   "source": [
    "liberal_each_dataloader = IESTAData(ideology=properties.LIBERAL_IDEOLOGY, methodology=METHODOLOGY.EACH)\n",
    "\n",
    "liberal_each_dataloader.load()\n",
    "\n"
   ]
  },
  {
   "cell_type": "code",
   "execution_count": 3,
   "id": "bfd481a4",
   "metadata": {},
   "outputs": [
    {
     "data": {
      "text/html": [
       "<div>\n",
       "<style scoped>\n",
       "    .dataframe tbody tr th:only-of-type {\n",
       "        vertical-align: middle;\n",
       "    }\n",
       "\n",
       "    .dataframe tbody tr th {\n",
       "        vertical-align: top;\n",
       "    }\n",
       "\n",
       "    .dataframe thead th {\n",
       "        text-align: right;\n",
       "    }\n",
       "</style>\n",
       "<table border=\"1\" class=\"dataframe\">\n",
       "  <thead>\n",
       "    <tr style=\"text-align: right;\">\n",
       "      <th></th>\n",
       "      <th>id</th>\n",
       "      <th>debate_id</th>\n",
       "      <th>p_name</th>\n",
       "      <th>effects</th>\n",
       "      <th>effect_count</th>\n",
       "      <th>top_effect</th>\n",
       "      <th>effect</th>\n",
       "      <th>category</th>\n",
       "      <th>round</th>\n",
       "      <th>argument</th>\n",
       "    </tr>\n",
       "  </thead>\n",
       "  <tbody>\n",
       "    <tr>\n",
       "      <th>0</th>\n",
       "      <td>.-.-.-Ha-YOURE-GOING-DOWN-BEEM0R/1/|Logical-Ma...</td>\n",
       "      <td>.-.-.-Ha-YOURE-GOING-DOWN-BEEM0R/1/</td>\n",
       "      <td>Logical-Master</td>\n",
       "      <td>ineffective</td>\n",
       "      <td>b'{\"ineffective\": 1}'</td>\n",
       "      <td>ineffective</td>\n",
       "      <td>ineffective</td>\n",
       "      <td>Miscellaneous</td>\n",
       "      <td>0</td>\n",
       "      <td>\\n  \\r\\nRESOLVED: It is impossible not to cons...</td>\n",
       "    </tr>\n",
       "    <tr>\n",
       "      <th>1</th>\n",
       "      <td>.-.-.-Ha-YOURE-GOING-DOWN-BEEM0R/1/|Logical-Ma...</td>\n",
       "      <td>.-.-.-Ha-YOURE-GOING-DOWN-BEEM0R/1/</td>\n",
       "      <td>Logical-Master</td>\n",
       "      <td>ineffective</td>\n",
       "      <td>b'{\"ineffective\": 1}'</td>\n",
       "      <td>ineffective</td>\n",
       "      <td>ineffective</td>\n",
       "      <td>Miscellaneous</td>\n",
       "      <td>1</td>\n",
       "      <td>\\n  \\r\\nOkay, just now reading the round, it w...</td>\n",
       "    </tr>\n",
       "    <tr>\n",
       "      <th>2</th>\n",
       "      <td>.-.-.-Ha-YOURE-GOING-DOWN-BEEM0R/1/|Logical-Ma...</td>\n",
       "      <td>.-.-.-Ha-YOURE-GOING-DOWN-BEEM0R/1/</td>\n",
       "      <td>Logical-Master</td>\n",
       "      <td>ineffective</td>\n",
       "      <td>b'{\"ineffective\": 1}'</td>\n",
       "      <td>ineffective</td>\n",
       "      <td>ineffective</td>\n",
       "      <td>Miscellaneous</td>\n",
       "      <td>2</td>\n",
       "      <td>\\n  \\r\\n---&gt;RE:Since my opponent has left it u...</td>\n",
       "    </tr>\n",
       "    <tr>\n",
       "      <th>3</th>\n",
       "      <td>.-.-.-Ha-YOURE-GOING-DOWN-BEEM0R/1/|Logical-Ma...</td>\n",
       "      <td>.-.-.-Ha-YOURE-GOING-DOWN-BEEM0R/1/</td>\n",
       "      <td>Logical-Master</td>\n",
       "      <td>ineffective</td>\n",
       "      <td>b'{\"ineffective\": 1}'</td>\n",
       "      <td>ineffective</td>\n",
       "      <td>ineffective</td>\n",
       "      <td>Miscellaneous</td>\n",
       "      <td>3</td>\n",
       "      <td>\\n  \\r\\nCONSCIOUS SECTION:  \\n  \\r\\nLadies and...</td>\n",
       "    </tr>\n",
       "    <tr>\n",
       "      <th>4</th>\n",
       "      <td>.-.-.-Ha-YOURE-GOING-DOWN-BEEM0R/1/|beem0r</td>\n",
       "      <td>.-.-.-Ha-YOURE-GOING-DOWN-BEEM0R/1/</td>\n",
       "      <td>beem0r</td>\n",
       "      <td>ineffective</td>\n",
       "      <td>b'{\"ineffective\": 1}'</td>\n",
       "      <td>ineffective</td>\n",
       "      <td>ineffective</td>\n",
       "      <td>Miscellaneous</td>\n",
       "      <td>0</td>\n",
       "      <td>\\n  \\r\\nI would eplain the vast differences be...</td>\n",
       "    </tr>\n",
       "  </tbody>\n",
       "</table>\n",
       "</div>"
      ],
      "text/plain": [
       "                                                  id  \\\n",
       "0  .-.-.-Ha-YOURE-GOING-DOWN-BEEM0R/1/|Logical-Ma...   \n",
       "1  .-.-.-Ha-YOURE-GOING-DOWN-BEEM0R/1/|Logical-Ma...   \n",
       "2  .-.-.-Ha-YOURE-GOING-DOWN-BEEM0R/1/|Logical-Ma...   \n",
       "3  .-.-.-Ha-YOURE-GOING-DOWN-BEEM0R/1/|Logical-Ma...   \n",
       "4         .-.-.-Ha-YOURE-GOING-DOWN-BEEM0R/1/|beem0r   \n",
       "\n",
       "                             debate_id          p_name      effects  \\\n",
       "0  .-.-.-Ha-YOURE-GOING-DOWN-BEEM0R/1/  Logical-Master  ineffective   \n",
       "1  .-.-.-Ha-YOURE-GOING-DOWN-BEEM0R/1/  Logical-Master  ineffective   \n",
       "2  .-.-.-Ha-YOURE-GOING-DOWN-BEEM0R/1/  Logical-Master  ineffective   \n",
       "3  .-.-.-Ha-YOURE-GOING-DOWN-BEEM0R/1/  Logical-Master  ineffective   \n",
       "4  .-.-.-Ha-YOURE-GOING-DOWN-BEEM0R/1/          beem0r  ineffective   \n",
       "\n",
       "            effect_count   top_effect       effect       category  round  \\\n",
       "0  b'{\"ineffective\": 1}'  ineffective  ineffective  Miscellaneous      0   \n",
       "1  b'{\"ineffective\": 1}'  ineffective  ineffective  Miscellaneous      1   \n",
       "2  b'{\"ineffective\": 1}'  ineffective  ineffective  Miscellaneous      2   \n",
       "3  b'{\"ineffective\": 1}'  ineffective  ineffective  Miscellaneous      3   \n",
       "4  b'{\"ineffective\": 1}'  ineffective  ineffective  Miscellaneous      0   \n",
       "\n",
       "                                            argument  \n",
       "0  \\n  \\r\\nRESOLVED: It is impossible not to cons...  \n",
       "1  \\n  \\r\\nOkay, just now reading the round, it w...  \n",
       "2  \\n  \\r\\n--->RE:Since my opponent has left it u...  \n",
       "3  \\n  \\r\\nCONSCIOUS SECTION:  \\n  \\r\\nLadies and...  \n",
       "4  \\n  \\r\\nI would eplain the vast differences be...  "
      ]
     },
     "execution_count": 3,
     "metadata": {},
     "output_type": "execute_result"
    }
   ],
   "source": [
    "liberal_arguments_df.head()\n",
    "#conservative_arguments_df"
   ]
  },
  {
   "cell_type": "code",
   "execution_count": 4,
   "id": "7efb2d4d",
   "metadata": {},
   "outputs": [],
   "source": [
    "class SamplePipeline(Pipeline):\n",
    "\n",
    "     def process_input(self) -> list:\n",
    "        processed = []\n",
    "        txt_df = self.input[[\"id\", \"argument\"]].copy()\n",
    "        txt_df =txt_df.rename(columns={\"id\": \"input_id\", \"argument\": \"text\"},)\n",
    "        \n",
    "        for idx, row in txt_df.iterrows():\n",
    "            processed.append((row.text, {\"input_id\": row.input_id}))\n",
    "\n",
    "        return processed\n",
    "\n",
    "     def init_and_run(self):\n",
    "        \n",
    "        self.add_annotation_pipe(name = \"senter\",                  save_output= False,is_spacy=True, is_native=True)\n",
    "        self.add_annotation_pipe(name = \"EmotionPipeOrchestrator\", save_output= True, is_spacy=True)\n",
    "        self.add_annotation_pipe(name = \"HedgePipeOrchestrator\",   save_output= True, is_spacy=True)\n",
    "        self.add_annotation_pipe(name = \"ToxicityOrchestrator\",    save_output= True, is_spacy=True)\n",
    "\n",
    "        # annotate the input\n",
    "        #self.set_spacy_language_model(\"en_core_web_md\")\n",
    "        self.annotate()\n",
    "        # save annotations when \"save_output\" is set to True\n",
    "        self.save()"
   ]
  },
  {
   "cell_type": "code",
   "execution_count": null,
   "id": "ecec3c62",
   "metadata": {},
   "outputs": [],
   "source": [
    "import pandas  as pd\n",
    "test_df = pd.DataFrame([{\"input_id\": 1, \"text\": \"This is a very hard time, I am devastated!\"},\n",
    "                         {\"input_id\": 2, \"text\": \"You can not get your tiny brain to work on this so stupid!!\"},\n",
    "                         {\"input_id\": 3, \"text\": \"The amonium Nitrate was sitting there for ages.\"},\n",
    "                         {\"input_id\": 4, \"text\": \"I love you and I love how you look\"}\n",
    "                       ])"
   ]
  },
  {
   "cell_type": "code",
   "execution_count": null,
   "id": "bd90d486",
   "metadata": {
    "scrolled": true
   },
   "outputs": [
    {
     "name": "stderr",
     "output_type": "stream",
     "text": [
      "textmining-utility INFO     adding pipe with name EmotionPipeOrchestrator\n",
      "textmining-utility DEBUG    loading textmining_utility.annotator.pipe.linguistic.emotion\n",
      "textmining-utility INFO     orchestrator was initialized successfully\n",
      "textmining-utility INFO     adding pipe with code emotion_hartmann_component\n",
      "textmining-utility INFO     adding pipe with name HedgePipeOrchestrator\n",
      "textmining-utility DEBUG    loading textmining_utility.annotator.pipe.linguistic.hedge\n",
      "textmining-utility INFO     orchestrator was initialized successfully\n",
      "textmining-utility INFO     adding pipe with code hedge_component\n",
      "textmining-utility INFO     adding pipe with name ToxicityOrchestrator\n",
      "textmining-utility DEBUG    loading textmining_utility.annotator.pipe.linguistic.toxicity\n",
      "textmining-utility INFO     orchestrator was initialized successfully\n",
      "textmining-utility INFO     adding pipe with code toxicity_component\n",
      "textmining-utility INFO     Defining pipe default and spacy stacks\n",
      "Some weights of the model checkpoint at SkolkovoInstitute/roberta_toxicity_classifier were not used when initializing RobertaForSequenceClassification: ['roberta.pooler.dense.weight', 'roberta.pooler.dense.bias']\n",
      "- This IS expected if you are initializing RobertaForSequenceClassification from the checkpoint of a model trained on another task or with another architecture (e.g. initializing a BertForSequenceClassification model from a BertForPreTraining model).\n",
      "- This IS NOT expected if you are initializing RobertaForSequenceClassification from the checkpoint of a model that you expect to be exactly identical (initializing a BertForSequenceClassification model from a BertForSequenceClassification model).\n"
     ]
    }
   ],
   "source": [
    "pipeline = SamplePipeline(save_output= True,\n",
    "                 out_path = \"../data/extracted_features/liberal_transformers_features.parquet\")\n",
    "pipeline.set_input(liberal_arguments_df)\n",
    "#pipeline.set_input(test_df)\n",
    "pipeline.init_and_run()"
   ]
  },
  {
   "cell_type": "code",
   "execution_count": null,
   "id": "a1a01ee8",
   "metadata": {},
   "outputs": [],
   "source": [
    "pipeline.out_df.head()"
   ]
  },
  {
   "cell_type": "code",
   "execution_count": null,
   "id": "2efee788",
   "metadata": {},
   "outputs": [],
   "source": [
    "pipeline_cons = SamplePipeline(save_output= True,\n",
    "                 out_path = \"../data/extracted_features/conservative_transformers_features.parquet\")\n",
    "pipeline_cons.set_input(conservative_data)\n",
    "pipeline_cons.init_and_run()"
   ]
  },
  {
   "cell_type": "code",
   "execution_count": null,
   "id": "7ec82d9f",
   "metadata": {},
   "outputs": [],
   "source": [
    "pipeline_cons.processed_input#annotated_artifacts"
   ]
  },
  {
   "cell_type": "code",
   "execution_count": null,
   "id": "d64c30a4",
   "metadata": {},
   "outputs": [],
   "source": [
    "pipeline_cons.out_df"
   ]
  },
  {
   "cell_type": "code",
   "execution_count": null,
   "id": "22c1d55d",
   "metadata": {},
   "outputs": [],
   "source": [
    "lib_transformers_df = pd.read_parquet(\"../data/extracted_features/liberal_transformers_features.parquet\")\n",
    "\n",
    "lib_transformers_df.head()\n",
    "lib_transformers_df['hedge_dominant'].value_counts().to_frame().plot(kind=\"bar\")\n",
    "lib_transformers_df['emotion_hartmann_label'].value_counts().to_frame().plot(kind=\"bar\")\n",
    "lib_transformers_df['toxicity_dominant'].value_counts().to_frame().plot(kind=\"bar\")\n",
    "\n",
    "lib_transformers_df[[\"emotion_hartmann_anger\",\n",
    "                     \"emotion_hartmann_disgust\",\n",
    "                    \"emotion_hartmann_fear\", \n",
    "                    \"emotion_hartmann_joy\",\n",
    "                    \"emotion_hartmann_neutral\",\n",
    "                    \"emotion_hartmann_surprise\",\n",
    "                    \"emotion_hartmann_sadness\"]].plot.hist(bins=12, alpha=0.5)"
   ]
  },
  {
   "cell_type": "code",
   "execution_count": null,
   "id": "3b54cdc7",
   "metadata": {},
   "outputs": [],
   "source": []
  }
 ],
 "metadata": {
  "kernelspec": {
   "display_name": "Python 3 (ipykernel)",
   "language": "python",
   "name": "python3"
  },
  "language_info": {
   "codemirror_mode": {
    "name": "ipython",
    "version": 3
   },
   "file_extension": ".py",
   "mimetype": "text/x-python",
   "name": "python",
   "nbconvert_exporter": "python",
   "pygments_lexer": "ipython3",
   "version": "3.8.6"
  }
 },
 "nbformat": 4,
 "nbformat_minor": 5
}
