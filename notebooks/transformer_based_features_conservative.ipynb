{
 "cells": [
  {
   "cell_type": "code",
   "execution_count": null,
   "id": "507a2706",
   "metadata": {},
   "outputs": [],
   "source": [
    "#python3 -m venv elbaff_iesta_venv --prompt=\"elbaff_iesta_venv\"\n",
    "#source elbaff_iesta_venv/bin/activate#\n"
   ]
  },
  {
   "cell_type": "code",
   "execution_count": null,
   "id": "2a67315a",
   "metadata": {},
   "outputs": [],
   "source": []
  },
  {
   "cell_type": "code",
   "execution_count": null,
   "id": "56c37892",
   "metadata": {},
   "outputs": [],
   "source": [
    "from nlpaf.annotator.pipeline.pipeline_base import Pipeline\n",
    "import pandas as pd\n",
    "\n",
    "import pandas as pd\n",
    "import numpy as np\n",
    "\n",
    "import iesta.loader as loader\n",
    "import iesta.properties as prop  \n",
    "import iesta.processor as proc  \n",
    "import iesta.feature_extractor as fe\n",
    "from iesta.machine_learning.dataloader import IESTAData, METHODOLOGY\n",
    "\n",
    "from collections import Counter\n",
    "\n",
    "\n"
   ]
  },
  {
   "cell_type": "code",
   "execution_count": null,
   "id": "721f7f51",
   "metadata": {},
   "outputs": [],
   "source": [
    "conservative_each_dataloader = IESTAData(ideology=prop.CONSERVATIVE_IDEOLOGY, methodology=METHODOLOGY.EACH)\n",
    "\n",
    "\n",
    "conservative_training_each_df, conservative_data_path = conservative_each_dataloader.get_training_data()\n",
    "conservative_each_dataloader.pivot_df"
   ]
  },
  {
   "cell_type": "code",
   "execution_count": null,
   "id": "7e10a31e",
   "metadata": {},
   "outputs": [],
   "source": [
    "conservative_each_dataloader.pivot_binary_effect"
   ]
  },
  {
   "cell_type": "code",
   "execution_count": null,
   "id": "2e11a5d8",
   "metadata": {},
   "outputs": [],
   "source": [
    "\n",
    "conservative_training_each_df.columns.tolist()"
   ]
  },
  {
   "cell_type": "code",
   "execution_count": null,
   "id": "fee00c13",
   "metadata": {},
   "outputs": [],
   "source": [
    "len(conservative_training_each_df)"
   ]
  },
  {
   "cell_type": "code",
   "execution_count": null,
   "id": "7efb2d4d",
   "metadata": {},
   "outputs": [],
   "source": [
    "from iesta.machine_learning.feature_extraction import extract_features\n",
    "extract_features(ideology=\"conservative\", \n",
    "                        data_path = conservative_data_path, \n",
    "                        batch_size=1000, \n",
    "                        spacy_n_processors=3,\n",
    "                        transformer_based_features= False,\n",
    "                        )"
   ]
  },
  {
   "cell_type": "code",
   "execution_count": null,
   "id": "7ec82d9f",
   "metadata": {},
   "outputs": [],
   "source": [
    "extract_features(ideology=\"conservative\", \n",
    "                        data_path = conservative_data_path, \n",
    "                        batch_size=100, \n",
    "                        spacy_n_processors=1,\n",
    "                        transformer_based_features= True,\n",
    "                        )"
   ]
  },
  {
   "cell_type": "code",
   "execution_count": null,
   "id": "b2b0ec6c",
   "metadata": {},
   "outputs": [],
   "source": [
    "len(conservative_training_each_df)"
   ]
  },
  {
   "cell_type": "code",
   "execution_count": null,
   "id": "f2db6af7",
   "metadata": {},
   "outputs": [],
   "source": [
    "len(conservative_training_each_df)"
   ]
  },
  {
   "cell_type": "code",
   "execution_count": null,
   "id": "95b4fb3f",
   "metadata": {},
   "outputs": [],
   "source": [
    "len(conservative_training_each_df[\"id\"].unique())"
   ]
  },
  {
   "cell_type": "code",
   "execution_count": null,
   "id": "816471fb",
   "metadata": {},
   "outputs": [],
   "source": [
    "len(conservative_training_each_df.drop_duplicates())"
   ]
  },
  {
   "cell_type": "code",
   "execution_count": null,
   "id": "7fd08c1f",
   "metadata": {},
   "outputs": [],
   "source": [
    "len(conservative_training_each_df.index.unique())"
   ]
  },
  {
   "cell_type": "code",
   "execution_count": null,
   "id": "a0420087",
   "metadata": {},
   "outputs": [],
   "source": [
    "conservative_training_each_df[\"unique_id\"] = conservative_training_each_df.index"
   ]
  },
  {
   "cell_type": "code",
   "execution_count": null,
   "id": "5e2a0a8c",
   "metadata": {},
   "outputs": [],
   "source": [
    "len(conservative_training_each_df[\"unique_id\"].unique())"
   ]
  },
  {
   "cell_type": "code",
   "execution_count": null,
   "id": "7cbd5757",
   "metadata": {},
   "outputs": [],
   "source": []
  }
 ],
 "metadata": {
  "kernelspec": {
   "display_name": "Python 3 (ipykernel)",
   "language": "python",
   "name": "python3"
  },
  "language_info": {
   "codemirror_mode": {
    "name": "ipython",
    "version": 3
   },
   "file_extension": ".py",
   "mimetype": "text/x-python",
   "name": "python",
   "nbconvert_exporter": "python",
   "pygments_lexer": "ipython3",
   "version": "3.8.10 (default, Nov 14 2022, 12:59:47) \n[GCC 9.4.0]"
  },
  "vscode": {
   "interpreter": {
    "hash": "33b81bc8650a3643e935a2ab53ff66219719f7237086cfdf4850911b872414e3"
   }
  }
 },
 "nbformat": 4,
 "nbformat_minor": 5
}
