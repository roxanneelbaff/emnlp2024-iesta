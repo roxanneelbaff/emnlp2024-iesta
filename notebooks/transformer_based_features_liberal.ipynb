{
 "cells": [
  {
   "cell_type": "code",
   "execution_count": null,
   "id": "507a2706",
   "metadata": {},
   "outputs": [],
   "source": [
    "# python3 -m venv elbaff_iesta_venv --prompt=\"elbaff_iesta_venv\"\n",
    "# source elbaff_iesta_venv/bin/activate\n",
    "\n",
    "%pip show nlpaf\n"
   ]
  },
  {
   "cell_type": "code",
   "execution_count": null,
   "id": "56c37892",
   "metadata": {},
   "outputs": [],
   "source": [
    "from nlpaf.annotator.pipeline.pipeline_base import Pipeline\n",
    "import pandas as pd\n",
    "\n",
    "import pandas as pd\n",
    "import numpy as np\n",
    "\n",
    "import iesta.properties as prop  \n",
    "from iesta.machine_learning.dataloader import IESTAData, METHODOLOGY\n"
   ]
  },
  {
   "cell_type": "code",
   "execution_count": null,
   "id": "721f7f51",
   "metadata": {},
   "outputs": [],
   "source": [
    "\n",
    "liberal_each_dataloader = IESTAData(ideology=prop.LIBERAL_IDEOLOGY, methodology=METHODOLOGY.EACH)\n",
    "liberal_training_each_df, liberal_data_path = liberal_each_dataloader.get_training_data()\n",
    "liberal_each_dataloader.pivot_df\n"
   ]
  },
  {
   "cell_type": "code",
   "execution_count": null,
   "id": "7e10a31e",
   "metadata": {},
   "outputs": [],
   "source": [
    "liberal_each_dataloader.pivot_binary_effect"
   ]
  },
  {
   "cell_type": "code",
   "execution_count": null,
   "id": "2e11a5d8",
   "metadata": {},
   "outputs": [],
   "source": [
    "liberal_training_each_df.columns.tolist()"
   ]
  },
  {
   "cell_type": "code",
   "execution_count": null,
   "id": "22c1d55d",
   "metadata": {},
   "outputs": [],
   "source": [
    "from iesta.machine_learning.feature_extraction import extract_features\n",
    "extract_features(ideology=\"liberal\", \n",
    "                        data_path = liberal_data_path, \n",
    "                        batch_size=1000, \n",
    "                        spacy_n_processors=3,\n",
    "                        transformer_based_features= False,\n",
    "                        )"
   ]
  },
  {
   "cell_type": "code",
   "execution_count": null,
   "id": "1b68903d",
   "metadata": {},
   "outputs": [],
   "source": [
    "extract_features(ideology=\"liberal\", \n",
    "                        data_path = liberal_data_path, \n",
    "                        batch_size=100, \n",
    "                        spacy_n_processors=1,\n",
    "                        transformer_based_features= True,\n",
    "                        )"
   ]
  },
  {
   "cell_type": "code",
   "execution_count": null,
   "id": "a7ee8100",
   "metadata": {},
   "outputs": [],
   "source": []
  }
 ],
 "metadata": {
  "kernelspec": {
   "display_name": "Python 3 (ipykernel)",
   "language": "python",
   "name": "python3"
  },
  "language_info": {
   "codemirror_mode": {
    "name": "ipython",
    "version": 3
   },
   "file_extension": ".py",
   "mimetype": "text/x-python",
   "name": "python",
   "nbconvert_exporter": "python",
   "pygments_lexer": "ipython3",
   "version": "3.8.10"
  },
  "vscode": {
   "interpreter": {
    "hash": "33b81bc8650a3643e935a2ab53ff66219719f7237086cfdf4850911b872414e3"
   }
  }
 },
 "nbformat": 4,
 "nbformat_minor": 5
}
