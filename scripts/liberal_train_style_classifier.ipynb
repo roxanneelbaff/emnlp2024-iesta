{
 "cells": [
  {
   "cell_type": "code",
   "execution_count": 2,
   "metadata": {},
   "outputs": [
    {
     "name": "stdout",
     "output_type": "stream",
     "text": [
      "Requirement already up-to-date: nlpaf in /home/elba_ro/repos/github/conf22-style-transfer/iesta_venv/lib/python3.8/site-packages (2.12.20)\n",
      "Requirement already satisfied, skipping upgrade: empath in /home/elba_ro/repos/github/conf22-style-transfer/iesta_venv/lib/python3.8/site-packages (from nlpaf) (0.89)\n",
      "Requirement already satisfied, skipping upgrade: pandas in /home/elba_ro/repos/github/conf22-style-transfer/iesta_venv/lib/python3.8/site-packages (from nlpaf) (1.5.1)\n",
      "Requirement already satisfied, skipping upgrade: pyLDAvis; python_version < \"3.9\" in /home/elba_ro/repos/github/conf22-style-transfer/iesta_venv/lib/python3.8/site-packages (from nlpaf) (3.3.1)\n",
      "Requirement already satisfied, skipping upgrade: tqdm in /home/elba_ro/repos/github/conf22-style-transfer/iesta_venv/lib/python3.8/site-packages (from nlpaf) (4.64.0)\n",
      "Requirement already satisfied, skipping upgrade: wordcloud; python_version < \"3.9\" in /home/elba_ro/repos/github/conf22-style-transfer/iesta_venv/lib/python3.8/site-packages (from nlpaf) (1.8.2.2)\n",
      "Requirement already satisfied, skipping upgrade: matplotlib in /home/elba_ro/repos/github/conf22-style-transfer/iesta_venv/lib/python3.8/site-packages (from nlpaf) (3.6.3)\n",
      "Requirement already satisfied, skipping upgrade: scikit-learn in /home/elba_ro/repos/github/conf22-style-transfer/iesta_venv/lib/python3.8/site-packages (from nlpaf) (1.1.3)\n",
      "Requirement already satisfied, skipping upgrade: spacy in /home/elba_ro/repos/github/conf22-style-transfer/iesta_venv/lib/python3.8/site-packages (from nlpaf) (3.4.3)\n",
      "Requirement already satisfied, skipping upgrade: simpletransformers; python_version < \"3.9\" in /home/elba_ro/repos/github/conf22-style-transfer/iesta_venv/lib/python3.8/site-packages (from nlpaf) (0.63.9)\n",
      "Requirement already satisfied, skipping upgrade: nltk in /home/elba_ro/repos/github/conf22-style-transfer/iesta_venv/lib/python3.8/site-packages (from nlpaf) (3.7)\n",
      "Requirement already satisfied, skipping upgrade: statsmodels in /home/elba_ro/repos/github/conf22-style-transfer/iesta_venv/lib/python3.8/site-packages (from nlpaf) (0.13.5)\n",
      "Requirement already satisfied, skipping upgrade: numpy in /home/elba_ro/repos/github/conf22-style-transfer/iesta_venv/lib/python3.8/site-packages (from nlpaf) (1.23.4)\n",
      "Requirement already satisfied, skipping upgrade: scipy in /home/elba_ro/repos/github/conf22-style-transfer/iesta_venv/lib/python3.8/site-packages (from nlpaf) (1.6.2)\n",
      "Requirement already satisfied, skipping upgrade: gensim>=3.8.1 in /home/elba_ro/repos/github/conf22-style-transfer/iesta_venv/lib/python3.8/site-packages (from nlpaf) (4.2.0)\n",
      "Requirement already satisfied, skipping upgrade: spacy_arguing_lexicon in /home/elba_ro/repos/github/conf22-style-transfer/iesta_venv/lib/python3.8/site-packages (from nlpaf) (0.0.3)\n",
      "Requirement already satisfied, skipping upgrade: pyarrow in /home/elba_ro/repos/github/conf22-style-transfer/iesta_venv/lib/python3.8/site-packages (from nlpaf) (8.0.0)\n",
      "Requirement already satisfied, skipping upgrade: requests in /home/elba_ro/repos/github/conf22-style-transfer/iesta_venv/lib/python3.8/site-packages (from empath->nlpaf) (2.28.1)\n",
      "Requirement already satisfied, skipping upgrade: pytz>=2020.1 in /home/elba_ro/repos/github/conf22-style-transfer/iesta_venv/lib/python3.8/site-packages (from pandas->nlpaf) (2022.6)\n",
      "Requirement already satisfied, skipping upgrade: python-dateutil>=2.8.1 in /home/elba_ro/repos/github/conf22-style-transfer/iesta_venv/lib/python3.8/site-packages (from pandas->nlpaf) (2.8.2)\n",
      "Requirement already satisfied, skipping upgrade: setuptools in /home/elba_ro/repos/github/conf22-style-transfer/iesta_venv/lib/python3.8/site-packages (from pyLDAvis; python_version < \"3.9\"->nlpaf) (44.0.0)\n",
      "Requirement already satisfied, skipping upgrade: funcy in /home/elba_ro/repos/github/conf22-style-transfer/iesta_venv/lib/python3.8/site-packages (from pyLDAvis; python_version < \"3.9\"->nlpaf) (1.17)\n",
      "Requirement already satisfied, skipping upgrade: joblib in /home/elba_ro/repos/github/conf22-style-transfer/iesta_venv/lib/python3.8/site-packages (from pyLDAvis; python_version < \"3.9\"->nlpaf) (1.2.0)\n",
      "Requirement already satisfied, skipping upgrade: jinja2 in /home/elba_ro/repos/github/conf22-style-transfer/iesta_venv/lib/python3.8/site-packages (from pyLDAvis; python_version < \"3.9\"->nlpaf) (3.1.2)\n",
      "Requirement already satisfied, skipping upgrade: numexpr in /home/elba_ro/repos/github/conf22-style-transfer/iesta_venv/lib/python3.8/site-packages (from pyLDAvis; python_version < \"3.9\"->nlpaf) (2.8.4)\n",
      "Requirement already satisfied, skipping upgrade: sklearn in /home/elba_ro/repos/github/conf22-style-transfer/iesta_venv/lib/python3.8/site-packages (from pyLDAvis; python_version < \"3.9\"->nlpaf) (0.0.post1)\n",
      "Requirement already satisfied, skipping upgrade: future in /home/elba_ro/repos/github/conf22-style-transfer/iesta_venv/lib/python3.8/site-packages (from pyLDAvis; python_version < \"3.9\"->nlpaf) (0.18.2)\n",
      "Requirement already satisfied, skipping upgrade: pillow in /home/elba_ro/repos/github/conf22-style-transfer/iesta_venv/lib/python3.8/site-packages (from wordcloud; python_version < \"3.9\"->nlpaf) (9.3.0)\n",
      "Requirement already satisfied, skipping upgrade: packaging>=20.0 in /home/elba_ro/repos/github/conf22-style-transfer/iesta_venv/lib/python3.8/site-packages (from matplotlib->nlpaf) (21.3)\n",
      "Requirement already satisfied, skipping upgrade: kiwisolver>=1.0.1 in /home/elba_ro/repos/github/conf22-style-transfer/iesta_venv/lib/python3.8/site-packages (from matplotlib->nlpaf) (1.4.4)\n",
      "Requirement already satisfied, skipping upgrade: fonttools>=4.22.0 in /home/elba_ro/repos/github/conf22-style-transfer/iesta_venv/lib/python3.8/site-packages (from matplotlib->nlpaf) (4.38.0)\n",
      "Requirement already satisfied, skipping upgrade: contourpy>=1.0.1 in /home/elba_ro/repos/github/conf22-style-transfer/iesta_venv/lib/python3.8/site-packages (from matplotlib->nlpaf) (1.0.6)\n",
      "Requirement already satisfied, skipping upgrade: cycler>=0.10 in /home/elba_ro/repos/github/conf22-style-transfer/iesta_venv/lib/python3.8/site-packages (from matplotlib->nlpaf) (0.11.0)\n",
      "Requirement already satisfied, skipping upgrade: pyparsing>=2.2.1 in /home/elba_ro/repos/github/conf22-style-transfer/iesta_venv/lib/python3.8/site-packages (from matplotlib->nlpaf) (3.0.9)\n",
      "Requirement already satisfied, skipping upgrade: threadpoolctl>=2.0.0 in /home/elba_ro/repos/github/conf22-style-transfer/iesta_venv/lib/python3.8/site-packages (from scikit-learn->nlpaf) (3.1.0)\n",
      "Requirement already satisfied, skipping upgrade: preshed<3.1.0,>=3.0.2 in /home/elba_ro/repos/github/conf22-style-transfer/iesta_venv/lib/python3.8/site-packages (from spacy->nlpaf) (3.0.8)\n",
      "Requirement already satisfied, skipping upgrade: langcodes<4.0.0,>=3.2.0 in /home/elba_ro/repos/github/conf22-style-transfer/iesta_venv/lib/python3.8/site-packages (from spacy->nlpaf) (3.3.0)\n",
      "Requirement already satisfied, skipping upgrade: catalogue<2.1.0,>=2.0.6 in /home/elba_ro/repos/github/conf22-style-transfer/iesta_venv/lib/python3.8/site-packages (from spacy->nlpaf) (2.0.8)\n",
      "Requirement already satisfied, skipping upgrade: wasabi<1.1.0,>=0.9.1 in /home/elba_ro/repos/github/conf22-style-transfer/iesta_venv/lib/python3.8/site-packages (from spacy->nlpaf) (0.10.1)\n",
      "Requirement already satisfied, skipping upgrade: cymem<2.1.0,>=2.0.2 in /home/elba_ro/repos/github/conf22-style-transfer/iesta_venv/lib/python3.8/site-packages (from spacy->nlpaf) (2.0.7)\n",
      "Requirement already satisfied, skipping upgrade: spacy-legacy<3.1.0,>=3.0.10 in /home/elba_ro/repos/github/conf22-style-transfer/iesta_venv/lib/python3.8/site-packages (from spacy->nlpaf) (3.0.10)\n",
      "Requirement already satisfied, skipping upgrade: murmurhash<1.1.0,>=0.28.0 in /home/elba_ro/repos/github/conf22-style-transfer/iesta_venv/lib/python3.8/site-packages (from spacy->nlpaf) (1.0.9)\n",
      "Requirement already satisfied, skipping upgrade: spacy-loggers<2.0.0,>=1.0.0 in /home/elba_ro/repos/github/conf22-style-transfer/iesta_venv/lib/python3.8/site-packages (from spacy->nlpaf) (1.0.3)\n",
      "Requirement already satisfied, skipping upgrade: pydantic!=1.8,!=1.8.1,<1.11.0,>=1.7.4 in /home/elba_ro/repos/github/conf22-style-transfer/iesta_venv/lib/python3.8/site-packages (from spacy->nlpaf) (1.10.2)\n",
      "Requirement already satisfied, skipping upgrade: thinc<8.2.0,>=8.1.0 in /home/elba_ro/repos/github/conf22-style-transfer/iesta_venv/lib/python3.8/site-packages (from spacy->nlpaf) (8.1.5)\n",
      "Requirement already satisfied, skipping upgrade: pathy>=0.3.5 in /home/elba_ro/repos/github/conf22-style-transfer/iesta_venv/lib/python3.8/site-packages (from spacy->nlpaf) (0.8.1)\n",
      "Requirement already satisfied, skipping upgrade: typer<0.8.0,>=0.3.0 in /home/elba_ro/repos/github/conf22-style-transfer/iesta_venv/lib/python3.8/site-packages (from spacy->nlpaf) (0.7.0)\n",
      "Requirement already satisfied, skipping upgrade: srsly<3.0.0,>=2.4.3 in /home/elba_ro/repos/github/conf22-style-transfer/iesta_venv/lib/python3.8/site-packages (from spacy->nlpaf) (2.4.5)\n",
      "Requirement already satisfied, skipping upgrade: transformers>=4.6.0 in /home/elba_ro/repos/github/conf22-style-transfer/iesta_venv/lib/python3.8/site-packages (from simpletransformers; python_version < \"3.9\"->nlpaf) (4.29.2)\n",
      "Requirement already satisfied, skipping upgrade: regex in /home/elba_ro/repos/github/conf22-style-transfer/iesta_venv/lib/python3.8/site-packages (from simpletransformers; python_version < \"3.9\"->nlpaf) (2022.10.31)\n",
      "Requirement already satisfied, skipping upgrade: streamlit in /home/elba_ro/repos/github/conf22-style-transfer/iesta_venv/lib/python3.8/site-packages (from simpletransformers; python_version < \"3.9\"->nlpaf) (1.15.0)\n",
      "Requirement already satisfied, skipping upgrade: tensorboard in /home/elba_ro/repos/github/conf22-style-transfer/iesta_venv/lib/python3.8/site-packages (from simpletransformers; python_version < \"3.9\"->nlpaf) (2.11.0)\n",
      "Requirement already satisfied, skipping upgrade: seqeval in /home/elba_ro/repos/github/conf22-style-transfer/iesta_venv/lib/python3.8/site-packages (from simpletransformers; python_version < \"3.9\"->nlpaf) (1.2.2)\n",
      "Requirement already satisfied, skipping upgrade: wandb>=0.10.32 in /home/elba_ro/repos/github/conf22-style-transfer/iesta_venv/lib/python3.8/site-packages (from simpletransformers; python_version < \"3.9\"->nlpaf) (0.13.5)\n",
      "Requirement already satisfied, skipping upgrade: sentencepiece in /home/elba_ro/repos/github/conf22-style-transfer/iesta_venv/lib/python3.8/site-packages (from simpletransformers; python_version < \"3.9\"->nlpaf) (0.1.97)\n",
      "Requirement already satisfied, skipping upgrade: datasets in /home/elba_ro/repos/github/conf22-style-transfer/iesta_venv/lib/python3.8/site-packages (from simpletransformers; python_version < \"3.9\"->nlpaf) (2.7.0)\n",
      "Requirement already satisfied, skipping upgrade: tokenizers in /home/elba_ro/repos/github/conf22-style-transfer/iesta_venv/lib/python3.8/site-packages (from simpletransformers; python_version < \"3.9\"->nlpaf) (0.13.2)\n",
      "Requirement already satisfied, skipping upgrade: click in /home/elba_ro/repos/github/conf22-style-transfer/iesta_venv/lib/python3.8/site-packages (from nltk->nlpaf) (8.1.3)\n",
      "Requirement already satisfied, skipping upgrade: patsy>=0.5.2 in /home/elba_ro/repos/github/conf22-style-transfer/iesta_venv/lib/python3.8/site-packages (from statsmodels->nlpaf) (0.5.3)\n",
      "Requirement already satisfied, skipping upgrade: smart-open>=1.8.1 in /home/elba_ro/repos/github/conf22-style-transfer/iesta_venv/lib/python3.8/site-packages (from gensim>=3.8.1->nlpaf) (5.2.1)\n",
      "Requirement already satisfied, skipping upgrade: charset-normalizer<3,>=2 in /home/elba_ro/repos/github/conf22-style-transfer/iesta_venv/lib/python3.8/site-packages (from requests->empath->nlpaf) (2.1.1)\n",
      "Requirement already satisfied, skipping upgrade: urllib3<1.27,>=1.21.1 in /home/elba_ro/repos/github/conf22-style-transfer/iesta_venv/lib/python3.8/site-packages (from requests->empath->nlpaf) (1.26.12)\n",
      "Requirement already satisfied, skipping upgrade: idna<4,>=2.5 in /home/elba_ro/repos/github/conf22-style-transfer/iesta_venv/lib/python3.8/site-packages (from requests->empath->nlpaf) (3.4)\n",
      "Requirement already satisfied, skipping upgrade: certifi>=2017.4.17 in /home/elba_ro/repos/github/conf22-style-transfer/iesta_venv/lib/python3.8/site-packages (from requests->empath->nlpaf) (2022.9.24)\n",
      "Requirement already satisfied, skipping upgrade: six>=1.5 in /home/elba_ro/repos/github/conf22-style-transfer/iesta_venv/lib/python3.8/site-packages (from python-dateutil>=2.8.1->pandas->nlpaf) (1.16.0)\n",
      "Requirement already satisfied, skipping upgrade: MarkupSafe>=2.0 in /home/elba_ro/repos/github/conf22-style-transfer/iesta_venv/lib/python3.8/site-packages (from jinja2->pyLDAvis; python_version < \"3.9\"->nlpaf) (2.1.1)\n",
      "Requirement already satisfied, skipping upgrade: typing-extensions>=4.1.0 in /home/elba_ro/repos/github/conf22-style-transfer/iesta_venv/lib/python3.8/site-packages (from pydantic!=1.8,!=1.8.1,<1.11.0,>=1.7.4->spacy->nlpaf) (4.4.0)\n",
      "Requirement already satisfied, skipping upgrade: blis<0.8.0,>=0.7.8 in /home/elba_ro/repos/github/conf22-style-transfer/iesta_venv/lib/python3.8/site-packages (from thinc<8.2.0,>=8.1.0->spacy->nlpaf) (0.7.9)\n",
      "Requirement already satisfied, skipping upgrade: confection<1.0.0,>=0.0.1 in /home/elba_ro/repos/github/conf22-style-transfer/iesta_venv/lib/python3.8/site-packages (from thinc<8.2.0,>=8.1.0->spacy->nlpaf) (0.0.3)\n",
      "Requirement already satisfied, skipping upgrade: pyyaml>=5.1 in /home/elba_ro/repos/github/conf22-style-transfer/iesta_venv/lib/python3.8/site-packages (from transformers>=4.6.0->simpletransformers; python_version < \"3.9\"->nlpaf) (6.0)\n",
      "Requirement already satisfied, skipping upgrade: huggingface-hub<1.0,>=0.14.1 in /home/elba_ro/repos/github/conf22-style-transfer/iesta_venv/lib/python3.8/site-packages (from transformers>=4.6.0->simpletransformers; python_version < \"3.9\"->nlpaf) (0.14.1)\n",
      "Requirement already satisfied, skipping upgrade: filelock in /home/elba_ro/repos/github/conf22-style-transfer/iesta_venv/lib/python3.8/site-packages (from transformers>=4.6.0->simpletransformers; python_version < \"3.9\"->nlpaf) (3.8.0)\n",
      "Requirement already satisfied, skipping upgrade: importlib-metadata>=1.4 in /home/elba_ro/repos/github/conf22-style-transfer/iesta_venv/lib/python3.8/site-packages (from streamlit->simpletransformers; python_version < \"3.9\"->nlpaf) (5.0.0)\n",
      "Requirement already satisfied, skipping upgrade: tornado>=5.0 in /home/elba_ro/repos/github/conf22-style-transfer/iesta_venv/lib/python3.8/site-packages (from streamlit->simpletransformers; python_version < \"3.9\"->nlpaf) (6.2)\n",
      "Requirement already satisfied, skipping upgrade: gitpython!=3.1.19 in /home/elba_ro/repos/github/conf22-style-transfer/iesta_venv/lib/python3.8/site-packages (from streamlit->simpletransformers; python_version < \"3.9\"->nlpaf) (3.1.29)\n",
      "Requirement already satisfied, skipping upgrade: tzlocal>=1.1 in /home/elba_ro/repos/github/conf22-style-transfer/iesta_venv/lib/python3.8/site-packages (from streamlit->simpletransformers; python_version < \"3.9\"->nlpaf) (4.2)\n",
      "Requirement already satisfied, skipping upgrade: cachetools>=4.0 in /home/elba_ro/repos/github/conf22-style-transfer/iesta_venv/lib/python3.8/site-packages (from streamlit->simpletransformers; python_version < \"3.9\"->nlpaf) (5.2.0)\n",
      "Requirement already satisfied, skipping upgrade: protobuf<4,>=3.12 in /home/elba_ro/repos/github/conf22-style-transfer/iesta_venv/lib/python3.8/site-packages (from streamlit->simpletransformers; python_version < \"3.9\"->nlpaf) (3.20.3)\n",
      "Requirement already satisfied, skipping upgrade: watchdog; platform_system != \"Darwin\" in /home/elba_ro/repos/github/conf22-style-transfer/iesta_venv/lib/python3.8/site-packages (from streamlit->simpletransformers; python_version < \"3.9\"->nlpaf) (2.1.9)\n",
      "Requirement already satisfied, skipping upgrade: semver in /home/elba_ro/repos/github/conf22-style-transfer/iesta_venv/lib/python3.8/site-packages (from streamlit->simpletransformers; python_version < \"3.9\"->nlpaf) (2.13.0)\n",
      "Requirement already satisfied, skipping upgrade: toml in /home/elba_ro/repos/github/conf22-style-transfer/iesta_venv/lib/python3.8/site-packages (from streamlit->simpletransformers; python_version < \"3.9\"->nlpaf) (0.10.2)\n",
      "Requirement already satisfied, skipping upgrade: blinker>=1.0.0 in /home/elba_ro/repos/github/conf22-style-transfer/iesta_venv/lib/python3.8/site-packages (from streamlit->simpletransformers; python_version < \"3.9\"->nlpaf) (1.5)\n",
      "Requirement already satisfied, skipping upgrade: validators>=0.2 in /home/elba_ro/repos/github/conf22-style-transfer/iesta_venv/lib/python3.8/site-packages (from streamlit->simpletransformers; python_version < \"3.9\"->nlpaf) (0.20.0)\n",
      "Requirement already satisfied, skipping upgrade: pympler>=0.9 in /home/elba_ro/repos/github/conf22-style-transfer/iesta_venv/lib/python3.8/site-packages (from streamlit->simpletransformers; python_version < \"3.9\"->nlpaf) (1.0.1)\n",
      "Requirement already satisfied, skipping upgrade: rich>=10.11.0 in /home/elba_ro/repos/github/conf22-style-transfer/iesta_venv/lib/python3.8/site-packages (from streamlit->simpletransformers; python_version < \"3.9\"->nlpaf) (13.3.5)\n",
      "Requirement already satisfied, skipping upgrade: pydeck>=0.1.dev5 in /home/elba_ro/repos/github/conf22-style-transfer/iesta_venv/lib/python3.8/site-packages (from streamlit->simpletransformers; python_version < \"3.9\"->nlpaf) (0.8.0)\n",
      "Requirement already satisfied, skipping upgrade: altair>=3.2.0 in /home/elba_ro/repos/github/conf22-style-transfer/iesta_venv/lib/python3.8/site-packages (from streamlit->simpletransformers; python_version < \"3.9\"->nlpaf) (4.2.0)\n",
      "Requirement already satisfied, skipping upgrade: grpcio>=1.24.3 in /home/elba_ro/repos/github/conf22-style-transfer/iesta_venv/lib/python3.8/site-packages (from tensorboard->simpletransformers; python_version < \"3.9\"->nlpaf) (1.50.0)\n",
      "Requirement already satisfied, skipping upgrade: wheel>=0.26 in /home/elba_ro/repos/github/conf22-style-transfer/iesta_venv/lib/python3.8/site-packages (from tensorboard->simpletransformers; python_version < \"3.9\"->nlpaf) (0.38.4)\n",
      "Requirement already satisfied, skipping upgrade: tensorboard-data-server<0.7.0,>=0.6.0 in /home/elba_ro/repos/github/conf22-style-transfer/iesta_venv/lib/python3.8/site-packages (from tensorboard->simpletransformers; python_version < \"3.9\"->nlpaf) (0.6.1)\n",
      "Requirement already satisfied, skipping upgrade: google-auth-oauthlib<0.5,>=0.4.1 in /home/elba_ro/repos/github/conf22-style-transfer/iesta_venv/lib/python3.8/site-packages (from tensorboard->simpletransformers; python_version < \"3.9\"->nlpaf) (0.4.6)\n",
      "Requirement already satisfied, skipping upgrade: markdown>=2.6.8 in /home/elba_ro/repos/github/conf22-style-transfer/iesta_venv/lib/python3.8/site-packages (from tensorboard->simpletransformers; python_version < \"3.9\"->nlpaf) (3.4.1)\n",
      "Requirement already satisfied, skipping upgrade: absl-py>=0.4 in /home/elba_ro/repos/github/conf22-style-transfer/iesta_venv/lib/python3.8/site-packages (from tensorboard->simpletransformers; python_version < \"3.9\"->nlpaf) (1.3.0)\n",
      "Requirement already satisfied, skipping upgrade: werkzeug>=1.0.1 in /home/elba_ro/repos/github/conf22-style-transfer/iesta_venv/lib/python3.8/site-packages (from tensorboard->simpletransformers; python_version < \"3.9\"->nlpaf) (2.2.2)\n",
      "Requirement already satisfied, skipping upgrade: google-auth<3,>=1.6.3 in /home/elba_ro/repos/github/conf22-style-transfer/iesta_venv/lib/python3.8/site-packages (from tensorboard->simpletransformers; python_version < \"3.9\"->nlpaf) (2.14.1)\n",
      "Requirement already satisfied, skipping upgrade: tensorboard-plugin-wit>=1.6.0 in /home/elba_ro/repos/github/conf22-style-transfer/iesta_venv/lib/python3.8/site-packages (from tensorboard->simpletransformers; python_version < \"3.9\"->nlpaf) (1.8.1)\n",
      "Requirement already satisfied, skipping upgrade: promise<3,>=2.0 in /home/elba_ro/repos/github/conf22-style-transfer/iesta_venv/lib/python3.8/site-packages (from wandb>=0.10.32->simpletransformers; python_version < \"3.9\"->nlpaf) (2.3)\n",
      "Requirement already satisfied, skipping upgrade: sentry-sdk>=1.0.0 in /home/elba_ro/repos/github/conf22-style-transfer/iesta_venv/lib/python3.8/site-packages (from wandb>=0.10.32->simpletransformers; python_version < \"3.9\"->nlpaf) (1.11.0)\n",
      "Requirement already satisfied, skipping upgrade: shortuuid>=0.5.0 in /home/elba_ro/repos/github/conf22-style-transfer/iesta_venv/lib/python3.8/site-packages (from wandb>=0.10.32->simpletransformers; python_version < \"3.9\"->nlpaf) (1.0.11)\n",
      "Requirement already satisfied, skipping upgrade: pathtools in /home/elba_ro/repos/github/conf22-style-transfer/iesta_venv/lib/python3.8/site-packages (from wandb>=0.10.32->simpletransformers; python_version < \"3.9\"->nlpaf) (0.1.2)\n",
      "Requirement already satisfied, skipping upgrade: docker-pycreds>=0.4.0 in /home/elba_ro/repos/github/conf22-style-transfer/iesta_venv/lib/python3.8/site-packages (from wandb>=0.10.32->simpletransformers; python_version < \"3.9\"->nlpaf) (0.4.0)\n",
      "Requirement already satisfied, skipping upgrade: psutil>=5.0.0 in /home/elba_ro/repos/github/conf22-style-transfer/iesta_venv/lib/python3.8/site-packages (from wandb>=0.10.32->simpletransformers; python_version < \"3.9\"->nlpaf) (5.9.4)\n",
      "Requirement already satisfied, skipping upgrade: setproctitle in /home/elba_ro/repos/github/conf22-style-transfer/iesta_venv/lib/python3.8/site-packages (from wandb>=0.10.32->simpletransformers; python_version < \"3.9\"->nlpaf) (1.3.2)\n",
      "Requirement already satisfied, skipping upgrade: multiprocess in /home/elba_ro/repos/github/conf22-style-transfer/iesta_venv/lib/python3.8/site-packages (from datasets->simpletransformers; python_version < \"3.9\"->nlpaf) (0.70.14)\n",
      "Requirement already satisfied, skipping upgrade: dill<0.3.7 in /home/elba_ro/repos/github/conf22-style-transfer/iesta_venv/lib/python3.8/site-packages (from datasets->simpletransformers; python_version < \"3.9\"->nlpaf) (0.3.6)\n",
      "Requirement already satisfied, skipping upgrade: aiohttp in /home/elba_ro/repos/github/conf22-style-transfer/iesta_venv/lib/python3.8/site-packages (from datasets->simpletransformers; python_version < \"3.9\"->nlpaf) (3.8.3)\n",
      "Requirement already satisfied, skipping upgrade: fsspec[http]>=2021.11.1 in /home/elba_ro/repos/github/conf22-style-transfer/iesta_venv/lib/python3.8/site-packages (from datasets->simpletransformers; python_version < \"3.9\"->nlpaf) (2022.11.0)\n",
      "Requirement already satisfied, skipping upgrade: xxhash in /home/elba_ro/repos/github/conf22-style-transfer/iesta_venv/lib/python3.8/site-packages (from datasets->simpletransformers; python_version < \"3.9\"->nlpaf) (3.1.0)\n",
      "Requirement already satisfied, skipping upgrade: responses<0.19 in /home/elba_ro/repos/github/conf22-style-transfer/iesta_venv/lib/python3.8/site-packages (from datasets->simpletransformers; python_version < \"3.9\"->nlpaf) (0.18.0)\n",
      "Requirement already satisfied, skipping upgrade: zipp>=0.5 in /home/elba_ro/repos/github/conf22-style-transfer/iesta_venv/lib/python3.8/site-packages (from importlib-metadata>=1.4->streamlit->simpletransformers; python_version < \"3.9\"->nlpaf) (3.10.0)\n",
      "Requirement already satisfied, skipping upgrade: gitdb<5,>=4.0.1 in /home/elba_ro/repos/github/conf22-style-transfer/iesta_venv/lib/python3.8/site-packages (from gitpython!=3.1.19->streamlit->simpletransformers; python_version < \"3.9\"->nlpaf) (4.0.9)\n",
      "Requirement already satisfied, skipping upgrade: backports.zoneinfo; python_version < \"3.9\" in /home/elba_ro/repos/github/conf22-style-transfer/iesta_venv/lib/python3.8/site-packages (from tzlocal>=1.1->streamlit->simpletransformers; python_version < \"3.9\"->nlpaf) (0.2.1)\n",
      "Requirement already satisfied, skipping upgrade: pytz-deprecation-shim in /home/elba_ro/repos/github/conf22-style-transfer/iesta_venv/lib/python3.8/site-packages (from tzlocal>=1.1->streamlit->simpletransformers; python_version < \"3.9\"->nlpaf) (0.1.0.post0)\n",
      "Requirement already satisfied, skipping upgrade: decorator>=3.4.0 in /home/elba_ro/repos/github/conf22-style-transfer/iesta_venv/lib/python3.8/site-packages (from validators>=0.2->streamlit->simpletransformers; python_version < \"3.9\"->nlpaf) (5.1.1)\n",
      "Requirement already satisfied, skipping upgrade: markdown-it-py<3.0.0,>=2.2.0 in /home/elba_ro/repos/github/conf22-style-transfer/iesta_venv/lib/python3.8/site-packages (from rich>=10.11.0->streamlit->simpletransformers; python_version < \"3.9\"->nlpaf) (2.2.0)\n",
      "Requirement already satisfied, skipping upgrade: pygments<3.0.0,>=2.13.0 in /home/elba_ro/repos/github/conf22-style-transfer/iesta_venv/lib/python3.8/site-packages (from rich>=10.11.0->streamlit->simpletransformers; python_version < \"3.9\"->nlpaf) (2.13.0)\n",
      "Requirement already satisfied, skipping upgrade: entrypoints in /home/elba_ro/repos/github/conf22-style-transfer/iesta_venv/lib/python3.8/site-packages (from altair>=3.2.0->streamlit->simpletransformers; python_version < \"3.9\"->nlpaf) (0.4)\n",
      "Requirement already satisfied, skipping upgrade: jsonschema>=3.0 in /home/elba_ro/repos/github/conf22-style-transfer/iesta_venv/lib/python3.8/site-packages (from altair>=3.2.0->streamlit->simpletransformers; python_version < \"3.9\"->nlpaf) (4.17.0)\n",
      "Requirement already satisfied, skipping upgrade: toolz in /home/elba_ro/repos/github/conf22-style-transfer/iesta_venv/lib/python3.8/site-packages (from altair>=3.2.0->streamlit->simpletransformers; python_version < \"3.9\"->nlpaf) (0.12.0)\n",
      "Requirement already satisfied, skipping upgrade: requests-oauthlib>=0.7.0 in /home/elba_ro/repos/github/conf22-style-transfer/iesta_venv/lib/python3.8/site-packages (from google-auth-oauthlib<0.5,>=0.4.1->tensorboard->simpletransformers; python_version < \"3.9\"->nlpaf) (1.3.1)\n",
      "Requirement already satisfied, skipping upgrade: pyasn1-modules>=0.2.1 in /home/elba_ro/repos/github/conf22-style-transfer/iesta_venv/lib/python3.8/site-packages (from google-auth<3,>=1.6.3->tensorboard->simpletransformers; python_version < \"3.9\"->nlpaf) (0.2.8)\n",
      "Requirement already satisfied, skipping upgrade: rsa<5,>=3.1.4; python_version >= \"3.6\" in /home/elba_ro/repos/github/conf22-style-transfer/iesta_venv/lib/python3.8/site-packages (from google-auth<3,>=1.6.3->tensorboard->simpletransformers; python_version < \"3.9\"->nlpaf) (4.9)\n",
      "Requirement already satisfied, skipping upgrade: attrs>=17.3.0 in /home/elba_ro/repos/github/conf22-style-transfer/iesta_venv/lib/python3.8/site-packages (from aiohttp->datasets->simpletransformers; python_version < \"3.9\"->nlpaf) (22.1.0)\n",
      "Requirement already satisfied, skipping upgrade: multidict<7.0,>=4.5 in /home/elba_ro/repos/github/conf22-style-transfer/iesta_venv/lib/python3.8/site-packages (from aiohttp->datasets->simpletransformers; python_version < \"3.9\"->nlpaf) (6.0.2)\n",
      "Requirement already satisfied, skipping upgrade: aiosignal>=1.1.2 in /home/elba_ro/repos/github/conf22-style-transfer/iesta_venv/lib/python3.8/site-packages (from aiohttp->datasets->simpletransformers; python_version < \"3.9\"->nlpaf) (1.3.1)\n",
      "Requirement already satisfied, skipping upgrade: frozenlist>=1.1.1 in /home/elba_ro/repos/github/conf22-style-transfer/iesta_venv/lib/python3.8/site-packages (from aiohttp->datasets->simpletransformers; python_version < \"3.9\"->nlpaf) (1.3.3)\n",
      "Requirement already satisfied, skipping upgrade: yarl<2.0,>=1.0 in /home/elba_ro/repos/github/conf22-style-transfer/iesta_venv/lib/python3.8/site-packages (from aiohttp->datasets->simpletransformers; python_version < \"3.9\"->nlpaf) (1.8.1)\n",
      "Requirement already satisfied, skipping upgrade: async-timeout<5.0,>=4.0.0a3 in /home/elba_ro/repos/github/conf22-style-transfer/iesta_venv/lib/python3.8/site-packages (from aiohttp->datasets->simpletransformers; python_version < \"3.9\"->nlpaf) (4.0.2)\n",
      "Requirement already satisfied, skipping upgrade: smmap<6,>=3.0.1 in /home/elba_ro/repos/github/conf22-style-transfer/iesta_venv/lib/python3.8/site-packages (from gitdb<5,>=4.0.1->gitpython!=3.1.19->streamlit->simpletransformers; python_version < \"3.9\"->nlpaf) (5.0.0)\n",
      "Requirement already satisfied, skipping upgrade: tzdata; python_version >= \"3.6\" in /home/elba_ro/repos/github/conf22-style-transfer/iesta_venv/lib/python3.8/site-packages (from pytz-deprecation-shim->tzlocal>=1.1->streamlit->simpletransformers; python_version < \"3.9\"->nlpaf) (2022.6)\n",
      "Requirement already satisfied, skipping upgrade: mdurl~=0.1 in /home/elba_ro/repos/github/conf22-style-transfer/iesta_venv/lib/python3.8/site-packages (from markdown-it-py<3.0.0,>=2.2.0->rich>=10.11.0->streamlit->simpletransformers; python_version < \"3.9\"->nlpaf) (0.1.2)\n",
      "Requirement already satisfied, skipping upgrade: pyrsistent!=0.17.0,!=0.17.1,!=0.17.2,>=0.14.0 in /home/elba_ro/repos/github/conf22-style-transfer/iesta_venv/lib/python3.8/site-packages (from jsonschema>=3.0->altair>=3.2.0->streamlit->simpletransformers; python_version < \"3.9\"->nlpaf) (0.19.2)\n",
      "Requirement already satisfied, skipping upgrade: pkgutil-resolve-name>=1.3.10; python_version < \"3.9\" in /home/elba_ro/repos/github/conf22-style-transfer/iesta_venv/lib/python3.8/site-packages (from jsonschema>=3.0->altair>=3.2.0->streamlit->simpletransformers; python_version < \"3.9\"->nlpaf) (1.3.10)\n",
      "Requirement already satisfied, skipping upgrade: importlib-resources>=1.4.0; python_version < \"3.9\" in /home/elba_ro/repos/github/conf22-style-transfer/iesta_venv/lib/python3.8/site-packages (from jsonschema>=3.0->altair>=3.2.0->streamlit->simpletransformers; python_version < \"3.9\"->nlpaf) (5.10.0)\n",
      "Requirement already satisfied, skipping upgrade: oauthlib>=3.0.0 in /home/elba_ro/repos/github/conf22-style-transfer/iesta_venv/lib/python3.8/site-packages (from requests-oauthlib>=0.7.0->google-auth-oauthlib<0.5,>=0.4.1->tensorboard->simpletransformers; python_version < \"3.9\"->nlpaf) (3.2.2)\n",
      "Requirement already satisfied, skipping upgrade: pyasn1<0.5.0,>=0.4.6 in /home/elba_ro/repos/github/conf22-style-transfer/iesta_venv/lib/python3.8/site-packages (from pyasn1-modules>=0.2.1->google-auth<3,>=1.6.3->tensorboard->simpletransformers; python_version < \"3.9\"->nlpaf) (0.4.8)\n",
      "Note: you may need to restart the kernel to use updated packages.\n"
     ]
    }
   ],
   "source": [
    "%pip install -U nlpaf\n"
   ]
  },
  {
   "cell_type": "code",
   "execution_count": 1,
   "metadata": {},
   "outputs": [
    {
     "name": "stdout",
     "output_type": "stream",
     "text": [
      "/bin/bash: nvidia-smi: command not found\n"
     ]
    }
   ],
   "source": [
    "!nvidia-smi -q"
   ]
  },
  {
   "cell_type": "code",
   "execution_count": null,
   "metadata": {},
   "outputs": [],
   "source": [
    "\"\"\"\n",
    "%pip install python-dotenv\n",
    "%pip install  -e ../\n",
    "%pip install codecarbon\n",
    "%pip install optuna\n",
    "%pip install -U nlpaf\n",
    "%pip install GPUtil\n",
    "%pip install comet_ml\n",
    "%pip install --upgrade accelerate\n",
    "!nvidia-smi\n",
    "\"\"\"\n",
    "# import comet_ml at the top of your file\n",
    "from comet_ml import Experiment\n",
    "\n",
    "# Create an experiment with your api key\n",
    "global experiment\n",
    "experiment = Experiment(\n",
    "    api_key=\"ZGtUiFA68BqsXMlFfogUwnIfD\",\n",
    "    project_name=\"iesta\",\n",
    "    workspace=\"roxanneelbaff\",\n",
    "    experiment_key = \"liberalclassifier\")\n",
    "experiment.set_name(\"liberal_evaluator_25may_epoch50\")\n",
    "\n",
    "COMET_API_KEY = \"ZGtUiFA68BqsXMlFfogUwnIfD\""
   ]
  },
  {
   "cell_type": "code",
   "execution_count": null,
   "metadata": {},
   "outputs": [
    {
     "ename": "",
     "evalue": "",
     "output_type": "error",
     "traceback": [
      "\u001b[1;31mFailed to start the Kernel 'iesta_venv (Python 3.8.10)'. \n",
      "\u001b[1;31mView Jupyter <a href='command:jupyter.viewOutput'>log</a> for further details. ENOSPC: no space left on device, open '/tmp/kernel-v2-1345974lkhXqX7p2eSd.json'"
     ]
    }
   ],
   "source": [
    "\n",
    "import GPUtil\n",
    "import torch\n",
    "torch.cuda.empty_cache()\n",
    "GPUtil.showUtilization()"
   ]
  },
  {
   "cell_type": "code",
   "execution_count": null,
   "metadata": {},
   "outputs": [],
   "source": [
    "import os\n",
    "from dotenv import load_dotenv, find_dotenv\n",
    "_ = load_dotenv(find_dotenv())\n",
    "\n",
    "os.getenv('max_split_size_mb')"
   ]
  },
  {
   "cell_type": "code",
   "execution_count": null,
   "metadata": {},
   "outputs": [],
   "source": [
    "from iesta.machine_learning.dataloader import IESTAData, LABELS\n",
    "from iesta.machine_learning.huggingface_loader import IESTAHuggingFace\n",
    "from nlpaf.transformers.text_classification import TextClassification\n"
   ]
  },
  {
   "cell_type": "code",
   "execution_count": null,
   "metadata": {},
   "outputs": [],
   "source": []
  },
  {
   "cell_type": "code",
   "execution_count": null,
   "metadata": {},
   "outputs": [],
   "source": [
    "\n",
    "import torch\n",
    "use_cuda = torch.cuda.is_available()\n",
    "use_cuda\n",
    "\n",
    "if use_cuda:\n",
    "    print('__CUDNN VERSION:', torch.backends.cudnn.version())\n",
    "    print('__Number CUDA Devices:', torch.cuda.device_count())\n",
    "    print('__CUDA Device Name:',torch.cuda.get_device_name(0))\n",
    "    print('__CUDA Device Total Memory [GB]:',torch.cuda.get_device_properties(0).total_memory/1e9)\n",
    "    "
   ]
  },
  {
   "cell_type": "code",
   "execution_count": null,
   "metadata": {},
   "outputs": [],
   "source": [
    "liberal_data_obj = IESTAData(ideology=\"liberal\", keep_labels = LABELS.EFF_INEFF)\n",
    "liberal_hf = IESTAHuggingFace(liberal_data_obj)\n",
    "#liberal_w_effect = liberal_hf.upload_w_labels(is_for_style_classifier=False, force_reload=True)\n",
    "#liberal_w_effect_for_sc = liberal_hf.upload_w_labels(is_for_style_classifier=True, force_reload=True)\n"
   ]
  },
  {
   "cell_type": "code",
   "execution_count": null,
   "metadata": {},
   "outputs": [],
   "source": [
    "liberal_sc_dataset = liberal_hf.get_dataset_name(is_for_style_classifier=True)\n",
    "liberal_sc_dataset"
   ]
  },
  {
   "cell_type": "code",
   "execution_count": null,
   "metadata": {},
   "outputs": [],
   "source": [
    "liberal_sc_trainer = TextClassification(\n",
    "    liberal_sc_dataset,\n",
    "    id2label=  IESTAHuggingFace._ID2LABEL_,\n",
    "    label2id= IESTAHuggingFace._LABEL2ID_,\n",
    "    training_key=\"training\",\n",
    "    eval_key=\"validation\",\n",
    "    text_col=\"text\",\n",
    "    undersample=True,\n",
    "    pretrained_model_name=\"distilbert-base-uncased\",#\"microsoft/deberta-base\",\n",
    "    metric=\"f1\",\n",
    "    averaged_metric=\"macro\",\n",
    "    model_org=\"notaphoenix\",  # only if you want to upload your model to hf\n",
    "    output_dir=\"liberal_effective_arg_classifier\",\n",
    "    learning_rate= 5e-6,\n",
    "    per_device_train_batch_size=4,\n",
    "    per_device_eval_batch_size= 4,\n",
    "    num_train_epochs= 50,\n",
    "    weight_decay= 0.01,\n",
    "    evaluation_strategy= \"epoch\",\n",
    "    save_strategy= \"epoch\",\n",
    "    load_best_model_at_end= True,\n",
    "    push_to_hub= True,\n",
    "    hub_private_repo= True,\n",
    "    report_to=\"comet_ml\"  # comet_ml\n",
    "    )\n",
    " \n",
    "\n",
    "#best hyperparemeters for small data with transformers for text classification"
   ]
  },
  {
   "cell_type": "code",
   "execution_count": null,
   "metadata": {},
   "outputs": [],
   "source": [
    "#! nvcc -V"
   ]
  },
  {
   "cell_type": "code",
   "execution_count": null,
   "metadata": {},
   "outputs": [],
   "source": [
    "liberal_sc_trainer.train()"
   ]
  },
  {
   "cell_type": "code",
   "execution_count": null,
   "metadata": {},
   "outputs": [],
   "source": [
    "\"\"\"\n",
    "def optuna_hp_space(trial):\n",
    "    return {\n",
    "        \"learning_rate\": trial.suggest_float(\"learning_rate\", 1e-8, 5e-5, log=True),\n",
    "        \"per_device_train_batch_size\": trial.suggest_categorical(\"per_device_train_batch_size\", [4, 8, 16 ]),\n",
    "    }\n",
    "hpsearch = liberal_sc_trainer.search_hyperparameters( n_trials= 5,\n",
    "                               run_on_subset= False,\n",
    "                               direction=\"maximize\",\n",
    "                               load_best_params=True,\n",
    "                               hp_space_func=optuna_hp_space\n",
    "                               )\n",
    "\"\"\""
   ]
  },
  {
   "cell_type": "code",
   "execution_count": null,
   "metadata": {},
   "outputs": [],
   "source": [
    "experiment.end()"
   ]
  },
  {
   "cell_type": "code",
   "execution_count": null,
   "metadata": {},
   "outputs": [],
   "source": []
  }
 ],
 "metadata": {
  "kernelspec": {
   "display_name": "iesta_venv",
   "language": "python",
   "name": "python3"
  },
  "language_info": {
   "codemirror_mode": {
    "name": "ipython",
    "version": 3
   },
   "file_extension": ".py",
   "mimetype": "text/x-python",
   "name": "python",
   "nbconvert_exporter": "python",
   "pygments_lexer": "ipython3",
   "version": "3.8.10"
  },
  "orig_nbformat": 4
 },
 "nbformat": 4,
 "nbformat_minor": 2
}
