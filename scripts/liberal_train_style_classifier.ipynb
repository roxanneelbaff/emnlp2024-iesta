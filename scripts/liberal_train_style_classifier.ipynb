{
 "cells": [
  {
   "cell_type": "code",
   "execution_count": null,
   "metadata": {},
   "outputs": [],
   "source": [
    "%pip install python-dotenv\n",
    "%pip install  -e ../\n",
    "%pip install codecarbon\n",
    "%pip install optuna\n",
    "%pip install -U nlpaf\n",
    "%pip install GPUtil\n",
    "%pip install comet_ml\n",
    "%pip install --upgrade accelerate"
   ]
  },
  {
   "cell_type": "code",
   "execution_count": null,
   "metadata": {},
   "outputs": [],
   "source": [
    "!nvidia-smi -q"
   ]
  },
  {
   "cell_type": "code",
   "execution_count": null,
   "metadata": {},
   "outputs": [],
   "source": [
    "\"\"\"\n",
    "%pip install python-dotenv\n",
    "%pip install  -e ../\n",
    "%pip install codecarbon\n",
    "%pip install optuna\n",
    "%pip install -U nlpaf\n",
    "%pip install GPUtil\n",
    "%pip install comet_ml\n",
    "%pip install --upgrade accelerate\n",
    "!nvidia-smi\n",
    "\"\"\"\n",
    "# import comet_ml at the top of your file\n",
    "from comet_ml import Experiment\n",
    "\n",
    "# Create an experiment with your api key\n",
    "global experiment\n",
    "experiment = Experiment(\n",
    "    api_key=\"ZGtUiFA68BqsXMlFfogUwnIfD\",\n",
    "    project_name=\"iesta\",\n",
    "    workspace=\"roxanneelbaff\",\n",
    "    experiment_key = \"liberalclassifier\")\n",
    "experiment.set_name(\"liberal_evaluator_25may_epoch50\")\n",
    "\n",
    "COMET_API_KEY = \"ZGtUiFA68BqsXMlFfogUwnIfD\""
   ]
  },
  {
   "cell_type": "code",
   "execution_count": null,
   "metadata": {},
   "outputs": [],
   "source": [
    "\n",
    "import GPUtil\n",
    "import torch\n",
    "torch.cuda.empty_cache()\n",
    "GPUtil.showUtilization()"
   ]
  },
  {
   "cell_type": "code",
   "execution_count": null,
   "metadata": {},
   "outputs": [],
   "source": [
    "import os\n",
    "from dotenv import load_dotenv, find_dotenv\n",
    "_ = load_dotenv(find_dotenv())\n",
    "\n",
    "os.getenv('max_split_size_mb')"
   ]
  },
  {
   "cell_type": "code",
   "execution_count": null,
   "metadata": {},
   "outputs": [],
   "source": [
    "from iesta.machine_learning.dataloader import IESTAData, LABELS\n",
    "from iesta.machine_learning.huggingface_loader import IESTAHuggingFace\n",
    "from nlpaf.transformers.text_classification import TextClassification\n"
   ]
  },
  {
   "cell_type": "code",
   "execution_count": null,
   "metadata": {},
   "outputs": [],
   "source": []
  },
  {
   "cell_type": "code",
   "execution_count": null,
   "metadata": {},
   "outputs": [],
   "source": [
    "\n",
    "import torch\n",
    "use_cuda = torch.cuda.is_available()\n",
    "use_cuda\n",
    "\n",
    "if use_cuda:\n",
    "    print('__CUDNN VERSION:', torch.backends.cudnn.version())\n",
    "    print('__Number CUDA Devices:', torch.cuda.device_count())\n",
    "    print('__CUDA Device Name:',torch.cuda.get_device_name(0))\n",
    "    print('__CUDA Device Total Memory [GB]:',torch.cuda.get_device_properties(0).total_memory/1e9)\n",
    "    "
   ]
  },
  {
   "cell_type": "code",
   "execution_count": null,
   "metadata": {},
   "outputs": [],
   "source": [
    "liberal_data_obj = IESTAData(ideology=\"liberal\", keep_labels = LABELS.EFF_INEFF)\n",
    "liberal_hf = IESTAHuggingFace(liberal_data_obj)\n",
    "#liberal_w_effect = liberal_hf.upload_w_labels(is_for_style_classifier=False, force_reload=True)\n",
    "#liberal_w_effect_for_sc = liberal_hf.upload_w_labels(is_for_style_classifier=True, force_reload=True)\n"
   ]
  },
  {
   "cell_type": "code",
   "execution_count": null,
   "metadata": {},
   "outputs": [],
   "source": [
    "liberal_sc_dataset = liberal_hf.get_dataset_name(is_for_style_classifier=True)\n",
    "liberal_sc_dataset"
   ]
  },
  {
   "cell_type": "code",
   "execution_count": null,
   "metadata": {},
   "outputs": [],
   "source": [
    "liberal_sc_trainer = TextClassification(\n",
    "    liberal_sc_dataset,\n",
    "    id2label=  IESTAHuggingFace._ID2LABEL_,\n",
    "    label2id= IESTAHuggingFace._LABEL2ID_,\n",
    "    training_key=\"training\",\n",
    "    eval_key=\"validation\",\n",
    "    text_col=\"text\",\n",
    "    undersample=True,\n",
    "    pretrained_model_name=\"distilbert-base-uncased\",#\"microsoft/deberta-base\",\n",
    "    metric=\"f1\",\n",
    "    averaged_metric=\"macro\",\n",
    "    model_org=\"notaphoenix\",  # only if you want to upload your model to hf\n",
    "    output_dir=\"liberal_effective_arg_classifier\",\n",
    "    learning_rate= 5e-6,\n",
    "    per_device_train_batch_size=4,\n",
    "    per_device_eval_batch_size= 4,\n",
    "    num_train_epochs= 50,\n",
    "    weight_decay= 0.01,\n",
    "    evaluation_strategy= \"epoch\",\n",
    "    save_strategy= \"epoch\",\n",
    "    load_best_model_at_end= True,\n",
    "    push_to_hub= True,\n",
    "    hub_private_repo= True,\n",
    "    report_to=\"comet_ml\"  # comet_ml\n",
    "    )\n",
    " \n",
    "\n",
    "#best hyperparemeters for small data with transformers for text classification"
   ]
  },
  {
   "cell_type": "code",
   "execution_count": null,
   "metadata": {},
   "outputs": [],
   "source": [
    "#! nvcc -V"
   ]
  },
  {
   "cell_type": "code",
   "execution_count": null,
   "metadata": {},
   "outputs": [],
   "source": [
    "liberal_sc_trainer.train()"
   ]
  },
  {
   "cell_type": "code",
   "execution_count": null,
   "metadata": {},
   "outputs": [],
   "source": [
    "\"\"\"\n",
    "def optuna_hp_space(trial):\n",
    "    return {\n",
    "        \"learning_rate\": trial.suggest_float(\"learning_rate\", 1e-8, 5e-5, log=True),\n",
    "        \"per_device_train_batch_size\": trial.suggest_categorical(\"per_device_train_batch_size\", [4, 8, 16 ]),\n",
    "    }\n",
    "hpsearch = liberal_sc_trainer.search_hyperparameters( n_trials= 5,\n",
    "                               run_on_subset= False,\n",
    "                               direction=\"maximize\",\n",
    "                               load_best_params=True,\n",
    "                               hp_space_func=optuna_hp_space\n",
    "                               )\n",
    "\"\"\""
   ]
  },
  {
   "cell_type": "code",
   "execution_count": null,
   "metadata": {},
   "outputs": [],
   "source": [
    "experiment.end()"
   ]
  },
  {
   "cell_type": "code",
   "execution_count": null,
   "metadata": {},
   "outputs": [],
   "source": []
  }
 ],
 "metadata": {
  "kernelspec": {
   "display_name": "iesta_venv",
   "language": "python",
   "name": "python3"
  },
  "language_info": {
   "codemirror_mode": {
    "name": "ipython",
    "version": 3
   },
   "file_extension": ".py",
   "mimetype": "text/x-python",
   "name": "python",
   "nbconvert_exporter": "python",
   "pygments_lexer": "ipython3",
   "version": "3.8.10"
  },
  "orig_nbformat": 4
 },
 "nbformat": 4,
 "nbformat_minor": 2
}
